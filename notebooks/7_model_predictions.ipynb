{
 "cells": [
  {
   "cell_type": "markdown",
   "id": "83decb11",
   "metadata": {},
   "source": [
    "# Model Predictions"
   ]
  },
  {
   "cell_type": "markdown",
   "id": "c5baea93",
   "metadata": {},
   "source": [
    "### 1. Configuration"
   ]
  },
  {
   "cell_type": "code",
   "execution_count": 1,
   "id": "f8bcf265",
   "metadata": {},
   "outputs": [],
   "source": [
    "from pathlib import Path\n",
    "\n",
    "# Define the location of your model files and the test data\n",
    "BASE_DIR = Path(\"../../Fuel-Blend-Properties-Prediction\")\n",
    "MODEL_DIR = BASE_DIR / \"models\"\n",
    "DATA_DIR = BASE_DIR / \"processed_data\"\n",
    "\n",
    "# Define the best model for each target property based on the analysis\n",
    "MODEL_CONFIG = {\n",
    "    'BlendProperty1': 'lightgbm',\n",
    "    'BlendProperty2': 'catboost',\n",
    "    'BlendProperty3': 'lightgbm',\n",
    "    'BlendProperty4': 'catboost',\n",
    "    'BlendProperty5': 'xgboost',\n",
    "    'BlendProperty6': 'lightgbm',\n",
    "    'BlendProperty7': 'catboost',\n",
    "    'BlendProperty8': 'catboost',\n",
    "    'BlendProperty9': 'catboost',\n",
    "    'BlendProperty10': 'catboost',\n",
    "}"
   ]
  },
  {
   "cell_type": "markdown",
   "id": "e9b79547",
   "metadata": {},
   "source": [
    "### 2. Load the Best Models"
   ]
  },
  {
   "cell_type": "code",
   "execution_count": 2,
   "id": "c9cbc95f",
   "metadata": {},
   "outputs": [
    {
     "name": "stdout",
     "output_type": "stream",
     "text": [
      "Successfully loaded model for BlendProperty1 from ../../Fuel-Blend-Properties-Prediction/models/lightgbm/BlendProperty1_model.joblib\n",
      "Successfully loaded model for BlendProperty2 from ../../Fuel-Blend-Properties-Prediction/models/catboost/BlendProperty2_model.joblib\n",
      "Successfully loaded model for BlendProperty3 from ../../Fuel-Blend-Properties-Prediction/models/lightgbm/BlendProperty3_model.joblib\n",
      "Successfully loaded model for BlendProperty4 from ../../Fuel-Blend-Properties-Prediction/models/catboost/BlendProperty4_model.joblib\n",
      "Successfully loaded model for BlendProperty5 from ../../Fuel-Blend-Properties-Prediction/models/xgboost/BlendProperty5_model.joblib\n",
      "Successfully loaded model for BlendProperty6 from ../../Fuel-Blend-Properties-Prediction/models/lightgbm/BlendProperty6_model.joblib\n",
      "Successfully loaded model for BlendProperty7 from ../../Fuel-Blend-Properties-Prediction/models/catboost/BlendProperty7_model.joblib\n",
      "Successfully loaded model for BlendProperty8 from ../../Fuel-Blend-Properties-Prediction/models/catboost/BlendProperty8_model.joblib\n",
      "Successfully loaded model for BlendProperty9 from ../../Fuel-Blend-Properties-Prediction/models/catboost/BlendProperty9_model.joblib\n",
      "Successfully loaded model for BlendProperty10 from ../../Fuel-Blend-Properties-Prediction/models/catboost/BlendProperty10_model.joblib\n"
     ]
    }
   ],
   "source": [
    "import joblib\n",
    "\n",
    "loaded_models = {}\n",
    "for target, model_type in MODEL_CONFIG.items():\n",
    "    model_path = MODEL_DIR / model_type / f\"{target}_model.joblib\"\n",
    "    try:\n",
    "        loaded_models[target] = joblib.load(model_path)\n",
    "        print(f\"Successfully loaded model for {target} from {model_path}\")\n",
    "    except FileNotFoundError:\n",
    "        print(f\"ERROR: Model for {target} not found at {model_path}\")\n",
    "    except Exception as e:\n",
    "        print(f\"An error occurred while loading the model for {target}: {e}\")"
   ]
  },
  {
   "cell_type": "markdown",
   "id": "d10ff818",
   "metadata": {},
   "source": [
    "### 3. Load the Test Data"
   ]
  },
  {
   "cell_type": "code",
   "execution_count": 3,
   "id": "ec213685",
   "metadata": {},
   "outputs": [
    {
     "name": "stdout",
     "output_type": "stream",
     "text": [
      "\n",
      "Test data loaded successfully. Shape: (500, 157)\n"
     ]
    }
   ],
   "source": [
    "import pandas as pd\n",
    "\n",
    "# Load the dataset you want to make predictions on\n",
    "try:\n",
    "    X_test = pd.read_csv(DATA_DIR / \"X_test.csv\").drop(columns=['ID'])\n",
    "    print(f\"\\nTest data loaded successfully. Shape: {X_test.shape}\")\n",
    "except FileNotFoundError:\n",
    "    print(f\"ERROR: Test data not found at {DATA_DIR / 'X_test.csv'}\")\n",
    "    X_test = None # Set to None if file not found"
   ]
  },
  {
   "cell_type": "markdown",
   "id": "b3b55143",
   "metadata": {},
   "source": [
    "### 4. Generate Predictions"
   ]
  },
  {
   "cell_type": "code",
   "execution_count": 4,
   "id": "7a97f8d5",
   "metadata": {},
   "outputs": [
    {
     "name": "stdout",
     "output_type": "stream",
     "text": [
      "Predicting for BlendProperty1...\n",
      "Predicting for BlendProperty2...\n",
      "Predicting for BlendProperty3...\n",
      "Predicting for BlendProperty4...\n",
      "Predicting for BlendProperty5...\n",
      "Predicting for BlendProperty6...\n",
      "Predicting for BlendProperty7...\n",
      "Predicting for BlendProperty8...\n",
      "Predicting for BlendProperty9...\n",
      "Predicting for BlendProperty10...\n",
      "\n",
      "--- Predictions Complete ---\n",
      "   BlendProperty1  BlendProperty2  BlendProperty3  BlendProperty4  \\\n",
      "0        0.301988        0.200420        0.791467        0.847285   \n",
      "1       -0.896914       -0.627551       -1.109115        0.018770   \n",
      "2        1.741743        1.019507        1.019604        1.052897   \n",
      "3       -0.558981        0.382463        0.679969       -0.641107   \n",
      "4        0.242201       -1.202256        1.201949        0.583771   \n",
      "\n",
      "   BlendProperty5  BlendProperty6  BlendProperty7  BlendProperty8  \\\n",
      "0        0.332175        0.891172        0.594343        0.625804   \n",
      "1       -0.720099       -0.187011       -1.052257       -1.129069   \n",
      "2        2.339445        1.710700        1.153606        1.793844   \n",
      "3        1.974218       -0.415053        0.671829        1.559945   \n",
      "4        2.335505        0.001832        0.986776       -0.216035   \n",
      "\n",
      "   BlendProperty9  BlendProperty10  \n",
      "0        0.110627         0.309579  \n",
      "1       -0.753023         0.072409  \n",
      "2        0.440612         1.992389  \n",
      "3        0.397863        -0.798022  \n",
      "4       -0.504013         0.725328  \n",
      "\n",
      "Predictions saved to submissions/submissions.csv\n"
     ]
    }
   ],
   "source": [
    "# Use the loaded models to predict each target property\n",
    "if X_test is not None and loaded_models:\n",
    "    predictions_df = pd.DataFrame()\n",
    "\n",
    "    for target, model in loaded_models.items():\n",
    "        print(f\"Predicting for {target}...\")\n",
    "        # The model's predict method will vary slightly if it's a plain scikit-learn model\n",
    "        # vs. a specific library like CatBoost, but joblib handles this.\n",
    "        predictions = model.predict(X_test)\n",
    "        predictions_df[target] = predictions\n",
    "\n",
    "    print(\"\\n--- Predictions Complete ---\")\n",
    "    print(predictions_df.head())\n",
    "\n",
    "    # Save the predictions to a CSV file\n",
    "    predictions_df.to_csv(BASE_DIR / \"submissions\" / \"submissions.csv\", index=False)\n",
    "    print(\"\\nPredictions saved to submissions/submissions.csv\")\n",
    "else:\n",
    "    print(\"\\nCould not generate predictions due to missing models or test data.\")"
   ]
  }
 ],
 "metadata": {
  "kernelspec": {
   "display_name": "py310",
   "language": "python",
   "name": "python3"
  },
  "language_info": {
   "codemirror_mode": {
    "name": "ipython",
    "version": 3
   },
   "file_extension": ".py",
   "mimetype": "text/x-python",
   "name": "python",
   "nbconvert_exporter": "python",
   "pygments_lexer": "ipython3",
   "version": "3.10.18"
  }
 },
 "nbformat": 4,
 "nbformat_minor": 5
}
