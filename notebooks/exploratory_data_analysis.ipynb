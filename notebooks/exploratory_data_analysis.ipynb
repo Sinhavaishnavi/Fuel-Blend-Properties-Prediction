{
 "cells": [
  {
   "cell_type": "markdown",
   "id": "2fbe6589",
   "metadata": {},
   "source": [
    "## 📊 Exploratory Data Analysis (EDA) on Fuel Blend Properties Dataset\n",
    "\n",
    "**Goal**: Develop accurate predictive models that can estimate 10 key properties of blended fuels, enabling faster development and optimization of sustainable fuel formulations.\n",
    "\n"
   ]
  },
  {
   "cell_type": "markdown",
   "id": "b1447a95",
   "metadata": {},
   "source": [
    "#### Step 1: Load & Explore the dataset"
   ]
  },
  {
   "cell_type": "code",
   "execution_count": 1,
   "id": "a08a98ad",
   "metadata": {},
   "outputs": [
    {
     "name": "stdout",
     "output_type": "stream",
     "text": [
      "Shape of train data:  (2000, 65)\n",
      "Shape of test data:  (500, 56)\n"
     ]
    }
   ],
   "source": [
    "import pandas as pd\n",
    "from pathlib import Path\n",
    "\n",
    "# Directory of the datasets\n",
    "data_path = Path('../data')\n",
    "\n",
    "# Load the raw dataset\n",
    "raw_train_data = pd.read_csv(data_path / 'train.csv')\n",
    "raw_test_data = pd.read_csv(data_path / 'test.csv')\n",
    "\n",
    "# Shape of the datasets\n",
    "print(\"Shape of train data: \", raw_train_data.shape)\n",
    "print(\"Shape of test data: \", raw_test_data.shape)"
   ]
  },
  {
   "cell_type": "code",
   "execution_count": null,
   "id": "f44c5ac1",
   "metadata": {},
   "outputs": [],
   "source": []
  },
  {
   "cell_type": "code",
   "execution_count": null,
   "id": "d7a2d19f",
   "metadata": {},
   "outputs": [],
   "source": [
    "# Create new column to differentiate b/w train & test dataset\n",
    "raw_train_data['dataset'] = 'train'\n",
    "raw_test_data['dataset'] = 'test'\n",
    "\n",
    "# Merge both datasets together so we can perform EDA on both at once\n",
    "df = pd.concat([raw_train_data, raw_test_data], axis=0)\n",
    "df.head(3)"
   ]
  },
  {
   "cell_type": "code",
   "execution_count": null,
   "id": "b87b657d",
   "metadata": {},
   "outputs": [],
   "source": [
    "# Information about the dataset\n",
    "df.info()"
   ]
  },
  {
   "cell_type": "code",
   "execution_count": null,
   "id": "348fadc7",
   "metadata": {},
   "outputs": [],
   "source": [
    "# Statistical info\n",
    "df.describe()"
   ]
  },
  {
   "cell_type": "code",
   "execution_count": null,
   "id": "82124a53",
   "metadata": {},
   "outputs": [],
   "source": [
    "# Seprate the data\n",
    "train_data = raw_train_data[raw_train_data['dataset'] == \"train\"]\n",
    "test_data = raw_test_data[raw_test_data['dataset'] == \"test\"]\n",
    "\n",
    "# Remove 'dataset' column\n",
    "train_data.drop(columns=['dataset'], inplace=True)\n",
    "test_data.drop(columns=['dataset', 'humidity_percent'], inplace=True)\n",
    "\n",
    "# Shape of the datasets\n",
    "print(\"Shape of train data: \", train_data.shape)\n",
    "print(\"Shape of test data: \", test_data.shape)"
   ]
  }
 ],
 "metadata": {
  "kernelspec": {
   "display_name": "mlenv",
   "language": "python",
   "name": "python3"
  },
  "language_info": {
   "codemirror_mode": {
    "name": "ipython",
    "version": 3
   },
   "file_extension": ".py",
   "mimetype": "text/x-python",
   "name": "python",
   "nbconvert_exporter": "python",
   "pygments_lexer": "ipython3",
   "version": "3.10.16"
  }
 },
 "nbformat": 4,
 "nbformat_minor": 5
}
