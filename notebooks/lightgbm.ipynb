{
 "cells": [
  {
   "cell_type": "markdown",
   "id": "2d2cba9c",
   "metadata": {},
   "source": [
    "# LightGBM Model Development\n",
    "\n",
    "**LightGBM** is a fast, distributed, high-performance gradient boosting framework based on decision tree algorithms. It is designed for efficiency and scalability, making it suitable for large datasets and high-dimensional data. LightGBM supports parallel and GPU learning, handles categorical features natively, and often achieves state-of-the-art results in machine learning competitions."
   ]
  },
  {
   "cell_type": "markdown",
   "id": "f7659b68",
   "metadata": {},
   "source": [
    "### 1. Load the Datasets"
   ]
  },
  {
   "cell_type": "code",
   "execution_count": 1,
   "id": "d1c66d9a",
   "metadata": {},
   "outputs": [
    {
     "name": "stdout",
     "output_type": "stream",
     "text": [
      "features shape: (2000, 157)\n",
      "targets shape: (2000, 10)\n"
     ]
    }
   ],
   "source": [
    "import pandas as pd\n",
    "from pathlib import Path\n",
    "\n",
    "# Directory where the processed data is stored\n",
    "data_path = Path(\"../processed_data\")\n",
    "\n",
    "# Load the training and validation datasets\n",
    "X_train, X_val, y_train, y_val = (\n",
    "    pd.read_csv(data_path / \"X_train.csv\"),\n",
    "    pd.read_csv(data_path / \"X_val.csv\"),\n",
    "    pd.read_csv(data_path / \"y_train.csv\"),\n",
    "    pd.read_csv(data_path / \"y_val.csv\")\n",
    ")\n",
    "\n",
    "# Combine train and validation sets for robust K-Fold tuning\n",
    "features = pd.concat([X_train, X_val], ignore_index=True)\n",
    "targets = pd.concat([y_train, y_val], ignore_index=True)\n",
    "\n",
    "# Display the shapes of the datasets\n",
    "print(f\"features shape: {features.shape}\")\n",
    "print(f\"targets shape: {targets.shape}\")"
   ]
  },
  {
   "cell_type": "markdown",
   "id": "aa20e60c",
   "metadata": {},
   "source": [
    "### 2. Hyperparameter Tuning & Model Training"
   ]
  },
  {
   "cell_type": "code",
   "execution_count": 2,
   "id": "8daa311e",
   "metadata": {},
   "outputs": [
    {
     "name": "stderr",
     "output_type": "stream",
     "text": [
      "/home/vipin/miniconda3/envs/py310/lib/python3.10/site-packages/tqdm/auto.py:21: TqdmWarning: IProgress not found. Please update jupyter and ipywidgets. See https://ipywidgets.readthedocs.io/en/stable/user_install.html\n",
      "  from .autonotebook import tqdm as notebook_tqdm\n"
     ]
    }
   ],
   "source": [
    "import optuna\n",
    "import numpy as np\n",
    "import lightgbm as lgb\n",
    "from sklearn.model_selection import KFold\n",
    "from sklearn.metrics import mean_absolute_percentage_error\n",
    "\n",
    "def objective(trial: optuna.Trial, X: pd.DataFrame, y: pd.Series):\n",
    "    \"\"\"\n",
    "    Objective function for Optuna to minimize.\n",
    "    This function trains a LightGBM model with a set of hyperparameters\n",
    "    suggested by Optuna and returns the cross-validated MAPE.\n",
    "\n",
    "    Parameters:\n",
    "      trial (optuna.Trial): An Optuna trial object that suggests hyperparameters.\n",
    "      X (pd.DataFrame): Feature matrix for training.\n",
    "      y (pd.Series): Target variable for training.\n",
    "\n",
    "    Returns:\n",
    "      float: The mean absolute percentage error (MAPE) of the model on the validation set during cross-validation.\n",
    "    \"\"\"\n",
    "    # Define the hyperparameter search space for LightGBM\n",
    "    param = {\n",
    "        'objective': 'regression_l1',\n",
    "        'metric': 'mape',\n",
    "        'n_estimators': trial.suggest_int('n_estimators', 100, 1000),\n",
    "        'learning_rate': trial.suggest_float('learning_rate', 0.01, 0.3),\n",
    "        'num_leaves': trial.suggest_int('num_leaves', 20, 300),\n",
    "        'max_depth': trial.suggest_int('max_depth', 3, 12),\n",
    "        'min_child_samples': trial.suggest_int('min_child_samples', 5, 100),\n",
    "        'subsample': trial.suggest_float('subsample', 0.6, 1.0),\n",
    "        'colsample_bytree': trial.suggest_float('colsample_bytree', 0.6, 1.0),\n",
    "        'random_state': 42,\n",
    "        'n_jobs': -1,\n",
    "        'verbose':-1\n",
    "    }\n",
    "\n",
    "    # Use K-Fold cross-validation to get a robust estimate of the model's performance\n",
    "    kf = KFold(n_splits=5, shuffle=True, random_state=42)\n",
    "    mape_scores = []\n",
    "    for train_index, val_index in kf.split(X):\n",
    "        X_train, X_val = X.iloc[train_index], X.iloc[val_index]\n",
    "        y_train, y_val = y.iloc[train_index], y.iloc[val_index]\n",
    "\n",
    "        model = lgb.LGBMRegressor(**param)\n",
    "        model.fit(X_train, y_train, eval_set=[(X_val, y_val)],\n",
    "                  callbacks=[lgb.early_stopping(10, verbose=False)])\n",
    "        preds = model.predict(X_val)\n",
    "        mape_scores.append(mean_absolute_percentage_error(y_val, preds))\n",
    "\n",
    "    return np.mean(mape_scores)"
   ]
  },
  {
   "cell_type": "code",
   "execution_count": 3,
   "id": "7510a555",
   "metadata": {},
   "outputs": [
    {
     "name": "stderr",
     "output_type": "stream",
     "text": [
      "[I 2025-07-17 14:00:25,646] A new study created in memory with name: no-name-a9f2fae0-0222-422b-9b34-70b722d3ae9f\n"
     ]
    },
    {
     "name": "stdout",
     "output_type": "stream",
     "text": [
      "\n",
      "--- Tuning and Training for BlendProperty1 ---\n"
     ]
    },
    {
     "name": "stderr",
     "output_type": "stream",
     "text": [
      "[I 2025-07-17 14:00:27,366] Trial 0 finished with value: 3.766864105417548 and parameters: {'n_estimators': 837, 'learning_rate': 0.21167422403792344, 'num_leaves': 92, 'max_depth': 8, 'min_child_samples': 68, 'subsample': 0.6856694650636558, 'colsample_bytree': 0.609610778829398}. Best is trial 0 with value: 3.766864105417548.\n",
      "[I 2025-07-17 14:00:29,166] Trial 1 finished with value: 3.0447189515975053 and parameters: {'n_estimators': 102, 'learning_rate': 0.2648471305910477, 'num_leaves': 182, 'max_depth': 8, 'min_child_samples': 34, 'subsample': 0.8416087943293469, 'colsample_bytree': 0.9318479111845369}. Best is trial 1 with value: 3.0447189515975053.\n",
      "[I 2025-07-17 14:00:32,409] Trial 2 finished with value: 1.6127450711509659 and parameters: {'n_estimators': 544, 'learning_rate': 0.21572947076381307, 'num_leaves': 232, 'max_depth': 12, 'min_child_samples': 56, 'subsample': 0.9240349305995696, 'colsample_bytree': 0.712299762696157}. Best is trial 2 with value: 1.6127450711509659.\n",
      "[I 2025-07-17 14:00:33,524] Trial 3 finished with value: 2.8015186303888315 and parameters: {'n_estimators': 410, 'learning_rate': 0.2616598391103192, 'num_leaves': 267, 'max_depth': 5, 'min_child_samples': 38, 'subsample': 0.674818095894598, 'colsample_bytree': 0.9463770782234382}. Best is trial 2 with value: 1.6127450711509659.\n",
      "[I 2025-07-17 14:00:34,296] Trial 4 finished with value: 2.952471967534468 and parameters: {'n_estimators': 847, 'learning_rate': 0.19168486276147406, 'num_leaves': 62, 'max_depth': 3, 'min_child_samples': 78, 'subsample': 0.9913046585019041, 'colsample_bytree': 0.6445034846598713}. Best is trial 2 with value: 1.6127450711509659.\n",
      "[I 2025-07-17 14:00:36,214] Trial 5 finished with value: 0.8163629849815743 and parameters: {'n_estimators': 106, 'learning_rate': 0.09803908203057153, 'num_leaves': 189, 'max_depth': 8, 'min_child_samples': 51, 'subsample': 0.7991620577721112, 'colsample_bytree': 0.7568942564456135}. Best is trial 5 with value: 0.8163629849815743.\n",
      "[I 2025-07-17 14:00:37,550] Trial 6 finished with value: 1.701145979478833 and parameters: {'n_estimators': 192, 'learning_rate': 0.2653665618218984, 'num_leaves': 276, 'max_depth': 12, 'min_child_samples': 92, 'subsample': 0.9846569387068637, 'colsample_bytree': 0.6046651854576437}. Best is trial 5 with value: 0.8163629849815743.\n",
      "[I 2025-07-17 14:00:38,809] Trial 7 finished with value: 2.3780996618033305 and parameters: {'n_estimators': 261, 'learning_rate': 0.08289533907072058, 'num_leaves': 35, 'max_depth': 3, 'min_child_samples': 85, 'subsample': 0.9313192340927361, 'colsample_bytree': 0.8024814685411232}. Best is trial 5 with value: 0.8163629849815743.\n",
      "[I 2025-07-17 14:00:41,207] Trial 8 finished with value: 4.516559350621888 and parameters: {'n_estimators': 543, 'learning_rate': 0.2764205241202692, 'num_leaves': 240, 'max_depth': 11, 'min_child_samples': 34, 'subsample': 0.66637801371547, 'colsample_bytree': 0.8183865412659326}. Best is trial 5 with value: 0.8163629849815743.\n",
      "[I 2025-07-17 14:00:42,547] Trial 9 finished with value: 1.0569396175942178 and parameters: {'n_estimators': 511, 'learning_rate': 0.20262255800073609, 'num_leaves': 240, 'max_depth': 4, 'min_child_samples': 41, 'subsample': 0.8867263830256449, 'colsample_bytree': 0.9331485195757779}. Best is trial 5 with value: 0.8163629849815743.\n",
      "[I 2025-07-17 14:00:58,049] Trial 10 finished with value: 1.2509996183524952 and parameters: {'n_estimators': 739, 'learning_rate': 0.024599601721945696, 'num_leaves': 144, 'max_depth': 6, 'min_child_samples': 7, 'subsample': 0.7667952755899636, 'colsample_bytree': 0.7296972942668556}. Best is trial 5 with value: 0.8163629849815743.\n",
      "[I 2025-07-17 14:01:01,290] Trial 11 finished with value: 3.911810855656566 and parameters: {'n_estimators': 355, 'learning_rate': 0.1267167531589718, 'num_leaves': 180, 'max_depth': 9, 'min_child_samples': 54, 'subsample': 0.8257129528683521, 'colsample_bytree': 0.8663775903904141}. Best is trial 5 with value: 0.8163629849815743.\n",
      "[I 2025-07-17 14:01:04,892] Trial 12 finished with value: 2.696959007891877 and parameters: {'n_estimators': 673, 'learning_rate': 0.13666126306684911, 'num_leaves': 216, 'max_depth': 6, 'min_child_samples': 20, 'subsample': 0.7640665301989382, 'colsample_bytree': 0.8850137016076015}. Best is trial 5 with value: 0.8163629849815743.\n",
      "[I 2025-07-17 14:01:13,484] Trial 13 finished with value: 0.9476373174849394 and parameters: {'n_estimators': 996, 'learning_rate': 0.06507337085312737, 'num_leaves': 133, 'max_depth': 5, 'min_child_samples': 45, 'subsample': 0.8772545983529981, 'colsample_bytree': 0.7536071239338087}. Best is trial 5 with value: 0.8163629849815743.\n",
      "[I 2025-07-17 14:01:18,364] Trial 14 finished with value: 1.9355163197397673 and parameters: {'n_estimators': 990, 'learning_rate': 0.06661568392640634, 'num_leaves': 126, 'max_depth': 10, 'min_child_samples': 66, 'subsample': 0.7447851709835089, 'colsample_bytree': 0.7420782516434666}. Best is trial 5 with value: 0.8163629849815743.\n",
      "[I 2025-07-17 14:01:26,960] Trial 15 finished with value: 1.5332531571051626 and parameters: {'n_estimators': 973, 'learning_rate': 0.08113842159769785, 'num_leaves': 110, 'max_depth': 6, 'min_child_samples': 22, 'subsample': 0.6086834186214015, 'colsample_bytree': 0.6928692105926679}. Best is trial 5 with value: 0.8163629849815743.\n",
      "[I 2025-07-17 14:01:35,897] Trial 16 finished with value: 1.3747710106412419 and parameters: {'n_estimators': 666, 'learning_rate': 0.012736710777291549, 'num_leaves': 169, 'max_depth': 7, 'min_child_samples': 47, 'subsample': 0.8721596727001878, 'colsample_bytree': 0.7689516675124772}. Best is trial 5 with value: 0.8163629849815743.\n",
      "[I 2025-07-17 14:01:39,665] Trial 17 finished with value: 0.6900712414370085 and parameters: {'n_estimators': 413, 'learning_rate': 0.10553285470565206, 'num_leaves': 206, 'max_depth': 9, 'min_child_samples': 66, 'subsample': 0.7975917632467932, 'colsample_bytree': 0.6662734250729438}. Best is trial 17 with value: 0.6900712414370085.\n",
      "[I 2025-07-17 14:01:43,295] Trial 18 finished with value: 2.1687588936140734 and parameters: {'n_estimators': 357, 'learning_rate': 0.10687606268698253, 'num_leaves': 198, 'max_depth': 10, 'min_child_samples': 65, 'subsample': 0.787536377341505, 'colsample_bytree': 0.6707685891181656}. Best is trial 17 with value: 0.6900712414370085.\n",
      "[I 2025-07-17 14:01:44,948] Trial 19 finished with value: 1.963157009757941 and parameters: {'n_estimators': 102, 'learning_rate': 0.15826896625432726, 'num_leaves': 208, 'max_depth': 9, 'min_child_samples': 75, 'subsample': 0.7212705578841307, 'colsample_bytree': 0.989981360095046}. Best is trial 17 with value: 0.6900712414370085.\n",
      "[I 2025-07-17 14:01:47,023] Trial 20 finished with value: 3.819637631772385 and parameters: {'n_estimators': 230, 'learning_rate': 0.170154689912353, 'num_leaves': 298, 'max_depth': 9, 'min_child_samples': 97, 'subsample': 0.8164391649824693, 'colsample_bytree': 0.6519236039492086}. Best is trial 17 with value: 0.6900712414370085.\n",
      "[I 2025-07-17 14:01:52,530] Trial 21 finished with value: 0.6957221471687707 and parameters: {'n_estimators': 488, 'learning_rate': 0.04872504010086746, 'num_leaves': 156, 'max_depth': 7, 'min_child_samples': 54, 'subsample': 0.8622755837341831, 'colsample_bytree': 0.7495436168210525}. Best is trial 17 with value: 0.6900712414370085.\n",
      "[I 2025-07-17 14:01:57,070] Trial 22 finished with value: 1.0398256412578935 and parameters: {'n_estimators': 379, 'learning_rate': 0.03736853697451606, 'num_leaves': 154, 'max_depth': 7, 'min_child_samples': 60, 'subsample': 0.8020627270436157, 'colsample_bytree': 0.7782452887718442}. Best is trial 17 with value: 0.6900712414370085.\n",
      "[I 2025-07-17 14:02:00,742] Trial 23 finished with value: 1.4581299865286197 and parameters: {'n_estimators': 455, 'learning_rate': 0.1050441533354388, 'num_leaves': 183, 'max_depth': 8, 'min_child_samples': 74, 'subsample': 0.8543826654246925, 'colsample_bytree': 0.8357624543534277}. Best is trial 17 with value: 0.6900712414370085.\n",
      "[I 2025-07-17 14:02:16,201] Trial 24 finished with value: 1.0202955978555348 and parameters: {'n_estimators': 631, 'learning_rate': 0.05214183302106619, 'num_leaves': 95, 'max_depth': 10, 'min_child_samples': 51, 'subsample': 0.9148483235598935, 'colsample_bytree': 0.6911063207122039}. Best is trial 17 with value: 0.6900712414370085.\n",
      "[I 2025-07-17 14:02:19,627] Trial 25 finished with value: 2.031104893791604 and parameters: {'n_estimators': 299, 'learning_rate': 0.1056551017326485, 'num_leaves': 165, 'max_depth': 7, 'min_child_samples': 61, 'subsample': 0.7240890841628869, 'colsample_bytree': 0.7195079907804401}. Best is trial 17 with value: 0.6900712414370085.\n",
      "[I 2025-07-17 14:02:22,615] Trial 26 finished with value: 2.3966082555786867 and parameters: {'n_estimators': 450, 'learning_rate': 0.1368570270994341, 'num_leaves': 202, 'max_depth': 9, 'min_child_samples': 82, 'subsample': 0.7808455919228621, 'colsample_bytree': 0.7821889361008441}. Best is trial 17 with value: 0.6900712414370085.\n",
      "[I 2025-07-17 14:02:26,504] Trial 27 finished with value: 1.2359150959185665 and parameters: {'n_estimators': 186, 'learning_rate': 0.08763669381724579, 'num_leaves': 227, 'max_depth': 8, 'min_child_samples': 48, 'subsample': 0.9517478015548153, 'colsample_bytree': 0.8441389886182045}. Best is trial 17 with value: 0.6900712414370085.\n",
      "[I 2025-07-17 14:02:34,863] Trial 28 finished with value: 1.9418727351419185 and parameters: {'n_estimators': 309, 'learning_rate': 0.05524991841214642, 'num_leaves': 266, 'max_depth': 11, 'min_child_samples': 30, 'subsample': 0.8207583123829453, 'colsample_bytree': 0.645629097133302}. Best is trial 17 with value: 0.6900712414370085.\n",
      "[I 2025-07-17 14:02:42,602] Trial 29 finished with value: 0.8446024365346375 and parameters: {'n_estimators': 597, 'learning_rate': 0.03742365286575032, 'num_leaves': 69, 'max_depth': 8, 'min_child_samples': 69, 'subsample': 0.7054493623320871, 'colsample_bytree': 0.6288736328563748}. Best is trial 17 with value: 0.6900712414370085.\n",
      "[I 2025-07-17 14:02:47,565] Trial 30 finished with value: 0.888302025263681 and parameters: {'n_estimators': 761, 'learning_rate': 0.12078302659583334, 'num_leaves': 129, 'max_depth': 7, 'min_child_samples': 58, 'subsample': 0.899766031738795, 'colsample_bytree': 0.6795113698940974}. Best is trial 17 with value: 0.6900712414370085.\n",
      "[I 2025-07-17 14:02:54,436] Trial 31 finished with value: 1.2436292881095454 and parameters: {'n_estimators': 612, 'learning_rate': 0.03187497036228233, 'num_leaves': 24, 'max_depth': 8, 'min_child_samples': 69, 'subsample': 0.6319984141623002, 'colsample_bytree': 0.620921318151566}. Best is trial 17 with value: 0.6900712414370085.\n",
      "[I 2025-07-17 14:03:00,602] Trial 32 finished with value: 0.8585273022172932 and parameters: {'n_estimators': 587, 'learning_rate': 0.04582993115726858, 'num_leaves': 76, 'max_depth': 8, 'min_child_samples': 67, 'subsample': 0.7077472133846656, 'colsample_bytree': 0.6225232763631429}. Best is trial 17 with value: 0.6900712414370085.\n",
      "[I 2025-07-17 14:03:06,079] Trial 33 finished with value: 1.8667585800573607 and parameters: {'n_estimators': 481, 'learning_rate': 0.08277411487806982, 'num_leaves': 54, 'max_depth': 9, 'min_child_samples': 72, 'subsample': 0.8540787633653646, 'colsample_bytree': 0.7066901990281416}. Best is trial 17 with value: 0.6900712414370085.\n",
      "[I 2025-07-17 14:03:17,059] Trial 34 finished with value: 1.1474195378749337 and parameters: {'n_estimators': 557, 'learning_rate': 0.019706996443494846, 'num_leaves': 92, 'max_depth': 6, 'min_child_samples': 53, 'subsample': 0.6913757216142632, 'colsample_bytree': 0.6555121324532638}. Best is trial 17 with value: 0.6900712414370085.\n",
      "[I 2025-07-17 14:03:20,044] Trial 35 finished with value: 1.7098294812121018 and parameters: {'n_estimators': 724, 'learning_rate': 0.2308611501594974, 'num_leaves': 184, 'max_depth': 8, 'min_child_samples': 86, 'subsample': 0.6541456924422496, 'colsample_bytree': 0.7516536228957077}. Best is trial 17 with value: 0.6900712414370085.\n",
      "[I 2025-07-17 14:03:23,949] Trial 36 finished with value: 2.1182744661929673 and parameters: {'n_estimators': 415, 'learning_rate': 0.0957998339961736, 'num_leaves': 149, 'max_depth': 7, 'min_child_samples': 61, 'subsample': 0.8399725268702122, 'colsample_bytree': 0.6000889826073434}. Best is trial 17 with value: 0.6900712414370085.\n",
      "[I 2025-07-17 14:03:28,878] Trial 37 finished with value: 0.583108188733694 and parameters: {'n_estimators': 825, 'learning_rate': 0.0661839668799621, 'num_leaves': 221, 'max_depth': 5, 'min_child_samples': 79, 'subsample': 0.7442595934677297, 'colsample_bytree': 0.7059535295731767}. Best is trial 37 with value: 0.583108188733694.\n",
      "[I 2025-07-17 14:03:32,995] Trial 38 finished with value: 0.8049773164170215 and parameters: {'n_estimators': 828, 'learning_rate': 0.0717774751327344, 'num_leaves': 255, 'max_depth': 5, 'min_child_samples': 78, 'subsample': 0.7511525061435509, 'colsample_bytree': 0.7986893551939896}. Best is trial 37 with value: 0.583108188733694.\n",
      "[I 2025-07-17 14:03:37,456] Trial 39 finished with value: 1.4699836641116781 and parameters: {'n_estimators': 880, 'learning_rate': 0.06823285892163658, 'num_leaves': 261, 'max_depth': 4, 'min_child_samples': 91, 'subsample': 0.745738772151178, 'colsample_bytree': 0.7999045887506121}. Best is trial 37 with value: 0.583108188733694.\n",
      "[I 2025-07-17 14:03:41,163] Trial 40 finished with value: 1.092090259518438 and parameters: {'n_estimators': 902, 'learning_rate': 0.0695944231006962, 'num_leaves': 286, 'max_depth': 5, 'min_child_samples': 90, 'subsample': 0.7460751269172344, 'colsample_bytree': 0.7332553369128711}. Best is trial 37 with value: 0.583108188733694.\n",
      "[I 2025-07-17 14:03:43,607] Trial 41 finished with value: 1.253996347996982 and parameters: {'n_estimators': 819, 'learning_rate': 0.11327721011031508, 'num_leaves': 244, 'max_depth': 4, 'min_child_samples': 80, 'subsample': 0.797829014026095, 'colsample_bytree': 0.7079257960718414}. Best is trial 37 with value: 0.583108188733694.\n",
      "[I 2025-07-17 14:03:47,594] Trial 42 finished with value: 2.02023113224248 and parameters: {'n_estimators': 813, 'learning_rate': 0.050157777519416025, 'num_leaves': 228, 'max_depth': 5, 'min_child_samples': 77, 'subsample': 0.7711725924752992, 'colsample_bytree': 0.763318028646293}. Best is trial 37 with value: 0.583108188733694.\n",
      "[I 2025-07-17 14:03:52,230] Trial 43 finished with value: 3.204425261614186 and parameters: {'n_estimators': 917, 'learning_rate': 0.09318585296595491, 'num_leaves': 252, 'max_depth': 5, 'min_child_samples': 41, 'subsample': 0.8103851464822147, 'colsample_bytree': 0.809573644353006}. Best is trial 37 with value: 0.583108188733694.\n",
      "[I 2025-07-17 14:03:54,192] Trial 44 finished with value: 2.146883929279848 and parameters: {'n_estimators': 776, 'learning_rate': 0.1378498541086367, 'num_leaves': 192, 'max_depth': 4, 'min_child_samples': 85, 'subsample': 0.755362504678969, 'colsample_bytree': 0.7874155285152922}. Best is trial 37 with value: 0.583108188733694.\n",
      "[I 2025-07-17 14:03:55,266] Trial 45 finished with value: 1.0095289842261692 and parameters: {'n_estimators': 149, 'learning_rate': 0.07359116298144884, 'num_leaves': 224, 'max_depth': 3, 'min_child_samples': 57, 'subsample': 0.8368629702518456, 'colsample_bytree': 0.7262991702024785}. Best is trial 37 with value: 0.583108188733694.\n",
      "[I 2025-07-17 14:03:56,776] Trial 46 finished with value: 3.2122474670116334 and parameters: {'n_estimators': 693, 'learning_rate': 0.2915911134129321, 'num_leaves': 215, 'max_depth': 6, 'min_child_samples': 71, 'subsample': 0.7865368762035668, 'colsample_bytree': 0.8825520864033803}. Best is trial 37 with value: 0.583108188733694.\n",
      "[I 2025-07-17 14:03:59,422] Trial 47 finished with value: 0.9176739125061928 and parameters: {'n_estimators': 523, 'learning_rate': 0.1503375484290561, 'num_leaves': 176, 'max_depth': 6, 'min_child_samples': 99, 'subsample': 0.8598452580390955, 'colsample_bytree': 0.8316184149008036}. Best is trial 37 with value: 0.583108188733694.\n",
      "[I 2025-07-17 14:04:02,720] Trial 48 finished with value: 2.1514055676169592 and parameters: {'n_estimators': 859, 'learning_rate': 0.06166870820423266, 'num_leaves': 249, 'max_depth': 3, 'min_child_samples': 64, 'subsample': 0.7306596853082828, 'colsample_bytree': 0.6775350814533767}. Best is trial 37 with value: 0.583108188733694.\n",
      "[I 2025-07-17 14:04:14,554] Trial 49 finished with value: 3.193899805060135 and parameters: {'n_estimators': 948, 'learning_rate': 0.09430481199686461, 'num_leaves': 277, 'max_depth': 11, 'min_child_samples': 42, 'subsample': 0.9567374958177596, 'colsample_bytree': 0.7410166012732109}. Best is trial 37 with value: 0.583108188733694.\n"
     ]
    },
    {
     "name": "stdout",
     "output_type": "stream",
     "text": [
      "Best MAPE for BlendProperty1: 0.583108188733694\n",
      "Best hyperparameters for BlendProperty1: {'n_estimators': 825, 'learning_rate': 0.0661839668799621, 'num_leaves': 221, 'max_depth': 5, 'min_child_samples': 79, 'subsample': 0.7442595934677297, 'colsample_bytree': 0.7059535295731767}\n"
     ]
    },
    {
     "name": "stderr",
     "output_type": "stream",
     "text": [
      "[I 2025-07-17 14:04:15,871] A new study created in memory with name: no-name-1844f83d-7dd0-409d-a1cb-d8aca7e9e33c\n"
     ]
    },
    {
     "name": "stdout",
     "output_type": "stream",
     "text": [
      "Saved best model for BlendProperty1\n",
      "\n",
      "--- Tuning and Training for BlendProperty2 ---\n"
     ]
    },
    {
     "name": "stderr",
     "output_type": "stream",
     "text": [
      "[I 2025-07-17 14:04:17,864] Trial 0 finished with value: 0.8925436208180615 and parameters: {'n_estimators': 339, 'learning_rate': 0.19212514740929013, 'num_leaves': 115, 'max_depth': 12, 'min_child_samples': 76, 'subsample': 0.7571505292244544, 'colsample_bytree': 0.7962381027826444}. Best is trial 0 with value: 0.8925436208180615.\n",
      "[I 2025-07-17 14:04:19,018] Trial 1 finished with value: 1.1649737378394551 and parameters: {'n_estimators': 942, 'learning_rate': 0.26525962021282196, 'num_leaves': 91, 'max_depth': 4, 'min_child_samples': 40, 'subsample': 0.7428535376256766, 'colsample_bytree': 0.7761656703664948}. Best is trial 0 with value: 0.8925436208180615.\n",
      "[I 2025-07-17 14:04:22,048] Trial 2 finished with value: 0.8625909060615939 and parameters: {'n_estimators': 870, 'learning_rate': 0.13689430357962504, 'num_leaves': 64, 'max_depth': 9, 'min_child_samples': 51, 'subsample': 0.6469315372038362, 'colsample_bytree': 0.6504181142631688}. Best is trial 2 with value: 0.8625909060615939.\n",
      "[I 2025-07-17 14:04:25,314] Trial 3 finished with value: 0.862650649598684 and parameters: {'n_estimators': 653, 'learning_rate': 0.07075732535195817, 'num_leaves': 261, 'max_depth': 6, 'min_child_samples': 100, 'subsample': 0.7419913770792711, 'colsample_bytree': 0.9100768906067183}. Best is trial 2 with value: 0.8625909060615939.\n",
      "[I 2025-07-17 14:04:29,844] Trial 4 finished with value: 0.8032240963408237 and parameters: {'n_estimators': 299, 'learning_rate': 0.1558752794529631, 'num_leaves': 40, 'max_depth': 11, 'min_child_samples': 28, 'subsample': 0.9150439556683329, 'colsample_bytree': 0.9595374936723716}. Best is trial 4 with value: 0.8032240963408237.\n",
      "[I 2025-07-17 14:04:34,115] Trial 5 finished with value: 1.1437729877341658 and parameters: {'n_estimators': 589, 'learning_rate': 0.1821037390053728, 'num_leaves': 198, 'max_depth': 9, 'min_child_samples': 27, 'subsample': 0.6537950180300315, 'colsample_bytree': 0.7137091676647047}. Best is trial 4 with value: 0.8032240963408237.\n",
      "[I 2025-07-17 14:04:54,043] Trial 6 finished with value: 0.6340265986686137 and parameters: {'n_estimators': 519, 'learning_rate': 0.026370721071053697, 'num_leaves': 38, 'max_depth': 11, 'min_child_samples': 27, 'subsample': 0.943139622650004, 'colsample_bytree': 0.8685742771561602}. Best is trial 6 with value: 0.6340265986686137.\n",
      "[I 2025-07-17 14:04:55,221] Trial 7 finished with value: 1.203801341384239 and parameters: {'n_estimators': 781, 'learning_rate': 0.25027032203130734, 'num_leaves': 250, 'max_depth': 3, 'min_child_samples': 34, 'subsample': 0.8871878814262109, 'colsample_bytree': 0.9382364870833386}. Best is trial 6 with value: 0.6340265986686137.\n",
      "[I 2025-07-17 14:05:01,465] Trial 8 finished with value: 0.8218056040105945 and parameters: {'n_estimators': 420, 'learning_rate': 0.15430634969331697, 'num_leaves': 31, 'max_depth': 10, 'min_child_samples': 32, 'subsample': 0.6229870640064591, 'colsample_bytree': 0.9186424040222069}. Best is trial 6 with value: 0.6340265986686137.\n",
      "[I 2025-07-17 14:05:03,889] Trial 9 finished with value: 0.8589054891218927 and parameters: {'n_estimators': 317, 'learning_rate': 0.20497273876560249, 'num_leaves': 250, 'max_depth': 8, 'min_child_samples': 60, 'subsample': 0.6695813602693107, 'colsample_bytree': 0.9556663305527877}. Best is trial 6 with value: 0.6340265986686137.\n",
      "[I 2025-07-17 14:05:18,816] Trial 10 finished with value: 0.9475389499693018 and parameters: {'n_estimators': 102, 'learning_rate': 0.013263858115075626, 'num_leaves': 152, 'max_depth': 12, 'min_child_samples': 6, 'subsample': 0.9551016754270958, 'colsample_bytree': 0.8598258871714206}. Best is trial 6 with value: 0.6340265986686137.\n",
      "[I 2025-07-17 14:05:22,789] Trial 11 finished with value: 0.7578726911578977 and parameters: {'n_estimators': 129, 'learning_rate': 0.09685372827268653, 'num_leaves': 22, 'max_depth': 11, 'min_child_samples': 7, 'subsample': 0.9671116317804894, 'colsample_bytree': 0.9968205590432413}. Best is trial 6 with value: 0.6340265986686137.\n",
      "[I 2025-07-17 14:05:26,560] Trial 12 finished with value: 0.9212886103510955 and parameters: {'n_estimators': 129, 'learning_rate': 0.07402506610153278, 'num_leaves': 28, 'max_depth': 6, 'min_child_samples': 10, 'subsample': 0.9901493330707124, 'colsample_bytree': 0.9929763621962834}. Best is trial 6 with value: 0.6340265986686137.\n",
      "[I 2025-07-17 14:05:46,608] Trial 13 finished with value: 0.7348867432842244 and parameters: {'n_estimators': 492, 'learning_rate': 0.0226720149414876, 'num_leaves': 94, 'max_depth': 10, 'min_child_samples': 18, 'subsample': 0.8522837639122101, 'colsample_bytree': 0.8572110576474021}. Best is trial 6 with value: 0.6340265986686137.\n",
      "[I 2025-07-17 14:06:05,331] Trial 14 finished with value: 0.6787439528295003 and parameters: {'n_estimators': 483, 'learning_rate': 0.016056917077504375, 'num_leaves': 118, 'max_depth': 10, 'min_child_samples': 19, 'subsample': 0.8353891027769375, 'colsample_bytree': 0.853238258043392}. Best is trial 6 with value: 0.6340265986686137.\n",
      "[I 2025-07-17 14:06:20,759] Trial 15 finished with value: 0.6576178896292761 and parameters: {'n_estimators': 694, 'learning_rate': 0.04029129145449778, 'num_leaves': 145, 'max_depth': 7, 'min_child_samples': 48, 'subsample': 0.8224903923648369, 'colsample_bytree': 0.8533569771468937}. Best is trial 6 with value: 0.6340265986686137.\n",
      "[I 2025-07-17 14:06:26,409] Trial 16 finished with value: 0.8172716875327544 and parameters: {'n_estimators': 746, 'learning_rate': 0.06960450997985618, 'num_leaves': 198, 'max_depth': 6, 'min_child_samples': 50, 'subsample': 0.8083614764119098, 'colsample_bytree': 0.7358990537436687}. Best is trial 6 with value: 0.6340265986686137.\n",
      "[I 2025-07-17 14:06:36,754] Trial 17 finished with value: 0.7699720401259281 and parameters: {'n_estimators': 663, 'learning_rate': 0.04479650625456629, 'num_leaves': 292, 'max_depth': 7, 'min_child_samples': 72, 'subsample': 0.9191459347961366, 'colsample_bytree': 0.8337753416165542}. Best is trial 6 with value: 0.6340265986686137.\n",
      "[I 2025-07-17 14:06:40,008] Trial 18 finished with value: 0.7481525243934373 and parameters: {'n_estimators': 776, 'learning_rate': 0.10347772745337322, 'num_leaves': 182, 'max_depth': 5, 'min_child_samples': 64, 'subsample': 0.7928575245523981, 'colsample_bytree': 0.8951126728707732}. Best is trial 6 with value: 0.6340265986686137.\n",
      "[I 2025-07-17 14:06:44,096] Trial 19 finished with value: 0.7841897349002951 and parameters: {'n_estimators': 574, 'learning_rate': 0.11333242347893249, 'num_leaves': 152, 'max_depth': 8, 'min_child_samples': 43, 'subsample': 0.8743815008260635, 'colsample_bytree': 0.7347016956999267}. Best is trial 6 with value: 0.6340265986686137.\n",
      "[I 2025-07-17 14:06:50,307] Trial 20 finished with value: 0.864325362786014 and parameters: {'n_estimators': 657, 'learning_rate': 0.04618632796576026, 'num_leaves': 62, 'max_depth': 7, 'min_child_samples': 86, 'subsample': 0.9168833720791458, 'colsample_bytree': 0.6003165941372759}. Best is trial 6 with value: 0.6340265986686137.\n",
      "[I 2025-07-17 14:07:10,645] Trial 21 finished with value: 0.6393249377745436 and parameters: {'n_estimators': 486, 'learning_rate': 0.032679964943869495, 'num_leaves': 125, 'max_depth': 10, 'min_child_samples': 19, 'subsample': 0.8248025342731471, 'colsample_bytree': 0.8303002194149923}. Best is trial 6 with value: 0.6340265986686137.\n",
      "[I 2025-07-17 14:07:29,600] Trial 22 finished with value: 0.8207651012658781 and parameters: {'n_estimators': 431, 'learning_rate': 0.044152591110952995, 'num_leaves': 134, 'max_depth': 9, 'min_child_samples': 18, 'subsample': 0.6991233660531503, 'colsample_bytree': 0.8177059630177095}. Best is trial 6 with value: 0.6340265986686137.\n",
      "[I 2025-07-17 14:07:41,746] Trial 23 finished with value: 0.6857040380831206 and parameters: {'n_estimators': 535, 'learning_rate': 0.04188438658304547, 'num_leaves': 169, 'max_depth': 11, 'min_child_samples': 43, 'subsample': 0.7985622486491811, 'colsample_bytree': 0.8847407604983751}. Best is trial 6 with value: 0.6340265986686137.\n",
      "[I 2025-07-17 14:07:51,016] Trial 24 finished with value: 0.7596283746763881 and parameters: {'n_estimators': 371, 'learning_rate': 0.07874350483799068, 'num_leaves': 77, 'max_depth': 8, 'min_child_samples': 22, 'subsample': 0.8310859036939993, 'colsample_bytree': 0.7744437917490801}. Best is trial 6 with value: 0.6340265986686137.\n",
      "[I 2025-07-17 14:08:07,275] Trial 25 finished with value: 0.65474388427815 and parameters: {'n_estimators': 714, 'learning_rate': 0.033682200492816367, 'num_leaves': 217, 'max_depth': 12, 'min_child_samples': 36, 'subsample': 0.882057765789499, 'colsample_bytree': 0.8117028270151458}. Best is trial 6 with value: 0.6340265986686137.\n",
      "[I 2025-07-17 14:08:18,891] Trial 26 finished with value: 0.8344397591588708 and parameters: {'n_estimators': 254, 'learning_rate': 0.010794307263996113, 'num_leaves': 221, 'max_depth': 12, 'min_child_samples': 39, 'subsample': 0.883249825264319, 'colsample_bytree': 0.8048775475723013}. Best is trial 6 with value: 0.6340265986686137.\n",
      "[I 2025-07-17 14:08:32,470] Trial 27 finished with value: 0.7313500158750954 and parameters: {'n_estimators': 840, 'learning_rate': 0.06163126634121086, 'num_leaves': 217, 'max_depth': 11, 'min_child_samples': 25, 'subsample': 0.9423995765419663, 'colsample_bytree': 0.7590086007090177}. Best is trial 6 with value: 0.6340265986686137.\n",
      "[I 2025-07-17 14:08:48,016] Trial 28 finished with value: 0.8786923914622837 and parameters: {'n_estimators': 599, 'learning_rate': 0.12511365628491433, 'num_leaves': 117, 'max_depth': 12, 'min_child_samples': 12, 'subsample': 0.9942168940817587, 'colsample_bytree': 0.8230299946448649}. Best is trial 6 with value: 0.6340265986686137.\n",
      "[I 2025-07-17 14:08:57,144] Trial 29 finished with value: 0.8066345510953301 and parameters: {'n_estimators': 991, 'learning_rate': 0.08615198532420813, 'num_leaves': 283, 'max_depth': 10, 'min_child_samples': 33, 'subsample': 0.777035852305513, 'colsample_bytree': 0.7035449654718045}. Best is trial 6 with value: 0.6340265986686137.\n",
      "[I 2025-07-17 14:08:59,167] Trial 30 finished with value: 1.1568357702116074 and parameters: {'n_estimators': 223, 'learning_rate': 0.2946062965218768, 'num_leaves': 217, 'max_depth': 12, 'min_child_samples': 58, 'subsample': 0.8584096708393849, 'colsample_bytree': 0.7937673267714208}. Best is trial 6 with value: 0.6340265986686137.\n",
      "[I 2025-07-17 14:09:15,917] Trial 31 finished with value: 0.6718156636649082 and parameters: {'n_estimators': 702, 'learning_rate': 0.0347324274872893, 'num_leaves': 138, 'max_depth': 11, 'min_child_samples': 49, 'subsample': 0.8275039195891588, 'colsample_bytree': 0.8758167051889891}. Best is trial 6 with value: 0.6340265986686137.\n",
      "[I 2025-07-17 14:09:25,105] Trial 32 finished with value: 0.7028772726214934 and parameters: {'n_estimators': 514, 'learning_rate': 0.05317222001711524, 'num_leaves': 170, 'max_depth': 9, 'min_child_samples': 40, 'subsample': 0.7660234589493492, 'colsample_bytree': 0.8367040704436915}. Best is trial 6 with value: 0.6340265986686137.\n",
      "[I 2025-07-17 14:10:00,201] Trial 33 finished with value: 0.7584605507522172 and parameters: {'n_estimators': 872, 'learning_rate': 0.029554773468713946, 'num_leaves': 96, 'max_depth': 11, 'min_child_samples': 15, 'subsample': 0.899336633360817, 'colsample_bytree': 0.7913046897761575}. Best is trial 6 with value: 0.6340265986686137.\n",
      "[I 2025-07-17 14:10:06,104] Trial 34 finished with value: 0.6596169743043575 and parameters: {'n_estimators': 423, 'learning_rate': 0.057627000386955535, 'num_leaves': 137, 'max_depth': 5, 'min_child_samples': 36, 'subsample': 0.7314962778474038, 'colsample_bytree': 0.870431592321705}. Best is trial 6 with value: 0.6340265986686137.\n",
      "[I 2025-07-17 14:10:22,951] Trial 35 finished with value: 0.6376088829660358 and parameters: {'n_estimators': 715, 'learning_rate': 0.03154525670115148, 'num_leaves': 49, 'max_depth': 7, 'min_child_samples': 45, 'subsample': 0.8612827765620185, 'colsample_bytree': 0.9057744589913296}. Best is trial 6 with value: 0.6340265986686137.\n",
      "[I 2025-07-17 14:10:32,425] Trial 36 finished with value: 0.8574949482425206 and parameters: {'n_estimators': 619, 'learning_rate': 0.09094978880077682, 'num_leaves': 53, 'max_depth': 10, 'min_child_samples': 29, 'subsample': 0.9403045253276746, 'colsample_bytree': 0.9202981409957279}. Best is trial 6 with value: 0.6340265986686137.\n",
      "[I 2025-07-17 14:10:59,391] Trial 37 finished with value: 0.7078955282217232 and parameters: {'n_estimators': 843, 'learning_rate': 0.027398905156832687, 'num_leaves': 79, 'max_depth': 12, 'min_child_samples': 25, 'subsample': 0.8596614047086988, 'colsample_bytree': 0.8978643698828183}. Best is trial 6 with value: 0.6340265986686137.\n",
      "[I 2025-07-17 14:11:02,079] Trial 38 finished with value: 0.7928282222538106 and parameters: {'n_estimators': 917, 'learning_rate': 0.21169815814101836, 'num_leaves': 48, 'max_depth': 9, 'min_child_samples': 56, 'subsample': 0.9120450484919482, 'colsample_bytree': 0.9453301510264609}. Best is trial 6 with value: 0.6340265986686137.\n",
      "[I 2025-07-17 14:11:06,856] Trial 39 finished with value: 0.7809689355197171 and parameters: {'n_estimators': 726, 'learning_rate': 0.15601416883010782, 'num_leaves': 74, 'max_depth': 11, 'min_child_samples': 44, 'subsample': 0.8700767931101454, 'colsample_bytree': 0.9733073430604225}. Best is trial 6 with value: 0.6340265986686137.\n",
      "[I 2025-07-17 14:11:20,897] Trial 40 finished with value: 0.7323764649192641 and parameters: {'n_estimators': 457, 'learning_rate': 0.06240624432537216, 'num_leaves': 40, 'max_depth': 8, 'min_child_samples': 29, 'subsample': 0.9649944738840851, 'colsample_bytree': 0.9223197333571318}. Best is trial 6 with value: 0.6340265986686137.\n",
      "[I 2025-07-17 14:11:31,550] Trial 41 finished with value: 0.6941786308184501 and parameters: {'n_estimators': 687, 'learning_rate': 0.029143072909453074, 'num_leaves': 108, 'max_depth': 7, 'min_child_samples': 53, 'subsample': 0.8138791306006133, 'colsample_bytree': 0.8408634393060208}. Best is trial 6 with value: 0.6340265986686137.\n",
      "[I 2025-07-17 14:11:40,076] Trial 42 finished with value: 0.6525986393296997 and parameters: {'n_estimators': 626, 'learning_rate': 0.011801957357575527, 'num_leaves': 194, 'max_depth': 5, 'min_child_samples': 47, 'subsample': 0.8894037450250943, 'colsample_bytree': 0.8152429276327255}. Best is trial 6 with value: 0.6340265986686137.\n",
      "[I 2025-07-17 14:11:44,091] Trial 43 finished with value: 0.9274108050813537 and parameters: {'n_estimators': 549, 'learning_rate': 0.011387190366840508, 'num_leaves': 238, 'max_depth': 3, 'min_child_samples': 67, 'subsample': 0.8992426769440929, 'colsample_bytree': 0.7692796090672126}. Best is trial 6 with value: 0.6340265986686137.\n",
      "[I 2025-07-17 14:11:49,053] Trial 44 finished with value: 0.7255245727923763 and parameters: {'n_estimators': 615, 'learning_rate': 0.026366526142077948, 'num_leaves': 188, 'max_depth': 4, 'min_child_samples': 36, 'subsample': 0.8476807533948287, 'colsample_bytree': 0.8095653698477372}. Best is trial 6 with value: 0.6340265986686137.\n",
      "[I 2025-07-17 14:11:54,515] Trial 45 finished with value: 0.8137467945970218 and parameters: {'n_estimators': 798, 'learning_rate': 0.05701264207912124, 'num_leaves': 206, 'max_depth': 5, 'min_child_samples': 31, 'subsample': 0.9285135356850992, 'colsample_bytree': 0.8983192029490457}. Best is trial 6 with value: 0.6340265986686137.\n",
      "[I 2025-07-17 14:11:59,839] Trial 46 finished with value: 0.6758745445403711 and parameters: {'n_estimators': 379, 'learning_rate': 0.02100011582829866, 'num_leaves': 239, 'max_depth': 6, 'min_child_samples': 45, 'subsample': 0.8875714612915055, 'colsample_bytree': 0.872265711504893}. Best is trial 6 with value: 0.6340265986686137.\n",
      "[I 2025-07-17 14:12:03,574] Trial 47 finished with value: 0.8944760760490696 and parameters: {'n_estimators': 745, 'learning_rate': 0.07599878249921574, 'num_leaves': 274, 'max_depth': 4, 'min_child_samples': 22, 'subsample': 0.9779250285429099, 'colsample_bytree': 0.7491605955236272}. Best is trial 6 with value: 0.6340265986686137.\n",
      "[I 2025-07-17 14:12:05,006] Trial 48 finished with value: 0.8177595259317826 and parameters: {'n_estimators': 567, 'learning_rate': 0.22632529869360113, 'num_leaves': 22, 'max_depth': 10, 'min_child_samples': 97, 'subsample': 0.9007787567983491, 'colsample_bytree': 0.8422452756872553}. Best is trial 6 with value: 0.6340265986686137.\n",
      "[I 2025-07-17 14:12:07,985] Trial 49 finished with value: 0.7548737494366206 and parameters: {'n_estimators': 645, 'learning_rate': 0.16870020047002984, 'num_leaves': 37, 'max_depth': 6, 'min_child_samples': 38, 'subsample': 0.9469787445834175, 'colsample_bytree': 0.7872708754489024}. Best is trial 6 with value: 0.6340265986686137.\n"
     ]
    },
    {
     "name": "stdout",
     "output_type": "stream",
     "text": [
      "Best MAPE for BlendProperty2: 0.6340265986686137\n",
      "Best hyperparameters for BlendProperty2: {'n_estimators': 519, 'learning_rate': 0.026370721071053697, 'num_leaves': 38, 'max_depth': 11, 'min_child_samples': 27, 'subsample': 0.943139622650004, 'colsample_bytree': 0.8685742771561602}\n"
     ]
    },
    {
     "name": "stderr",
     "output_type": "stream",
     "text": [
      "[I 2025-07-17 14:12:17,067] A new study created in memory with name: no-name-36527e7e-3add-4572-b43e-630ac332c8ef\n"
     ]
    },
    {
     "name": "stdout",
     "output_type": "stream",
     "text": [
      "Saved best model for BlendProperty2\n",
      "\n",
      "--- Tuning and Training for BlendProperty3 ---\n"
     ]
    },
    {
     "name": "stderr",
     "output_type": "stream",
     "text": [
      "[I 2025-07-17 14:12:21,724] Trial 0 finished with value: 1.1007107427977512 and parameters: {'n_estimators': 837, 'learning_rate': 0.053002709971092, 'num_leaves': 49, 'max_depth': 9, 'min_child_samples': 98, 'subsample': 0.7618744725166077, 'colsample_bytree': 0.720109188125557}. Best is trial 0 with value: 1.1007107427977512.\n",
      "[I 2025-07-17 14:12:25,144] Trial 1 finished with value: 1.5085883395989126 and parameters: {'n_estimators': 758, 'learning_rate': 0.23391418771525496, 'num_leaves': 22, 'max_depth': 12, 'min_child_samples': 42, 'subsample': 0.979118771199979, 'colsample_bytree': 0.8069144241135642}. Best is trial 0 with value: 1.1007107427977512.\n",
      "[I 2025-07-17 14:12:26,413] Trial 2 finished with value: 1.2478980075637298 and parameters: {'n_estimators': 450, 'learning_rate': 0.277271811146079, 'num_leaves': 86, 'max_depth': 9, 'min_child_samples': 85, 'subsample': 0.8753835230840616, 'colsample_bytree': 0.6017563836928274}. Best is trial 0 with value: 1.1007107427977512.\n",
      "[I 2025-07-17 14:12:30,141] Trial 3 finished with value: 1.300797172730853 and parameters: {'n_estimators': 298, 'learning_rate': 0.08588775922047455, 'num_leaves': 245, 'max_depth': 12, 'min_child_samples': 77, 'subsample': 0.9654702536995556, 'colsample_bytree': 0.9690141696449927}. Best is trial 0 with value: 1.1007107427977512.\n",
      "[I 2025-07-17 14:12:31,757] Trial 4 finished with value: 1.3427765119511563 and parameters: {'n_estimators': 623, 'learning_rate': 0.24046845745571147, 'num_leaves': 123, 'max_depth': 9, 'min_child_samples': 54, 'subsample': 0.6740397066767976, 'colsample_bytree': 0.6942506909338962}. Best is trial 0 with value: 1.1007107427977512.\n",
      "[I 2025-07-17 14:12:39,227] Trial 5 finished with value: 1.1804997745357515 and parameters: {'n_estimators': 813, 'learning_rate': 0.02096636473795172, 'num_leaves': 149, 'max_depth': 4, 'min_child_samples': 26, 'subsample': 0.7813732974759968, 'colsample_bytree': 0.6207100691312866}. Best is trial 0 with value: 1.1007107427977512.\n",
      "[I 2025-07-17 14:12:41,915] Trial 6 finished with value: 1.3021709300160622 and parameters: {'n_estimators': 905, 'learning_rate': 0.22926210114599738, 'num_leaves': 82, 'max_depth': 9, 'min_child_samples': 42, 'subsample': 0.6314191230469689, 'colsample_bytree': 0.9912923305810389}. Best is trial 0 with value: 1.1007107427977512.\n",
      "[I 2025-07-17 14:12:46,347] Trial 7 finished with value: 1.3133505008575876 and parameters: {'n_estimators': 740, 'learning_rate': 0.14101002311191665, 'num_leaves': 251, 'max_depth': 10, 'min_child_samples': 47, 'subsample': 0.8277603861391745, 'colsample_bytree': 0.9167228027595662}. Best is trial 0 with value: 1.1007107427977512.\n",
      "[I 2025-07-17 14:12:50,518] Trial 8 finished with value: 1.0114214512547515 and parameters: {'n_estimators': 297, 'learning_rate': 0.03174589377129991, 'num_leaves': 179, 'max_depth': 5, 'min_child_samples': 46, 'subsample': 0.6647408922388398, 'colsample_bytree': 0.643793879821831}. Best is trial 8 with value: 1.0114214512547515.\n",
      "[I 2025-07-17 14:12:54,041] Trial 9 finished with value: 0.9214301181248317 and parameters: {'n_estimators': 974, 'learning_rate': 0.1367991300232098, 'num_leaves': 157, 'max_depth': 8, 'min_child_samples': 56, 'subsample': 0.8061543443320504, 'colsample_bytree': 0.8536148454932477}. Best is trial 9 with value: 0.9214301181248317.\n",
      "[I 2025-07-17 14:12:59,583] Trial 10 finished with value: 1.3155886353597237 and parameters: {'n_estimators': 984, 'learning_rate': 0.15200240152176137, 'num_leaves': 195, 'max_depth': 6, 'min_child_samples': 9, 'subsample': 0.8667019902854957, 'colsample_bytree': 0.8412309794883301}. Best is trial 9 with value: 0.9214301181248317.\n",
      "[I 2025-07-17 14:13:01,928] Trial 11 finished with value: 1.166977888210992 and parameters: {'n_estimators': 163, 'learning_rate': 0.10614754240520885, 'num_leaves': 202, 'max_depth': 6, 'min_child_samples': 65, 'subsample': 0.7162574544564517, 'colsample_bytree': 0.8738053130435354}. Best is trial 9 with value: 0.9214301181248317.\n",
      "[I 2025-07-17 14:13:03,181] Trial 12 finished with value: 1.3506832143778713 and parameters: {'n_estimators': 429, 'learning_rate': 0.19324090713245518, 'num_leaves': 295, 'max_depth': 3, 'min_child_samples': 63, 'subsample': 0.6202850069535901, 'colsample_bytree': 0.7357919916165171}. Best is trial 9 with value: 0.9214301181248317.\n",
      "[I 2025-07-17 14:13:05,291] Trial 13 finished with value: 1.2455310334620722 and parameters: {'n_estimators': 106, 'learning_rate': 0.03259169698790301, 'num_leaves': 176, 'max_depth': 6, 'min_child_samples': 30, 'subsample': 0.7199480142249951, 'colsample_bytree': 0.7748204543459084}. Best is trial 9 with value: 0.9214301181248317.\n",
      "[I 2025-07-17 14:13:15,683] Trial 14 finished with value: 1.1725100226563296 and parameters: {'n_estimators': 593, 'learning_rate': 0.0940663145122476, 'num_leaves': 145, 'max_depth': 7, 'min_child_samples': 25, 'subsample': 0.9154492203803655, 'colsample_bytree': 0.6644971182109881}. Best is trial 9 with value: 0.9214301181248317.\n",
      "[I 2025-07-17 14:13:17,406] Trial 15 finished with value: 1.2542213398021702 and parameters: {'n_estimators': 274, 'learning_rate': 0.18716310512117382, 'num_leaves': 116, 'max_depth': 4, 'min_child_samples': 60, 'subsample': 0.8187998168607118, 'colsample_bytree': 0.9067738301567059}. Best is trial 9 with value: 0.9214301181248317.\n",
      "[I 2025-07-17 14:13:21,904] Trial 16 finished with value: 1.2119159695647823 and parameters: {'n_estimators': 454, 'learning_rate': 0.05825026330467261, 'num_leaves': 228, 'max_depth': 5, 'min_child_samples': 75, 'subsample': 0.7414238600580618, 'colsample_bytree': 0.7987323235560583}. Best is trial 9 with value: 0.9214301181248317.\n",
      "[I 2025-07-17 14:13:30,584] Trial 17 finished with value: 1.4542865962120435 and parameters: {'n_estimators': 316, 'learning_rate': 0.12396442535916316, 'num_leaves': 171, 'max_depth': 7, 'min_child_samples': 5, 'subsample': 0.6661814189408632, 'colsample_bytree': 0.7671963266974393}. Best is trial 9 with value: 0.9214301181248317.\n",
      "[I 2025-07-17 14:13:36,974] Trial 18 finished with value: 1.0865757661148994 and parameters: {'n_estimators': 669, 'learning_rate': 0.181988727616246, 'num_leaves': 212, 'max_depth': 8, 'min_child_samples': 34, 'subsample': 0.6858112296546475, 'colsample_bytree': 0.6496352283511668}. Best is trial 9 with value: 0.9214301181248317.\n",
      "[I 2025-07-17 14:13:42,506] Trial 19 finished with value: 1.1439096618005515 and parameters: {'n_estimators': 529, 'learning_rate': 0.06847662692717457, 'num_leaves': 278, 'max_depth': 11, 'min_child_samples': 52, 'subsample': 0.6031340957761742, 'colsample_bytree': 0.832346263856803}. Best is trial 9 with value: 0.9214301181248317.\n",
      "[I 2025-07-17 14:13:45,790] Trial 20 finished with value: 1.0487716246665806 and parameters: {'n_estimators': 212, 'learning_rate': 0.11376133181074935, 'num_leaves': 117, 'max_depth': 5, 'min_child_samples': 15, 'subsample': 0.8528185796744431, 'colsample_bytree': 0.925886957727261}. Best is trial 9 with value: 0.9214301181248317.\n",
      "[I 2025-07-17 14:13:48,382] Trial 21 finished with value: 1.370568246414972 and parameters: {'n_estimators': 205, 'learning_rate': 0.12036683460606175, 'num_leaves': 100, 'max_depth': 5, 'min_child_samples': 17, 'subsample': 0.8576316945151368, 'colsample_bytree': 0.9371575709301615}. Best is trial 9 with value: 0.9214301181248317.\n",
      "[I 2025-07-17 14:13:50,918] Trial 22 finished with value: 1.4146002512686533 and parameters: {'n_estimators': 364, 'learning_rate': 0.011750419366665127, 'num_leaves': 134, 'max_depth': 3, 'min_child_samples': 16, 'subsample': 0.9181056047892523, 'colsample_bytree': 0.8692236617988216}. Best is trial 9 with value: 0.9214301181248317.\n",
      "[I 2025-07-17 14:13:52,917] Trial 23 finished with value: 1.2985806727401048 and parameters: {'n_estimators': 218, 'learning_rate': 0.13825135018854826, 'num_leaves': 170, 'max_depth': 5, 'min_child_samples': 37, 'subsample': 0.8068113509564213, 'colsample_bytree': 0.8770729187169994}. Best is trial 9 with value: 0.9214301181248317.\n",
      "[I 2025-07-17 14:13:54,815] Trial 24 finished with value: 1.2094963056002714 and parameters: {'n_estimators': 380, 'learning_rate': 0.16257461681610258, 'num_leaves': 104, 'max_depth': 8, 'min_child_samples': 69, 'subsample': 0.9125335937017794, 'colsample_bytree': 0.9649830531051244}. Best is trial 9 with value: 0.9214301181248317.\n",
      "[I 2025-07-17 14:14:00,988] Trial 25 finished with value: 1.1471972318662171 and parameters: {'n_estimators': 531, 'learning_rate': 0.038085178455109836, 'num_leaves': 58, 'max_depth': 4, 'min_child_samples': 54, 'subsample': 0.7815771557853556, 'colsample_bytree': 0.9041378277261204}. Best is trial 9 with value: 0.9214301181248317.\n",
      "[I 2025-07-17 14:14:04,189] Trial 26 finished with value: 1.1382237989105841 and parameters: {'n_estimators': 112, 'learning_rate': 0.08344280023187024, 'num_leaves': 187, 'max_depth': 7, 'min_child_samples': 19, 'subsample': 0.8326085460031535, 'colsample_bytree': 0.8407193240414242}. Best is trial 9 with value: 0.9214301181248317.\n",
      "[I 2025-07-17 14:14:07,012] Trial 27 finished with value: 1.0869338903839605 and parameters: {'n_estimators': 243, 'learning_rate': 0.10989527719305814, 'num_leaves': 161, 'max_depth': 6, 'min_child_samples': 87, 'subsample': 0.8880094365538711, 'colsample_bytree': 0.9423267600848266}. Best is trial 9 with value: 0.9214301181248317.\n",
      "[I 2025-07-17 14:14:13,987] Trial 28 finished with value: 1.089743811063494 and parameters: {'n_estimators': 184, 'learning_rate': 0.1666375198652543, 'num_leaves': 219, 'max_depth': 8, 'min_child_samples': 45, 'subsample': 0.7553731599946502, 'colsample_bytree': 0.7451960360683255}. Best is trial 9 with value: 0.9214301181248317.\n",
      "[I 2025-07-17 14:14:18,472] Trial 29 finished with value: 1.0942938332419823 and parameters: {'n_estimators': 985, 'learning_rate': 0.06839720511601255, 'num_leaves': 66, 'max_depth': 5, 'min_child_samples': 93, 'subsample': 0.7923858554758445, 'colsample_bytree': 0.7039011413547007}. Best is trial 9 with value: 0.9214301181248317.\n",
      "[I 2025-07-17 14:14:19,969] Trial 30 finished with value: 1.4296523837970392 and parameters: {'n_estimators': 380, 'learning_rate': 0.2109579111897873, 'num_leaves': 131, 'max_depth': 4, 'min_child_samples': 36, 'subsample': 0.949127205798747, 'colsample_bytree': 0.8113345408232694}. Best is trial 9 with value: 0.9214301181248317.\n",
      "[I 2025-07-17 14:14:23,761] Trial 31 finished with value: 1.3881278520438274 and parameters: {'n_estimators': 683, 'learning_rate': 0.18336847824010488, 'num_leaves': 208, 'max_depth': 8, 'min_child_samples': 32, 'subsample': 0.6598142840304027, 'colsample_bytree': 0.642334760092318}. Best is trial 9 with value: 0.9214301181248317.\n",
      "[I 2025-07-17 14:14:25,604] Trial 32 finished with value: 1.3868570364419035 and parameters: {'n_estimators': 889, 'learning_rate': 0.20407279025900965, 'num_leaves': 238, 'max_depth': 10, 'min_child_samples': 50, 'subsample': 0.7173387048030427, 'colsample_bytree': 0.6717527363339904}. Best is trial 9 with value: 0.9214301181248317.\n",
      "[I 2025-07-17 14:14:28,662] Trial 33 finished with value: 1.3207411191956842 and parameters: {'n_estimators': 700, 'learning_rate': 0.1336720530585416, 'num_leaves': 24, 'max_depth': 7, 'min_child_samples': 37, 'subsample': 0.7055246809019615, 'colsample_bytree': 0.6386388417897544}. Best is trial 9 with value: 0.9214301181248317.\n",
      "[I 2025-07-17 14:14:32,775] Trial 34 finished with value: 1.7451749358314808 and parameters: {'n_estimators': 820, 'learning_rate': 0.2591410912237406, 'num_leaves': 185, 'max_depth': 10, 'min_child_samples': 22, 'subsample': 0.6886875187568134, 'colsample_bytree': 0.6054739710224452}. Best is trial 9 with value: 0.9214301181248317.\n",
      "[I 2025-07-17 14:14:35,688] Trial 35 finished with value: 1.233629056385547 and parameters: {'n_estimators': 489, 'learning_rate': 0.1576490017544844, 'num_leaves': 146, 'max_depth': 9, 'min_child_samples': 57, 'subsample': 0.647817001704137, 'colsample_bytree': 0.6782328839759775}. Best is trial 9 with value: 0.9214301181248317.\n",
      "[I 2025-07-17 14:14:39,847] Trial 36 finished with value: 1.5061843786459896 and parameters: {'n_estimators': 315, 'learning_rate': 0.294292198586802, 'num_leaves': 212, 'max_depth': 8, 'min_child_samples': 9, 'subsample': 0.7494296155008591, 'colsample_bytree': 0.7085412158109115}. Best is trial 9 with value: 0.9214301181248317.\n",
      "[I 2025-07-17 14:14:43,958] Trial 37 finished with value: 1.1520105261024756 and parameters: {'n_estimators': 623, 'learning_rate': 0.17803574198075584, 'num_leaves': 268, 'max_depth': 6, 'min_child_samples': 42, 'subsample': 0.6881311247889705, 'colsample_bytree': 0.642187174850535}. Best is trial 9 with value: 0.9214301181248317.\n",
      "[I 2025-07-17 14:14:48,629] Trial 38 finished with value: 1.3859975812852336 and parameters: {'n_estimators': 770, 'learning_rate': 0.21853917129853767, 'num_leaves': 161, 'max_depth': 9, 'min_child_samples': 30, 'subsample': 0.8554550460870554, 'colsample_bytree': 0.8891350006723617}. Best is trial 9 with value: 0.9214301181248317.\n",
      "[I 2025-07-17 14:14:53,778] Trial 39 finished with value: 1.1331080986845525 and parameters: {'n_estimators': 863, 'learning_rate': 0.08659960973004674, 'num_leaves': 109, 'max_depth': 7, 'min_child_samples': 73, 'subsample': 0.7725730435025199, 'colsample_bytree': 0.9318674274345967}. Best is trial 9 with value: 0.9214301181248317.\n",
      "[I 2025-07-17 14:15:04,131] Trial 40 finished with value: 1.1202036440552474 and parameters: {'n_estimators': 663, 'learning_rate': 0.04186516408138756, 'num_leaves': 86, 'max_depth': 11, 'min_child_samples': 47, 'subsample': 0.8406046694266393, 'colsample_bytree': 0.8555011451891807}. Best is trial 9 with value: 0.9214301181248317.\n",
      "[I 2025-07-17 14:15:06,908] Trial 41 finished with value: 1.324465408239539 and parameters: {'n_estimators': 275, 'learning_rate': 0.10639873422948469, 'num_leaves': 157, 'max_depth': 6, 'min_child_samples': 86, 'subsample': 0.885672501982323, 'colsample_bytree': 0.9529090373564345}. Best is trial 9 with value: 0.9214301181248317.\n",
      "[I 2025-07-17 14:15:14,000] Trial 42 finished with value: 1.3095004884374173 and parameters: {'n_estimators': 245, 'learning_rate': 0.11155665832998521, 'num_leaves': 128, 'max_depth': 5, 'min_child_samples': 98, 'subsample': 0.8862720466866926, 'colsample_bytree': 0.9991570695637324}. Best is trial 9 with value: 0.9214301181248317.\n",
      "[I 2025-07-17 14:15:16,565] Trial 43 finished with value: 1.2470923762293464 and parameters: {'n_estimators': 942, 'learning_rate': 0.14203766113956084, 'num_leaves': 194, 'max_depth': 6, 'min_child_samples': 80, 'subsample': 0.9421422171120342, 'colsample_bytree': 0.9772740121001023}. Best is trial 9 with value: 0.9214301181248317.\n",
      "[I 2025-07-17 14:15:19,742] Trial 44 finished with value: 1.141884756570273 and parameters: {'n_estimators': 354, 'learning_rate': 0.0968099907195751, 'num_leaves': 156, 'max_depth': 8, 'min_child_samples': 83, 'subsample': 0.9963034878984484, 'colsample_bytree': 0.9258159798135103}. Best is trial 9 with value: 0.9214301181248317.\n",
      "[I 2025-07-17 14:15:21,218] Trial 45 finished with value: 1.1854093733174305 and parameters: {'n_estimators': 147, 'learning_rate': 0.1249674664484954, 'num_leaves': 138, 'max_depth': 4, 'min_child_samples': 93, 'subsample': 0.8054779003890378, 'colsample_bytree': 0.9513223743882013}. Best is trial 9 with value: 0.9214301181248317.\n",
      "[I 2025-07-17 14:15:23,530] Trial 46 finished with value: 1.104042180591803 and parameters: {'n_estimators': 772, 'learning_rate': 0.14897503375579368, 'num_leaves': 183, 'max_depth': 6, 'min_child_samples': 65, 'subsample': 0.6385986497484856, 'colsample_bytree': 0.6233559155725255}. Best is trial 9 with value: 0.9214301181248317.\n",
      "[I 2025-07-17 14:15:28,557] Trial 47 finished with value: 1.1155157522839498 and parameters: {'n_estimators': 242, 'learning_rate': 0.16802496553264365, 'num_leaves': 227, 'max_depth': 7, 'min_child_samples': 12, 'subsample': 0.9005600777296019, 'colsample_bytree': 0.9001680323611723}. Best is trial 9 with value: 0.9214301181248317.\n",
      "[I 2025-07-17 14:15:30,654] Trial 48 finished with value: 1.1893251650675891 and parameters: {'n_estimators': 145, 'learning_rate': 0.07283733545495169, 'num_leaves': 165, 'max_depth': 5, 'min_child_samples': 26, 'subsample': 0.8488686117668107, 'colsample_bytree': 0.7304813430887237}. Best is trial 9 with value: 0.9214301181248317.\n",
      "[I 2025-07-17 14:15:31,805] Trial 49 finished with value: 1.358498129876427 and parameters: {'n_estimators': 593, 'learning_rate': 0.2437307751359588, 'num_leaves': 119, 'max_depth': 3, 'min_child_samples': 57, 'subsample': 0.8765336849969573, 'colsample_bytree': 0.8163129196241522}. Best is trial 9 with value: 0.9214301181248317.\n"
     ]
    },
    {
     "name": "stdout",
     "output_type": "stream",
     "text": [
      "Best MAPE for BlendProperty3: 0.9214301181248317\n",
      "Best hyperparameters for BlendProperty3: {'n_estimators': 974, 'learning_rate': 0.1367991300232098, 'num_leaves': 157, 'max_depth': 8, 'min_child_samples': 56, 'subsample': 0.8061543443320504, 'colsample_bytree': 0.8536148454932477}\n"
     ]
    },
    {
     "name": "stderr",
     "output_type": "stream",
     "text": [
      "[I 2025-07-17 14:15:34,032] A new study created in memory with name: no-name-ba827187-1bfc-4442-bc68-8f493baf6743\n"
     ]
    },
    {
     "name": "stdout",
     "output_type": "stream",
     "text": [
      "Saved best model for BlendProperty3\n",
      "\n",
      "--- Tuning and Training for BlendProperty4 ---\n"
     ]
    },
    {
     "name": "stderr",
     "output_type": "stream",
     "text": [
      "[I 2025-07-17 14:15:37,409] Trial 0 finished with value: 1.1607939720902967 and parameters: {'n_estimators': 426, 'learning_rate': 0.20295406347202696, 'num_leaves': 155, 'max_depth': 9, 'min_child_samples': 25, 'subsample': 0.976133052635733, 'colsample_bytree': 0.8303869357937596}. Best is trial 0 with value: 1.1607939720902967.\n",
      "[I 2025-07-17 14:15:40,944] Trial 1 finished with value: 0.8111239328270822 and parameters: {'n_estimators': 305, 'learning_rate': 0.10552344234813717, 'num_leaves': 32, 'max_depth': 11, 'min_child_samples': 71, 'subsample': 0.6175942807848754, 'colsample_bytree': 0.9245618088028948}. Best is trial 1 with value: 0.8111239328270822.\n",
      "[I 2025-07-17 14:15:43,520] Trial 2 finished with value: 1.3285793440582974 and parameters: {'n_estimators': 132, 'learning_rate': 0.16585814298020604, 'num_leaves': 27, 'max_depth': 12, 'min_child_samples': 48, 'subsample': 0.7553824372024359, 'colsample_bytree': 0.6094780384094417}. Best is trial 1 with value: 0.8111239328270822.\n",
      "[I 2025-07-17 14:15:44,684] Trial 3 finished with value: 0.8546984450812172 and parameters: {'n_estimators': 142, 'learning_rate': 0.13140005668483767, 'num_leaves': 165, 'max_depth': 5, 'min_child_samples': 82, 'subsample': 0.7693388719583514, 'colsample_bytree': 0.6109099116380083}. Best is trial 1 with value: 0.8111239328270822.\n",
      "[I 2025-07-17 14:15:49,297] Trial 4 finished with value: 0.7838840560940749 and parameters: {'n_estimators': 535, 'learning_rate': 0.07093839528326693, 'num_leaves': 266, 'max_depth': 5, 'min_child_samples': 80, 'subsample': 0.9099000505047089, 'colsample_bytree': 0.8790037525297283}. Best is trial 4 with value: 0.7838840560940749.\n",
      "[I 2025-07-17 14:15:50,377] Trial 5 finished with value: 1.2186224645120194 and parameters: {'n_estimators': 198, 'learning_rate': 0.24463287306899972, 'num_leaves': 88, 'max_depth': 3, 'min_child_samples': 22, 'subsample': 0.7146039975546533, 'colsample_bytree': 0.8347956328770352}. Best is trial 4 with value: 0.7838840560940749.\n",
      "[I 2025-07-17 14:15:53,059] Trial 6 finished with value: 0.9027811828593441 and parameters: {'n_estimators': 287, 'learning_rate': 0.08855196921241246, 'num_leaves': 254, 'max_depth': 4, 'min_child_samples': 12, 'subsample': 0.6462321652520817, 'colsample_bytree': 0.7631121657403553}. Best is trial 4 with value: 0.7838840560940749.\n",
      "[I 2025-07-17 14:15:55,099] Trial 7 finished with value: 0.8157162540843187 and parameters: {'n_estimators': 803, 'learning_rate': 0.16919584772357218, 'num_leaves': 32, 'max_depth': 3, 'min_child_samples': 61, 'subsample': 0.954758700175458, 'colsample_bytree': 0.857624032654908}. Best is trial 4 with value: 0.7838840560940749.\n",
      "[I 2025-07-17 14:15:58,720] Trial 8 finished with value: 0.8387658265183633 and parameters: {'n_estimators': 332, 'learning_rate': 0.25372881762022825, 'num_leaves': 82, 'max_depth': 11, 'min_child_samples': 62, 'subsample': 0.845472933189967, 'colsample_bytree': 0.6782287533354838}. Best is trial 4 with value: 0.7838840560940749.\n",
      "[I 2025-07-17 14:16:10,582] Trial 9 finished with value: 0.8069323798762875 and parameters: {'n_estimators': 987, 'learning_rate': 0.04509109040027647, 'num_leaves': 251, 'max_depth': 7, 'min_child_samples': 52, 'subsample': 0.9024138645592158, 'colsample_bytree': 0.9696048058551578}. Best is trial 4 with value: 0.7838840560940749.\n",
      "[I 2025-07-17 14:16:20,568] Trial 10 finished with value: 0.7127369899075895 and parameters: {'n_estimators': 625, 'learning_rate': 0.029392990744669063, 'num_leaves': 300, 'max_depth': 6, 'min_child_samples': 97, 'subsample': 0.862156478618425, 'colsample_bytree': 0.7400639492977422}. Best is trial 10 with value: 0.7127369899075895.\n",
      "[I 2025-07-17 14:16:26,780] Trial 11 finished with value: 0.6846945900795769 and parameters: {'n_estimators': 585, 'learning_rate': 0.0329689075828376, 'num_leaves': 298, 'max_depth': 6, 'min_child_samples': 99, 'subsample': 0.8562792715303671, 'colsample_bytree': 0.742503648531051}. Best is trial 11 with value: 0.6846945900795769.\n",
      "[I 2025-07-17 14:16:33,223] Trial 12 finished with value: 0.7438241222669808 and parameters: {'n_estimators': 686, 'learning_rate': 0.016676661993569514, 'num_leaves': 298, 'max_depth': 7, 'min_child_samples': 99, 'subsample': 0.8496864372266368, 'colsample_bytree': 0.7408231940730011}. Best is trial 11 with value: 0.6846945900795769.\n",
      "[I 2025-07-17 14:16:40,637] Trial 13 finished with value: 0.7324609360489256 and parameters: {'n_estimators': 650, 'learning_rate': 0.012226998242485815, 'num_leaves': 210, 'max_depth': 8, 'min_child_samples': 99, 'subsample': 0.8321903833636547, 'colsample_bytree': 0.7110544439078993}. Best is trial 11 with value: 0.6846945900795769.\n",
      "[I 2025-07-17 14:16:46,282] Trial 14 finished with value: 0.7721115876976067 and parameters: {'n_estimators': 533, 'learning_rate': 0.059708546803790105, 'num_leaves': 294, 'max_depth': 6, 'min_child_samples': 86, 'subsample': 0.8962302970496981, 'colsample_bytree': 0.7836318045224695}. Best is trial 11 with value: 0.6846945900795769.\n",
      "[I 2025-07-17 14:16:50,128] Trial 15 finished with value: 0.8667701409582371 and parameters: {'n_estimators': 801, 'learning_rate': 0.10493279412215371, 'num_leaves': 209, 'max_depth': 9, 'min_child_samples': 100, 'subsample': 0.8042211909818582, 'colsample_bytree': 0.6736155912344312}. Best is trial 11 with value: 0.6846945900795769.\n",
      "[I 2025-07-17 14:16:51,652] Trial 16 finished with value: 1.3583638190301683 and parameters: {'n_estimators': 665, 'learning_rate': 0.2988637522010865, 'num_leaves': 220, 'max_depth': 6, 'min_child_samples': 39, 'subsample': 0.7224275897795502, 'colsample_bytree': 0.7145529063853471}. Best is trial 11 with value: 0.6846945900795769.\n",
      "[I 2025-07-17 14:16:55,256] Trial 17 finished with value: 0.7487077838381644 and parameters: {'n_estimators': 454, 'learning_rate': 0.04047828381159607, 'num_leaves': 158, 'max_depth': 5, 'min_child_samples': 88, 'subsample': 0.9423653350091291, 'colsample_bytree': 0.6568493894158063}. Best is trial 11 with value: 0.6846945900795769.\n",
      "[I 2025-07-17 14:16:58,059] Trial 18 finished with value: 0.8336253328833874 and parameters: {'n_estimators': 825, 'learning_rate': 0.13948422452244955, 'num_leaves': 274, 'max_depth': 8, 'min_child_samples': 70, 'subsample': 0.8733946099277325, 'colsample_bytree': 0.795760139546275}. Best is trial 11 with value: 0.6846945900795769.\n",
      "[I 2025-07-17 14:17:03,368] Trial 19 finished with value: 0.7369227482732864 and parameters: {'n_estimators': 599, 'learning_rate': 0.029410638464575627, 'num_leaves': 232, 'max_depth': 6, 'min_child_samples': 91, 'subsample': 0.9896575750325243, 'colsample_bytree': 0.7406735220810724}. Best is trial 11 with value: 0.6846945900795769.\n",
      "[I 2025-07-17 14:17:14,670] Trial 20 finished with value: 0.8725515807631862 and parameters: {'n_estimators': 908, 'learning_rate': 0.0750986369371271, 'num_leaves': 188, 'max_depth': 9, 'min_child_samples': 75, 'subsample': 0.805022180002592, 'colsample_bytree': 0.9000057434349225}. Best is trial 11 with value: 0.6846945900795769.\n",
      "[I 2025-07-17 14:17:22,975] Trial 21 finished with value: 0.715583947476609 and parameters: {'n_estimators': 683, 'learning_rate': 0.017763268804316314, 'num_leaves': 296, 'max_depth': 8, 'min_child_samples': 94, 'subsample': 0.8323491941960874, 'colsample_bytree': 0.7054674707594369}. Best is trial 11 with value: 0.6846945900795769.\n",
      "[I 2025-07-17 14:17:28,535] Trial 22 finished with value: 0.6916364433846125 and parameters: {'n_estimators': 741, 'learning_rate': 0.04737266705067799, 'num_leaves': 300, 'max_depth': 7, 'min_child_samples': 90, 'subsample': 0.8757971008361002, 'colsample_bytree': 0.7033360502607829}. Best is trial 11 with value: 0.6846945900795769.\n",
      "[I 2025-07-17 14:17:34,037] Trial 23 finished with value: 0.5986820898028309 and parameters: {'n_estimators': 767, 'learning_rate': 0.05200479393639115, 'num_leaves': 274, 'max_depth': 7, 'min_child_samples': 90, 'subsample': 0.9275360121910888, 'colsample_bytree': 0.7609326701195802}. Best is trial 23 with value: 0.5986820898028309.\n",
      "[I 2025-07-17 14:17:41,225] Trial 24 finished with value: 0.8183232693622683 and parameters: {'n_estimators': 751, 'learning_rate': 0.057017149002337536, 'num_leaves': 272, 'max_depth': 7, 'min_child_samples': 79, 'subsample': 0.936272470100372, 'colsample_bytree': 0.6413197181461879}. Best is trial 23 with value: 0.5986820898028309.\n",
      "[I 2025-07-17 14:17:43,708] Trial 25 finished with value: 0.8624909464918522 and parameters: {'n_estimators': 928, 'learning_rate': 0.09843110672344735, 'num_leaves': 240, 'max_depth': 4, 'min_child_samples': 86, 'subsample': 0.9194277935104382, 'colsample_bytree': 0.7740888173535179}. Best is trial 23 with value: 0.5986820898028309.\n",
      "[I 2025-07-17 14:17:47,616] Trial 26 finished with value: 0.7236029080592955 and parameters: {'n_estimators': 744, 'learning_rate': 0.12638727952184597, 'num_leaves': 267, 'max_depth': 10, 'min_child_samples': 62, 'subsample': 0.888317177704769, 'colsample_bytree': 0.8105285594741212}. Best is trial 23 with value: 0.5986820898028309.\n",
      "[I 2025-07-17 14:17:51,519] Trial 27 finished with value: 0.685749920385588 and parameters: {'n_estimators': 880, 'learning_rate': 0.08533494909287935, 'num_leaves': 279, 'max_depth': 7, 'min_child_samples': 89, 'subsample': 0.7689951325920338, 'colsample_bytree': 0.7161174636843535}. Best is trial 23 with value: 0.5986820898028309.\n",
      "[I 2025-07-17 14:17:55,282] Trial 28 finished with value: 0.6313447665998003 and parameters: {'n_estimators': 837, 'learning_rate': 0.07999716296328892, 'num_leaves': 130, 'max_depth': 5, 'min_child_samples': 69, 'subsample': 0.685447813348008, 'colsample_bytree': 0.7618973236024403}. Best is trial 23 with value: 0.5986820898028309.\n",
      "[I 2025-07-17 14:17:56,930] Trial 29 finished with value: 0.930455792582095 and parameters: {'n_estimators': 439, 'learning_rate': 0.19493873195714617, 'num_leaves': 115, 'max_depth': 4, 'min_child_samples': 40, 'subsample': 0.6827706978477852, 'colsample_bytree': 0.8114404650981147}. Best is trial 23 with value: 0.5986820898028309.\n",
      "[I 2025-07-17 14:18:00,590] Trial 30 finished with value: 0.8470210446681463 and parameters: {'n_estimators': 575, 'learning_rate': 0.11753415565793318, 'num_leaves': 121, 'max_depth': 5, 'min_child_samples': 68, 'subsample': 0.6007607239460065, 'colsample_bytree': 0.8298595313691188}. Best is trial 23 with value: 0.5986820898028309.\n",
      "[I 2025-07-17 14:18:04,928] Trial 31 finished with value: 0.7902240785866432 and parameters: {'n_estimators': 874, 'learning_rate': 0.07395975823867446, 'num_leaves': 173, 'max_depth': 6, 'min_child_samples': 83, 'subsample': 0.7724262499813321, 'colsample_bytree': 0.7574224925434053}. Best is trial 23 with value: 0.5986820898028309.\n",
      "[I 2025-07-17 14:18:15,329] Trial 32 finished with value: 0.650529819488187 and parameters: {'n_estimators': 973, 'learning_rate': 0.08781189443395387, 'num_leaves': 146, 'max_depth': 8, 'min_child_samples': 77, 'subsample': 0.6909774241859459, 'colsample_bytree': 0.7272540722930756}. Best is trial 23 with value: 0.5986820898028309.\n",
      "[I 2025-07-17 14:18:22,074] Trial 33 finished with value: 0.7483325372128109 and parameters: {'n_estimators': 968, 'learning_rate': 0.06231842679278585, 'num_leaves': 132, 'max_depth': 8, 'min_child_samples': 75, 'subsample': 0.6501908184022053, 'colsample_bytree': 0.7509655477416747}. Best is trial 23 with value: 0.5986820898028309.\n",
      "[I 2025-07-17 14:18:25,370] Trial 34 finished with value: 0.9380636821097582 and parameters: {'n_estimators': 851, 'learning_rate': 0.1543367794157763, 'num_leaves': 140, 'max_depth': 10, 'min_child_samples': 76, 'subsample': 0.7151151379191804, 'colsample_bytree': 0.7848362845071538}. Best is trial 23 with value: 0.5986820898028309.\n",
      "[I 2025-07-17 14:18:27,798] Trial 35 finished with value: 0.7829396963889111 and parameters: {'n_estimators': 940, 'learning_rate': 0.11321881192191585, 'num_leaves': 100, 'max_depth': 5, 'min_child_samples': 68, 'subsample': 0.6845410804251248, 'colsample_bytree': 0.6918580839397677}. Best is trial 23 with value: 0.5986820898028309.\n",
      "[I 2025-07-17 14:18:32,511] Trial 36 finished with value: 0.9662835402034821 and parameters: {'n_estimators': 999, 'learning_rate': 0.0849087541231723, 'num_leaves': 73, 'max_depth': 9, 'min_child_samples': 57, 'subsample': 0.7395313192654044, 'colsample_bytree': 0.731065116035305}. Best is trial 23 with value: 0.5986820898028309.\n",
      "[I 2025-07-17 14:18:41,570] Trial 37 finished with value: 0.6231475009510989 and parameters: {'n_estimators': 777, 'learning_rate': 0.036489621110553164, 'num_leaves': 185, 'max_depth': 5, 'min_child_samples': 94, 'subsample': 0.6764869306025203, 'colsample_bytree': 0.6354563920437326}. Best is trial 23 with value: 0.5986820898028309.\n",
      "[I 2025-07-17 14:18:44,263] Trial 38 finished with value: 0.7560568724403482 and parameters: {'n_estimators': 775, 'learning_rate': 0.09757070926435593, 'num_leaves': 194, 'max_depth': 4, 'min_child_samples': 82, 'subsample': 0.6415191364995886, 'colsample_bytree': 0.6337251131485012}. Best is trial 23 with value: 0.5986820898028309.\n",
      "[I 2025-07-17 14:18:46,616] Trial 39 finished with value: 1.0190636143049194 and parameters: {'n_estimators': 842, 'learning_rate': 0.14189065436305562, 'num_leaves': 56, 'max_depth': 3, 'min_child_samples': 72, 'subsample': 0.6817536849230758, 'colsample_bytree': 0.6054887401745976}. Best is trial 23 with value: 0.5986820898028309.\n",
      "[I 2025-07-17 14:18:52,507] Trial 40 finished with value: 0.6731698703458778 and parameters: {'n_estimators': 891, 'learning_rate': 0.05005105328210626, 'num_leaves': 141, 'max_depth': 5, 'min_child_samples': 45, 'subsample': 0.6687315606189337, 'colsample_bytree': 0.8430940443592568}. Best is trial 23 with value: 0.5986820898028309.\n",
      "[I 2025-07-17 14:18:58,079] Trial 41 finished with value: 0.7826441281199449 and parameters: {'n_estimators': 904, 'learning_rate': 0.052828934461033546, 'num_leaves': 144, 'max_depth': 5, 'min_child_samples': 44, 'subsample': 0.667193779280433, 'colsample_bytree': 0.8478151941694473}. Best is trial 23 with value: 0.5986820898028309.\n",
      "[I 2025-07-17 14:19:03,171] Trial 42 finished with value: 0.7661654962896363 and parameters: {'n_estimators': 950, 'learning_rate': 0.07210643918343926, 'num_leaves': 181, 'max_depth': 5, 'min_child_samples': 48, 'subsample': 0.6339539808656633, 'colsample_bytree': 0.9400042457138282}. Best is trial 23 with value: 0.5986820898028309.\n",
      "[I 2025-07-17 14:19:14,956] Trial 43 finished with value: 0.7695667254465899 and parameters: {'n_estimators': 709, 'learning_rate': 0.039687205373612575, 'num_leaves': 110, 'max_depth': 4, 'min_child_samples': 35, 'subsample': 0.6950308512984796, 'colsample_bytree': 0.8739711190429182}. Best is trial 23 with value: 0.5986820898028309.\n",
      "[I 2025-07-17 14:19:34,058] Trial 44 finished with value: 0.7300602701174368 and parameters: {'n_estimators': 794, 'learning_rate': 0.02653828770479669, 'num_leaves': 151, 'max_depth': 10, 'min_child_samples': 30, 'subsample': 0.6643572859652286, 'colsample_bytree': 0.8225107052916762}. Best is trial 23 with value: 0.5986820898028309.\n",
      "[I 2025-07-17 14:19:38,032] Trial 45 finished with value: 0.8210028381445948 and parameters: {'n_estimators': 886, 'learning_rate': 0.06227090237872457, 'num_leaves': 132, 'max_depth': 3, 'min_child_samples': 8, 'subsample': 0.6111758308961176, 'colsample_bytree': 0.7741087444499906}. Best is trial 23 with value: 0.5986820898028309.\n",
      "[I 2025-07-17 14:19:52,298] Trial 46 finished with value: 0.9011069208731468 and parameters: {'n_estimators': 838, 'learning_rate': 0.08306986253289202, 'num_leaves': 166, 'max_depth': 12, 'min_child_samples': 21, 'subsample': 0.7470210052647934, 'colsample_bytree': 0.621647057452058}. Best is trial 23 with value: 0.5986820898028309.\n",
      "[I 2025-07-17 14:19:53,574] Trial 47 finished with value: 0.9837871546322425 and parameters: {'n_estimators': 492, 'learning_rate': 0.18859961175623302, 'num_leaves': 125, 'max_depth': 4, 'min_child_samples': 56, 'subsample': 0.7268615557556689, 'colsample_bytree': 0.8553204116545567}. Best is trial 23 with value: 0.5986820898028309.\n",
      "[I 2025-07-17 14:19:57,480] Trial 48 finished with value: 0.6841697087422338 and parameters: {'n_estimators': 343, 'learning_rate': 0.047675170385740026, 'num_leaves': 94, 'max_depth': 6, 'min_child_samples': 94, 'subsample': 0.6931640689099859, 'colsample_bytree': 0.6597852933895247}. Best is trial 23 with value: 0.5986820898028309.\n",
      "[I 2025-07-17 14:19:58,699] Trial 49 finished with value: 1.1456269509571009 and parameters: {'n_estimators': 977, 'learning_rate': 0.23092817145738748, 'num_leaves': 203, 'max_depth': 5, 'min_child_samples': 94, 'subsample': 0.6253924451423932, 'colsample_bytree': 0.8794071328146238}. Best is trial 23 with value: 0.5986820898028309.\n"
     ]
    },
    {
     "name": "stdout",
     "output_type": "stream",
     "text": [
      "Best MAPE for BlendProperty4: 0.5986820898028309\n",
      "Best hyperparameters for BlendProperty4: {'n_estimators': 767, 'learning_rate': 0.05200479393639115, 'num_leaves': 274, 'max_depth': 7, 'min_child_samples': 90, 'subsample': 0.9275360121910888, 'colsample_bytree': 0.7609326701195802}\n"
     ]
    },
    {
     "name": "stderr",
     "output_type": "stream",
     "text": [
      "[I 2025-07-17 14:20:00,439] A new study created in memory with name: no-name-2265d79b-ef9e-49ac-bb35-202b6a5151e6\n"
     ]
    },
    {
     "name": "stdout",
     "output_type": "stream",
     "text": [
      "Saved best model for BlendProperty4\n",
      "\n",
      "--- Tuning and Training for BlendProperty5 ---\n"
     ]
    },
    {
     "name": "stderr",
     "output_type": "stream",
     "text": [
      "[I 2025-07-17 14:20:01,233] Trial 0 finished with value: 0.38262599817810444 and parameters: {'n_estimators': 927, 'learning_rate': 0.14950261360707878, 'num_leaves': 169, 'max_depth': 4, 'min_child_samples': 62, 'subsample': 0.9061650080033061, 'colsample_bytree': 0.9743107322469219}. Best is trial 0 with value: 0.38262599817810444.\n",
      "[I 2025-07-17 14:20:02,862] Trial 1 finished with value: 0.2953736505110126 and parameters: {'n_estimators': 412, 'learning_rate': 0.08282936627336857, 'num_leaves': 176, 'max_depth': 4, 'min_child_samples': 33, 'subsample': 0.9189521162943313, 'colsample_bytree': 0.9246606835572057}. Best is trial 1 with value: 0.2953736505110126.\n",
      "[I 2025-07-17 14:20:03,630] Trial 2 finished with value: 0.5911757460884166 and parameters: {'n_estimators': 434, 'learning_rate': 0.2857890361117174, 'num_leaves': 65, 'max_depth': 8, 'min_child_samples': 80, 'subsample': 0.6181669192328416, 'colsample_bytree': 0.6591202278002237}. Best is trial 1 with value: 0.2953736505110126.\n",
      "[I 2025-07-17 14:20:06,257] Trial 3 finished with value: 0.45408264328306336 and parameters: {'n_estimators': 811, 'learning_rate': 0.18732956791475164, 'num_leaves': 76, 'max_depth': 7, 'min_child_samples': 8, 'subsample': 0.668053292992825, 'colsample_bytree': 0.6860591925838332}. Best is trial 1 with value: 0.2953736505110126.\n",
      "[I 2025-07-17 14:20:18,910] Trial 4 finished with value: 0.24766674966734467 and parameters: {'n_estimators': 823, 'learning_rate': 0.032109787643896735, 'num_leaves': 41, 'max_depth': 8, 'min_child_samples': 34, 'subsample': 0.6110405138251508, 'colsample_bytree': 0.8810244255934254}. Best is trial 4 with value: 0.24766674966734467.\n",
      "[I 2025-07-17 14:20:20,567] Trial 5 finished with value: 0.38222039920550976 and parameters: {'n_estimators': 294, 'learning_rate': 0.18062308478345904, 'num_leaves': 211, 'max_depth': 11, 'min_child_samples': 29, 'subsample': 0.7475568837120427, 'colsample_bytree': 0.9422479565434424}. Best is trial 4 with value: 0.24766674966734467.\n",
      "[I 2025-07-17 14:20:22,312] Trial 6 finished with value: 0.4314866380861071 and parameters: {'n_estimators': 617, 'learning_rate': 0.14426520856626673, 'num_leaves': 212, 'max_depth': 8, 'min_child_samples': 96, 'subsample': 0.8547494452923136, 'colsample_bytree': 0.6061754544545586}. Best is trial 4 with value: 0.24766674966734467.\n",
      "[I 2025-07-17 14:20:23,419] Trial 7 finished with value: 0.5242588975358942 and parameters: {'n_estimators': 510, 'learning_rate': 0.23728971970260013, 'num_leaves': 151, 'max_depth': 6, 'min_child_samples': 55, 'subsample': 0.8328410907382878, 'colsample_bytree': 0.8193612754588757}. Best is trial 4 with value: 0.24766674966734467.\n",
      "[I 2025-07-17 14:20:25,727] Trial 8 finished with value: 0.45829045880737673 and parameters: {'n_estimators': 984, 'learning_rate': 0.15240867701903868, 'num_leaves': 44, 'max_depth': 10, 'min_child_samples': 27, 'subsample': 0.6023428402025212, 'colsample_bytree': 0.7029816296165224}. Best is trial 4 with value: 0.24766674966734467.\n",
      "[I 2025-07-17 14:20:27,568] Trial 9 finished with value: 0.4301471770544998 and parameters: {'n_estimators': 565, 'learning_rate': 0.2086283611993306, 'num_leaves': 223, 'max_depth': 8, 'min_child_samples': 50, 'subsample': 0.9457767067987797, 'colsample_bytree': 0.9278281877903564}. Best is trial 4 with value: 0.24766674966734467.\n",
      "[I 2025-07-17 14:21:32,809] Trial 10 finished with value: 0.33884154521659804 and parameters: {'n_estimators': 736, 'learning_rate': 0.010301563927073733, 'num_leaves': 117, 'max_depth': 12, 'min_child_samples': 5, 'subsample': 0.7251668806947045, 'colsample_bytree': 0.8157686530164863}. Best is trial 4 with value: 0.24766674966734467.\n",
      "[I 2025-07-17 14:21:34,407] Trial 11 finished with value: 0.25828642029549487 and parameters: {'n_estimators': 206, 'learning_rate': 0.05075694533952465, 'num_leaves': 297, 'max_depth': 3, 'min_child_samples': 31, 'subsample': 0.9977060760365519, 'colsample_bytree': 0.8831508284668612}. Best is trial 4 with value: 0.24766674966734467.\n",
      "[I 2025-07-17 14:21:35,846] Trial 12 finished with value: 0.29916584247708744 and parameters: {'n_estimators': 127, 'learning_rate': 0.014670727445455688, 'num_leaves': 292, 'max_depth': 3, 'min_child_samples': 41, 'subsample': 0.9815524375369395, 'colsample_bytree': 0.8642709564616748}. Best is trial 4 with value: 0.24766674966734467.\n",
      "[I 2025-07-17 14:21:37,773] Trial 13 finished with value: 0.26015966785473255 and parameters: {'n_estimators': 130, 'learning_rate': 0.0719944908112185, 'num_leaves': 20, 'max_depth': 6, 'min_child_samples': 22, 'subsample': 0.7682278685708248, 'colsample_bytree': 0.8717632554303822}. Best is trial 4 with value: 0.24766674966734467.\n",
      "[I 2025-07-17 14:21:39,686] Trial 14 finished with value: 0.3483267496710242 and parameters: {'n_estimators': 272, 'learning_rate': 0.07449489294203912, 'num_leaves': 284, 'max_depth': 10, 'min_child_samples': 67, 'subsample': 0.6928816978794049, 'colsample_bytree': 0.7641107104703777}. Best is trial 4 with value: 0.24766674966734467.\n",
      "[I 2025-07-17 14:21:42,494] Trial 15 finished with value: 0.2806041650027217 and parameters: {'n_estimators': 709, 'learning_rate': 0.045969676159230255, 'num_leaves': 113, 'max_depth': 5, 'min_child_samples': 17, 'subsample': 0.8013012575534753, 'colsample_bytree': 0.8880011011719688}. Best is trial 4 with value: 0.24766674966734467.\n",
      "[I 2025-07-17 14:21:44,642] Trial 16 finished with value: 0.35739883494410113 and parameters: {'n_estimators': 885, 'learning_rate': 0.10695557785993015, 'num_leaves': 267, 'max_depth': 9, 'min_child_samples': 42, 'subsample': 0.8775387523185506, 'colsample_bytree': 0.7633761118818673}. Best is trial 4 with value: 0.24766674966734467.\n",
      "[I 2025-07-17 14:21:46,110] Trial 17 finished with value: 0.3204564712072667 and parameters: {'n_estimators': 272, 'learning_rate': 0.11185785241085562, 'num_leaves': 258, 'max_depth': 3, 'min_child_samples': 38, 'subsample': 0.6673395644827407, 'colsample_bytree': 0.9983564274244834}. Best is trial 4 with value: 0.24766674966734467.\n",
      "[I 2025-07-17 14:21:48,108] Trial 18 finished with value: 0.339324413099661 and parameters: {'n_estimators': 658, 'learning_rate': 0.05305886494729427, 'num_leaves': 111, 'max_depth': 6, 'min_child_samples': 49, 'subsample': 0.996578380483474, 'colsample_bytree': 0.8391362189736603}. Best is trial 4 with value: 0.24766674966734467.\n",
      "[I 2025-07-17 14:21:56,455] Trial 19 finished with value: 0.28329646039580486 and parameters: {'n_estimators': 823, 'learning_rate': 0.036257307340870494, 'num_leaves': 242, 'max_depth': 7, 'min_child_samples': 17, 'subsample': 0.8040470196131314, 'colsample_bytree': 0.7637180024917894}. Best is trial 4 with value: 0.24766674966734467.\n",
      "[I 2025-07-17 14:21:58,227] Trial 20 finished with value: 0.46828495168927786 and parameters: {'n_estimators': 370, 'learning_rate': 0.1233248838837514, 'num_leaves': 151, 'max_depth': 9, 'min_child_samples': 72, 'subsample': 0.6397260144949477, 'colsample_bytree': 0.886882873860046}. Best is trial 4 with value: 0.24766674966734467.\n",
      "[I 2025-07-17 14:22:00,131] Trial 21 finished with value: 0.32214664214848787 and parameters: {'n_estimators': 103, 'learning_rate': 0.07860213114736507, 'num_leaves': 22, 'max_depth': 5, 'min_child_samples': 22, 'subsample': 0.7539132264111463, 'colsample_bytree': 0.8654653813477701}. Best is trial 4 with value: 0.24766674966734467.\n",
      "[I 2025-07-17 14:22:04,223] Trial 22 finished with value: 0.2624666008193481 and parameters: {'n_estimators': 190, 'learning_rate': 0.055562935755360546, 'num_leaves': 31, 'max_depth': 6, 'min_child_samples': 12, 'subsample': 0.7700716926171102, 'colsample_bytree': 0.903077667928895}. Best is trial 4 with value: 0.24766674966734467.\n",
      "[I 2025-07-17 14:22:06,277] Trial 23 finished with value: 0.25862319394274647 and parameters: {'n_estimators': 170, 'learning_rate': 0.030321304378354168, 'num_leaves': 72, 'max_depth': 5, 'min_child_samples': 27, 'subsample': 0.7207399692890688, 'colsample_bytree': 0.8492729891378259}. Best is trial 4 with value: 0.24766674966734467.\n",
      "[I 2025-07-17 14:22:09,753] Trial 24 finished with value: 0.2565992257341849 and parameters: {'n_estimators': 206, 'learning_rate': 0.029488070596143, 'num_leaves': 79, 'max_depth': 4, 'min_child_samples': 34, 'subsample': 0.7066069968031379, 'colsample_bytree': 0.7951953316607935}. Best is trial 4 with value: 0.24766674966734467.\n",
      "[I 2025-07-17 14:22:16,611] Trial 25 finished with value: 0.23860354799572697 and parameters: {'n_estimators': 327, 'learning_rate': 0.025223389448235566, 'num_leaves': 51, 'max_depth': 4, 'min_child_samples': 35, 'subsample': 0.6422351732192101, 'colsample_bytree': 0.791544441809567}. Best is trial 25 with value: 0.23860354799572697.\n",
      "[I 2025-07-17 14:22:17,969] Trial 26 finished with value: 0.3545656937375643 and parameters: {'n_estimators': 471, 'learning_rate': 0.09493789051795393, 'num_leaves': 56, 'max_depth': 4, 'min_child_samples': 57, 'subsample': 0.6413209852035794, 'colsample_bytree': 0.781729866338689}. Best is trial 25 with value: 0.23860354799572697.\n",
      "[I 2025-07-17 14:22:23,839] Trial 27 finished with value: 0.271457861112605 and parameters: {'n_estimators': 351, 'learning_rate': 0.024261783078036236, 'num_leaves': 93, 'max_depth': 7, 'min_child_samples': 45, 'subsample': 0.6875982559406377, 'colsample_bytree': 0.7286778761123632}. Best is trial 25 with value: 0.23860354799572697.\n",
      "[I 2025-07-17 14:22:24,755] Trial 28 finished with value: 0.34075039107019134 and parameters: {'n_estimators': 322, 'learning_rate': 0.12713090424475768, 'num_leaves': 94, 'max_depth': 4, 'min_child_samples': 39, 'subsample': 0.6327857833692245, 'colsample_bytree': 0.8010274089364849}. Best is trial 25 with value: 0.23860354799572697.\n",
      "[I 2025-07-17 14:22:27,251] Trial 29 finished with value: 0.3769094356792444 and parameters: {'n_estimators': 240, 'learning_rate': 0.010485951314021576, 'num_leaves': 133, 'max_depth': 5, 'min_child_samples': 62, 'subsample': 0.6656166116831344, 'colsample_bytree': 0.7294290501942515}. Best is trial 25 with value: 0.23860354799572697.\n",
      "[I 2025-07-17 14:22:31,462] Trial 30 finished with value: 0.33072829116148716 and parameters: {'n_estimators': 559, 'learning_rate': 0.0577518170219313, 'num_leaves': 44, 'max_depth': 9, 'min_child_samples': 34, 'subsample': 0.6048567564008764, 'colsample_bytree': 0.7383158449404219}. Best is trial 25 with value: 0.23860354799572697.\n",
      "[I 2025-07-17 14:22:33,271] Trial 31 finished with value: 0.25598170999584685 and parameters: {'n_estimators': 214, 'learning_rate': 0.03836281602807589, 'num_leaves': 190, 'max_depth': 3, 'min_child_samples': 30, 'subsample': 0.7055377947244273, 'colsample_bytree': 0.9523474362010471}. Best is trial 25 with value: 0.23860354799572697.\n",
      "[I 2025-07-17 14:22:34,737] Trial 32 finished with value: 0.26637855083332473 and parameters: {'n_estimators': 408, 'learning_rate': 0.03622072782665939, 'num_leaves': 182, 'max_depth': 3, 'min_child_samples': 36, 'subsample': 0.7027173850311477, 'colsample_bytree': 0.9605074145360818}. Best is trial 25 with value: 0.23860354799572697.\n",
      "[I 2025-07-17 14:22:36,073] Trial 33 finished with value: 0.2555548759978806 and parameters: {'n_estimators': 226, 'learning_rate': 0.09213203139436531, 'num_leaves': 189, 'max_depth': 4, 'min_child_samples': 21, 'subsample': 0.6525546159752074, 'colsample_bytree': 0.9587276419941347}. Best is trial 25 with value: 0.23860354799572697.\n",
      "[I 2025-07-17 14:22:37,176] Trial 34 finished with value: 0.28630377295019055 and parameters: {'n_estimators': 380, 'learning_rate': 0.09232514612515197, 'num_leaves': 181, 'max_depth': 4, 'min_child_samples': 20, 'subsample': 0.6572727746329312, 'colsample_bytree': 0.9698575548102282}. Best is trial 25 with value: 0.23860354799572697.\n",
      "[I 2025-07-17 14:22:39,194] Trial 35 finished with value: 0.24206732465112815 and parameters: {'n_estimators': 456, 'learning_rate': 0.06566225633184296, 'num_leaves': 193, 'max_depth': 4, 'min_child_samples': 13, 'subsample': 0.6415282230270415, 'colsample_bytree': 0.9169054822386337}. Best is trial 25 with value: 0.23860354799572697.\n",
      "[I 2025-07-17 14:22:40,778] Trial 36 finished with value: 0.22328297194575955 and parameters: {'n_estimators': 480, 'learning_rate': 0.06525640979763267, 'num_leaves': 164, 'max_depth': 4, 'min_child_samples': 11, 'subsample': 0.6220872242967097, 'colsample_bytree': 0.921143775018145}. Best is trial 36 with value: 0.22328297194575955.\n",
      "[I 2025-07-17 14:22:42,873] Trial 37 finished with value: 0.21172917592970433 and parameters: {'n_estimators': 470, 'learning_rate': 0.06621313709276777, 'num_leaves': 154, 'max_depth': 5, 'min_child_samples': 11, 'subsample': 0.6255298214357891, 'colsample_bytree': 0.9305987484264052}. Best is trial 37 with value: 0.21172917592970433.\n",
      "[I 2025-07-17 14:22:46,498] Trial 38 finished with value: 0.20583571773546466 and parameters: {'n_estimators': 468, 'learning_rate': 0.06329709069532337, 'num_leaves': 134, 'max_depth': 5, 'min_child_samples': 9, 'subsample': 0.6184451030148235, 'colsample_bytree': 0.914258841623272}. Best is trial 38 with value: 0.20583571773546466.\n",
      "[I 2025-07-17 14:22:47,443] Trial 39 finished with value: 0.28948069113088903 and parameters: {'n_estimators': 516, 'learning_rate': 0.26480760228296163, 'num_leaves': 166, 'max_depth': 5, 'min_child_samples': 10, 'subsample': 0.6157970077316746, 'colsample_bytree': 0.9978814890274904}. Best is trial 38 with value: 0.20583571773546466.\n",
      "[I 2025-07-17 14:22:49,362] Trial 40 finished with value: 0.26735596720509947 and parameters: {'n_estimators': 609, 'learning_rate': 0.1388477227143002, 'num_leaves': 132, 'max_depth': 6, 'min_child_samples': 6, 'subsample': 0.6765219124587193, 'colsample_bytree': 0.9292929064485353}. Best is trial 38 with value: 0.20583571773546466.\n",
      "[I 2025-07-17 14:22:50,911] Trial 41 finished with value: 0.2219607819533917 and parameters: {'n_estimators': 452, 'learning_rate': 0.06402592319814664, 'num_leaves': 156, 'max_depth': 4, 'min_child_samples': 14, 'subsample': 0.6221927688329849, 'colsample_bytree': 0.9207815172220322}. Best is trial 38 with value: 0.20583571773546466.\n",
      "[I 2025-07-17 14:22:53,453] Trial 42 finished with value: 0.17814591106061028 and parameters: {'n_estimators': 481, 'learning_rate': 0.06539569119951781, 'num_leaves': 151, 'max_depth': 5, 'min_child_samples': 12, 'subsample': 0.6218220237007547, 'colsample_bytree': 0.9413097487914313}. Best is trial 42 with value: 0.17814591106061028.\n",
      "[I 2025-07-17 14:22:54,843] Trial 43 finished with value: 0.361556781099599 and parameters: {'n_estimators': 492, 'learning_rate': 0.17749964535303905, 'num_leaves': 139, 'max_depth': 5, 'min_child_samples': 12, 'subsample': 0.6284547397540211, 'colsample_bytree': 0.9123010907141395}. Best is trial 42 with value: 0.17814591106061028.\n",
      "[I 2025-07-17 14:22:58,720] Trial 44 finished with value: 0.2523703160416734 and parameters: {'n_estimators': 422, 'learning_rate': 0.09057289405549582, 'num_leaves': 162, 'max_depth': 7, 'min_child_samples': 5, 'subsample': 0.6031403325447515, 'colsample_bytree': 0.9410000341583972}. Best is trial 42 with value: 0.17814591106061028.\n",
      "[I 2025-07-17 14:23:00,294] Trial 45 finished with value: 0.2714374603789432 and parameters: {'n_estimators': 519, 'learning_rate': 0.10797963351449687, 'num_leaves': 146, 'max_depth': 5, 'min_child_samples': 16, 'subsample': 0.6193645603850948, 'colsample_bytree': 0.9759376366225458}. Best is trial 42 with value: 0.17814591106061028.\n",
      "[I 2025-07-17 14:23:04,310] Trial 46 finished with value: 0.2999364320360459 and parameters: {'n_estimators': 588, 'learning_rate': 0.07067283440158881, 'num_leaves': 207, 'max_depth': 6, 'min_child_samples': 9, 'subsample': 0.6752275994872272, 'colsample_bytree': 0.9026184170205133}. Best is trial 42 with value: 0.17814591106061028.\n",
      "[I 2025-07-17 14:23:05,296] Trial 47 finished with value: 0.32641437299732207 and parameters: {'n_estimators': 643, 'learning_rate': 0.0636960912867973, 'num_leaves': 171, 'max_depth': 3, 'min_child_samples': 98, 'subsample': 0.6230113648104687, 'colsample_bytree': 0.938374748491542}. Best is trial 42 with value: 0.17814591106061028.\n",
      "[I 2025-07-17 14:23:06,023] Trial 48 finished with value: 0.40494687195190215 and parameters: {'n_estimators': 455, 'learning_rate': 0.17016087288961151, 'num_leaves': 119, 'max_depth': 5, 'min_child_samples': 88, 'subsample': 0.6043057222285065, 'colsample_bytree': 0.6012626381756815}. Best is trial 42 with value: 0.17814591106061028.\n",
      "[I 2025-07-17 14:23:07,162] Trial 49 finished with value: 0.4528923271021644 and parameters: {'n_estimators': 547, 'learning_rate': 0.2120007325963546, 'num_leaves': 154, 'max_depth': 6, 'min_child_samples': 25, 'subsample': 0.6587726357392683, 'colsample_bytree': 0.9834344844434891}. Best is trial 42 with value: 0.17814591106061028.\n"
     ]
    },
    {
     "name": "stdout",
     "output_type": "stream",
     "text": [
      "Best MAPE for BlendProperty5: 0.17814591106061028\n",
      "Best hyperparameters for BlendProperty5: {'n_estimators': 481, 'learning_rate': 0.06539569119951781, 'num_leaves': 151, 'max_depth': 5, 'min_child_samples': 12, 'subsample': 0.6218220237007547, 'colsample_bytree': 0.9413097487914313}\n"
     ]
    },
    {
     "name": "stderr",
     "output_type": "stream",
     "text": [
      "[I 2025-07-17 14:23:11,208] A new study created in memory with name: no-name-548562c1-df85-4433-be52-d61fcff696e2\n"
     ]
    },
    {
     "name": "stdout",
     "output_type": "stream",
     "text": [
      "Saved best model for BlendProperty5\n",
      "\n",
      "--- Tuning and Training for BlendProperty6 ---\n"
     ]
    },
    {
     "name": "stderr",
     "output_type": "stream",
     "text": [
      "[I 2025-07-17 14:23:17,663] Trial 0 finished with value: 0.6066290561217798 and parameters: {'n_estimators': 413, 'learning_rate': 0.10225675675294889, 'num_leaves': 145, 'max_depth': 11, 'min_child_samples': 64, 'subsample': 0.6786341389345786, 'colsample_bytree': 0.6176143521659174}. Best is trial 0 with value: 0.6066290561217798.\n",
      "[I 2025-07-17 14:23:19,194] Trial 1 finished with value: 0.8675519763213085 and parameters: {'n_estimators': 673, 'learning_rate': 0.24724280778112817, 'num_leaves': 226, 'max_depth': 4, 'min_child_samples': 76, 'subsample': 0.6632647714824691, 'colsample_bytree': 0.9816790558240731}. Best is trial 0 with value: 0.6066290561217798.\n",
      "[I 2025-07-17 14:23:21,516] Trial 2 finished with value: 1.3169880137840213 and parameters: {'n_estimators': 972, 'learning_rate': 0.2717832217331169, 'num_leaves': 63, 'max_depth': 6, 'min_child_samples': 12, 'subsample': 0.7653441623590166, 'colsample_bytree': 0.8227268859879626}. Best is trial 0 with value: 0.6066290561217798.\n",
      "[I 2025-07-17 14:23:23,001] Trial 3 finished with value: 0.6758348102661802 and parameters: {'n_estimators': 219, 'learning_rate': 0.2733547661732224, 'num_leaves': 263, 'max_depth': 8, 'min_child_samples': 45, 'subsample': 0.9556234514961985, 'colsample_bytree': 0.7460448493879982}. Best is trial 0 with value: 0.6066290561217798.\n",
      "[I 2025-07-17 14:23:29,275] Trial 4 finished with value: 0.8318793560366242 and parameters: {'n_estimators': 500, 'learning_rate': 0.27608148035648444, 'num_leaves': 100, 'max_depth': 10, 'min_child_samples': 24, 'subsample': 0.8473660983131572, 'colsample_bytree': 0.8977052987730321}. Best is trial 0 with value: 0.6066290561217798.\n",
      "[I 2025-07-17 14:23:30,260] Trial 5 finished with value: 0.9486577405435372 and parameters: {'n_estimators': 914, 'learning_rate': 0.21761300706447634, 'num_leaves': 33, 'max_depth': 8, 'min_child_samples': 88, 'subsample': 0.9733360708529012, 'colsample_bytree': 0.8507822886858389}. Best is trial 0 with value: 0.6066290561217798.\n",
      "[I 2025-07-17 14:23:36,855] Trial 6 finished with value: 0.6205161090645579 and parameters: {'n_estimators': 952, 'learning_rate': 0.03850851455934183, 'num_leaves': 202, 'max_depth': 6, 'min_child_samples': 97, 'subsample': 0.8994273542162434, 'colsample_bytree': 0.6098741725566112}. Best is trial 0 with value: 0.6066290561217798.\n",
      "[I 2025-07-17 14:23:39,031] Trial 7 finished with value: 0.9941608615060249 and parameters: {'n_estimators': 631, 'learning_rate': 0.1796249000978494, 'num_leaves': 210, 'max_depth': 11, 'min_child_samples': 66, 'subsample': 0.9146999383829861, 'colsample_bytree': 0.8079454074469021}. Best is trial 0 with value: 0.6066290561217798.\n",
      "[I 2025-07-17 14:23:44,045] Trial 8 finished with value: 0.9361388947748613 and parameters: {'n_estimators': 932, 'learning_rate': 0.19496095572334132, 'num_leaves': 254, 'max_depth': 12, 'min_child_samples': 31, 'subsample': 0.6921770731157866, 'colsample_bytree': 0.682729010308931}. Best is trial 0 with value: 0.6066290561217798.\n",
      "[I 2025-07-17 14:23:45,655] Trial 9 finished with value: 0.9965587592688196 and parameters: {'n_estimators': 142, 'learning_rate': 0.27695349742135716, 'num_leaves': 149, 'max_depth': 12, 'min_child_samples': 75, 'subsample': 0.9376077661703774, 'colsample_bytree': 0.9783823498070132}. Best is trial 0 with value: 0.6066290561217798.\n",
      "[I 2025-07-17 14:23:52,561] Trial 10 finished with value: 0.6332142081783463 and parameters: {'n_estimators': 406, 'learning_rate': 0.10176716700782124, 'num_leaves': 136, 'max_depth': 10, 'min_child_samples': 53, 'subsample': 0.6005106530438723, 'colsample_bytree': 0.6325454094326582}. Best is trial 0 with value: 0.6066290561217798.\n",
      "[I 2025-07-17 14:23:55,331] Trial 11 finished with value: 0.7827702060214967 and parameters: {'n_estimators': 327, 'learning_rate': 0.010311932077829392, 'num_leaves': 209, 'max_depth': 5, 'min_child_samples': 97, 'subsample': 0.8015843536692489, 'colsample_bytree': 0.606654054802414}. Best is trial 0 with value: 0.6066290561217798.\n",
      "[I 2025-07-17 14:23:59,029] Trial 12 finished with value: 0.7093086776997628 and parameters: {'n_estimators': 790, 'learning_rate': 0.09113325109897537, 'num_leaves': 300, 'max_depth': 7, 'min_child_samples': 99, 'subsample': 0.861776030802547, 'colsample_bytree': 0.6985815346991767}. Best is trial 0 with value: 0.6066290561217798.\n",
      "[I 2025-07-17 14:24:01,741] Trial 13 finished with value: 0.8196606739141888 and parameters: {'n_estimators': 488, 'learning_rate': 0.020751568107488502, 'num_leaves': 176, 'max_depth': 3, 'min_child_samples': 58, 'subsample': 0.7342462668725709, 'colsample_bytree': 0.6769776747650132}. Best is trial 0 with value: 0.6066290561217798.\n",
      "[I 2025-07-17 14:24:07,066] Trial 14 finished with value: 0.6914187898164892 and parameters: {'n_estimators': 760, 'learning_rate': 0.07838506914373204, 'num_leaves': 110, 'max_depth': 9, 'min_child_samples': 83, 'subsample': 0.8766584631031065, 'colsample_bytree': 0.7484245012606477}. Best is trial 0 with value: 0.6066290561217798.\n",
      "[I 2025-07-17 14:24:15,485] Trial 15 finished with value: 0.652139472955156 and parameters: {'n_estimators': 362, 'learning_rate': 0.13046374881683478, 'num_leaves': 178, 'max_depth': 6, 'min_child_samples': 42, 'subsample': 0.8148535323041805, 'colsample_bytree': 0.602509820296677}. Best is trial 0 with value: 0.6066290561217798.\n",
      "[I 2025-07-17 14:24:22,209] Trial 16 finished with value: 0.5860060530147279 and parameters: {'n_estimators': 572, 'learning_rate': 0.051674352911079385, 'num_leaves': 111, 'max_depth': 7, 'min_child_samples': 65, 'subsample': 0.6336327454016941, 'colsample_bytree': 0.6504318062170706}. Best is trial 16 with value: 0.5860060530147279.\n",
      "[I 2025-07-17 14:24:27,265] Trial 17 finished with value: 0.791718828273218 and parameters: {'n_estimators': 594, 'learning_rate': 0.06381885090698036, 'num_leaves': 77, 'max_depth': 9, 'min_child_samples': 65, 'subsample': 0.6055386216614085, 'colsample_bytree': 0.7459793820060242}. Best is trial 16 with value: 0.5860060530147279.\n",
      "[I 2025-07-17 14:24:31,227] Trial 18 finished with value: 0.7996188437247901 and parameters: {'n_estimators': 435, 'learning_rate': 0.1339164562270488, 'num_leaves': 137, 'max_depth': 7, 'min_child_samples': 40, 'subsample': 0.6544449444990261, 'colsample_bytree': 0.6445725167157407}. Best is trial 16 with value: 0.5860060530147279.\n",
      "[I 2025-07-17 14:24:34,316] Trial 19 finished with value: 0.9426648830713932 and parameters: {'n_estimators': 239, 'learning_rate': 0.11856422027290968, 'num_leaves': 110, 'max_depth': 10, 'min_child_samples': 64, 'subsample': 0.7166352717791024, 'colsample_bytree': 0.7145528453272776}. Best is trial 16 with value: 0.5860060530147279.\n",
      "[I 2025-07-17 14:24:39,841] Trial 20 finished with value: 0.6365661416666848 and parameters: {'n_estimators': 539, 'learning_rate': 0.055750887386732235, 'num_leaves': 21, 'max_depth': 9, 'min_child_samples': 74, 'subsample': 0.6391846611372666, 'colsample_bytree': 0.6457470809551316}. Best is trial 16 with value: 0.5860060530147279.\n",
      "[I 2025-07-17 14:24:48,951] Trial 21 finished with value: 0.5939662848997911 and parameters: {'n_estimators': 787, 'learning_rate': 0.04316458668447917, 'num_leaves': 174, 'max_depth': 6, 'min_child_samples': 88, 'subsample': 0.7599475613559474, 'colsample_bytree': 0.6512419297334736}. Best is trial 16 with value: 0.5860060530147279.\n",
      "[I 2025-07-17 14:24:55,672] Trial 22 finished with value: 0.6908389347527739 and parameters: {'n_estimators': 743, 'learning_rate': 0.046426337844014884, 'num_leaves': 169, 'max_depth': 5, 'min_child_samples': 55, 'subsample': 0.7599808740834446, 'colsample_bytree': 0.6555041939823725}. Best is trial 16 with value: 0.5860060530147279.\n",
      "[I 2025-07-17 14:24:58,967] Trial 23 finished with value: 0.7479431318060177 and parameters: {'n_estimators': 859, 'learning_rate': 0.07604566439812571, 'num_leaves': 125, 'max_depth': 7, 'min_child_samples': 87, 'subsample': 0.6918725945694927, 'colsample_bytree': 0.7192352755143564}. Best is trial 16 with value: 0.5860060530147279.\n",
      "[I 2025-07-17 14:25:00,667] Trial 24 finished with value: 0.8161768152755972 and parameters: {'n_estimators': 680, 'learning_rate': 0.10620309102723184, 'num_leaves': 82, 'max_depth': 5, 'min_child_samples': 81, 'subsample': 0.6936762226351586, 'colsample_bytree': 0.7782636530281358}. Best is trial 16 with value: 0.5860060530147279.\n",
      "[I 2025-07-17 14:25:04,421] Trial 25 finished with value: 0.7277142091329354 and parameters: {'n_estimators': 278, 'learning_rate': 0.032050280245046234, 'num_leaves': 157, 'max_depth': 8, 'min_child_samples': 69, 'subsample': 0.6309975217988726, 'colsample_bytree': 0.6706453198563578}. Best is trial 16 with value: 0.5860060530147279.\n",
      "[I 2025-07-17 14:25:06,198] Trial 26 finished with value: 0.6210689430068427 and parameters: {'n_estimators': 838, 'learning_rate': 0.15829282485622526, 'num_leaves': 45, 'max_depth': 4, 'min_child_samples': 48, 'subsample': 0.7490066454328526, 'colsample_bytree': 0.63196190196516}. Best is trial 16 with value: 0.5860060530147279.\n",
      "[I 2025-07-17 14:25:16,641] Trial 27 finished with value: 0.8318359467614769 and parameters: {'n_estimators': 584, 'learning_rate': 0.06584103980685194, 'num_leaves': 94, 'max_depth': 6, 'min_child_samples': 60, 'subsample': 0.7772717295633226, 'colsample_bytree': 0.8898853867594554}. Best is trial 16 with value: 0.5860060530147279.\n",
      "[I 2025-07-17 14:25:19,884] Trial 28 finished with value: 0.7238549446473165 and parameters: {'n_estimators': 461, 'learning_rate': 0.15466578928082475, 'num_leaves': 194, 'max_depth': 11, 'min_child_samples': 89, 'subsample': 0.7243087387507301, 'colsample_bytree': 0.6896844045656162}. Best is trial 16 with value: 0.5860060530147279.\n",
      "[I 2025-07-17 14:25:24,729] Trial 29 finished with value: 0.8075502808316453 and parameters: {'n_estimators': 677, 'learning_rate': 0.03268490470225635, 'num_leaves': 227, 'max_depth': 4, 'min_child_samples': 71, 'subsample': 0.6792485403828021, 'colsample_bytree': 0.9988561410164054}. Best is trial 16 with value: 0.5860060530147279.\n",
      "[I 2025-07-17 14:25:28,056] Trial 30 finished with value: 0.7103781963131712 and parameters: {'n_estimators': 372, 'learning_rate': 0.08691965774682488, 'num_leaves': 122, 'max_depth': 7, 'min_child_samples': 78, 'subsample': 0.656876922626459, 'colsample_bytree': 0.7790541036381922}. Best is trial 16 with value: 0.5860060530147279.\n",
      "[I 2025-07-17 14:25:35,334] Trial 31 finished with value: 0.6050964478071641 and parameters: {'n_estimators': 984, 'learning_rate': 0.04367135227563147, 'num_leaves': 192, 'max_depth': 6, 'min_child_samples': 95, 'subsample': 0.8211399384231638, 'colsample_bytree': 0.6168121419995649}. Best is trial 16 with value: 0.5860060530147279.\n",
      "[I 2025-07-17 14:25:41,390] Trial 32 finished with value: 0.6380880742081672 and parameters: {'n_estimators': 991, 'learning_rate': 0.04651234005069671, 'num_leaves': 185, 'max_depth': 5, 'min_child_samples': 91, 'subsample': 0.8295676988913947, 'colsample_bytree': 0.6272758883329544}. Best is trial 16 with value: 0.5860060530147279.\n",
      "[I 2025-07-17 14:25:49,363] Trial 33 finished with value: 0.6674801411144174 and parameters: {'n_estimators': 892, 'learning_rate': 0.015710937902615497, 'num_leaves': 231, 'max_depth': 6, 'min_child_samples': 82, 'subsample': 0.778566342663019, 'colsample_bytree': 0.6649110489541739}. Best is trial 16 with value: 0.5860060530147279.\n",
      "[I 2025-07-17 14:25:56,998] Trial 34 finished with value: 0.5974514653135244 and parameters: {'n_estimators': 719, 'learning_rate': 0.06222851277009493, 'num_leaves': 149, 'max_depth': 8, 'min_child_samples': 34, 'subsample': 0.6218842184166361, 'colsample_bytree': 0.6196709048195193}. Best is trial 16 with value: 0.5860060530147279.\n",
      "[I 2025-07-17 14:26:19,693] Trial 35 finished with value: 0.6708763538320077 and parameters: {'n_estimators': 718, 'learning_rate': 0.05666031297391371, 'num_leaves': 163, 'max_depth': 8, 'min_child_samples': 9, 'subsample': 0.6305917902361197, 'colsample_bytree': 0.7148193663401989}. Best is trial 16 with value: 0.5860060530147279.\n",
      "[I 2025-07-17 14:26:21,462] Trial 36 finished with value: 0.8645866073812674 and parameters: {'n_estimators': 803, 'learning_rate': 0.24345329294368107, 'num_leaves': 153, 'max_depth': 7, 'min_child_samples': 22, 'subsample': 0.8473374414579224, 'colsample_bytree': 0.6212490924255518}. Best is trial 16 with value: 0.5860060530147279.\n",
      "[I 2025-07-17 14:26:32,942] Trial 37 finished with value: 0.6829955115967524 and parameters: {'n_estimators': 631, 'learning_rate': 0.029117864094381392, 'num_leaves': 190, 'max_depth': 6, 'min_child_samples': 26, 'subsample': 0.9976949361591974, 'colsample_bytree': 0.6482245796371218}. Best is trial 16 with value: 0.5860060530147279.\n",
      "[I 2025-07-17 14:26:38,546] Trial 38 finished with value: 0.641633424536191 and parameters: {'n_estimators': 870, 'learning_rate': 0.06893256987773329, 'num_leaves': 255, 'max_depth': 8, 'min_child_samples': 93, 'subsample': 0.6165960055649338, 'colsample_bytree': 0.6044072098626685}. Best is trial 16 with value: 0.5860060530147279.\n",
      "[I 2025-07-17 14:26:41,784] Trial 39 finished with value: 0.8279330212911805 and parameters: {'n_estimators': 706, 'learning_rate': 0.04759531266150613, 'num_leaves': 129, 'max_depth': 3, 'min_child_samples': 34, 'subsample': 0.8872647340812223, 'colsample_bytree': 0.8401447834016355}. Best is trial 16 with value: 0.5860060530147279.\n",
      "[I 2025-07-17 14:26:43,664] Trial 40 finished with value: 0.9771270732936465 and parameters: {'n_estimators': 541, 'learning_rate': 0.29779441601392076, 'num_leaves': 60, 'max_depth': 9, 'min_child_samples': 48, 'subsample': 0.7896908554744153, 'colsample_bytree': 0.6635813144588726}. Best is trial 16 with value: 0.5860060530147279.\n",
      "[I 2025-07-17 14:26:54,493] Trial 41 finished with value: 0.7205575532249451 and parameters: {'n_estimators': 618, 'learning_rate': 0.09818099491216212, 'num_leaves': 146, 'max_depth': 11, 'min_child_samples': 20, 'subsample': 0.6559847571852626, 'colsample_bytree': 0.6235249624614682}. Best is trial 16 with value: 0.5860060530147279.\n",
      "[I 2025-07-17 14:26:58,193] Trial 42 finished with value: 0.6494132207613542 and parameters: {'n_estimators': 948, 'learning_rate': 0.08149104736440405, 'num_leaves': 211, 'max_depth': 6, 'min_child_samples': 36, 'subsample': 0.6713700001617433, 'colsample_bytree': 0.6398421854632285}. Best is trial 16 with value: 0.5860060530147279.\n",
      "[I 2025-07-17 14:27:06,138] Trial 43 finished with value: 0.8022696612768906 and parameters: {'n_estimators': 825, 'learning_rate': 0.04030249249353063, 'num_leaves': 165, 'max_depth': 7, 'min_child_samples': 94, 'subsample': 0.7064663957653884, 'colsample_bytree': 0.6977797150709574}. Best is trial 16 with value: 0.5860060530147279.\n",
      "[I 2025-07-17 14:27:16,508] Trial 44 finished with value: 0.6548357503258185 and parameters: {'n_estimators': 497, 'learning_rate': 0.1125994552411737, 'num_leaves': 110, 'max_depth': 12, 'min_child_samples': 61, 'subsample': 0.6425348098902454, 'colsample_bytree': 0.6180191304797709}. Best is trial 16 with value: 0.5860060530147279.\n",
      "[I 2025-07-17 14:27:20,329] Trial 45 finished with value: 0.6417563265476209 and parameters: {'n_estimators': 764, 'learning_rate': 0.06101967779523093, 'num_leaves': 144, 'max_depth': 5, 'min_child_samples': 86, 'subsample': 0.7419104756393349, 'colsample_bytree': 0.6030650916399032}. Best is trial 16 with value: 0.5860060530147279.\n",
      "[I 2025-07-17 14:27:21,978] Trial 46 finished with value: 1.08993401989624 and parameters: {'n_estimators': 115, 'learning_rate': 0.019525815403050085, 'num_leaves': 91, 'max_depth': 4, 'min_child_samples': 18, 'subsample': 0.620388995353092, 'colsample_bytree': 0.946672712801381}. Best is trial 16 with value: 0.5860060530147279.\n",
      "[I 2025-07-17 14:27:26,836] Trial 47 finished with value: 0.6450852554432733 and parameters: {'n_estimators': 650, 'learning_rate': 0.09672402681511824, 'num_leaves': 214, 'max_depth': 8, 'min_child_samples': 51, 'subsample': 0.8315824387040385, 'colsample_bytree': 0.6867821961166536}. Best is trial 16 with value: 0.5860060530147279.\n",
      "[I 2025-07-17 14:27:29,409] Trial 48 finished with value: 0.62782211535898 and parameters: {'n_estimators': 568, 'learning_rate': 0.12633709940655496, 'num_leaves': 238, 'max_depth': 11, 'min_child_samples': 73, 'subsample': 0.6009670555691413, 'colsample_bytree': 0.7328340455062687}. Best is trial 16 with value: 0.5860060530147279.\n",
      "[I 2025-07-17 14:27:36,622] Trial 49 finished with value: 0.6192325878285282 and parameters: {'n_estimators': 918, 'learning_rate': 0.02780426927461072, 'num_leaves': 177, 'max_depth': 10, 'min_child_samples': 99, 'subsample': 0.8084860462314524, 'colsample_bytree': 0.6565580467948492}. Best is trial 16 with value: 0.5860060530147279.\n"
     ]
    },
    {
     "name": "stdout",
     "output_type": "stream",
     "text": [
      "Best MAPE for BlendProperty6: 0.5860060530147279\n",
      "Best hyperparameters for BlendProperty6: {'n_estimators': 572, 'learning_rate': 0.051674352911079385, 'num_leaves': 111, 'max_depth': 7, 'min_child_samples': 65, 'subsample': 0.6336327454016941, 'colsample_bytree': 0.6504318062170706}\n"
     ]
    },
    {
     "name": "stderr",
     "output_type": "stream",
     "text": [
      "[I 2025-07-17 14:27:37,825] A new study created in memory with name: no-name-e1696eb8-e321-4004-af3e-4f76ef26d9fe\n"
     ]
    },
    {
     "name": "stdout",
     "output_type": "stream",
     "text": [
      "Saved best model for BlendProperty6\n",
      "\n",
      "--- Tuning and Training for BlendProperty7 ---\n"
     ]
    },
    {
     "name": "stderr",
     "output_type": "stream",
     "text": [
      "[I 2025-07-17 14:27:44,723] Trial 0 finished with value: 1.2981815402261854 and parameters: {'n_estimators': 432, 'learning_rate': 0.06266298552515766, 'num_leaves': 97, 'max_depth': 10, 'min_child_samples': 80, 'subsample': 0.6989614871804044, 'colsample_bytree': 0.9298125315742667}. Best is trial 0 with value: 1.2981815402261854.\n",
      "[I 2025-07-17 14:27:46,956] Trial 1 finished with value: 1.722430145568265 and parameters: {'n_estimators': 342, 'learning_rate': 0.2733711882311584, 'num_leaves': 25, 'max_depth': 8, 'min_child_samples': 92, 'subsample': 0.8135959380791131, 'colsample_bytree': 0.9140842727399764}. Best is trial 0 with value: 1.2981815402261854.\n",
      "[I 2025-07-17 14:27:56,138] Trial 2 finished with value: 2.026638203327188 and parameters: {'n_estimators': 839, 'learning_rate': 0.23507788098541008, 'num_leaves': 78, 'max_depth': 9, 'min_child_samples': 8, 'subsample': 0.8494325310816355, 'colsample_bytree': 0.9090970280903734}. Best is trial 0 with value: 1.2981815402261854.\n",
      "[I 2025-07-17 14:27:57,895] Trial 3 finished with value: 1.8877027542027143 and parameters: {'n_estimators': 697, 'learning_rate': 0.27913424261463193, 'num_leaves': 97, 'max_depth': 6, 'min_child_samples': 59, 'subsample': 0.7752345192652963, 'colsample_bytree': 0.6560143256372971}. Best is trial 0 with value: 1.2981815402261854.\n",
      "[I 2025-07-17 14:28:07,556] Trial 4 finished with value: 2.924056279012562 and parameters: {'n_estimators': 989, 'learning_rate': 0.23921385885595636, 'num_leaves': 51, 'max_depth': 12, 'min_child_samples': 10, 'subsample': 0.8677460567077109, 'colsample_bytree': 0.9535327095305367}. Best is trial 0 with value: 1.2981815402261854.\n",
      "[I 2025-07-17 14:28:16,302] Trial 5 finished with value: 1.0723860644269567 and parameters: {'n_estimators': 668, 'learning_rate': 0.09277864844737169, 'num_leaves': 242, 'max_depth': 5, 'min_child_samples': 34, 'subsample': 0.9486811599699758, 'colsample_bytree': 0.8299601279766355}. Best is trial 5 with value: 1.0723860644269567.\n",
      "[I 2025-07-17 14:28:18,861] Trial 6 finished with value: 2.0981492680606424 and parameters: {'n_estimators': 513, 'learning_rate': 0.21519207981115676, 'num_leaves': 116, 'max_depth': 5, 'min_child_samples': 23, 'subsample': 0.9465712112271114, 'colsample_bytree': 0.7640288776643895}. Best is trial 5 with value: 1.0723860644269567.\n",
      "[I 2025-07-17 14:28:20,226] Trial 7 finished with value: 1.3063944315779044 and parameters: {'n_estimators': 794, 'learning_rate': 0.16909961206622415, 'num_leaves': 249, 'max_depth': 4, 'min_child_samples': 81, 'subsample': 0.9638695696774708, 'colsample_bytree': 0.7689376783555152}. Best is trial 5 with value: 1.0723860644269567.\n",
      "[I 2025-07-17 14:28:23,690] Trial 8 finished with value: 1.6948567323964052 and parameters: {'n_estimators': 873, 'learning_rate': 0.26942533426490345, 'num_leaves': 166, 'max_depth': 7, 'min_child_samples': 11, 'subsample': 0.9611574833468663, 'colsample_bytree': 0.8542743956628942}. Best is trial 5 with value: 1.0723860644269567.\n",
      "[I 2025-07-17 14:28:27,596] Trial 9 finished with value: 1.2386338266366823 and parameters: {'n_estimators': 716, 'learning_rate': 0.166178149803795, 'num_leaves': 108, 'max_depth': 6, 'min_child_samples': 15, 'subsample': 0.9798675190624766, 'colsample_bytree': 0.9554011483943321}. Best is trial 5 with value: 1.0723860644269567.\n",
      "[I 2025-07-17 14:28:29,794] Trial 10 finished with value: 1.530009764407686 and parameters: {'n_estimators': 253, 'learning_rate': 0.022039666241706224, 'num_leaves': 279, 'max_depth': 3, 'min_child_samples': 39, 'subsample': 0.6268508585014909, 'colsample_bytree': 0.6817200022108556}. Best is trial 5 with value: 1.0723860644269567.\n",
      "[I 2025-07-17 14:28:35,521] Trial 11 finished with value: 1.1178855111683441 and parameters: {'n_estimators': 638, 'learning_rate': 0.10154179157583049, 'num_leaves': 201, 'max_depth': 6, 'min_child_samples': 37, 'subsample': 0.9996361900334793, 'colsample_bytree': 0.9857016147816164}. Best is trial 5 with value: 1.0723860644269567.\n",
      "[I 2025-07-17 14:28:38,996] Trial 12 finished with value: 1.4044955516686841 and parameters: {'n_estimators': 604, 'learning_rate': 0.08963951117903494, 'num_leaves': 198, 'max_depth': 4, 'min_child_samples': 42, 'subsample': 0.8888795827743776, 'colsample_bytree': 0.8263608504531614}. Best is trial 5 with value: 1.0723860644269567.\n",
      "[I 2025-07-17 14:28:44,037] Trial 13 finished with value: 1.1148702936686716 and parameters: {'n_estimators': 564, 'learning_rate': 0.1107643554784955, 'num_leaves': 212, 'max_depth': 6, 'min_child_samples': 57, 'subsample': 0.9989324553749576, 'colsample_bytree': 0.7314104394067216}. Best is trial 5 with value: 1.0723860644269567.\n",
      "[I 2025-07-17 14:28:45,489] Trial 14 finished with value: 1.3408812364574105 and parameters: {'n_estimators': 147, 'learning_rate': 0.12344825202665712, 'num_leaves': 241, 'max_depth': 3, 'min_child_samples': 59, 'subsample': 0.9115579871837034, 'colsample_bytree': 0.7109466379211569}. Best is trial 5 with value: 1.0723860644269567.\n",
      "[I 2025-07-17 14:28:51,119] Trial 15 finished with value: 1.181428133337209 and parameters: {'n_estimators': 497, 'learning_rate': 0.04212266917422673, 'num_leaves': 300, 'max_depth': 8, 'min_child_samples': 68, 'subsample': 0.7601243982943208, 'colsample_bytree': 0.6068280548670625}. Best is trial 5 with value: 1.0723860644269567.\n",
      "[I 2025-07-17 14:28:55,287] Trial 16 finished with value: 1.3802928045507588 and parameters: {'n_estimators': 384, 'learning_rate': 0.13596975863546665, 'num_leaves': 217, 'max_depth': 5, 'min_child_samples': 28, 'subsample': 0.9158303463465759, 'colsample_bytree': 0.8576517981154405}. Best is trial 5 with value: 1.0723860644269567.\n",
      "[I 2025-07-17 14:29:01,283] Trial 17 finished with value: 1.1971065253811282 and parameters: {'n_estimators': 588, 'learning_rate': 0.07456644125727878, 'num_leaves': 155, 'max_depth': 7, 'min_child_samples': 50, 'subsample': 0.8326344493962493, 'colsample_bytree': 0.7393922832314072}. Best is trial 5 with value: 1.0723860644269567.\n",
      "[I 2025-07-17 14:29:04,928] Trial 18 finished with value: 1.8608076802936426 and parameters: {'n_estimators': 737, 'learning_rate': 0.11875611355100482, 'num_leaves': 157, 'max_depth': 11, 'min_child_samples': 71, 'subsample': 0.9294482385946374, 'colsample_bytree': 0.7902460414405049}. Best is trial 5 with value: 1.0723860644269567.\n",
      "[I 2025-07-17 14:29:06,814] Trial 19 finished with value: 2.2316224638250155 and parameters: {'n_estimators': 975, 'learning_rate': 0.18822145110313615, 'num_leaves': 252, 'max_depth': 5, 'min_child_samples': 47, 'subsample': 0.7173619894354546, 'colsample_bytree': 0.8295330686652818}. Best is trial 5 with value: 1.0723860644269567.\n",
      "[I 2025-07-17 14:29:19,610] Trial 20 finished with value: 0.9843615661461355 and parameters: {'n_estimators': 276, 'learning_rate': 0.01686510096168231, 'num_leaves': 183, 'max_depth': 9, 'min_child_samples': 31, 'subsample': 0.9973335812170978, 'colsample_bytree': 0.7257583044005451}. Best is trial 20 with value: 0.9843615661461355.\n",
      "[I 2025-07-17 14:29:26,238] Trial 21 finished with value: 1.2199086613331898 and parameters: {'n_estimators': 267, 'learning_rate': 0.013503388745435996, 'num_leaves': 184, 'max_depth': 9, 'min_child_samples': 30, 'subsample': 0.9919557675417708, 'colsample_bytree': 0.7214351443032633}. Best is trial 20 with value: 0.9843615661461355.\n",
      "[I 2025-07-17 14:29:30,418] Trial 22 finished with value: 1.2969031722980011 and parameters: {'n_estimators': 130, 'learning_rate': 0.053152935367340344, 'num_leaves': 221, 'max_depth': 9, 'min_child_samples': 24, 'subsample': 0.9991153598259607, 'colsample_bytree': 0.6444165370023625}. Best is trial 20 with value: 0.9843615661461355.\n",
      "[I 2025-07-17 14:29:34,882] Trial 23 finished with value: 0.978999382501398 and parameters: {'n_estimators': 495, 'learning_rate': 0.09075026333713611, 'num_leaves': 143, 'max_depth': 7, 'min_child_samples': 55, 'subsample': 0.8869428119486407, 'colsample_bytree': 0.7506360719837976}. Best is trial 23 with value: 0.978999382501398.\n",
      "[I 2025-07-17 14:29:41,810] Trial 24 finished with value: 1.1271915098058942 and parameters: {'n_estimators': 449, 'learning_rate': 0.07949044996441311, 'num_leaves': 150, 'max_depth': 8, 'min_child_samples': 35, 'subsample': 0.8941655844261688, 'colsample_bytree': 0.7955805916888414}. Best is trial 23 with value: 0.978999382501398.\n",
      "[I 2025-07-17 14:29:46,168] Trial 25 finished with value: 0.8950131883755091 and parameters: {'n_estimators': 266, 'learning_rate': 0.03511316891541914, 'num_leaves': 131, 'max_depth': 10, 'min_child_samples': 49, 'subsample': 0.9407101829734532, 'colsample_bytree': 0.6881349543720311}. Best is trial 25 with value: 0.8950131883755091.\n",
      "[I 2025-07-17 14:29:50,381] Trial 26 finished with value: 1.1202606270922366 and parameters: {'n_estimators': 218, 'learning_rate': 0.0348171793348183, 'num_leaves': 134, 'max_depth': 10, 'min_child_samples': 46, 'subsample': 0.8813638023583296, 'colsample_bytree': 0.6835448449201944}. Best is trial 25 with value: 0.8950131883755091.\n",
      "[I 2025-07-17 14:29:54,405] Trial 27 finished with value: 0.9447517994201473 and parameters: {'n_estimators': 328, 'learning_rate': 0.03391666177649636, 'num_leaves': 133, 'max_depth': 10, 'min_child_samples': 69, 'subsample': 0.9282283687055802, 'colsample_bytree': 0.6896765073881288}. Best is trial 25 with value: 0.8950131883755091.\n",
      "[I 2025-07-17 14:30:01,067] Trial 28 finished with value: 1.1370390656896423 and parameters: {'n_estimators': 332, 'learning_rate': 0.06054172083226035, 'num_leaves': 129, 'max_depth': 11, 'min_child_samples': 70, 'subsample': 0.8479278262653364, 'colsample_bytree': 0.6048081174177491}. Best is trial 25 with value: 0.8950131883755091.\n",
      "[I 2025-07-17 14:30:04,816] Trial 29 finished with value: 1.222007728371415 and parameters: {'n_estimators': 403, 'learning_rate': 0.062414313673821775, 'num_leaves': 79, 'max_depth': 10, 'min_child_samples': 80, 'subsample': 0.8022276447813304, 'colsample_bytree': 0.6879417362085636}. Best is trial 25 with value: 0.8950131883755091.\n",
      "[I 2025-07-17 14:30:06,822] Trial 30 finished with value: 1.2743627949331409 and parameters: {'n_estimators': 197, 'learning_rate': 0.04185012843486245, 'num_leaves': 134, 'max_depth': 12, 'min_child_samples': 99, 'subsample': 0.6011921928281899, 'colsample_bytree': 0.6594808099546623}. Best is trial 25 with value: 0.8950131883755091.\n",
      "[I 2025-07-17 14:30:18,031] Trial 31 finished with value: 1.4703366073568536 and parameters: {'n_estimators': 310, 'learning_rate': 0.012724988628366796, 'num_leaves': 89, 'max_depth': 11, 'min_child_samples': 65, 'subsample': 0.9257234288456903, 'colsample_bytree': 0.7539234057268105}. Best is trial 25 with value: 0.8950131883755091.\n",
      "[I 2025-07-17 14:30:25,519] Trial 32 finished with value: 1.1202532424295613 and parameters: {'n_estimators': 455, 'learning_rate': 0.03142193074119858, 'num_leaves': 174, 'max_depth': 9, 'min_child_samples': 55, 'subsample': 0.936953734893261, 'colsample_bytree': 0.7046213799345031}. Best is trial 25 with value: 0.8950131883755091.\n",
      "[I 2025-07-17 14:30:30,209] Trial 33 finished with value: 1.3058297086434532 and parameters: {'n_estimators': 365, 'learning_rate': 0.04764139975194946, 'num_leaves': 61, 'max_depth': 10, 'min_child_samples': 76, 'subsample': 0.9749035028407019, 'colsample_bytree': 0.7461948530518818}. Best is trial 25 with value: 0.8950131883755091.\n",
      "[I 2025-07-17 14:30:32,865] Trial 34 finished with value: 1.1115812365194455 and parameters: {'n_estimators': 267, 'learning_rate': 0.07750875902047505, 'num_leaves': 117, 'max_depth': 10, 'min_child_samples': 85, 'subsample': 0.8993623789911485, 'colsample_bytree': 0.6402878884481084}. Best is trial 25 with value: 0.8950131883755091.\n",
      "[I 2025-07-17 14:30:35,480] Trial 35 finished with value: 1.7099890577019217 and parameters: {'n_estimators': 178, 'learning_rate': 0.014672161893401217, 'num_leaves': 143, 'max_depth': 8, 'min_child_samples': 63, 'subsample': 0.8644694472367621, 'colsample_bytree': 0.7017440984812785}. Best is trial 25 with value: 0.8950131883755091.\n",
      "[I 2025-07-17 14:30:40,187] Trial 36 finished with value: 0.9920812497883225 and parameters: {'n_estimators': 317, 'learning_rate': 0.032442437425062226, 'num_leaves': 183, 'max_depth': 9, 'min_child_samples': 52, 'subsample': 0.9572951813440377, 'colsample_bytree': 0.6655220785875493}. Best is trial 25 with value: 0.8950131883755091.\n",
      "[I 2025-07-17 14:30:43,019] Trial 37 finished with value: 1.217341407020578 and parameters: {'n_estimators': 506, 'learning_rate': 0.14283538355846384, 'num_leaves': 23, 'max_depth': 7, 'min_child_samples': 45, 'subsample': 0.8197714242816192, 'colsample_bytree': 0.6267450427273847}. Best is trial 25 with value: 0.8950131883755091.\n",
      "[I 2025-07-17 14:30:50,080] Trial 38 finished with value: 1.3632856457001694 and parameters: {'n_estimators': 428, 'learning_rate': 0.06697206256879688, 'num_leaves': 104, 'max_depth': 11, 'min_child_samples': 88, 'subsample': 0.9409299028251706, 'colsample_bytree': 0.7758187988278097}. Best is trial 25 with value: 0.8950131883755091.\n",
      "[I 2025-07-17 14:30:53,467] Trial 39 finished with value: 1.2118062327255985 and parameters: {'n_estimators': 225, 'learning_rate': 0.02753922235558441, 'num_leaves': 122, 'max_depth': 9, 'min_child_samples': 75, 'subsample': 0.864574086395652, 'colsample_bytree': 0.7310954019188561}. Best is trial 25 with value: 0.8950131883755091.\n",
      "[I 2025-07-17 14:30:58,193] Trial 40 finished with value: 0.9797101739955757 and parameters: {'n_estimators': 118, 'learning_rate': 0.05254234588972781, 'num_leaves': 42, 'max_depth': 10, 'min_child_samples': 19, 'subsample': 0.9708322695640026, 'colsample_bytree': 0.6822098633829681}. Best is trial 25 with value: 0.8950131883755091.\n",
      "[I 2025-07-17 14:31:02,820] Trial 41 finished with value: 1.4098733168794877 and parameters: {'n_estimators': 129, 'learning_rate': 0.05533429094976598, 'num_leaves': 41, 'max_depth': 10, 'min_child_samples': 19, 'subsample': 0.971618417780306, 'colsample_bytree': 0.6749075555889259}. Best is trial 25 with value: 0.8950131883755091.\n",
      "[I 2025-07-17 14:31:20,086] Trial 42 finished with value: 1.2992251344541006 and parameters: {'n_estimators': 301, 'learning_rate': 0.08957934500857873, 'num_leaves': 60, 'max_depth': 12, 'min_child_samples': 6, 'subsample': 0.9547807658957587, 'colsample_bytree': 0.6956833866913537}. Best is trial 25 with value: 0.8950131883755091.\n",
      "[I 2025-07-17 14:31:25,884] Trial 43 finished with value: 1.2144255384865927 and parameters: {'n_estimators': 107, 'learning_rate': 0.04484795123173151, 'num_leaves': 176, 'max_depth': 9, 'min_child_samples': 14, 'subsample': 0.9120311646745914, 'colsample_bytree': 0.723285749634536}. Best is trial 25 with value: 0.8950131883755091.\n",
      "[I 2025-07-17 14:31:38,839] Trial 44 finished with value: 1.022104792272621 and parameters: {'n_estimators': 353, 'learning_rate': 0.03026884226594984, 'num_leaves': 95, 'max_depth': 11, 'min_child_samples': 20, 'subsample': 0.9734639164125493, 'colsample_bytree': 0.76466092451787}. Best is trial 25 with value: 0.8950131883755091.\n",
      "[I 2025-07-17 14:31:42,900] Trial 45 finished with value: 1.2040580094438174 and parameters: {'n_estimators': 170, 'learning_rate': 0.06711214284820932, 'num_leaves': 165, 'max_depth': 10, 'min_child_samples': 30, 'subsample': 0.7755486721241769, 'colsample_bytree': 0.6276714810060172}. Best is trial 25 with value: 0.8950131883755091.\n",
      "[I 2025-07-17 14:31:45,975] Trial 46 finished with value: 1.0593560163631046 and parameters: {'n_estimators': 235, 'learning_rate': 0.0941990158152608, 'num_leaves': 197, 'max_depth': 8, 'min_child_samples': 60, 'subsample': 0.9439989977015841, 'colsample_bytree': 0.7174962470737312}. Best is trial 25 with value: 0.8950131883755091.\n",
      "[I 2025-07-17 14:31:51,104] Trial 47 finished with value: 1.3921009836677933 and parameters: {'n_estimators': 275, 'learning_rate': 0.010448658736645196, 'num_leaves': 75, 'max_depth': 8, 'min_child_samples': 40, 'subsample': 0.9816924668432668, 'colsample_bytree': 0.6665900793620745}. Best is trial 25 with value: 0.8950131883755091.\n",
      "[I 2025-07-17 14:31:54,396] Trial 48 finished with value: 1.4332384752746543 and parameters: {'n_estimators': 538, 'learning_rate': 0.24631181179491157, 'num_leaves': 34, 'max_depth': 7, 'min_child_samples': 25, 'subsample': 0.9224410626245927, 'colsample_bytree': 0.8074784169352047}. Best is trial 25 with value: 0.8950131883755091.\n",
      "[I 2025-07-17 14:32:03,852] Trial 49 finished with value: 0.8635798181505621 and parameters: {'n_estimators': 408, 'learning_rate': 0.02141206426496478, 'num_leaves': 140, 'max_depth': 10, 'min_child_samples': 33, 'subsample': 0.9603585616705659, 'colsample_bytree': 0.7506177697059622}. Best is trial 49 with value: 0.8635798181505621.\n"
     ]
    },
    {
     "name": "stdout",
     "output_type": "stream",
     "text": [
      "Best MAPE for BlendProperty7: 0.8635798181505621\n",
      "Best hyperparameters for BlendProperty7: {'n_estimators': 408, 'learning_rate': 0.02141206426496478, 'num_leaves': 140, 'max_depth': 10, 'min_child_samples': 33, 'subsample': 0.9603585616705659, 'colsample_bytree': 0.7506177697059622}\n"
     ]
    },
    {
     "name": "stderr",
     "output_type": "stream",
     "text": [
      "[I 2025-07-17 14:32:05,968] A new study created in memory with name: no-name-57e2faee-5e05-47d9-80fc-0547e5e4b507\n"
     ]
    },
    {
     "name": "stdout",
     "output_type": "stream",
     "text": [
      "Saved best model for BlendProperty7\n",
      "\n",
      "--- Tuning and Training for BlendProperty8 ---\n"
     ]
    },
    {
     "name": "stderr",
     "output_type": "stream",
     "text": [
      "[I 2025-07-17 14:32:20,948] Trial 0 finished with value: 0.930865159580442 and parameters: {'n_estimators': 637, 'learning_rate': 0.08989145632044838, 'num_leaves': 200, 'max_depth': 7, 'min_child_samples': 40, 'subsample': 0.8106375190843849, 'colsample_bytree': 0.6708862762804473}. Best is trial 0 with value: 0.930865159580442.\n",
      "[I 2025-07-17 14:32:23,298] Trial 1 finished with value: 1.2432420854655126 and parameters: {'n_estimators': 990, 'learning_rate': 0.27603667116159175, 'num_leaves': 35, 'max_depth': 10, 'min_child_samples': 93, 'subsample': 0.9928054560731421, 'colsample_bytree': 0.7406847717118747}. Best is trial 0 with value: 0.930865159580442.\n",
      "[I 2025-07-17 14:32:30,375] Trial 2 finished with value: 0.9733316680521421 and parameters: {'n_estimators': 583, 'learning_rate': 0.08971099168192688, 'num_leaves': 207, 'max_depth': 8, 'min_child_samples': 60, 'subsample': 0.9999698154664626, 'colsample_bytree': 0.6801550374908601}. Best is trial 0 with value: 0.930865159580442.\n",
      "[I 2025-07-17 14:32:32,510] Trial 3 finished with value: 1.3745371769678307 and parameters: {'n_estimators': 792, 'learning_rate': 0.1861868463248148, 'num_leaves': 188, 'max_depth': 3, 'min_child_samples': 8, 'subsample': 0.6051547787762303, 'colsample_bytree': 0.9238871095862405}. Best is trial 0 with value: 0.930865159580442.\n",
      "[I 2025-07-17 14:32:43,816] Trial 4 finished with value: 1.0445830790718489 and parameters: {'n_estimators': 341, 'learning_rate': 0.08628381316168561, 'num_leaves': 163, 'max_depth': 7, 'min_child_samples': 10, 'subsample': 0.7634185692997835, 'colsample_bytree': 0.8058048195820915}. Best is trial 0 with value: 0.930865159580442.\n",
      "[I 2025-07-17 14:32:48,540] Trial 5 finished with value: 0.9318975215607871 and parameters: {'n_estimators': 941, 'learning_rate': 0.08040988577794342, 'num_leaves': 118, 'max_depth': 8, 'min_child_samples': 80, 'subsample': 0.622182579806707, 'colsample_bytree': 0.6730878240001225}. Best is trial 0 with value: 0.930865159580442.\n",
      "[I 2025-07-17 14:32:55,455] Trial 6 finished with value: 0.9900348431596011 and parameters: {'n_estimators': 554, 'learning_rate': 0.13284617310567956, 'num_leaves': 51, 'max_depth': 10, 'min_child_samples': 39, 'subsample': 0.6860434869684161, 'colsample_bytree': 0.7699427531572374}. Best is trial 0 with value: 0.930865159580442.\n",
      "[I 2025-07-17 14:32:58,027] Trial 7 finished with value: 1.2407036767214303 and parameters: {'n_estimators': 372, 'learning_rate': 0.1605567305036521, 'num_leaves': 100, 'max_depth': 4, 'min_child_samples': 21, 'subsample': 0.8517800097841233, 'colsample_bytree': 0.6958613842636695}. Best is trial 0 with value: 0.930865159580442.\n",
      "[I 2025-07-17 14:33:00,145] Trial 8 finished with value: 1.2112798247009855 and parameters: {'n_estimators': 476, 'learning_rate': 0.2472641480130638, 'num_leaves': 138, 'max_depth': 5, 'min_child_samples': 72, 'subsample': 0.8015807210050109, 'colsample_bytree': 0.6788684560735857}. Best is trial 0 with value: 0.930865159580442.\n",
      "[I 2025-07-17 14:33:01,545] Trial 9 finished with value: 1.5685666703415468 and parameters: {'n_estimators': 580, 'learning_rate': 0.2672457117902836, 'num_leaves': 120, 'max_depth': 3, 'min_child_samples': 96, 'subsample': 0.9379735190179519, 'colsample_bytree': 0.9484984616718685}. Best is trial 0 with value: 0.930865159580442.\n",
      "[I 2025-07-17 14:33:04,155] Trial 10 finished with value: 0.9558795920880288 and parameters: {'n_estimators': 116, 'learning_rate': 0.019080221372886536, 'num_leaves': 279, 'max_depth': 12, 'min_child_samples': 38, 'subsample': 0.8675843512408126, 'colsample_bytree': 0.6005796689294671}. Best is trial 0 with value: 0.930865159580442.\n",
      "[I 2025-07-17 14:33:17,318] Trial 11 finished with value: 0.8968851477436388 and parameters: {'n_estimators': 843, 'learning_rate': 0.027112391916303213, 'num_leaves': 237, 'max_depth': 7, 'min_child_samples': 74, 'subsample': 0.7066337738244284, 'colsample_bytree': 0.60451426474757}. Best is trial 11 with value: 0.8968851477436388.\n",
      "[I 2025-07-17 14:33:27,299] Trial 12 finished with value: 0.8974801101598612 and parameters: {'n_estimators': 743, 'learning_rate': 0.012602300620370793, 'num_leaves': 250, 'max_depth': 6, 'min_child_samples': 55, 'subsample': 0.7270086575994996, 'colsample_bytree': 0.6147928855544238}. Best is trial 11 with value: 0.8968851477436388.\n",
      "[I 2025-07-17 14:33:35,398] Trial 13 finished with value: 0.8729573680397789 and parameters: {'n_estimators': 781, 'learning_rate': 0.01721620618541734, 'num_leaves': 271, 'max_depth': 6, 'min_child_samples': 58, 'subsample': 0.7160972671280555, 'colsample_bytree': 0.6011826973107223}. Best is trial 13 with value: 0.8729573680397789.\n",
      "[I 2025-07-17 14:33:41,436] Trial 14 finished with value: 0.9779550474815972 and parameters: {'n_estimators': 835, 'learning_rate': 0.05419775659403697, 'num_leaves': 294, 'max_depth': 5, 'min_child_samples': 69, 'subsample': 0.6768089066700914, 'colsample_bytree': 0.853610208755945}. Best is trial 13 with value: 0.8729573680397789.\n",
      "[I 2025-07-17 14:33:54,251] Trial 15 finished with value: 0.9220745515519233 and parameters: {'n_estimators': 867, 'learning_rate': 0.04166341054582791, 'num_leaves': 237, 'max_depth': 9, 'min_child_samples': 80, 'subsample': 0.6995650233591192, 'colsample_bytree': 0.6030016956963661}. Best is trial 13 with value: 0.8729573680397789.\n",
      "[I 2025-07-17 14:34:01,309] Trial 16 finished with value: 1.0352768218282091 and parameters: {'n_estimators': 692, 'learning_rate': 0.12724460482477343, 'num_leaves': 254, 'max_depth': 6, 'min_child_samples': 46, 'subsample': 0.7470943892433564, 'colsample_bytree': 0.9902893325962574}. Best is trial 13 with value: 0.8729573680397789.\n",
      "[I 2025-07-17 14:34:04,282] Trial 17 finished with value: 1.2553640102010382 and parameters: {'n_estimators': 892, 'learning_rate': 0.1998346337910892, 'num_leaves': 226, 'max_depth': 6, 'min_child_samples': 63, 'subsample': 0.6573529636995685, 'colsample_bytree': 0.7368064144184115}. Best is trial 13 with value: 0.8729573680397789.\n",
      "[I 2025-07-17 14:34:16,321] Trial 18 finished with value: 0.881533930670394 and parameters: {'n_estimators': 708, 'learning_rate': 0.0488729857872732, 'num_leaves': 268, 'max_depth': 12, 'min_child_samples': 85, 'subsample': 0.7705983562043363, 'colsample_bytree': 0.6371728544895363}. Best is trial 13 with value: 0.8729573680397789.\n",
      "[I 2025-07-17 14:34:22,568] Trial 19 finished with value: 1.0051126580826952 and parameters: {'n_estimators': 686, 'learning_rate': 0.05899915330794553, 'num_leaves': 276, 'max_depth': 12, 'min_child_samples': 84, 'subsample': 0.776486519417971, 'colsample_bytree': 0.8416983633771774}. Best is trial 13 with value: 0.8729573680397789.\n",
      "[I 2025-07-17 14:34:35,530] Trial 20 finished with value: 1.1512678329383896 and parameters: {'n_estimators': 444, 'learning_rate': 0.11865818487548882, 'num_leaves': 170, 'max_depth': 11, 'min_child_samples': 28, 'subsample': 0.8390577354336657, 'colsample_bytree': 0.6329492156007012}. Best is trial 13 with value: 0.8729573680397789.\n",
      "[I 2025-07-17 14:34:42,508] Trial 21 finished with value: 0.8514934284932287 and parameters: {'n_estimators': 759, 'learning_rate': 0.0323354385860162, 'num_leaves': 298, 'max_depth': 9, 'min_child_samples': 87, 'subsample': 0.7212551503852256, 'colsample_bytree': 0.6349737019126509}. Best is trial 21 with value: 0.8514934284932287.\n",
      "[I 2025-07-17 14:34:50,327] Trial 22 finished with value: 0.8954415880430939 and parameters: {'n_estimators': 758, 'learning_rate': 0.05865757980761993, 'num_leaves': 293, 'max_depth': 9, 'min_child_samples': 92, 'subsample': 0.7315491212915926, 'colsample_bytree': 0.6431028820754061}. Best is trial 21 with value: 0.8514934284932287.\n",
      "[I 2025-07-17 14:34:57,259] Trial 23 finished with value: 1.0148432295659346 and parameters: {'n_estimators': 674, 'learning_rate': 0.04207651501344532, 'num_leaves': 269, 'max_depth': 10, 'min_child_samples': 84, 'subsample': 0.6505522565227473, 'colsample_bytree': 0.7287459473055717}. Best is trial 21 with value: 0.8514934284932287.\n",
      "[I 2025-07-17 14:35:03,497] Trial 24 finished with value: 0.9717446008598312 and parameters: {'n_estimators': 742, 'learning_rate': 0.010276849890964841, 'num_leaves': 298, 'max_depth': 11, 'min_child_samples': 98, 'subsample': 0.8922810905077718, 'colsample_bytree': 0.6437150819126595}. Best is trial 21 with value: 0.8514934284932287.\n",
      "[I 2025-07-17 14:35:16,543] Trial 25 finished with value: 0.8504133440634183 and parameters: {'n_estimators': 933, 'learning_rate': 0.0718095060572126, 'num_leaves': 263, 'max_depth': 9, 'min_child_samples': 89, 'subsample': 0.7782266663245971, 'colsample_bytree': 0.6454829638805286}. Best is trial 25 with value: 0.8504133440634183.\n",
      "[I 2025-07-17 14:35:22,738] Trial 26 finished with value: 1.1568808472072356 and parameters: {'n_estimators': 998, 'learning_rate': 0.1043515027838374, 'num_leaves': 220, 'max_depth': 9, 'min_child_samples': 64, 'subsample': 0.7216224362725219, 'colsample_bytree': 0.7126893536817764}. Best is trial 25 with value: 0.8504133440634183.\n",
      "[I 2025-07-17 14:35:38,682] Trial 27 finished with value: 0.9837536657651567 and parameters: {'n_estimators': 918, 'learning_rate': 0.03363116558183972, 'num_leaves': 254, 'max_depth': 8, 'min_child_samples': 51, 'subsample': 0.8168531434726215, 'colsample_bytree': 0.7675423964080365}. Best is trial 25 with value: 0.8504133440634183.\n",
      "[I 2025-07-17 14:35:44,519] Trial 28 finished with value: 0.9668484880510195 and parameters: {'n_estimators': 826, 'learning_rate': 0.07148208388269553, 'num_leaves': 75, 'max_depth': 9, 'min_child_samples': 88, 'subsample': 0.7880221272209925, 'colsample_bytree': 0.658455336745602}. Best is trial 25 with value: 0.8504133440634183.\n",
      "[I 2025-07-17 14:35:49,352] Trial 29 finished with value: 1.0004501076023058 and parameters: {'n_estimators': 627, 'learning_rate': 0.10768840098821705, 'num_leaves': 187, 'max_depth': 5, 'min_child_samples': 77, 'subsample': 0.8162108551720134, 'colsample_bytree': 0.6976134376402421}. Best is trial 25 with value: 0.8504133440634183.\n",
      "[I 2025-07-17 14:35:51,817] Trial 30 finished with value: 0.9569901608020632 and parameters: {'n_estimators': 908, 'learning_rate': 0.14466549100741627, 'num_leaves': 208, 'max_depth': 7, 'min_child_samples': 100, 'subsample': 0.7477211890737903, 'colsample_bytree': 0.6579889511534399}. Best is trial 25 with value: 0.8504133440634183.\n",
      "[I 2025-07-17 14:35:57,523] Trial 31 finished with value: 0.8738591396382167 and parameters: {'n_estimators': 795, 'learning_rate': 0.06864119573912232, 'num_leaves': 268, 'max_depth': 11, 'min_child_samples': 87, 'subsample': 0.7588867948258561, 'colsample_bytree': 0.6306439808914138}. Best is trial 25 with value: 0.8504133440634183.\n",
      "[I 2025-07-17 14:36:03,294] Trial 32 finished with value: 0.9325656137086812 and parameters: {'n_estimators': 799, 'learning_rate': 0.06722541318006339, 'num_leaves': 283, 'max_depth': 11, 'min_child_samples': 88, 'subsample': 0.6547034353425117, 'colsample_bytree': 0.625709724498572}. Best is trial 25 with value: 0.8504133440634183.\n",
      "[I 2025-07-17 14:36:21,906] Trial 33 finished with value: 0.9365532122372887 and parameters: {'n_estimators': 957, 'learning_rate': 0.029176110162111447, 'num_leaves': 259, 'max_depth': 10, 'min_child_samples': 69, 'subsample': 0.7525895392695741, 'colsample_bytree': 0.6607665987143331}. Best is trial 25 with value: 0.8504133440634183.\n",
      "[I 2025-07-17 14:36:25,954] Trial 34 finished with value: 0.7522846102426115 and parameters: {'n_estimators': 627, 'learning_rate': 0.09800273991886255, 'num_leaves': 300, 'max_depth': 8, 'min_child_samples': 92, 'subsample': 0.7105427600668206, 'colsample_bytree': 0.6267922791476829}. Best is trial 34 with value: 0.7522846102426115.\n",
      "[I 2025-07-17 14:36:30,084] Trial 35 finished with value: 1.120869648407626 and parameters: {'n_estimators': 625, 'learning_rate': 0.10102934986087411, 'num_leaves': 297, 'max_depth': 8, 'min_child_samples': 94, 'subsample': 0.7004883319050963, 'colsample_bytree': 0.7034503408447013}. Best is trial 34 with value: 0.7522846102426115.\n",
      "[I 2025-07-17 14:36:34,192] Trial 36 finished with value: 0.9787928391912855 and parameters: {'n_estimators': 456, 'learning_rate': 0.08391581125460454, 'num_leaves': 240, 'max_depth': 7, 'min_child_samples': 94, 'subsample': 0.6334823645895228, 'colsample_bytree': 0.6721016779556246}. Best is trial 34 with value: 0.7522846102426115.\n",
      "[I 2025-07-17 14:36:38,318] Trial 37 finished with value: 1.2567513986487604 and parameters: {'n_estimators': 608, 'learning_rate': 0.17184273825413654, 'num_leaves': 23, 'max_depth': 9, 'min_child_samples': 79, 'subsample': 0.6796861012908131, 'colsample_bytree': 0.7670798096638995}. Best is trial 34 with value: 0.7522846102426115.\n",
      "[I 2025-07-17 14:36:41,851] Trial 38 finished with value: 1.2151103134655048 and parameters: {'n_estimators': 491, 'learning_rate': 0.20892114626353153, 'num_leaves': 283, 'max_depth': 8, 'min_child_samples': 58, 'subsample': 0.7161228037936652, 'colsample_bytree': 0.8693146725257065}. Best is trial 34 with value: 0.7522846102426115.\n",
      "[I 2025-07-17 14:36:46,060] Trial 39 finished with value: 1.050801488049118 and parameters: {'n_estimators': 143, 'learning_rate': 0.08942350226771037, 'num_leaves': 200, 'max_depth': 10, 'min_child_samples': 34, 'subsample': 0.789198637427067, 'colsample_bytree': 0.8107608599280685}. Best is trial 34 with value: 0.7522846102426115.\n",
      "[I 2025-07-17 14:36:56,631] Trial 40 finished with value: 0.9934398120224055 and parameters: {'n_estimators': 530, 'learning_rate': 0.03946311755041937, 'num_leaves': 284, 'max_depth': 7, 'min_child_samples': 21, 'subsample': 0.6195474982301019, 'colsample_bytree': 0.6197860005373441}. Best is trial 34 with value: 0.7522846102426115.\n",
      "[I 2025-07-17 14:37:02,409] Trial 41 finished with value: 0.9461898556982149 and parameters: {'n_estimators': 789, 'learning_rate': 0.07250355077950436, 'num_leaves': 266, 'max_depth': 8, 'min_child_samples': 91, 'subsample': 0.7422708375022827, 'colsample_bytree': 0.6483396983264801}. Best is trial 34 with value: 0.7522846102426115.\n",
      "[I 2025-07-17 14:37:15,289] Trial 42 finished with value: 0.971116451893035 and parameters: {'n_estimators': 958, 'learning_rate': 0.026629280462711798, 'num_leaves': 299, 'max_depth': 11, 'min_child_samples': 100, 'subsample': 0.7686124602912177, 'colsample_bytree': 0.6326814307969787}. Best is trial 34 with value: 0.7522846102426115.\n",
      "[I 2025-07-17 14:37:21,230] Trial 43 finished with value: 1.0069458688448547 and parameters: {'n_estimators': 782, 'learning_rate': 0.0752157748719548, 'num_leaves': 246, 'max_depth': 10, 'min_child_samples': 88, 'subsample': 0.6807544625706736, 'colsample_bytree': 0.6882229726081512}. Best is trial 34 with value: 0.7522846102426115.\n",
      "[I 2025-07-17 14:37:26,159] Trial 44 finished with value: 0.8990092876941839 and parameters: {'n_estimators': 661, 'learning_rate': 0.09524642959399651, 'num_leaves': 268, 'max_depth': 6, 'min_child_samples': 74, 'subsample': 0.8017786486750826, 'colsample_bytree': 0.6193362316557243}. Best is trial 34 with value: 0.7522846102426115.\n",
      "[I 2025-07-17 14:37:31,489] Trial 45 finished with value: 0.8838361630879232 and parameters: {'n_estimators': 864, 'learning_rate': 0.05537014960623433, 'num_leaves': 223, 'max_depth': 4, 'min_child_samples': 82, 'subsample': 0.8378398191955688, 'colsample_bytree': 0.6790297538612593}. Best is trial 34 with value: 0.7522846102426115.\n",
      "[I 2025-07-17 14:37:38,197] Trial 46 finished with value: 1.0920957261721191 and parameters: {'n_estimators': 721, 'learning_rate': 0.11534601399717671, 'num_leaves': 284, 'max_depth': 9, 'min_child_samples': 47, 'subsample': 0.9805347061726123, 'colsample_bytree': 0.6041674955474492}. Best is trial 34 with value: 0.7522846102426115.\n",
      "[I 2025-07-17 14:37:49,331] Trial 47 finished with value: 0.8535699716575618 and parameters: {'n_estimators': 817, 'learning_rate': 0.022889158127957707, 'num_leaves': 259, 'max_depth': 8, 'min_child_samples': 68, 'subsample': 0.6987585052487392, 'colsample_bytree': 0.6552323872423425}. Best is trial 34 with value: 0.7522846102426115.\n",
      "[I 2025-07-17 14:37:57,796] Trial 48 finished with value: 0.8778102827119998 and parameters: {'n_estimators': 568, 'learning_rate': 0.021451485794582628, 'num_leaves': 254, 'max_depth': 8, 'min_child_samples': 65, 'subsample': 0.6926280849982388, 'colsample_bytree': 0.7195601316017114}. Best is trial 34 with value: 0.7522846102426115.\n",
      "[I 2025-07-17 14:38:14,198] Trial 49 finished with value: 0.7616788926703786 and parameters: {'n_estimators': 883, 'learning_rate': 0.016741063237584675, 'num_leaves': 134, 'max_depth': 7, 'min_child_samples': 71, 'subsample': 0.7126995370025754, 'colsample_bytree': 0.6560175491703814}. Best is trial 34 with value: 0.7522846102426115.\n"
     ]
    },
    {
     "name": "stdout",
     "output_type": "stream",
     "text": [
      "Best MAPE for BlendProperty8: 0.7522846102426115\n",
      "Best hyperparameters for BlendProperty8: {'n_estimators': 627, 'learning_rate': 0.09800273991886255, 'num_leaves': 300, 'max_depth': 8, 'min_child_samples': 92, 'subsample': 0.7105427600668206, 'colsample_bytree': 0.6267922791476829}\n"
     ]
    },
    {
     "name": "stderr",
     "output_type": "stream",
     "text": [
      "[I 2025-07-17 14:38:15,431] A new study created in memory with name: no-name-a8ed8880-005c-4f37-9572-da14dc2468f3\n"
     ]
    },
    {
     "name": "stdout",
     "output_type": "stream",
     "text": [
      "Saved best model for BlendProperty8\n",
      "\n",
      "--- Tuning and Training for BlendProperty9 ---\n"
     ]
    },
    {
     "name": "stderr",
     "output_type": "stream",
     "text": [
      "[I 2025-07-17 14:38:17,053] Trial 0 finished with value: 2.0141476227204285 and parameters: {'n_estimators': 671, 'learning_rate': 0.2587213210449673, 'num_leaves': 125, 'max_depth': 3, 'min_child_samples': 81, 'subsample': 0.6292484132158126, 'colsample_bytree': 0.7082678216998476}. Best is trial 0 with value: 2.0141476227204285.\n",
      "[I 2025-07-17 14:38:20,440] Trial 1 finished with value: 1.1899517000090578 and parameters: {'n_estimators': 789, 'learning_rate': 0.12275441846514691, 'num_leaves': 86, 'max_depth': 5, 'min_child_samples': 86, 'subsample': 0.8331138387469714, 'colsample_bytree': 0.7935763202443387}. Best is trial 1 with value: 1.1899517000090578.\n",
      "[I 2025-07-17 14:38:21,435] Trial 2 finished with value: 2.4254605874132835 and parameters: {'n_estimators': 645, 'learning_rate': 0.17265707297175126, 'num_leaves': 61, 'max_depth': 3, 'min_child_samples': 43, 'subsample': 0.9369285232246297, 'colsample_bytree': 0.6351826676814885}. Best is trial 1 with value: 1.1899517000090578.\n",
      "[I 2025-07-17 14:38:24,864] Trial 3 finished with value: 1.0486974516840133 and parameters: {'n_estimators': 817, 'learning_rate': 0.15120966183383497, 'num_leaves': 191, 'max_depth': 6, 'min_child_samples': 63, 'subsample': 0.7721175594236397, 'colsample_bytree': 0.8619515376326402}. Best is trial 3 with value: 1.0486974516840133.\n",
      "[I 2025-07-17 14:38:25,817] Trial 4 finished with value: 1.4124660101974702 and parameters: {'n_estimators': 924, 'learning_rate': 0.2853313796412649, 'num_leaves': 56, 'max_depth': 8, 'min_child_samples': 92, 'subsample': 0.7939411084338678, 'colsample_bytree': 0.8865137893888322}. Best is trial 3 with value: 1.0486974516840133.\n",
      "[I 2025-07-17 14:38:30,404] Trial 5 finished with value: 1.0488889565153663 and parameters: {'n_estimators': 749, 'learning_rate': 0.13393834279464686, 'num_leaves': 44, 'max_depth': 8, 'min_child_samples': 52, 'subsample': 0.8010998039457927, 'colsample_bytree': 0.9601510827303041}. Best is trial 3 with value: 1.0486974516840133.\n",
      "[I 2025-07-17 14:38:34,428] Trial 6 finished with value: 1.7630147186019385 and parameters: {'n_estimators': 231, 'learning_rate': 0.08272135030353678, 'num_leaves': 154, 'max_depth': 5, 'min_child_samples': 27, 'subsample': 0.7010187563051946, 'colsample_bytree': 0.9985324805832974}. Best is trial 3 with value: 1.0486974516840133.\n",
      "[I 2025-07-17 14:38:44,203] Trial 7 finished with value: 1.2567636200767285 and parameters: {'n_estimators': 538, 'learning_rate': 0.13471974975143744, 'num_leaves': 154, 'max_depth': 9, 'min_child_samples': 6, 'subsample': 0.7653633741253957, 'colsample_bytree': 0.6358555593048695}. Best is trial 3 with value: 1.0486974516840133.\n",
      "[I 2025-07-17 14:38:45,970] Trial 8 finished with value: 1.5548146913109484 and parameters: {'n_estimators': 844, 'learning_rate': 0.28274136051115006, 'num_leaves': 98, 'max_depth': 12, 'min_child_samples': 94, 'subsample': 0.7778872287989738, 'colsample_bytree': 0.7138260879021406}. Best is trial 3 with value: 1.0486974516840133.\n",
      "[I 2025-07-17 14:38:48,764] Trial 9 finished with value: 1.1135802635427219 and parameters: {'n_estimators': 549, 'learning_rate': 0.12740219842890807, 'num_leaves': 26, 'max_depth': 8, 'min_child_samples': 64, 'subsample': 0.7716475010470905, 'colsample_bytree': 0.625830621778068}. Best is trial 3 with value: 1.0486974516840133.\n",
      "[I 2025-07-17 14:38:54,508] Trial 10 finished with value: 1.5556873964349651 and parameters: {'n_estimators': 382, 'learning_rate': 0.012475515567474366, 'num_leaves': 247, 'max_depth': 11, 'min_child_samples': 67, 'subsample': 0.9277741115611536, 'colsample_bytree': 0.8626502923476307}. Best is trial 3 with value: 1.0486974516840133.\n",
      "[I 2025-07-17 14:38:57,060] Trial 11 finished with value: 2.3988810598612824 and parameters: {'n_estimators': 994, 'learning_rate': 0.2076556285110203, 'num_leaves': 223, 'max_depth': 6, 'min_child_samples': 48, 'subsample': 0.8597293413960287, 'colsample_bytree': 0.9819706294456282}. Best is trial 3 with value: 1.0486974516840133.\n",
      "[I 2025-07-17 14:39:04,503] Trial 12 finished with value: 1.6238612011989928 and parameters: {'n_estimators': 752, 'learning_rate': 0.07469661112724511, 'num_leaves': 200, 'max_depth': 10, 'min_child_samples': 35, 'subsample': 0.6810555167380951, 'colsample_bytree': 0.9188018935965331}. Best is trial 3 with value: 1.0486974516840133.\n",
      "[I 2025-07-17 14:39:06,467] Trial 13 finished with value: 1.2472933373614907 and parameters: {'n_estimators': 840, 'learning_rate': 0.19269584293479458, 'num_leaves': 300, 'max_depth': 7, 'min_child_samples': 61, 'subsample': 0.8837952035785325, 'colsample_bytree': 0.8172219204642742}. Best is trial 3 with value: 1.0486974516840133.\n",
      "[I 2025-07-17 14:39:08,271] Trial 14 finished with value: 1.8349728803247949 and parameters: {'n_estimators': 452, 'learning_rate': 0.21935601881210934, 'num_leaves': 195, 'max_depth': 6, 'min_child_samples': 73, 'subsample': 0.9924568289974711, 'colsample_bytree': 0.9373922617986122}. Best is trial 3 with value: 1.0486974516840133.\n",
      "[I 2025-07-17 14:39:23,320] Trial 15 finished with value: 1.4814201422306048 and parameters: {'n_estimators': 663, 'learning_rate': 0.07825983642043483, 'num_leaves': 269, 'max_depth': 9, 'min_child_samples': 23, 'subsample': 0.7025953008918123, 'colsample_bytree': 0.8351987342788971}. Best is trial 3 with value: 1.0486974516840133.\n",
      "[I 2025-07-17 14:39:25,431] Trial 16 finished with value: 1.2859111571424064 and parameters: {'n_estimators': 157, 'learning_rate': 0.16468406151383078, 'num_leaves': 176, 'max_depth': 7, 'min_child_samples': 55, 'subsample': 0.733130445667908, 'colsample_bytree': 0.9404688640367839}. Best is trial 3 with value: 1.0486974516840133.\n",
      "[I 2025-07-17 14:39:31,411] Trial 17 finished with value: 1.6593487120745969 and parameters: {'n_estimators': 929, 'learning_rate': 0.04418301723524011, 'num_leaves': 113, 'max_depth': 5, 'min_child_samples': 75, 'subsample': 0.8345930571060287, 'colsample_bytree': 0.7624982754296897}. Best is trial 3 with value: 1.0486974516840133.\n",
      "[I 2025-07-17 14:39:33,837] Trial 18 finished with value: 1.633391775390074 and parameters: {'n_estimators': 772, 'learning_rate': 0.10542107328708683, 'num_leaves': 26, 'max_depth': 4, 'min_child_samples': 53, 'subsample': 0.6058260728945948, 'colsample_bytree': 0.8943178410894009}. Best is trial 3 with value: 1.0486974516840133.\n",
      "[I 2025-07-17 14:39:37,046] Trial 19 finished with value: 1.6502915428607552 and parameters: {'n_estimators': 371, 'learning_rate': 0.23337797828171788, 'num_leaves': 138, 'max_depth': 9, 'min_child_samples': 35, 'subsample': 0.7390758128514646, 'colsample_bytree': 0.9602481666794803}. Best is trial 3 with value: 1.0486974516840133.\n",
      "[I 2025-07-17 14:39:43,853] Trial 20 finished with value: 1.4366280867641312 and parameters: {'n_estimators': 699, 'learning_rate': 0.1641498310948738, 'num_leaves': 230, 'max_depth': 7, 'min_child_samples': 11, 'subsample': 0.6532354524540898, 'colsample_bytree': 0.861869291872131}. Best is trial 3 with value: 1.0486974516840133.\n",
      "[I 2025-07-17 14:39:45,779] Trial 21 finished with value: 1.2860429425699766 and parameters: {'n_estimators': 549, 'learning_rate': 0.135643469807382, 'num_leaves': 25, 'max_depth': 8, 'min_child_samples': 64, 'subsample': 0.8152937933939297, 'colsample_bytree': 0.6061018813970299}. Best is trial 3 with value: 1.0486974516840133.\n",
      "[I 2025-07-17 14:39:49,058] Trial 22 finished with value: 1.450171057309425 and parameters: {'n_estimators': 583, 'learning_rate': 0.10862846433631246, 'num_leaves': 62, 'max_depth': 6, 'min_child_samples': 60, 'subsample': 0.7489406354257866, 'colsample_bytree': 0.7478642222449141}. Best is trial 3 with value: 1.0486974516840133.\n",
      "[I 2025-07-17 14:39:51,525] Trial 23 finished with value: 2.1372125772589756 and parameters: {'n_estimators': 599, 'learning_rate': 0.1495529699635587, 'num_leaves': 42, 'max_depth': 8, 'min_child_samples': 45, 'subsample': 0.7982883435246615, 'colsample_bytree': 0.6673355072737659}. Best is trial 3 with value: 1.0486974516840133.\n",
      "[I 2025-07-17 14:39:53,627] Trial 24 finished with value: 1.9739665996339721 and parameters: {'n_estimators': 466, 'learning_rate': 0.18508193921076033, 'num_leaves': 84, 'max_depth': 10, 'min_child_samples': 69, 'subsample': 0.8764926957214383, 'colsample_bytree': 0.7800566481646427}. Best is trial 3 with value: 1.0486974516840133.\n",
      "[I 2025-07-17 14:39:57,334] Trial 25 finished with value: 1.357869683199978 and parameters: {'n_estimators': 871, 'learning_rate': 0.10136245434680241, 'num_leaves': 41, 'max_depth': 10, 'min_child_samples': 82, 'subsample': 0.7707589596837621, 'colsample_bytree': 0.8501153609616917}. Best is trial 3 with value: 1.0486974516840133.\n",
      "[I 2025-07-17 14:40:02,697] Trial 26 finished with value: 1.679479808114285 and parameters: {'n_estimators': 717, 'learning_rate': 0.05395188012604488, 'num_leaves': 186, 'max_depth': 7, 'min_child_samples': 56, 'subsample': 0.8490530747942576, 'colsample_bytree': 0.9109035800555891}. Best is trial 3 with value: 1.0486974516840133.\n",
      "[I 2025-07-17 14:40:05,286] Trial 27 finished with value: 1.724502696531556 and parameters: {'n_estimators': 476, 'learning_rate': 0.14458648674078567, 'num_leaves': 74, 'max_depth': 8, 'min_child_samples': 75, 'subsample': 0.7202463104457648, 'colsample_bytree': 0.7262330868788832}. Best is trial 3 with value: 1.0486974516840133.\n",
      "[I 2025-07-17 14:40:06,945] Trial 28 finished with value: 1.5388812311009084 and parameters: {'n_estimators': 303, 'learning_rate': 0.12687443097592582, 'num_leaves': 109, 'max_depth': 6, 'min_child_samples': 100, 'subsample': 0.9006965540711708, 'colsample_bytree': 0.6817498904888385}. Best is trial 3 with value: 1.0486974516840133.\n",
      "[I 2025-07-17 14:40:14,207] Trial 29 finished with value: 1.4772994867128482 and parameters: {'n_estimators': 649, 'learning_rate': 0.19449525904795167, 'num_leaves': 137, 'max_depth': 4, 'min_child_samples': 38, 'subsample': 0.6581585326890339, 'colsample_bytree': 0.8129543190558965}. Best is trial 3 with value: 1.0486974516840133.\n",
      "[I 2025-07-17 14:40:16,416] Trial 30 finished with value: 1.540332883615262 and parameters: {'n_estimators': 989, 'learning_rate': 0.2457718367109903, 'num_leaves': 168, 'max_depth': 9, 'min_child_samples': 48, 'subsample': 0.8100309777048775, 'colsample_bytree': 0.9658923838662643}. Best is trial 3 with value: 1.0486974516840133.\n",
      "[I 2025-07-17 14:40:18,432] Trial 31 finished with value: 1.03715514753597 and parameters: {'n_estimators': 804, 'learning_rate': 0.11884427290608274, 'num_leaves': 20, 'max_depth': 5, 'min_child_samples': 84, 'subsample': 0.8179611405251406, 'colsample_bytree': 0.8030456367742562}. Best is trial 31 with value: 1.03715514753597.\n",
      "[I 2025-07-17 14:40:20,164] Trial 32 finished with value: 1.8231985160425581 and parameters: {'n_estimators': 800, 'learning_rate': 0.11337394569297124, 'num_leaves': 41, 'max_depth': 4, 'min_child_samples': 83, 'subsample': 0.7842456321526894, 'colsample_bytree': 0.7888256514540872}. Best is trial 31 with value: 1.03715514753597.\n",
      "[I 2025-07-17 14:40:22,283] Trial 33 finished with value: 1.3814867699317848 and parameters: {'n_estimators': 891, 'learning_rate': 0.09462971976674456, 'num_leaves': 35, 'max_depth': 3, 'min_child_samples': 88, 'subsample': 0.8226240425536755, 'colsample_bytree': 0.743361902077687}. Best is trial 31 with value: 1.03715514753597.\n",
      "[I 2025-07-17 14:40:24,909] Trial 34 finished with value: 1.266710525203015 and parameters: {'n_estimators': 723, 'learning_rate': 0.15713626654514054, 'num_leaves': 56, 'max_depth': 5, 'min_child_samples': 70, 'subsample': 0.7531742756563038, 'colsample_bytree': 0.8876617351144596}. Best is trial 31 with value: 1.03715514753597.\n",
      "[I 2025-07-17 14:40:27,593] Trial 35 finished with value: 1.374069138106515 and parameters: {'n_estimators': 807, 'learning_rate': 0.12294865066683462, 'num_leaves': 22, 'max_depth': 5, 'min_child_samples': 78, 'subsample': 0.8463612622488957, 'colsample_bytree': 0.8327712156761404}. Best is trial 31 with value: 1.03715514753597.\n",
      "[I 2025-07-17 14:40:29,230] Trial 36 finished with value: 1.5166370169049004 and parameters: {'n_estimators': 626, 'learning_rate': 0.17575958024429567, 'num_leaves': 63, 'max_depth': 6, 'min_child_samples': 60, 'subsample': 0.7936997082013606, 'colsample_bytree': 0.6891686947202497}. Best is trial 31 with value: 1.03715514753597.\n",
      "[I 2025-07-17 14:40:31,296] Trial 37 finished with value: 1.0195116711751004 and parameters: {'n_estimators': 932, 'learning_rate': 0.14252919433879746, 'num_leaves': 77, 'max_depth': 7, 'min_child_samples': 89, 'subsample': 0.7107115092423071, 'colsample_bytree': 0.7733755306325645}. Best is trial 37 with value: 1.0195116711751004.\n",
      "[I 2025-07-17 14:40:34,531] Trial 38 finished with value: 1.0858430562149113 and parameters: {'n_estimators': 935, 'learning_rate': 0.14479785118877822, 'num_leaves': 91, 'max_depth': 7, 'min_child_samples': 90, 'subsample': 0.7086135744441143, 'colsample_bytree': 0.8024480515310769}. Best is trial 37 with value: 1.0195116711751004.\n",
      "[I 2025-07-17 14:40:36,559] Trial 39 finished with value: 1.615710179964291 and parameters: {'n_estimators': 892, 'learning_rate': 0.08925026710963307, 'num_leaves': 73, 'max_depth': 3, 'min_child_samples': 93, 'subsample': 0.6830322680059044, 'colsample_bytree': 0.778286570323446}. Best is trial 37 with value: 1.0195116711751004.\n",
      "[I 2025-07-17 14:40:38,405] Trial 40 finished with value: 1.497378162382804 and parameters: {'n_estimators': 838, 'learning_rate': 0.13705339873604194, 'num_leaves': 51, 'max_depth': 6, 'min_child_samples': 100, 'subsample': 0.7274458730339141, 'colsample_bytree': 0.8682988220368506}. Best is trial 37 with value: 1.0195116711751004.\n",
      "[I 2025-07-17 14:40:41,085] Trial 41 finished with value: 0.958715108570737 and parameters: {'n_estimators': 941, 'learning_rate': 0.1499760820730177, 'num_leaves': 88, 'max_depth': 7, 'min_child_samples': 86, 'subsample': 0.7131757505051894, 'colsample_bytree': 0.8192717632707273}. Best is trial 41 with value: 0.958715108570737.\n",
      "[I 2025-07-17 14:40:43,393] Trial 42 finished with value: 1.930322075044532 and parameters: {'n_estimators': 947, 'learning_rate': 0.17436012706936693, 'num_leaves': 103, 'max_depth': 7, 'min_child_samples': 82, 'subsample': 0.7573402116631343, 'colsample_bytree': 0.8287329960988898}. Best is trial 41 with value: 0.958715108570737.\n",
      "[I 2025-07-17 14:40:45,450] Trial 43 finished with value: 1.1932181206186017 and parameters: {'n_estimators': 954, 'learning_rate': 0.11628549485556337, 'num_leaves': 80, 'max_depth': 6, 'min_child_samples': 86, 'subsample': 0.6831623788136899, 'colsample_bytree': 0.7610403677871376}. Best is trial 41 with value: 0.958715108570737.\n",
      "[I 2025-07-17 14:40:47,193] Trial 44 finished with value: 1.751037132595323 and parameters: {'n_estimators': 756, 'learning_rate': 0.16301565184680403, 'num_leaves': 127, 'max_depth': 8, 'min_child_samples': 94, 'subsample': 0.6357079537215117, 'colsample_bytree': 0.803059980657965}. Best is trial 41 with value: 0.958715108570737.\n",
      "[I 2025-07-17 14:40:50,977] Trial 45 finished with value: 1.4783332010435637 and parameters: {'n_estimators': 865, 'learning_rate': 0.0634118231332147, 'num_leaves': 158, 'max_depth': 7, 'min_child_samples': 78, 'subsample': 0.7773432562977525, 'colsample_bytree': 0.7256016872327103}. Best is trial 41 with value: 0.958715108570737.\n",
      "[I 2025-07-17 14:40:52,551] Trial 46 finished with value: 1.733964483564693 and parameters: {'n_estimators': 818, 'learning_rate': 0.20289321313897846, 'num_leaves': 209, 'max_depth': 8, 'min_child_samples': 97, 'subsample': 0.7120009132507916, 'colsample_bytree': 0.8494636863016708}. Best is trial 41 with value: 0.958715108570737.\n",
      "[I 2025-07-17 14:40:54,846] Trial 47 finished with value: 1.5857987390028978 and parameters: {'n_estimators': 974, 'learning_rate': 0.15224564884496244, 'num_leaves': 94, 'max_depth': 4, 'min_child_samples': 88, 'subsample': 0.8251080907218489, 'colsample_bytree': 0.916654788691934}. Best is trial 41 with value: 0.958715108570737.\n",
      "[I 2025-07-17 14:40:56,622] Trial 48 finished with value: 1.9635765027384082 and parameters: {'n_estimators': 920, 'learning_rate': 0.12837962443934053, 'num_leaves': 52, 'max_depth': 5, 'min_child_samples': 66, 'subsample': 0.6927505026598176, 'colsample_bytree': 0.9976856513327468}. Best is trial 41 with value: 0.958715108570737.\n",
      "[I 2025-07-17 14:40:57,911] Trial 49 finished with value: 2.1533510824530055 and parameters: {'n_estimators': 898, 'learning_rate': 0.17952564117186426, 'num_leaves': 67, 'max_depth': 5, 'min_child_samples': 78, 'subsample': 0.659963333441206, 'colsample_bytree': 0.76568825135953}. Best is trial 41 with value: 0.958715108570737.\n"
     ]
    },
    {
     "name": "stdout",
     "output_type": "stream",
     "text": [
      "Best MAPE for BlendProperty9: 0.958715108570737\n",
      "Best hyperparameters for BlendProperty9: {'n_estimators': 941, 'learning_rate': 0.1499760820730177, 'num_leaves': 88, 'max_depth': 7, 'min_child_samples': 86, 'subsample': 0.7131757505051894, 'colsample_bytree': 0.8192717632707273}\n"
     ]
    },
    {
     "name": "stderr",
     "output_type": "stream",
     "text": [
      "[I 2025-07-17 14:41:00,027] A new study created in memory with name: no-name-4726d7e6-01ab-4fda-a3ac-f90c1580b09d\n"
     ]
    },
    {
     "name": "stdout",
     "output_type": "stream",
     "text": [
      "Saved best model for BlendProperty9\n",
      "\n",
      "--- Tuning and Training for BlendProperty10 ---\n"
     ]
    },
    {
     "name": "stderr",
     "output_type": "stream",
     "text": [
      "[I 2025-07-17 14:41:04,068] Trial 0 finished with value: 0.5890113240701508 and parameters: {'n_estimators': 720, 'learning_rate': 0.13404722639566935, 'num_leaves': 96, 'max_depth': 7, 'min_child_samples': 70, 'subsample': 0.8105433528916258, 'colsample_bytree': 0.8369410518658777}. Best is trial 0 with value: 0.5890113240701508.\n",
      "[I 2025-07-17 14:41:06,723] Trial 1 finished with value: 0.7616260958902884 and parameters: {'n_estimators': 565, 'learning_rate': 0.1011030139730397, 'num_leaves': 83, 'max_depth': 4, 'min_child_samples': 95, 'subsample': 0.9660522986118485, 'colsample_bytree': 0.8038905867734282}. Best is trial 0 with value: 0.5890113240701508.\n",
      "[I 2025-07-17 14:41:17,837] Trial 2 finished with value: 0.7580740742179956 and parameters: {'n_estimators': 481, 'learning_rate': 0.1403492683608044, 'num_leaves': 173, 'max_depth': 8, 'min_child_samples': 69, 'subsample': 0.941081709429518, 'colsample_bytree': 0.7639112513366021}. Best is trial 0 with value: 0.5890113240701508.\n",
      "[I 2025-07-17 14:41:27,079] Trial 3 finished with value: 0.7727851538449244 and parameters: {'n_estimators': 394, 'learning_rate': 0.11992372895321574, 'num_leaves': 76, 'max_depth': 11, 'min_child_samples': 32, 'subsample': 0.9766696701532627, 'colsample_bytree': 0.9428437317515235}. Best is trial 0 with value: 0.5890113240701508.\n",
      "[I 2025-07-17 14:41:28,315] Trial 4 finished with value: 0.7285412413873569 and parameters: {'n_estimators': 197, 'learning_rate': 0.1859381665637064, 'num_leaves': 177, 'max_depth': 3, 'min_child_samples': 26, 'subsample': 0.6458730945429519, 'colsample_bytree': 0.8090272834888419}. Best is trial 0 with value: 0.5890113240701508.\n",
      "[I 2025-07-17 14:41:31,606] Trial 5 finished with value: 0.6611606903100243 and parameters: {'n_estimators': 826, 'learning_rate': 0.10371979105251726, 'num_leaves': 33, 'max_depth': 6, 'min_child_samples': 94, 'subsample': 0.9557732409893696, 'colsample_bytree': 0.963800420883253}. Best is trial 0 with value: 0.5890113240701508.\n",
      "[I 2025-07-17 14:41:34,523] Trial 6 finished with value: 0.8229786847722224 and parameters: {'n_estimators': 141, 'learning_rate': 0.019074836287777917, 'num_leaves': 83, 'max_depth': 11, 'min_child_samples': 55, 'subsample': 0.9663233467696476, 'colsample_bytree': 0.8799400367314829}. Best is trial 0 with value: 0.5890113240701508.\n",
      "[I 2025-07-17 14:41:35,687] Trial 7 finished with value: 0.6838550486344316 and parameters: {'n_estimators': 355, 'learning_rate': 0.18895881752778076, 'num_leaves': 169, 'max_depth': 4, 'min_child_samples': 75, 'subsample': 0.9197330563364217, 'colsample_bytree': 0.6740641975378591}. Best is trial 0 with value: 0.5890113240701508.\n",
      "[I 2025-07-17 14:41:37,359] Trial 8 finished with value: 0.8916839135254018 and parameters: {'n_estimators': 479, 'learning_rate': 0.2725071158946799, 'num_leaves': 178, 'max_depth': 10, 'min_child_samples': 61, 'subsample': 0.9986342319205403, 'colsample_bytree': 0.669936469032711}. Best is trial 0 with value: 0.5890113240701508.\n",
      "[I 2025-07-17 14:41:39,407] Trial 9 finished with value: 0.7004434287164687 and parameters: {'n_estimators': 909, 'learning_rate': 0.1470223930769956, 'num_leaves': 137, 'max_depth': 5, 'min_child_samples': 51, 'subsample': 0.9733661995980126, 'colsample_bytree': 0.9236368305304812}. Best is trial 0 with value: 0.5890113240701508.\n",
      "[I 2025-07-17 14:41:51,344] Trial 10 finished with value: 0.5518887142671846 and parameters: {'n_estimators': 738, 'learning_rate': 0.03732414672047517, 'num_leaves': 270, 'max_depth': 8, 'min_child_samples': 39, 'subsample': 0.7894906130593781, 'colsample_bytree': 0.7323367457873166}. Best is trial 10 with value: 0.5518887142671846.\n",
      "[I 2025-07-17 14:42:27,227] Trial 11 finished with value: 0.5740880183520133 and parameters: {'n_estimators': 693, 'learning_rate': 0.01769528397948213, 'num_leaves': 296, 'max_depth': 8, 'min_child_samples': 8, 'subsample': 0.789418147376443, 'colsample_bytree': 0.747579010577851}. Best is trial 10 with value: 0.5518887142671846.\n",
      "[I 2025-07-17 14:43:18,162] Trial 12 finished with value: 0.6068831678557682 and parameters: {'n_estimators': 708, 'learning_rate': 0.014188590602446531, 'num_leaves': 298, 'max_depth': 9, 'min_child_samples': 5, 'subsample': 0.7629250543515247, 'colsample_bytree': 0.7335973197156251}. Best is trial 10 with value: 0.5518887142671846.\n",
      "[I 2025-07-17 14:43:40,249] Trial 13 finished with value: 0.6529311098192918 and parameters: {'n_estimators': 661, 'learning_rate': 0.059243913946336324, 'num_leaves': 293, 'max_depth': 8, 'min_child_samples': 9, 'subsample': 0.7907679911681352, 'colsample_bytree': 0.609694314198304}. Best is trial 10 with value: 0.5518887142671846.\n",
      "[I 2025-07-17 14:43:48,332] Trial 14 finished with value: 0.5354895623214306 and parameters: {'n_estimators': 981, 'learning_rate': 0.05509655261697467, 'num_leaves': 245, 'max_depth': 7, 'min_child_samples': 32, 'subsample': 0.7181366583942751, 'colsample_bytree': 0.730005411307003}. Best is trial 14 with value: 0.5354895623214306.\n",
      "[I 2025-07-17 14:43:53,482] Trial 15 finished with value: 0.5697445933710852 and parameters: {'n_estimators': 980, 'learning_rate': 0.07102797465257234, 'num_leaves': 241, 'max_depth': 6, 'min_child_samples': 38, 'subsample': 0.69592958189634, 'colsample_bytree': 0.6801839558091393}. Best is trial 14 with value: 0.5354895623214306.\n",
      "[I 2025-07-17 14:44:03,516] Trial 16 finished with value: 0.5727507145336258 and parameters: {'n_estimators': 846, 'learning_rate': 0.0674804457047533, 'num_leaves': 217, 'max_depth': 12, 'min_child_samples': 42, 'subsample': 0.8695148762083884, 'colsample_bytree': 0.6088709086561017}. Best is trial 14 with value: 0.5354895623214306.\n",
      "[I 2025-07-17 14:44:06,225] Trial 17 finished with value: 0.8916078727636538 and parameters: {'n_estimators': 1000, 'learning_rate': 0.2653062399690273, 'num_leaves': 249, 'max_depth': 7, 'min_child_samples': 24, 'subsample': 0.7119776453393905, 'colsample_bytree': 0.7199543482813717}. Best is trial 14 with value: 0.5354895623214306.\n",
      "[I 2025-07-17 14:44:27,185] Trial 18 finished with value: 0.6151242915884086 and parameters: {'n_estimators': 824, 'learning_rate': 0.05791920832707893, 'num_leaves': 251, 'max_depth': 9, 'min_child_samples': 22, 'subsample': 0.6229202233890414, 'colsample_bytree': 0.8594694084117025}. Best is trial 14 with value: 0.5354895623214306.\n",
      "[I 2025-07-17 14:44:29,948] Trial 19 finished with value: 0.7479498806260751 and parameters: {'n_estimators': 602, 'learning_rate': 0.22843288233017073, 'num_leaves': 207, 'max_depth': 6, 'min_child_samples': 43, 'subsample': 0.8548091481934136, 'colsample_bytree': 0.999181938077646}. Best is trial 14 with value: 0.5354895623214306.\n",
      "[I 2025-07-17 14:44:51,912] Trial 20 finished with value: 0.5320610930093266 and parameters: {'n_estimators': 905, 'learning_rate': 0.04827671276599258, 'num_leaves': 271, 'max_depth': 9, 'min_child_samples': 17, 'subsample': 0.7259573506651249, 'colsample_bytree': 0.702470972770034}. Best is trial 20 with value: 0.5320610930093266.\n",
      "[I 2025-07-17 14:45:23,232] Trial 21 finished with value: 0.6200803230657943 and parameters: {'n_estimators': 906, 'learning_rate': 0.04443912013894981, 'num_leaves': 266, 'max_depth': 9, 'min_child_samples': 15, 'subsample': 0.7232942449457634, 'colsample_bytree': 0.7003195976803959}. Best is trial 20 with value: 0.5320610930093266.\n",
      "[I 2025-07-17 14:45:40,838] Trial 22 finished with value: 0.5631502510772746 and parameters: {'n_estimators': 759, 'learning_rate': 0.04050469489225437, 'num_leaves': 220, 'max_depth': 10, 'min_child_samples': 33, 'subsample': 0.6722724947516606, 'colsample_bytree': 0.7679821299011121}. Best is trial 20 with value: 0.5320610930093266.\n",
      "[I 2025-07-17 14:45:49,246] Trial 23 finished with value: 0.637484141605127 and parameters: {'n_estimators': 911, 'learning_rate': 0.0845812591483541, 'num_leaves': 265, 'max_depth': 7, 'min_child_samples': 16, 'subsample': 0.7470186393720646, 'colsample_bytree': 0.6559101553482803}. Best is trial 20 with value: 0.5320610930093266.\n",
      "[I 2025-07-17 14:45:58,691] Trial 24 finished with value: 0.4458095489239349 and parameters: {'n_estimators': 941, 'learning_rate': 0.04245779971736605, 'num_leaves': 270, 'max_depth': 10, 'min_child_samples': 48, 'subsample': 0.8439534043494793, 'colsample_bytree': 0.6419318737449912}. Best is trial 24 with value: 0.4458095489239349.\n",
      "[I 2025-07-17 14:46:06,279] Trial 25 finished with value: 0.5638537354815096 and parameters: {'n_estimators': 955, 'learning_rate': 0.0848432290752973, 'num_leaves': 200, 'max_depth': 10, 'min_child_samples': 46, 'subsample': 0.8471410911260495, 'colsample_bytree': 0.6473298717100718}. Best is trial 24 with value: 0.4458095489239349.\n",
      "[I 2025-07-17 14:46:15,043] Trial 26 finished with value: 0.8634239763202418 and parameters: {'n_estimators': 852, 'learning_rate': 0.17782571017268695, 'num_leaves': 230, 'max_depth': 12, 'min_child_samples': 31, 'subsample': 0.8985632984436728, 'colsample_bytree': 0.6288885919779339}. Best is trial 24 with value: 0.4458095489239349.\n",
      "[I 2025-07-17 14:46:28,391] Trial 27 finished with value: 0.7354849111685354 and parameters: {'n_estimators': 999, 'learning_rate': 0.10504077338971032, 'num_leaves': 274, 'max_depth': 11, 'min_child_samples': 16, 'subsample': 0.8197798091840566, 'colsample_bytree': 0.7052596646572543}. Best is trial 24 with value: 0.4458095489239349.\n",
      "[I 2025-07-17 14:46:36,829] Trial 28 finished with value: 0.5645874146846097 and parameters: {'n_estimators': 790, 'learning_rate': 0.03493397819267942, 'num_leaves': 133, 'max_depth': 9, 'min_child_samples': 59, 'subsample': 0.6008839450470662, 'colsample_bytree': 0.7661148920040137}. Best is trial 24 with value: 0.4458095489239349.\n",
      "[I 2025-07-17 14:46:41,912] Trial 29 finished with value: 0.5832645816736017 and parameters: {'n_estimators': 906, 'learning_rate': 0.12243852814560004, 'num_leaves': 194, 'max_depth': 10, 'min_child_samples': 51, 'subsample': 0.7444563574777118, 'colsample_bytree': 0.638554505138934}. Best is trial 24 with value: 0.4458095489239349.\n",
      "[I 2025-07-17 14:46:47,989] Trial 30 finished with value: 0.5824346044610886 and parameters: {'n_estimators': 619, 'learning_rate': 0.07895240423640226, 'num_leaves': 279, 'max_depth': 7, 'min_child_samples': 80, 'subsample': 0.6774061636798583, 'colsample_bytree': 0.6880210275236854}. Best is trial 24 with value: 0.4458095489239349.\n",
      "[I 2025-07-17 14:47:00,110] Trial 31 finished with value: 0.5466756701750533 and parameters: {'n_estimators': 780, 'learning_rate': 0.03841682093651332, 'num_leaves': 241, 'max_depth': 8, 'min_child_samples': 36, 'subsample': 0.83284874668731, 'colsample_bytree': 0.7302786141042784}. Best is trial 24 with value: 0.4458095489239349.\n",
      "[I 2025-07-17 14:47:20,535] Trial 32 finished with value: 0.5267253873874533 and parameters: {'n_estimators': 935, 'learning_rate': 0.04859411791339334, 'num_leaves': 237, 'max_depth': 9, 'min_child_samples': 28, 'subsample': 0.8254277732204202, 'colsample_bytree': 0.781855054110402}. Best is trial 24 with value: 0.4458095489239349.\n",
      "[I 2025-07-17 14:47:30,444] Trial 33 finished with value: 0.5555352600603641 and parameters: {'n_estimators': 928, 'learning_rate': 0.053451253205018714, 'num_leaves': 252, 'max_depth': 9, 'min_child_samples': 28, 'subsample': 0.876943006805286, 'colsample_bytree': 0.7955822442646638}. Best is trial 24 with value: 0.4458095489239349.\n",
      "[I 2025-07-17 14:47:39,540] Trial 34 finished with value: 0.611419745932077 and parameters: {'n_estimators': 874, 'learning_rate': 0.09131902921657081, 'num_leaves': 229, 'max_depth': 10, 'min_child_samples': 18, 'subsample': 0.7664764625155996, 'colsample_bytree': 0.7900798668822535}. Best is trial 24 with value: 0.4458095489239349.\n",
      "[I 2025-07-17 14:48:17,425] Trial 35 finished with value: 0.5651388888965043 and parameters: {'n_estimators': 950, 'learning_rate': 0.010355077196716495, 'num_leaves': 285, 'max_depth': 11, 'min_child_samples': 22, 'subsample': 0.8052378152948515, 'colsample_bytree': 0.8342247527833493}. Best is trial 24 with value: 0.4458095489239349.\n",
      "[I 2025-07-17 14:48:22,788] Trial 36 finished with value: 0.7274770292185357 and parameters: {'n_estimators': 264, 'learning_rate': 0.12224832347824272, 'num_leaves': 258, 'max_depth': 9, 'min_child_samples': 47, 'subsample': 0.7330338643872082, 'colsample_bytree': 0.8354434660036731}. Best is trial 24 with value: 0.4458095489239349.\n",
      "[I 2025-07-17 14:48:26,600] Trial 37 finished with value: 0.66350411032734 and parameters: {'n_estimators': 522, 'learning_rate': 0.10092801560935155, 'num_leaves': 31, 'max_depth': 8, 'min_child_samples': 65, 'subsample': 0.6550134128365895, 'colsample_bytree': 0.7090367480532815}. Best is trial 24 with value: 0.4458095489239349.\n",
      "[I 2025-07-17 14:48:29,310] Trial 38 finished with value: 0.7891579071751419 and parameters: {'n_estimators': 810, 'learning_rate': 0.17113622792465558, 'num_leaves': 149, 'max_depth': 6, 'min_child_samples': 30, 'subsample': 0.7692767539768581, 'colsample_bytree': 0.7825562842051142}. Best is trial 24 with value: 0.4458095489239349.\n",
      "[I 2025-07-17 14:48:50,462] Trial 39 finished with value: 0.5471720834991796 and parameters: {'n_estimators': 863, 'learning_rate': 0.03042525266433061, 'num_leaves': 236, 'max_depth': 7, 'min_child_samples': 12, 'subsample': 0.7011320527507664, 'colsample_bytree': 0.7512023926260513}. Best is trial 24 with value: 0.4458095489239349.\n",
      "[I 2025-07-17 14:48:57,717] Trial 40 finished with value: 0.6252991565939922 and parameters: {'n_estimators': 965, 'learning_rate': 0.051401644696981746, 'num_leaves': 50, 'max_depth': 5, 'min_child_samples': 34, 'subsample': 0.9287613393449361, 'colsample_bytree': 0.8119038176326104}. Best is trial 24 with value: 0.4458095489239349.\n",
      "[I 2025-07-17 14:49:04,572] Trial 41 finished with value: 0.5708840783269967 and parameters: {'n_estimators': 881, 'learning_rate': 0.06810289189995003, 'num_leaves': 217, 'max_depth': 8, 'min_child_samples': 38, 'subsample': 0.8351493753541708, 'colsample_bytree': 0.728668003865003}. Best is trial 24 with value: 0.4458095489239349.\n",
      "[I 2025-07-17 14:49:28,211] Trial 42 finished with value: 0.5528299743833162 and parameters: {'n_estimators': 786, 'learning_rate': 0.02903145682275307, 'num_leaves': 240, 'max_depth': 9, 'min_child_samples': 26, 'subsample': 0.821208796297724, 'colsample_bytree': 0.6950032173646573}. Best is trial 24 with value: 0.4458095489239349.\n",
      "[I 2025-07-17 14:49:49,312] Trial 43 finished with value: 0.5454331633385121 and parameters: {'n_estimators': 939, 'learning_rate': 0.026160424927529936, 'num_leaves': 183, 'max_depth': 10, 'min_child_samples': 35, 'subsample': 0.8912557669315291, 'colsample_bytree': 0.7475818680079308}. Best is trial 24 with value: 0.4458095489239349.\n",
      "[I 2025-07-17 14:50:20,832] Trial 44 finished with value: 0.5978738024136958 and parameters: {'n_estimators': 954, 'learning_rate': 0.027624031927067375, 'num_leaves': 190, 'max_depth': 11, 'min_child_samples': 21, 'subsample': 0.8912924678161345, 'colsample_bytree': 0.6585973082873489}. Best is trial 24 with value: 0.4458095489239349.\n",
      "[I 2025-07-17 14:50:27,797] Trial 45 finished with value: 0.5687756777366161 and parameters: {'n_estimators': 439, 'learning_rate': 0.02179774537257706, 'num_leaves': 282, 'max_depth': 10, 'min_child_samples': 56, 'subsample': 0.9066593676320879, 'colsample_bytree': 0.7517976441962233}. Best is trial 24 with value: 0.4458095489239349.\n",
      "[I 2025-07-17 14:50:31,185] Trial 46 finished with value: 0.8934617378627717 and parameters: {'n_estimators': 933, 'learning_rate': 0.20462227904005098, 'num_leaves': 177, 'max_depth': 11, 'min_child_samples': 48, 'subsample': 0.9476572432017583, 'colsample_bytree': 0.8969240596222354}. Best is trial 24 with value: 0.4458095489239349.\n",
      "[I 2025-07-17 14:50:45,411] Trial 47 finished with value: 0.5858109065010249 and parameters: {'n_estimators': 1000, 'learning_rate': 0.04853003494024889, 'num_leaves': 101, 'max_depth': 10, 'min_child_samples': 42, 'subsample': 0.8742572994609796, 'colsample_bytree': 0.8181831624702789}. Best is trial 24 with value: 0.4458095489239349.\n",
      "[I 2025-07-17 14:50:48,585] Trial 48 finished with value: 0.6742091604234475 and parameters: {'n_estimators': 879, 'learning_rate': 0.06681302567704593, 'num_leaves': 112, 'max_depth': 3, 'min_child_samples': 29, 'subsample': 0.8498840145163422, 'colsample_bytree': 0.7760454340387655}. Best is trial 24 with value: 0.4458095489239349.\n",
      "[I 2025-07-17 14:50:52,068] Trial 49 finished with value: 0.6037121284719188 and parameters: {'n_estimators': 833, 'learning_rate': 0.10892078333310165, 'num_leaves': 264, 'max_depth': 12, 'min_child_samples': 100, 'subsample': 0.8040486361539322, 'colsample_bytree': 0.6716840615156985}. Best is trial 24 with value: 0.4458095489239349.\n"
     ]
    },
    {
     "name": "stdout",
     "output_type": "stream",
     "text": [
      "Best MAPE for BlendProperty10: 0.4458095489239349\n",
      "Best hyperparameters for BlendProperty10: {'n_estimators': 941, 'learning_rate': 0.04245779971736605, 'num_leaves': 270, 'max_depth': 10, 'min_child_samples': 48, 'subsample': 0.8439534043494793, 'colsample_bytree': 0.6419318737449912}\n",
      "Saved best model for BlendProperty10\n"
     ]
    }
   ],
   "source": [
    "import joblib\n",
    "\n",
    "# Define and create the directory for saving models\n",
    "model_dir = Path(\"../models/lightgbm\")\n",
    "model_dir.mkdir(parents=True, exist_ok=True)\n",
    "\n",
    "# Dictionary to store the best models\n",
    "best_models = {}\n",
    "\n",
    "# Iterate over each target property to tune and train a model\n",
    "for target in targets.columns:\n",
    "    print(f\"\\n--- Tuning and Training for {target} ---\")\n",
    "    y = targets[target]\n",
    "\n",
    "    # Create an Optuna study to find the best hyperparameters\n",
    "    study = optuna.create_study(direction='minimize')\n",
    "    study.optimize(lambda trial: objective(trial, features, y), n_trials=50)\n",
    "\n",
    "    # Get the best hyperparameters\n",
    "    best_params = study.best_params\n",
    "    print(f\"Best MAPE for {target}: {study.best_value}\")\n",
    "    print(f\"Best hyperparameters for {target}: {best_params}\")\n",
    "\n",
    "    # Train the final model with the best hyperparameters on the entire training set\n",
    "    final_model = lgb.LGBMRegressor(**best_params, random_state=42, n_jobs=-1)\n",
    "    final_model.fit(features, y)\n",
    "\n",
    "    # Save the trained model to a file\n",
    "    joblib.dump(final_model, f'{model_dir}/{target}_model.joblib')\n",
    "    print(f\"Saved best model for {target}\")\n",
    "\n",
    "    best_models[target] = final_model"
   ]
  },
  {
   "cell_type": "markdown",
   "id": "1e70f03e",
   "metadata": {},
   "source": [
    "### 3. Leaderboard Score"
   ]
  },
  {
   "cell_type": "code",
   "execution_count": null,
   "id": "96470bdb",
   "metadata": {},
   "outputs": [
    {
     "name": "stdout",
     "output_type": "stream",
     "text": [
      "Leaderboard score for BlendProperty1: 85.25\n",
      "Leaderboard score for BlendProperty2: 85.25\n",
      "Leaderboard score for BlendProperty3: 85.25\n",
      "Leaderboard score for BlendProperty4: 85.25\n",
      "Leaderboard score for BlendProperty5: 85.25\n",
      "Leaderboard score for BlendProperty6: 85.25\n",
      "Leaderboard score for BlendProperty7: 85.25\n",
      "Leaderboard score for BlendProperty8: 85.25\n",
      "Leaderboard score for BlendProperty9: 85.25\n",
      "Leaderboard score for BlendProperty10: 85.25\n",
      "\n",
      "Average Leaderboard Score: 85.25\n"
     ]
    }
   ],
   "source": [
    "def calculate_leaderboard_score(mape, reference_cost=2.72):\n",
    "    \"\"\"\n",
    "    Calculates the leaderboard score based on the MAPE.\n",
    "\n",
    "    Parameters:\n",
    "      mape (float): The Mean Absolute Percentage Error.\n",
    "      reference_cost (float): The reference cost for the leaderboard.\n",
    "\n",
    "    Returns:\n",
    "      float: The calculated leaderboard score.\n",
    "    \"\"\"\n",
    "    return max(10, 100 - 90 * mape / reference_cost)\n",
    "\n",
    "# A dictionary to store the leaderboard scores for each target variable\n",
    "leaderboard_scores = {}\n",
    "\n",
    "# Calculate and display the leaderboard score for each target\n",
    "# Note: This assumes 'study.best_value' holds the MAPE for the last tuned model.\n",
    "# For a more accurate representation, you would typically calculate the MAPE\n",
    "# for each model against its respective target variable.\n",
    "for target in targets.columns:\n",
    "    # You would replace `study.best_value` with the actual MAPE for each `target`\n",
    "    # For this example, we'll use the last available best_value from the study\n",
    "    mape = study.best_value\n",
    "    leaderboard_scores[target] = calculate_leaderboard_score(mape)\n",
    "    print(f\"Leaderboard score for {target}: {leaderboard_scores[target]:.2f}\")\n",
    "\n",
    "# Calculate and display the average leaderboard score\n",
    "average_score = np.mean(list(leaderboard_scores.values()))\n",
    "print(f\"\\nAverage Leaderboard Score: {average_score:.2f}\")"
   ]
  },
  {
   "cell_type": "markdown",
   "id": "bfc14e7b",
   "metadata": {},
   "source": [
    "### 4. Predict the Blend Properties"
   ]
  },
  {
   "cell_type": "code",
   "execution_count": null,
   "id": "874a6c24",
   "metadata": {},
   "outputs": [
    {
     "name": "stdout",
     "output_type": "stream",
     "text": [
      "Test data loaded and preprocessed (placeholder).\n",
      "X_test shape: (500, 157)\n"
     ]
    }
   ],
   "source": [
    "# Load the test dataset\n",
    "test_df = pd.read_csv(data_path / \"X_test.csv\")\n",
    "\n",
    "# --- Preprocess Test Data ---\n",
    "# IMPORTANT: You must apply the same feature engineering steps to the test data\n",
    "# that you applied to the training data in '3_data_preprocessing.ipynb'.\n",
    "# The following line is a placeholder to make the columns match, but it will\n",
    "# not produce accurate predictions without your actual preprocessing logic.\n",
    "X_test = test_df.reindex(columns=features.columns, fill_value=0)\n",
    "\n",
    "print(\"Test data loaded and preprocessed\")\n",
    "print(f\"X_test shape: {X_test.shape}\")"
   ]
  },
  {
   "cell_type": "code",
   "execution_count": 18,
   "id": "22a0b186",
   "metadata": {},
   "outputs": [
    {
     "name": "stdout",
     "output_type": "stream",
     "text": [
      "Predicting BlendProperty1...\n",
      "Predicting BlendProperty2...\n",
      "Predicting BlendProperty3...\n",
      "Predicting BlendProperty4...\n",
      "Predicting BlendProperty5...\n",
      "Predicting BlendProperty6...\n",
      "Predicting BlendProperty7...\n",
      "Predicting BlendProperty8...\n",
      "Predicting BlendProperty9...\n",
      "Predicting BlendProperty10...\n"
     ]
    }
   ],
   "source": [
    "# --- Prediction ---\n",
    "predictions = {}\n",
    "for target in targets.columns:\n",
    "    print(f\"Predicting {target}...\")\n",
    "    model = best_models[target]\n",
    "    predictions[target] = model.predict(X_test)"
   ]
  },
  {
   "cell_type": "markdown",
   "id": "0bfe2aca",
   "metadata": {},
   "source": [
    "### 5. Create Submission File"
   ]
  },
  {
   "cell_type": "code",
   "execution_count": 19,
   "id": "941a5a7e",
   "metadata": {},
   "outputs": [
    {
     "name": "stdout",
     "output_type": "stream",
     "text": [
      "\n",
      "Submission file ../submissions/submission.csv created successfully!\n"
     ]
    }
   ],
   "source": [
    "# --- Create Submission File ---\n",
    "submission_dir = Path(\"../submissions\")\n",
    "submission_dir.mkdir(parents=True, exist_ok=True)\n",
    "\n",
    "submission_df = pd.DataFrame({'ID': test_df['ID']})\n",
    "for target in targets.columns:\n",
    "    submission_df[target] = predictions[target]\n",
    "\n",
    "submission_df.to_csv(f'{submission_dir}/submission.csv', index=False)\n",
    "print(f\"\\nSubmission file {submission_dir}/submission.csv created successfully!\")"
   ]
  }
 ],
 "metadata": {
  "kernelspec": {
   "display_name": "py310",
   "language": "python",
   "name": "python3"
  },
  "language_info": {
   "codemirror_mode": {
    "name": "ipython",
    "version": 3
   },
   "file_extension": ".py",
   "mimetype": "text/x-python",
   "name": "python",
   "nbconvert_exporter": "python",
   "pygments_lexer": "ipython3",
   "version": "3.10.18"
  }
 },
 "nbformat": 4,
 "nbformat_minor": 5
}
