{
 "cells": [
  {
   "cell_type": "markdown",
   "id": "2d2cba9c",
   "metadata": {},
   "source": [
    "# XGBoost Model Development\n",
    "\n",
    "**XGBoost** is an optimized distributed gradient boosting library designed to be highly efficient, flexible, and portable. It implements machine learning algorithms under the Gradient Boosting framework. XGBoost provides a parallel tree boosting (also known as GBDT, GBM) that solves many data science problems in a fast and accurate way."
   ]
  },
  {
   "cell_type": "markdown",
   "id": "f7659b68",
   "metadata": {},
   "source": [
    "### 1. Load the Datasets"
   ]
  },
  {
   "cell_type": "code",
   "execution_count": 1,
   "id": "d1c66d9a",
   "metadata": {},
   "outputs": [
    {
     "name": "stdout",
     "output_type": "stream",
     "text": [
      "features shape: (2000, 157)\n",
      "targets shape: (2000, 10)\n"
     ]
    }
   ],
   "source": [
    "import pandas as pd\n",
    "from pathlib import Path\n",
    "\n",
    "# Directory where the processed data is stored\n",
    "data_path = Path(\"../processed_data\")\n",
    "\n",
    "# Load the training and validation datasets\n",
    "X_train, X_val, y_train, y_val = (\n",
    "    pd.read_csv(data_path / \"X_train.csv\"),\n",
    "    pd.read_csv(data_path / \"X_val.csv\"),\n",
    "    pd.read_csv(data_path / \"y_train.csv\"),\n",
    "    pd.read_csv(data_path / \"y_val.csv\")\n",
    ")\n",
    "\n",
    "# Combine train and validation sets for robust K-Fold tuning\n",
    "features = pd.concat([X_train, X_val], ignore_index=True)\n",
    "targets = pd.concat([y_train, y_val], ignore_index=True)\n",
    "\n",
    "# Display the shapes of the datasets\n",
    "print(f\"features shape: {features.shape}\")\n",
    "print(f\"targets shape: {targets.shape}\")"
   ]
  },
  {
   "cell_type": "markdown",
   "id": "aa20e60c",
   "metadata": {},
   "source": [
    "### 2. Hyperparameter Tuning & Model Training"
   ]
  },
  {
   "cell_type": "code",
   "execution_count": 2,
   "id": "8daa311e",
   "metadata": {},
   "outputs": [
    {
     "name": "stderr",
     "output_type": "stream",
     "text": [
      "/home/vipin/miniconda3/envs/py310/lib/python3.10/site-packages/tqdm/auto.py:21: TqdmWarning: IProgress not found. Please update jupyter and ipywidgets. See https://ipywidgets.readthedocs.io/en/stable/user_install.html\n",
      "  from .autonotebook import tqdm as notebook_tqdm\n"
     ]
    }
   ],
   "source": [
    "import optuna\n",
    "import numpy as np\n",
    "import xgboost as xgb\n",
    "from sklearn.model_selection import KFold\n",
    "from sklearn.metrics import mean_absolute_percentage_error\n",
    "\n",
    "def objective(trial: optuna.Trial, X: pd.DataFrame, y: pd.Series):\n",
    "    \"\"\"\n",
    "    Objective function for Optuna to minimize.\n",
    "    This function trains a XGBoost model with a set of hyperparameters\n",
    "    suggested by Optuna and returns the cross-validated MAPE.\n",
    "\n",
    "    Parameters:\n",
    "      trial (optuna.Trial): An Optuna trial object that suggests hyperparameters.\n",
    "      X (pd.DataFrame): Feature matrix for training.\n",
    "      y (pd.Series): Target variable for training.\n",
    "\n",
    "    Returns:\n",
    "      float: The mean absolute percentage error (MAPE) of the model on the validation set during cross-validation.\n",
    "    \"\"\"\n",
    "    # Define the hyperparameter search space for XGBoost\n",
    "    param = {\n",
    "        'objective': 'reg:squarederror',\n",
    "        'eval_metric': 'mape',\n",
    "        'n_estimators': trial.suggest_int('n_estimators', 100, 1000),\n",
    "        'learning_rate': trial.suggest_float('learning_rate', 0.01, 0.3),\n",
    "        'max_depth': trial.suggest_int('max_depth', 3, 12),\n",
    "        'min_child_weight': trial.suggest_int('min_child_weight', 1, 10),\n",
    "        'subsample': trial.suggest_float('subsample', 0.6, 1.0),\n",
    "        'colsample_bytree': trial.suggest_float('colsample_bytree', 0.6, 1.0),\n",
    "        'gamma': trial.suggest_float('gamma', 0, 5),\n",
    "        'random_state': 42,\n",
    "        'n_jobs': -1\n",
    "    }\n",
    "\n",
    "    # Use K-Fold cross-validation to get a robust estimate of the model's performance\n",
    "    kf = KFold(n_splits=5, shuffle=True, random_state=42)\n",
    "    mape_scores = []\n",
    "    for train_index, val_index in kf.split(X):\n",
    "        X_train, X_val = X.iloc[train_index], X.iloc[val_index]\n",
    "        y_train, y_val = y.iloc[train_index], y.iloc[val_index]\n",
    "\n",
    "        model = xgb.XGBRegressor(**param)\n",
    "        model.fit(X_train, y_train, eval_set=[(X_val, y_val)], verbose=False)\n",
    "        preds = model.predict(X_val)\n",
    "        mape_scores.append(mean_absolute_percentage_error(y_val, preds))\n",
    "\n",
    "    return np.mean(mape_scores)"
   ]
  },
  {
   "cell_type": "code",
   "execution_count": 3,
   "id": "7510a555",
   "metadata": {},
   "outputs": [
    {
     "name": "stderr",
     "output_type": "stream",
     "text": [
      "[I 2025-07-17 16:24:38,974] A new study created in memory with name: no-name-d75ac7a2-85a6-4b20-96d0-168801dd081c\n"
     ]
    },
    {
     "name": "stdout",
     "output_type": "stream",
     "text": [
      "\n",
      "--- Tuning and Training for BlendProperty1 ---\n",
      "\n"
     ]
    },
    {
     "name": "stderr",
     "output_type": "stream",
     "text": [
      "[I 2025-07-17 16:24:43,330] Trial 0 finished with value: 5.487751749851904 and parameters: {'n_estimators': 164, 'learning_rate': 0.10355879564195374, 'max_depth': 4, 'min_child_weight': 9, 'subsample': 0.8980132018431153, 'colsample_bytree': 0.6491345889137337, 'gamma': 4.557456868019808}. Best is trial 0 with value: 5.487751749851904.\n",
      "[I 2025-07-17 16:24:49,643] Trial 1 finished with value: 3.386560672661691 and parameters: {'n_estimators': 273, 'learning_rate': 0.0978741042513904, 'max_depth': 7, 'min_child_weight': 7, 'subsample': 0.8696532455512789, 'colsample_bytree': 0.6497343392014211, 'gamma': 2.7378001603439497}. Best is trial 1 with value: 3.386560672661691.\n",
      "[I 2025-07-17 16:25:00,190] Trial 2 finished with value: 3.5107209516233233 and parameters: {'n_estimators': 577, 'learning_rate': 0.11801736648515425, 'max_depth': 12, 'min_child_weight': 9, 'subsample': 0.9623295915930173, 'colsample_bytree': 0.9385277337407775, 'gamma': 1.6152301603234476}. Best is trial 1 with value: 3.386560672661691.\n",
      "[I 2025-07-17 16:25:11,282] Trial 3 finished with value: 3.5804635260760582 and parameters: {'n_estimators': 674, 'learning_rate': 0.18648258713371302, 'max_depth': 5, 'min_child_weight': 10, 'subsample': 0.6361766766938218, 'colsample_bytree': 0.6621644020001531, 'gamma': 0.3989685866630338}. Best is trial 1 with value: 3.386560672661691.\n",
      "[I 2025-07-17 16:25:25,253] Trial 4 finished with value: 4.708788301937626 and parameters: {'n_estimators': 558, 'learning_rate': 0.19007610336024988, 'max_depth': 4, 'min_child_weight': 5, 'subsample': 0.8915480511607832, 'colsample_bytree': 0.7984087477455057, 'gamma': 3.5072818444910547}. Best is trial 1 with value: 3.386560672661691.\n",
      "[I 2025-07-17 16:25:32,229] Trial 5 finished with value: 3.562813384159186 and parameters: {'n_estimators': 362, 'learning_rate': 0.09444736258809402, 'max_depth': 11, 'min_child_weight': 7, 'subsample': 0.953491112188162, 'colsample_bytree': 0.6059604628294513, 'gamma': 3.2060745066685543}. Best is trial 1 with value: 3.386560672661691.\n",
      "[I 2025-07-17 16:25:43,173] Trial 6 finished with value: 5.19291121448466 and parameters: {'n_estimators': 726, 'learning_rate': 0.1962993135437394, 'max_depth': 6, 'min_child_weight': 7, 'subsample': 0.8887121862624026, 'colsample_bytree': 0.8171565275952157, 'gamma': 3.2492449015677622}. Best is trial 1 with value: 3.386560672661691.\n",
      "[I 2025-07-17 16:25:59,479] Trial 7 finished with value: 1.931823309413938 and parameters: {'n_estimators': 945, 'learning_rate': 0.14251934961351476, 'max_depth': 6, 'min_child_weight': 2, 'subsample': 0.80804336493576, 'colsample_bytree': 0.6596991004189151, 'gamma': 0.7648750474664967}. Best is trial 7 with value: 1.931823309413938.\n",
      "[I 2025-07-17 16:26:16,271] Trial 8 finished with value: 1.3206058803059897 and parameters: {'n_estimators': 962, 'learning_rate': 0.19055023110697752, 'max_depth': 7, 'min_child_weight': 4, 'subsample': 0.7002462124165868, 'colsample_bytree': 0.8242237410593036, 'gamma': 0.798861500326819}. Best is trial 8 with value: 1.3206058803059897.\n",
      "[I 2025-07-17 16:26:27,459] Trial 9 finished with value: 3.405601533722815 and parameters: {'n_estimators': 350, 'learning_rate': 0.10619491160143286, 'max_depth': 4, 'min_child_weight': 6, 'subsample': 0.9337278166494947, 'colsample_bytree': 0.6358516618228508, 'gamma': 0.5336203588219229}. Best is trial 8 with value: 1.3206058803059897.\n",
      "[I 2025-07-17 16:26:43,584] Trial 10 finished with value: 4.89184300536302 and parameters: {'n_estimators': 974, 'learning_rate': 0.2909472736922225, 'max_depth': 9, 'min_child_weight': 1, 'subsample': 0.6509518730145157, 'colsample_bytree': 0.8459957824771579, 'gamma': 1.7857788338775387}. Best is trial 8 with value: 1.3206058803059897.\n",
      "[I 2025-07-17 16:27:07,031] Trial 11 finished with value: 1.721643894175535 and parameters: {'n_estimators': 988, 'learning_rate': 0.030329628743420017, 'max_depth': 8, 'min_child_weight': 2, 'subsample': 0.7364016929092806, 'colsample_bytree': 0.7455759888368569, 'gamma': 1.2764694533801826}. Best is trial 8 with value: 1.3206058803059897.\n",
      "[I 2025-07-17 16:27:37,854] Trial 12 finished with value: 1.9099742392144339 and parameters: {'n_estimators': 839, 'learning_rate': 0.015160357671644574, 'max_depth': 9, 'min_child_weight': 3, 'subsample': 0.7177184690073194, 'colsample_bytree': 0.7496109126951493, 'gamma': 1.5797528441730377}. Best is trial 8 with value: 1.3206058803059897.\n",
      "[I 2025-07-17 16:29:00,727] Trial 13 finished with value: 3.8945083696043725 and parameters: {'n_estimators': 840, 'learning_rate': 0.014452861344368111, 'max_depth': 9, 'min_child_weight': 4, 'subsample': 0.7398777875128906, 'colsample_bytree': 0.7442746382044988, 'gamma': 0.02190818298025543}. Best is trial 8 with value: 1.3206058803059897.\n",
      "[I 2025-07-17 16:29:14,943] Trial 14 finished with value: 2.1270318601044558 and parameters: {'n_estimators': 845, 'learning_rate': 0.2502260688463668, 'max_depth': 8, 'min_child_weight': 3, 'subsample': 0.7204966763501893, 'colsample_bytree': 0.8988715448253144, 'gamma': 1.0450756571961588}. Best is trial 8 with value: 1.3206058803059897.\n",
      "[I 2025-07-17 16:29:36,613] Trial 15 finished with value: 3.397116481445612 and parameters: {'n_estimators': 994, 'learning_rate': 0.06811333329214406, 'max_depth': 7, 'min_child_weight': 1, 'subsample': 0.7986080105402913, 'colsample_bytree': 0.7297329077289159, 'gamma': 2.2437604097551147}. Best is trial 8 with value: 1.3206058803059897.\n",
      "[I 2025-07-17 16:29:48,928] Trial 16 finished with value: 1.5958178935197807 and parameters: {'n_estimators': 720, 'learning_rate': 0.2413404742038407, 'max_depth': 10, 'min_child_weight': 4, 'subsample': 0.6011256605377331, 'colsample_bytree': 0.9959199899495111, 'gamma': 1.191023187470168}. Best is trial 8 with value: 1.3206058803059897.\n",
      "[I 2025-07-17 16:30:01,137] Trial 17 finished with value: 1.0352023182427377 and parameters: {'n_estimators': 701, 'learning_rate': 0.23008039774764874, 'max_depth': 11, 'min_child_weight': 5, 'subsample': 0.6044628802407289, 'colsample_bytree': 0.9942741062756161, 'gamma': 2.264773848779005}. Best is trial 17 with value: 1.0352023182427377.\n",
      "[I 2025-07-17 16:30:09,471] Trial 18 finished with value: 2.0555955900588514 and parameters: {'n_estimators': 442, 'learning_rate': 0.23737998496716142, 'max_depth': 12, 'min_child_weight': 5, 'subsample': 0.6696191400894801, 'colsample_bytree': 0.9948622375461162, 'gamma': 4.137330011281445}. Best is trial 17 with value: 1.0352023182427377.\n",
      "[I 2025-07-17 16:30:25,265] Trial 19 finished with value: 2.2119719697667 and parameters: {'n_estimators': 650, 'learning_rate': 0.29077927825410543, 'max_depth': 10, 'min_child_weight': 6, 'subsample': 0.6032250774866524, 'colsample_bytree': 0.901842389371342, 'gamma': 2.2096590577921167}. Best is trial 17 with value: 1.0352023182427377.\n",
      "[I 2025-07-17 16:30:37,540] Trial 20 finished with value: 1.7073921664041602 and parameters: {'n_estimators': 784, 'learning_rate': 0.16385770875837372, 'max_depth': 3, 'min_child_weight': 4, 'subsample': 0.6769751929579757, 'colsample_bytree': 0.9419435023095495, 'gamma': 2.5682920615953044}. Best is trial 17 with value: 1.0352023182427377.\n",
      "[I 2025-07-17 16:30:50,820] Trial 21 finished with value: 2.791537619642992 and parameters: {'n_estimators': 733, 'learning_rate': 0.22933881208804194, 'max_depth': 11, 'min_child_weight': 4, 'subsample': 0.6018532464457267, 'colsample_bytree': 0.9997245852137442, 'gamma': 1.0842189158513051}. Best is trial 17 with value: 1.0352023182427377.\n",
      "[I 2025-07-17 16:30:59,127] Trial 22 finished with value: 1.9213668879345742 and parameters: {'n_estimators': 467, 'learning_rate': 0.2611193170604429, 'max_depth': 10, 'min_child_weight': 3, 'subsample': 0.6295009363164417, 'colsample_bytree': 0.9442850405402321, 'gamma': 1.905349653950654}. Best is trial 17 with value: 1.0352023182427377.\n",
      "[I 2025-07-17 16:31:18,876] Trial 23 finished with value: 5.720186670343175 and parameters: {'n_estimators': 901, 'learning_rate': 0.20443841841276214, 'max_depth': 11, 'min_child_weight': 5, 'subsample': 0.6905252725634178, 'colsample_bytree': 0.8765922735584706, 'gamma': 0.030681309269797286}. Best is trial 17 with value: 1.0352023182427377.\n",
      "[I 2025-07-17 16:31:34,253] Trial 24 finished with value: 6.116243264480912 and parameters: {'n_estimators': 612, 'learning_rate': 0.2206365986853095, 'max_depth': 10, 'min_child_weight': 4, 'subsample': 0.7750457117600478, 'colsample_bytree': 0.969016657997106, 'gamma': 1.3924000631005236}. Best is trial 17 with value: 1.0352023182427377.\n",
      "[I 2025-07-17 16:31:46,233] Trial 25 finished with value: 6.612438391075136 and parameters: {'n_estimators': 725, 'learning_rate': 0.26207234145812985, 'max_depth': 8, 'min_child_weight': 6, 'subsample': 0.6416543159145532, 'colsample_bytree': 0.9065552322157306, 'gamma': 0.797136070195283}. Best is trial 17 with value: 1.0352023182427377.\n",
      "[I 2025-07-17 16:32:00,678] Trial 26 finished with value: 2.39450835343741 and parameters: {'n_estimators': 898, 'learning_rate': 0.15444579169852074, 'max_depth': 12, 'min_child_weight': 2, 'subsample': 0.6919367881941904, 'colsample_bytree': 0.7070056757882487, 'gamma': 1.9922541001285108}. Best is trial 17 with value: 1.0352023182427377.\n",
      "[I 2025-07-17 16:32:09,128] Trial 27 finished with value: 3.9179471115601516 and parameters: {'n_estimators': 490, 'learning_rate': 0.1715186251883607, 'max_depth': 10, 'min_child_weight': 5, 'subsample': 0.6131820275697509, 'colsample_bytree': 0.970349035853471, 'gamma': 2.7609556457781714}. Best is trial 17 with value: 1.0352023182427377.\n",
      "[I 2025-07-17 16:32:28,888] Trial 28 finished with value: 1.9768302293577649 and parameters: {'n_estimators': 785, 'learning_rate': 0.21407341470201288, 'max_depth': 6, 'min_child_weight': 3, 'subsample': 0.9955963630377782, 'colsample_bytree': 0.8528096839672753, 'gamma': 0.40527710593965116}. Best is trial 17 with value: 1.0352023182427377.\n",
      "[I 2025-07-17 16:32:39,780] Trial 29 finished with value: 6.781276291374056 and parameters: {'n_estimators': 642, 'learning_rate': 0.27081453412927964, 'max_depth': 9, 'min_child_weight': 8, 'subsample': 0.6598509310344295, 'colsample_bytree': 0.7810181500811588, 'gamma': 4.711402412764372}. Best is trial 17 with value: 1.0352023182427377.\n",
      "[I 2025-07-17 16:32:42,469] Trial 30 finished with value: 4.072517378702462 and parameters: {'n_estimators': 100, 'learning_rate': 0.23980708435750073, 'max_depth': 11, 'min_child_weight': 4, 'subsample': 0.7735607261598249, 'colsample_bytree': 0.977021171698635, 'gamma': 4.228230636858962}. Best is trial 17 with value: 1.0352023182427377.\n",
      "[I 2025-07-17 16:32:56,180] Trial 31 finished with value: 7.184551348309876 and parameters: {'n_estimators': 791, 'learning_rate': 0.16427871162782376, 'max_depth': 5, 'min_child_weight': 4, 'subsample': 0.6769257012788017, 'colsample_bytree': 0.9398711585685721, 'gamma': 2.5476663754290976}. Best is trial 17 with value: 1.0352023182427377.\n",
      "[I 2025-07-17 16:33:17,700] Trial 32 finished with value: 3.3713388901580714 and parameters: {'n_estimators': 782, 'learning_rate': 0.13871005572002043, 'max_depth': 3, 'min_child_weight': 5, 'subsample': 0.625248170393252, 'colsample_bytree': 0.9303911651837788, 'gamma': 2.757433000730022}. Best is trial 17 with value: 1.0352023182427377.\n",
      "[I 2025-07-17 16:33:37,778] Trial 33 finished with value: 8.430561504422489 and parameters: {'n_estimators': 892, 'learning_rate': 0.18255392885010807, 'max_depth': 7, 'min_child_weight': 4, 'subsample': 0.8521876898245353, 'colsample_bytree': 0.9570049149440415, 'gamma': 2.324001102867388}. Best is trial 17 with value: 1.0352023182427377.\n",
      "[I 2025-07-17 16:33:48,148] Trial 34 finished with value: 1.7655903582544568 and parameters: {'n_estimators': 685, 'learning_rate': 0.21215257851843883, 'max_depth': 5, 'min_child_weight': 6, 'subsample': 0.6919619617658963, 'colsample_bytree': 0.91742911517534, 'gamma': 3.0448464618333078}. Best is trial 17 with value: 1.0352023182427377.\n",
      "[I 2025-07-17 16:33:58,313] Trial 35 finished with value: 2.569211237426503 and parameters: {'n_estimators': 592, 'learning_rate': 0.12656924441334205, 'max_depth': 3, 'min_child_weight': 3, 'subsample': 0.64558946336728, 'colsample_bytree': 0.99901267592623, 'gamma': 3.585982301216414}. Best is trial 17 with value: 1.0352023182427377.\n",
      "[I 2025-07-17 16:34:10,171] Trial 36 finished with value: 2.567976664543779 and parameters: {'n_estimators': 707, 'learning_rate': 0.17197029643078834, 'max_depth': 4, 'min_child_weight': 8, 'subsample': 0.7088346867531887, 'colsample_bytree': 0.8821986345712449, 'gamma': 1.361034478558845}. Best is trial 17 with value: 1.0352023182427377.\n",
      "[I 2025-07-17 16:34:22,211] Trial 37 finished with value: 5.51743657221497 and parameters: {'n_estimators': 546, 'learning_rate': 0.1891082404172467, 'max_depth': 12, 'min_child_weight': 5, 'subsample': 0.6214207762333593, 'colsample_bytree': 0.837452499653534, 'gamma': 1.6751590153338918}. Best is trial 17 with value: 1.0352023182427377.\n",
      "[I 2025-07-17 16:34:38,065] Trial 38 finished with value: 5.243108977290439 and parameters: {'n_estimators': 785, 'learning_rate': 0.20220761664082365, 'max_depth': 11, 'min_child_weight': 7, 'subsample': 0.6650887268664666, 'colsample_bytree': 0.9580597330055618, 'gamma': 0.8551395867539002}. Best is trial 17 with value: 1.0352023182427377.\n",
      "[I 2025-07-17 16:34:52,036] Trial 39 finished with value: 1.5070969635221467 and parameters: {'n_estimators': 938, 'learning_rate': 0.227580316965141, 'max_depth': 7, 'min_child_weight': 2, 'subsample': 0.7534130492588198, 'colsample_bytree': 0.8712775834762502, 'gamma': 2.485634916512156}. Best is trial 17 with value: 1.0352023182427377.\n",
      "[I 2025-07-17 16:35:07,397] Trial 40 finished with value: 7.1710387952969254 and parameters: {'n_estimators': 939, 'learning_rate': 0.2790629150913247, 'max_depth': 6, 'min_child_weight': 2, 'subsample': 0.8488529485680409, 'colsample_bytree': 0.8056571015378736, 'gamma': 2.0420829210719873}. Best is trial 17 with value: 1.0352023182427377.\n",
      "[I 2025-07-17 16:35:25,994] Trial 41 finished with value: 1.6420162979298987 and parameters: {'n_estimators': 930, 'learning_rate': 0.24915896265467496, 'max_depth': 7, 'min_child_weight': 3, 'subsample': 0.7657174304381327, 'colsample_bytree': 0.8704483093799594, 'gamma': 2.5120382662646854}. Best is trial 17 with value: 1.0352023182427377.\n",
      "[I 2025-07-17 16:35:39,570] Trial 42 finished with value: 1.1794949399550958 and parameters: {'n_estimators': 934, 'learning_rate': 0.24855980402222838, 'max_depth': 7, 'min_child_weight': 1, 'subsample': 0.7513610381538018, 'colsample_bytree': 0.8692041239763825, 'gamma': 3.0589356106158525}. Best is trial 17 with value: 1.0352023182427377.\n",
      "[I 2025-07-17 16:35:52,992] Trial 43 finished with value: 3.1708772128305163 and parameters: {'n_estimators': 867, 'learning_rate': 0.22724040632607576, 'max_depth': 8, 'min_child_weight': 1, 'subsample': 0.7516929955347464, 'colsample_bytree': 0.7815757632601891, 'gamma': 3.6700913650400464}. Best is trial 17 with value: 1.0352023182427377.\n",
      "[I 2025-07-17 16:36:07,604] Trial 44 finished with value: 1.6687093616867532 and parameters: {'n_estimators': 954, 'learning_rate': 0.24716256651947, 'max_depth': 7, 'min_child_weight': 1, 'subsample': 0.8077339683615347, 'colsample_bytree': 0.8192719469122977, 'gamma': 3.1614773447748163}. Best is trial 17 with value: 1.0352023182427377.\n",
      "[I 2025-07-17 16:36:12,398] Trial 45 finished with value: 1.7241145148603139 and parameters: {'n_estimators': 231, 'learning_rate': 0.23027902109515924, 'max_depth': 6, 'min_child_weight': 2, 'subsample': 0.7350777418097447, 'colsample_bytree': 0.8313548534319223, 'gamma': 3.7968581274199047}. Best is trial 17 with value: 1.0352023182427377.\n",
      "[I 2025-07-17 16:36:30,415] Trial 46 finished with value: 5.440222089267033 and parameters: {'n_estimators': 842, 'learning_rate': 0.2625644771091634, 'max_depth': 7, 'min_child_weight': 2, 'subsample': 0.8229688951708934, 'colsample_bytree': 0.8569100226849838, 'gamma': 2.887812059101177}. Best is trial 17 with value: 1.0352023182427377.\n",
      "[I 2025-07-17 16:36:45,079] Trial 47 finished with value: 2.832595515441474 and parameters: {'n_estimators': 999, 'learning_rate': 0.28165928030699916, 'max_depth': 8, 'min_child_weight': 1, 'subsample': 0.7859005856286362, 'colsample_bytree': 0.7881030314781682, 'gamma': 3.277632856350146}. Best is trial 17 with value: 1.0352023182427377.\n",
      "[I 2025-07-17 16:36:54,719] Trial 48 finished with value: 4.108169594268751 and parameters: {'n_estimators': 539, 'learning_rate': 0.21534051818676084, 'max_depth': 6, 'min_child_weight': 2, 'subsample': 0.74958897406402, 'colsample_bytree': 0.8886901398116377, 'gamma': 0.5774557720156692}. Best is trial 17 with value: 1.0352023182427377.\n",
      "[I 2025-07-17 16:37:09,391] Trial 49 finished with value: 2.2042221970756226 and parameters: {'n_estimators': 924, 'learning_rate': 0.18879486543720425, 'max_depth': 9, 'min_child_weight': 10, 'subsample': 0.7175317397402221, 'colsample_bytree': 0.699393861332519, 'gamma': 1.5508567556631214}. Best is trial 17 with value: 1.0352023182427377.\n"
     ]
    },
    {
     "name": "stdout",
     "output_type": "stream",
     "text": [
      "Best MAPE for BlendProperty1: 1.0352023182427377\n",
      "Best hyperparameters for BlendProperty1: {'n_estimators': 701, 'learning_rate': 0.23008039774764874, 'max_depth': 11, 'min_child_weight': 5, 'subsample': 0.6044628802407289, 'colsample_bytree': 0.9942741062756161, 'gamma': 2.264773848779005}\n"
     ]
    },
    {
     "name": "stderr",
     "output_type": "stream",
     "text": [
      "[I 2025-07-17 16:37:11,268] A new study created in memory with name: no-name-a044c094-3299-4058-a36a-d58f71f68342\n"
     ]
    },
    {
     "name": "stdout",
     "output_type": "stream",
     "text": [
      "Saved best model for BlendProperty1\n",
      "\n",
      "--- Tuning and Training for BlendProperty2 ---\n",
      "\n"
     ]
    },
    {
     "name": "stderr",
     "output_type": "stream",
     "text": [
      "[I 2025-07-17 16:37:16,189] Trial 0 finished with value: 1.4232947029750758 and parameters: {'n_estimators': 249, 'learning_rate': 0.2366272992987736, 'max_depth': 8, 'min_child_weight': 8, 'subsample': 0.6696735991232866, 'colsample_bytree': 0.8181793342874244, 'gamma': 2.3173147378786743}. Best is trial 0 with value: 1.4232947029750758.\n",
      "[I 2025-07-17 16:37:38,348] Trial 1 finished with value: 1.1104992426992044 and parameters: {'n_estimators': 792, 'learning_rate': 0.020863825350493005, 'max_depth': 6, 'min_child_weight': 9, 'subsample': 0.7133924104329288, 'colsample_bytree': 0.7930144387359822, 'gamma': 4.6119053261715415}. Best is trial 1 with value: 1.1104992426992044.\n",
      "[I 2025-07-17 16:37:43,352] Trial 2 finished with value: 1.3755411347633033 and parameters: {'n_estimators': 192, 'learning_rate': 0.21385615321609872, 'max_depth': 9, 'min_child_weight': 3, 'subsample': 0.6275190223024778, 'colsample_bytree': 0.7289345925302694, 'gamma': 0.7818561885812303}. Best is trial 1 with value: 1.1104992426992044.\n",
      "[I 2025-07-17 16:37:52,441] Trial 3 finished with value: 1.1154633274470032 and parameters: {'n_estimators': 536, 'learning_rate': 0.22004455649335122, 'max_depth': 12, 'min_child_weight': 10, 'subsample': 0.7770554194379372, 'colsample_bytree': 0.6557691483595762, 'gamma': 2.576221667394074}. Best is trial 1 with value: 1.1104992426992044.\n",
      "[I 2025-07-17 16:38:09,078] Trial 4 finished with value: 1.1604907683170562 and parameters: {'n_estimators': 951, 'learning_rate': 0.04382550060747327, 'max_depth': 6, 'min_child_weight': 9, 'subsample': 0.6207502942896216, 'colsample_bytree': 0.7437381462964728, 'gamma': 4.272746711670884}. Best is trial 1 with value: 1.1104992426992044.\n",
      "[I 2025-07-17 16:38:25,264] Trial 5 finished with value: 0.9540841569056205 and parameters: {'n_estimators': 597, 'learning_rate': 0.25820998050060073, 'max_depth': 6, 'min_child_weight': 4, 'subsample': 0.6266568555847409, 'colsample_bytree': 0.9471746842036051, 'gamma': 1.3554751093949535}. Best is trial 5 with value: 0.9540841569056205.\n",
      "[I 2025-07-17 16:38:30,499] Trial 6 finished with value: 1.1782438070159005 and parameters: {'n_estimators': 233, 'learning_rate': 0.1525556959287603, 'max_depth': 12, 'min_child_weight': 4, 'subsample': 0.754489857500603, 'colsample_bytree': 0.9823380853750233, 'gamma': 4.793565261846239}. Best is trial 5 with value: 0.9540841569056205.\n",
      "[I 2025-07-17 16:38:44,017] Trial 7 finished with value: 1.1325941436030882 and parameters: {'n_estimators': 810, 'learning_rate': 0.23256264139684704, 'max_depth': 6, 'min_child_weight': 7, 'subsample': 0.6451976345939454, 'colsample_bytree': 0.6782503473973895, 'gamma': 1.693830647939133}. Best is trial 5 with value: 0.9540841569056205.\n",
      "[I 2025-07-17 16:38:55,144] Trial 8 finished with value: 1.1536378187146106 and parameters: {'n_estimators': 642, 'learning_rate': 0.2396579542951973, 'max_depth': 4, 'min_child_weight': 1, 'subsample': 0.7632695699398919, 'colsample_bytree': 0.90835612855201, 'gamma': 1.8356566107513306}. Best is trial 5 with value: 0.9540841569056205.\n",
      "[I 2025-07-17 16:39:06,551] Trial 9 finished with value: 1.397884888920729 and parameters: {'n_estimators': 714, 'learning_rate': 0.26154879114676044, 'max_depth': 3, 'min_child_weight': 1, 'subsample': 0.7480880649533013, 'colsample_bytree': 0.8117278057159498, 'gamma': 3.5254505129069607}. Best is trial 5 with value: 0.9540841569056205.\n",
      "[I 2025-07-17 16:39:18,087] Trial 10 finished with value: 1.009537338530319 and parameters: {'n_estimators': 452, 'learning_rate': 0.1457347595642407, 'max_depth': 10, 'min_child_weight': 5, 'subsample': 0.9085145212978915, 'colsample_bytree': 0.9906631584944645, 'gamma': 0.3136914425479571}. Best is trial 5 with value: 0.9540841569056205.\n",
      "[I 2025-07-17 16:39:37,353] Trial 11 finished with value: 1.0298003526895847 and parameters: {'n_estimators': 469, 'learning_rate': 0.13453102539529538, 'max_depth': 10, 'min_child_weight': 5, 'subsample': 0.9215282677605392, 'colsample_bytree': 0.9949458237149408, 'gamma': 0.06582979918026771}. Best is trial 5 with value: 0.9540841569056205.\n",
      "[I 2025-07-17 16:39:47,222] Trial 12 finished with value: 0.9616610799497025 and parameters: {'n_estimators': 367, 'learning_rate': 0.09733861556826656, 'max_depth': 10, 'min_child_weight': 6, 'subsample': 0.8798303379190443, 'colsample_bytree': 0.9059494195027782, 'gamma': 0.7742373900487088}. Best is trial 5 with value: 0.9540841569056205.\n",
      "[I 2025-07-17 16:39:56,862] Trial 13 finished with value: 1.0362440006091531 and parameters: {'n_estimators': 378, 'learning_rate': 0.08335876518260957, 'max_depth': 7, 'min_child_weight': 6, 'subsample': 0.8461779998246726, 'colsample_bytree': 0.8967575911830177, 'gamma': 1.0824342520188146}. Best is trial 5 with value: 0.9540841569056205.\n",
      "[I 2025-07-17 16:40:04,343] Trial 14 finished with value: 0.8772355500624232 and parameters: {'n_estimators': 355, 'learning_rate': 0.2936571095646492, 'max_depth': 10, 'min_child_weight': 3, 'subsample': 0.9829952287775356, 'colsample_bytree': 0.9029891766246112, 'gamma': 1.244670355803454}. Best is trial 14 with value: 0.8772355500624232.\n",
      "[I 2025-07-17 16:40:14,586] Trial 15 finished with value: 1.2473138682242286 and parameters: {'n_estimators': 608, 'learning_rate': 0.28898618073995197, 'max_depth': 4, 'min_child_weight': 3, 'subsample': 0.9612640905697389, 'colsample_bytree': 0.8633332325786309, 'gamma': 3.0017459811304343}. Best is trial 14 with value: 0.8772355500624232.\n",
      "[I 2025-07-17 16:40:25,917] Trial 16 finished with value: 1.05025439443641 and parameters: {'n_estimators': 320, 'learning_rate': 0.28898599469586506, 'max_depth': 8, 'min_child_weight': 3, 'subsample': 0.9913792747699653, 'colsample_bytree': 0.9414297392444447, 'gamma': 1.4535688516380878}. Best is trial 14 with value: 0.8772355500624232.\n",
      "[I 2025-07-17 16:40:29,462] Trial 17 finished with value: 1.0757413650802488 and parameters: {'n_estimators': 100, 'learning_rate': 0.1775388518974578, 'max_depth': 11, 'min_child_weight': 4, 'subsample': 0.8277828852035025, 'colsample_bytree': 0.8528720440527009, 'gamma': 2.1291194084966207}. Best is trial 14 with value: 0.8772355500624232.\n",
      "[I 2025-07-17 16:40:38,210] Trial 18 finished with value: 1.2760434992812875 and parameters: {'n_estimators': 514, 'learning_rate': 0.1840863723146882, 'max_depth': 5, 'min_child_weight': 2, 'subsample': 0.6800285562211368, 'colsample_bytree': 0.6073507527478499, 'gamma': 1.2785059555131149}. Best is trial 14 with value: 0.8772355500624232.\n",
      "[I 2025-07-17 16:40:53,602] Trial 19 finished with value: 1.3459526770692558 and parameters: {'n_estimators': 947, 'learning_rate': 0.2674987547767071, 'max_depth': 9, 'min_child_weight': 4, 'subsample': 0.6003586272671168, 'colsample_bytree': 0.9566932915070211, 'gamma': 3.162059348989475}. Best is trial 14 with value: 0.8772355500624232.\n",
      "[I 2025-07-17 16:41:05,589] Trial 20 finished with value: 1.0319130367958027 and parameters: {'n_estimators': 635, 'learning_rate': 0.2933566686376513, 'max_depth': 7, 'min_child_weight': 2, 'subsample': 0.9997974026802993, 'colsample_bytree': 0.9424281082820258, 'gamma': 0.6222964242304119}. Best is trial 14 with value: 0.8772355500624232.\n",
      "[I 2025-07-17 16:41:14,911] Trial 21 finished with value: 1.0301311870818743 and parameters: {'n_estimators': 363, 'learning_rate': 0.10492913091235441, 'max_depth': 11, 'min_child_weight': 6, 'subsample': 0.874241068266155, 'colsample_bytree': 0.9003303794095948, 'gamma': 0.9142489601595649}. Best is trial 14 with value: 0.8772355500624232.\n",
      "[I 2025-07-17 16:41:32,126] Trial 22 finished with value: 0.903415008727318 and parameters: {'n_estimators': 417, 'learning_rate': 0.07983893509895484, 'max_depth': 9, 'min_child_weight': 6, 'subsample': 0.9366726432951609, 'colsample_bytree': 0.8676209129071052, 'gamma': 0.430435745384266}. Best is trial 14 with value: 0.8772355500624232.\n",
      "[I 2025-07-17 16:41:47,454] Trial 23 finished with value: 0.984423120410343 and parameters: {'n_estimators': 426, 'learning_rate': 0.05129577449379777, 'max_depth': 9, 'min_child_weight': 7, 'subsample': 0.9454829236442172, 'colsample_bytree': 0.8580443793901098, 'gamma': 0.4061099950105569}. Best is trial 14 with value: 0.8772355500624232.\n",
      "[I 2025-07-17 16:41:56,637] Trial 24 finished with value: 1.0002004032664122 and parameters: {'n_estimators': 293, 'learning_rate': 0.19179901594525767, 'max_depth': 8, 'min_child_weight': 5, 'subsample': 0.9599112461995627, 'colsample_bytree': 0.8713020615412294, 'gamma': 0.052453432965682834}. Best is trial 14 with value: 0.8772355500624232.\n",
      "[I 2025-07-17 16:42:06,364] Trial 25 finished with value: 0.939915298044733 and parameters: {'n_estimators': 533, 'learning_rate': 0.2609791113878248, 'max_depth': 11, 'min_child_weight': 4, 'subsample': 0.8260804593156088, 'colsample_bytree': 0.9321551363186182, 'gamma': 1.4384732015545285}. Best is trial 14 with value: 0.8772355500624232.\n",
      "[I 2025-07-17 16:42:16,140] Trial 26 finished with value: 1.2217634355987232 and parameters: {'n_estimators': 496, 'learning_rate': 0.1207209039554985, 'max_depth': 11, 'min_child_weight': 2, 'subsample': 0.8231874771768141, 'colsample_bytree': 0.7847137677675254, 'gamma': 1.8087187552935688}. Best is trial 14 with value: 0.8772355500624232.\n",
      "[I 2025-07-17 16:42:27,553] Trial 27 finished with value: 0.9533561593234514 and parameters: {'n_estimators': 155, 'learning_rate': 0.08016455332184226, 'max_depth': 10, 'min_child_weight': 7, 'subsample': 0.8952675247570725, 'colsample_bytree': 0.8317808219905455, 'gamma': 1.1362340458143345}. Best is trial 14 with value: 0.8772355500624232.\n",
      "[I 2025-07-17 16:42:37,320] Trial 28 finished with value: 1.1476780178394066 and parameters: {'n_estimators': 423, 'learning_rate': 0.2074933759951056, 'max_depth': 12, 'min_child_weight': 3, 'subsample': 0.9424824643113303, 'colsample_bytree': 0.920072416171593, 'gamma': 0.6026431678061237}. Best is trial 14 with value: 0.8772355500624232.\n",
      "[I 2025-07-17 16:42:42,797] Trial 29 finished with value: 1.040790871097211 and parameters: {'n_estimators': 291, 'learning_rate': 0.24887793934453087, 'max_depth': 9, 'min_child_weight': 8, 'subsample': 0.977142026288193, 'colsample_bytree': 0.7654315841718556, 'gamma': 2.2968811439816816}. Best is trial 14 with value: 0.8772355500624232.\n",
      "[I 2025-07-17 16:42:55,340] Trial 30 finished with value: 1.0791649190755197 and parameters: {'n_estimators': 555, 'learning_rate': 0.055262718139465, 'max_depth': 11, 'min_child_weight': 5, 'subsample': 0.864733529180282, 'colsample_bytree': 0.8365213709345987, 'gamma': 2.5126096133488276}. Best is trial 14 with value: 0.8772355500624232.\n",
      "[I 2025-07-17 16:43:01,564] Trial 31 finished with value: 1.043714556763474 and parameters: {'n_estimators': 136, 'learning_rate': 0.0816976102407933, 'max_depth': 10, 'min_child_weight': 7, 'subsample': 0.9064846030401454, 'colsample_bytree': 0.8302979277924138, 'gamma': 1.1266566042840038}. Best is trial 14 with value: 0.8772355500624232.\n",
      "[I 2025-07-17 16:43:27,349] Trial 32 finished with value: 0.9565080259190568 and parameters: {'n_estimators': 222, 'learning_rate': 0.011290709178915309, 'max_depth': 10, 'min_child_weight': 8, 'subsample': 0.8002663535600887, 'colsample_bytree': 0.8811230624926125, 'gamma': 1.4553201937581686}. Best is trial 14 with value: 0.8772355500624232.\n",
      "[I 2025-07-17 16:43:35,943] Trial 33 finished with value: 1.0428345659248144 and parameters: {'n_estimators': 166, 'learning_rate': 0.03794404481830144, 'max_depth': 9, 'min_child_weight': 7, 'subsample': 0.927354502171403, 'colsample_bytree': 0.8072279700858238, 'gamma': 1.9853559861388184}. Best is trial 14 with value: 0.8772355500624232.\n",
      "[I 2025-07-17 16:43:44,853] Trial 34 finished with value: 0.8973815397030661 and parameters: {'n_estimators': 270, 'learning_rate': 0.07399625756062002, 'max_depth': 11, 'min_child_weight': 6, 'subsample': 0.8978784071339156, 'colsample_bytree': 0.842089828105671, 'gamma': 0.980662269714824}. Best is trial 14 with value: 0.8772355500624232.\n",
      "[I 2025-07-17 16:43:52,412] Trial 35 finished with value: 1.088673712736633 and parameters: {'n_estimators': 335, 'learning_rate': 0.2702308166369499, 'max_depth': 12, 'min_child_weight': 6, 'subsample': 0.9740942736401642, 'colsample_bytree': 0.8869881707562577, 'gamma': 0.382305373526159}. Best is trial 14 with value: 0.8772355500624232.\n",
      "[I 2025-07-17 16:44:00,335] Trial 36 finished with value: 1.0229592622895525 and parameters: {'n_estimators': 250, 'learning_rate': 0.062395341700278883, 'max_depth': 11, 'min_child_weight': 4, 'subsample': 0.8531844698242143, 'colsample_bytree': 0.9687982308291369, 'gamma': 1.581920867670831}. Best is trial 14 with value: 0.8772355500624232.\n",
      "[I 2025-07-17 16:44:16,777] Trial 37 finished with value: 0.8855122829183518 and parameters: {'n_estimators': 391, 'learning_rate': 0.035338059104157424, 'max_depth': 11, 'min_child_weight': 3, 'subsample': 0.9334337114321662, 'colsample_bytree': 0.9297786190336205, 'gamma': 0.8710607692124572}. Best is trial 14 with value: 0.8772355500624232.\n",
      "[I 2025-07-17 16:44:38,141] Trial 38 finished with value: 0.9692433034128177 and parameters: {'n_estimators': 405, 'learning_rate': 0.032430678135288084, 'max_depth': 12, 'min_child_weight': 9, 'subsample': 0.9323661312189061, 'colsample_bytree': 0.7900909523282846, 'gamma': 0.8904422895287187}. Best is trial 14 with value: 0.8772355500624232.\n",
      "[I 2025-07-17 16:45:01,546] Trial 39 finished with value: 0.8884680687350215 and parameters: {'n_estimators': 265, 'learning_rate': 0.021521420196868916, 'max_depth': 8, 'min_child_weight': 3, 'subsample': 0.8947418929770332, 'colsample_bytree': 0.9233668586162675, 'gamma': 0.5005708424188987}. Best is trial 14 with value: 0.8772355500624232.\n",
      "[I 2025-07-17 16:45:13,783] Trial 40 finished with value: 1.051230583037027 and parameters: {'n_estimators': 213, 'learning_rate': 0.018687835178655854, 'max_depth': 7, 'min_child_weight': 3, 'subsample': 0.8937085042947959, 'colsample_bytree': 0.9243240888450152, 'gamma': 4.170832951479861}. Best is trial 14 with value: 0.8772355500624232.\n",
      "[I 2025-07-17 16:45:29,540] Trial 41 finished with value: 0.9120259294780645 and parameters: {'n_estimators': 263, 'learning_rate': 0.06959738809277266, 'max_depth': 9, 'min_child_weight': 2, 'subsample': 0.9537171441912735, 'colsample_bytree': 0.9653527456337881, 'gamma': 0.5452825369141251}. Best is trial 14 with value: 0.8772355500624232.\n",
      "[I 2025-07-17 16:45:56,434] Trial 42 finished with value: 0.9048308809483615 and parameters: {'n_estimators': 316, 'learning_rate': 0.026331170573085406, 'max_depth': 8, 'min_child_weight': 1, 'subsample': 0.915689130761251, 'colsample_bytree': 0.8453917739139272, 'gamma': 0.24147670399645832}. Best is trial 14 with value: 0.8772355500624232.\n",
      "[I 2025-07-17 16:46:04,203] Trial 43 finished with value: 0.7683714461476707 and parameters: {'n_estimators': 274, 'learning_rate': 0.10142538982829316, 'max_depth': 9, 'min_child_weight': 10, 'subsample': 0.9812320693392567, 'colsample_bytree': 0.9209677905832286, 'gamma': 0.7914246880856285}. Best is trial 43 with value: 0.7683714461476707.\n",
      "[I 2025-07-17 16:46:14,658] Trial 44 finished with value: 0.8419483713168981 and parameters: {'n_estimators': 186, 'learning_rate': 0.04399999247001355, 'max_depth': 10, 'min_child_weight': 10, 'subsample': 0.979101076243167, 'colsample_bytree': 0.9188106001835152, 'gamma': 0.8069625251785502}. Best is trial 43 with value: 0.7683714461476707.\n",
      "[I 2025-07-17 16:46:30,354] Trial 45 finished with value: 0.8030663648627991 and parameters: {'n_estimators': 192, 'learning_rate': 0.04390662650170794, 'max_depth': 10, 'min_child_weight': 10, 'subsample': 0.9803947216509765, 'colsample_bytree': 0.978386367815074, 'gamma': 0.8300416287719858}. Best is trial 43 with value: 0.7683714461476707.\n",
      "[I 2025-07-17 16:46:37,845] Trial 46 finished with value: 0.8960137359977729 and parameters: {'n_estimators': 193, 'learning_rate': 0.10019914925078226, 'max_depth': 10, 'min_child_weight': 10, 'subsample': 0.9765066192483596, 'colsample_bytree': 0.9820968481837332, 'gamma': 0.7108661163858689}. Best is trial 43 with value: 0.7683714461476707.\n",
      "[I 2025-07-17 16:46:46,044] Trial 47 finished with value: 0.8686965039829655 and parameters: {'n_estimators': 100, 'learning_rate': 0.046099363126234076, 'max_depth': 10, 'min_child_weight': 10, 'subsample': 0.9868763868963473, 'colsample_bytree': 0.9746623944247985, 'gamma': 1.3042690815597027}. Best is trial 43 with value: 0.7683714461476707.\n",
      "[I 2025-07-17 16:46:50,959] Trial 48 finished with value: 0.8990990804657283 and parameters: {'n_estimators': 121, 'learning_rate': 0.11561113708136002, 'max_depth': 10, 'min_child_weight': 10, 'subsample': 0.9918992029155803, 'colsample_bytree': 0.9958510954951112, 'gamma': 1.229877954159783}. Best is trial 43 with value: 0.7683714461476707.\n",
      "[I 2025-07-17 16:47:05,217] Trial 49 finished with value: 1.0529338251450915 and parameters: {'n_estimators': 176, 'learning_rate': 0.047206575231761555, 'max_depth': 10, 'min_child_weight': 9, 'subsample': 0.9710132028735058, 'colsample_bytree': 0.7031892730812143, 'gamma': 0.17978983849523933}. Best is trial 43 with value: 0.7683714461476707.\n"
     ]
    },
    {
     "name": "stdout",
     "output_type": "stream",
     "text": [
      "Best MAPE for BlendProperty2: 0.7683714461476707\n",
      "Best hyperparameters for BlendProperty2: {'n_estimators': 274, 'learning_rate': 0.10142538982829316, 'max_depth': 9, 'min_child_weight': 10, 'subsample': 0.9812320693392567, 'colsample_bytree': 0.9209677905832286, 'gamma': 0.7914246880856285}\n"
     ]
    },
    {
     "name": "stderr",
     "output_type": "stream",
     "text": [
      "[I 2025-07-17 16:47:06,739] A new study created in memory with name: no-name-72ff653a-79e4-4c02-8830-015b13ca24e9\n"
     ]
    },
    {
     "name": "stdout",
     "output_type": "stream",
     "text": [
      "Saved best model for BlendProperty2\n",
      "\n",
      "--- Tuning and Training for BlendProperty3 ---\n",
      "\n"
     ]
    },
    {
     "name": "stderr",
     "output_type": "stream",
     "text": [
      "[I 2025-07-17 16:47:14,184] Trial 0 finished with value: 1.4165266572024013 and parameters: {'n_estimators': 393, 'learning_rate': 0.21472433598164364, 'max_depth': 5, 'min_child_weight': 7, 'subsample': 0.6856210195776735, 'colsample_bytree': 0.9512068261055748, 'gamma': 1.764356219723338}. Best is trial 0 with value: 1.4165266572024013.\n",
      "[I 2025-07-17 16:47:28,371] Trial 1 finished with value: 1.4636432675198037 and parameters: {'n_estimators': 569, 'learning_rate': 0.2580697627847645, 'max_depth': 8, 'min_child_weight': 4, 'subsample': 0.9392593763935451, 'colsample_bytree': 0.7192466605034086, 'gamma': 3.74540051862237}. Best is trial 0 with value: 1.4165266572024013.\n",
      "[I 2025-07-17 16:47:43,585] Trial 2 finished with value: 1.8231472191382943 and parameters: {'n_estimators': 896, 'learning_rate': 0.18483697139323144, 'max_depth': 12, 'min_child_weight': 2, 'subsample': 0.6169569037159326, 'colsample_bytree': 0.7535696719114621, 'gamma': 3.7654375804761004}. Best is trial 0 with value: 1.4165266572024013.\n",
      "[I 2025-07-17 16:47:53,518] Trial 3 finished with value: 1.6501934664243834 and parameters: {'n_estimators': 264, 'learning_rate': 0.02052988532081704, 'max_depth': 9, 'min_child_weight': 8, 'subsample': 0.8155870616722376, 'colsample_bytree': 0.622776855139409, 'gamma': 3.585091162713645}. Best is trial 0 with value: 1.4165266572024013.\n",
      "[I 2025-07-17 16:48:08,442] Trial 4 finished with value: 1.7700388794198798 and parameters: {'n_estimators': 975, 'learning_rate': 0.240934127844715, 'max_depth': 10, 'min_child_weight': 9, 'subsample': 0.9517464566168145, 'colsample_bytree': 0.7302465973802408, 'gamma': 4.535970714322836}. Best is trial 0 with value: 1.4165266572024013.\n",
      "[I 2025-07-17 16:48:25,421] Trial 5 finished with value: 1.1103851893198138 and parameters: {'n_estimators': 667, 'learning_rate': 0.21787146236481147, 'max_depth': 5, 'min_child_weight': 5, 'subsample': 0.8296030474698628, 'colsample_bytree': 0.8739970318557327, 'gamma': 0.12710153249323508}. Best is trial 5 with value: 1.1103851893198138.\n",
      "[I 2025-07-17 16:48:41,015] Trial 6 finished with value: 1.2059955331493324 and parameters: {'n_estimators': 836, 'learning_rate': 0.1326722899377212, 'max_depth': 6, 'min_child_weight': 1, 'subsample': 0.9663665282965942, 'colsample_bytree': 0.8371504705996436, 'gamma': 1.0391993188112743}. Best is trial 5 with value: 1.1103851893198138.\n",
      "[I 2025-07-17 16:48:57,621] Trial 7 finished with value: 1.2905839623705317 and parameters: {'n_estimators': 947, 'learning_rate': 0.08144500625730004, 'max_depth': 10, 'min_child_weight': 8, 'subsample': 0.6716542664407573, 'colsample_bytree': 0.9900931182721882, 'gamma': 2.19862395537122}. Best is trial 5 with value: 1.1103851893198138.\n",
      "[I 2025-07-17 16:49:18,854] Trial 8 finished with value: 1.1681287642780749 and parameters: {'n_estimators': 525, 'learning_rate': 0.02356503273750892, 'max_depth': 6, 'min_child_weight': 6, 'subsample': 0.9247611037871185, 'colsample_bytree': 0.8068270821681398, 'gamma': 0.4964057571323621}. Best is trial 5 with value: 1.1103851893198138.\n",
      "[I 2025-07-17 16:49:32,633] Trial 9 finished with value: 1.7244387877558467 and parameters: {'n_estimators': 495, 'learning_rate': 0.08879297379514145, 'max_depth': 3, 'min_child_weight': 5, 'subsample': 0.6876665323307051, 'colsample_bytree': 0.7303559476173439, 'gamma': 4.682371785035748}. Best is trial 5 with value: 1.1103851893198138.\n",
      "[I 2025-07-17 16:49:46,205] Trial 10 finished with value: 1.42036723758696 and parameters: {'n_estimators': 717, 'learning_rate': 0.29724266546371014, 'max_depth': 3, 'min_child_weight': 3, 'subsample': 0.8121994917390034, 'colsample_bytree': 0.8974709716104129, 'gamma': 0.08294275811743503}. Best is trial 5 with value: 1.1103851893198138.\n",
      "[I 2025-07-17 16:50:49,609] Trial 11 finished with value: 1.1358354223112712 and parameters: {'n_estimators': 648, 'learning_rate': 0.011196116805314626, 'max_depth': 6, 'min_child_weight': 5, 'subsample': 0.8616068731711185, 'colsample_bytree': 0.8402771205668258, 'gamma': 0.04222607882642049}. Best is trial 5 with value: 1.1103851893198138.\n",
      "[I 2025-07-17 16:51:02,569] Trial 12 finished with value: 1.3282571001081833 and parameters: {'n_estimators': 706, 'learning_rate': 0.1538425421088111, 'max_depth': 5, 'min_child_weight': 5, 'subsample': 0.862126784506573, 'colsample_bytree': 0.8828365810761395, 'gamma': 1.2006557841651335}. Best is trial 5 with value: 1.1103851893198138.\n",
      "[I 2025-07-17 16:51:25,403] Trial 13 finished with value: 1.2360379405147188 and parameters: {'n_estimators': 708, 'learning_rate': 0.1066971560670245, 'max_depth': 7, 'min_child_weight': 4, 'subsample': 0.8665065514360818, 'colsample_bytree': 0.8833489147406679, 'gamma': 0.060425556627805466}. Best is trial 5 with value: 1.1103851893198138.\n",
      "[I 2025-07-17 16:51:29,607] Trial 14 finished with value: 1.5915065350729687 and parameters: {'n_estimators': 186, 'learning_rate': 0.18966513847551766, 'max_depth': 4, 'min_child_weight': 10, 'subsample': 0.750969974596965, 'colsample_bytree': 0.8367405383766896, 'gamma': 1.0420996890798357}. Best is trial 5 with value: 1.1103851893198138.\n",
      "[I 2025-07-17 16:51:42,342] Trial 15 finished with value: 1.5396523683396075 and parameters: {'n_estimators': 620, 'learning_rate': 0.0570277229258882, 'max_depth': 7, 'min_child_weight': 6, 'subsample': 0.8750612744002826, 'colsample_bytree': 0.9172140934982916, 'gamma': 2.4557940993827483}. Best is trial 5 with value: 1.1103851893198138.\n",
      "[I 2025-07-17 16:51:49,769] Trial 16 finished with value: 1.4274983534214352 and parameters: {'n_estimators': 395, 'learning_rate': 0.2794207948258542, 'max_depth': 5, 'min_child_weight': 3, 'subsample': 0.758326147160506, 'colsample_bytree': 0.6632006352135065, 'gamma': 0.570965962781598}. Best is trial 5 with value: 1.1103851893198138.\n",
      "[I 2025-07-17 16:52:03,835] Trial 17 finished with value: 1.3795441976708747 and parameters: {'n_estimators': 782, 'learning_rate': 0.21406413315053077, 'max_depth': 8, 'min_child_weight': 7, 'subsample': 0.9963570941919694, 'colsample_bytree': 0.7913047422406749, 'gamma': 1.6011173280486768}. Best is trial 5 with value: 1.1103851893198138.\n",
      "[I 2025-07-17 16:52:15,222] Trial 18 finished with value: 1.5731164764275154 and parameters: {'n_estimators': 630, 'learning_rate': 0.1271627441105681, 'max_depth': 4, 'min_child_weight': 4, 'subsample': 0.7553818409718622, 'colsample_bytree': 0.8478634926370482, 'gamma': 3.1063344090304637}. Best is trial 5 with value: 1.1103851893198138.\n",
      "[I 2025-07-17 16:52:28,734] Trial 19 finished with value: 1.2788408621243956 and parameters: {'n_estimators': 418, 'learning_rate': 0.17145057517605639, 'max_depth': 6, 'min_child_weight': 1, 'subsample': 0.8834382029516527, 'colsample_bytree': 0.946057695071518, 'gamma': 0.653041362983305}. Best is trial 5 with value: 1.1103851893198138.\n",
      "[I 2025-07-17 16:52:43,365] Trial 20 finished with value: 1.3926372487915035 and parameters: {'n_estimators': 806, 'learning_rate': 0.05398494188221349, 'max_depth': 4, 'min_child_weight': 7, 'subsample': 0.8244121643201148, 'colsample_bytree': 0.7778211029936417, 'gamma': 1.8354083306176379}. Best is trial 5 with value: 1.1103851893198138.\n",
      "[I 2025-07-17 16:53:01,295] Trial 21 finished with value: 1.212141526961294 and parameters: {'n_estimators': 487, 'learning_rate': 0.03097357897060837, 'max_depth': 6, 'min_child_weight': 6, 'subsample': 0.9166076180217428, 'colsample_bytree': 0.8151931612558011, 'gamma': 0.4465380543162011}. Best is trial 5 with value: 1.1103851893198138.\n",
      "[I 2025-07-17 16:53:56,364] Trial 22 finished with value: 1.0505157787008408 and parameters: {'n_estimators': 564, 'learning_rate': 0.01419592114191274, 'max_depth': 6, 'min_child_weight': 5, 'subsample': 0.9077165874436667, 'colsample_bytree': 0.8671917597259505, 'gamma': 0.03442954557050726}. Best is trial 22 with value: 1.0505157787008408.\n",
      "[I 2025-07-17 16:54:18,103] Trial 23 finished with value: 1.0658625612945318 and parameters: {'n_estimators': 631, 'learning_rate': 0.054122543159341174, 'max_depth': 7, 'min_child_weight': 5, 'subsample': 0.9026497075959589, 'colsample_bytree': 0.859596614566783, 'gamma': 0.0656612996467573}. Best is trial 22 with value: 1.0505157787008408.\n",
      "[I 2025-07-17 16:54:37,134] Trial 24 finished with value: 1.3202894885839769 and parameters: {'n_estimators': 572, 'learning_rate': 0.06076712144949176, 'max_depth': 7, 'min_child_weight': 3, 'subsample': 0.906986878278522, 'colsample_bytree': 0.9292849841295684, 'gamma': 0.8655137234852001}. Best is trial 22 with value: 1.0505157787008408.\n",
      "[I 2025-07-17 16:54:47,545] Trial 25 finished with value: 1.2046380059700261 and parameters: {'n_estimators': 273, 'learning_rate': 0.03745864127599569, 'max_depth': 9, 'min_child_weight': 4, 'subsample': 0.7845788432952344, 'colsample_bytree': 0.8717824428266406, 'gamma': 1.430751882785478}. Best is trial 22 with value: 1.0505157787008408.\n",
      "[I 2025-07-17 16:55:00,265] Trial 26 finished with value: 1.482265495828369 and parameters: {'n_estimators': 676, 'learning_rate': 0.2335677505517224, 'max_depth': 5, 'min_child_weight': 5, 'subsample': 0.842908322705713, 'colsample_bytree': 0.9887255167854073, 'gamma': 0.4681926472349103}. Best is trial 22 with value: 1.0505157787008408.\n",
      "[I 2025-07-17 16:55:13,037] Trial 27 finished with value: 1.181773816205682 and parameters: {'n_estimators': 462, 'learning_rate': 0.11174818674619055, 'max_depth': 8, 'min_child_weight': 6, 'subsample': 0.9895437803277265, 'colsample_bytree': 0.8662160961420141, 'gamma': 0.24020020729458563}. Best is trial 22 with value: 1.0505157787008408.\n",
      "[I 2025-07-17 16:55:34,748] Trial 28 finished with value: 1.1513808886605723 and parameters: {'n_estimators': 764, 'learning_rate': 0.07331047660709465, 'max_depth': 7, 'min_child_weight': 2, 'subsample': 0.9008363872428055, 'colsample_bytree': 0.9054583023737139, 'gamma': 0.8442936137599815}. Best is trial 22 with value: 1.0505157787008408.\n",
      "[I 2025-07-17 16:55:45,580] Trial 29 finished with value: 1.4637180904774827 and parameters: {'n_estimators': 576, 'learning_rate': 0.20284712080583756, 'max_depth': 5, 'min_child_weight': 7, 'subsample': 0.7861144630258684, 'colsample_bytree': 0.9560378196759023, 'gamma': 1.998634908838769}. Best is trial 22 with value: 1.0505157787008408.\n",
      "[I 2025-07-17 16:55:58,477] Trial 30 finished with value: 1.341318375273341 and parameters: {'n_estimators': 441, 'learning_rate': 0.04347231731628679, 'max_depth': 12, 'min_child_weight': 8, 'subsample': 0.8414647340782307, 'colsample_bytree': 0.956698192696095, 'gamma': 1.3346119550157294}. Best is trial 22 with value: 1.0505157787008408.\n",
      "[I 2025-07-17 16:56:40,685] Trial 31 finished with value: 1.074672821252753 and parameters: {'n_estimators': 629, 'learning_rate': 0.017814711526235927, 'max_depth': 6, 'min_child_weight': 5, 'subsample': 0.88975357057422, 'colsample_bytree': 0.8553690938560412, 'gamma': 0.0804110349730969}. Best is trial 22 with value: 1.0505157787008408.\n",
      "[I 2025-07-17 16:57:04,479] Trial 32 finished with value: 1.2023386748243383 and parameters: {'n_estimators': 335, 'learning_rate': 0.012611141806795907, 'max_depth': 5, 'min_child_weight': 5, 'subsample': 0.9341562330066304, 'colsample_bytree': 0.8657158589241453, 'gamma': 0.28458762885741484}. Best is trial 22 with value: 1.0505157787008408.\n",
      "[I 2025-07-17 16:57:22,014] Trial 33 finished with value: 1.224628913120212 and parameters: {'n_estimators': 587, 'learning_rate': 0.04479465706735449, 'max_depth': 7, 'min_child_weight': 4, 'subsample': 0.8933354246809941, 'colsample_bytree': 0.7701968763565499, 'gamma': 0.7321588121522231}. Best is trial 22 with value: 1.0505157787008408.\n",
      "[I 2025-07-17 16:57:40,426] Trial 34 finished with value: 1.6049941685537348 and parameters: {'n_estimators': 856, 'learning_rate': 0.07062512825856487, 'max_depth': 8, 'min_child_weight': 6, 'subsample': 0.9516075811479285, 'colsample_bytree': 0.8104926163476068, 'gamma': 3.0199030758169227}. Best is trial 22 with value: 1.0505157787008408.\n",
      "[I 2025-07-17 16:57:53,221] Trial 35 finished with value: 1.3332195283047719 and parameters: {'n_estimators': 526, 'learning_rate': 0.2570184680114407, 'max_depth': 4, 'min_child_weight': 3, 'subsample': 0.8523093551151912, 'colsample_bytree': 0.852114250403796, 'gamma': 0.0020501903216511436}. Best is trial 22 with value: 1.0505157787008408.\n",
      "[I 2025-07-17 16:58:07,184] Trial 36 finished with value: 1.18361312656627 and parameters: {'n_estimators': 726, 'learning_rate': 0.15811248484299129, 'max_depth': 9, 'min_child_weight': 5, 'subsample': 0.9701327744739875, 'colsample_bytree': 0.8242598679087733, 'gamma': 0.35119979119643874}. Best is trial 22 with value: 1.0505157787008408.\n",
      "[I 2025-07-17 16:58:23,315] Trial 37 finished with value: 1.4601995866420725 and parameters: {'n_estimators': 645, 'learning_rate': 0.10043876354581405, 'max_depth': 6, 'min_child_weight': 7, 'subsample': 0.8269817329289315, 'colsample_bytree': 0.8945008281661347, 'gamma': 0.95801802364452}. Best is trial 22 with value: 1.0505157787008408.\n",
      "[I 2025-07-17 16:58:39,200] Trial 38 finished with value: 1.5367481691997393 and parameters: {'n_estimators': 600, 'learning_rate': 0.02904424694930472, 'max_depth': 11, 'min_child_weight': 4, 'subsample': 0.9350943382595843, 'colsample_bytree': 0.9277560080218558, 'gamma': 4.32374421136695}. Best is trial 22 with value: 1.0505157787008408.\n",
      "[I 2025-07-17 16:59:04,330] Trial 39 finished with value: 1.2667467910700494 and parameters: {'n_estimators': 895, 'learning_rate': 0.022955682874416385, 'max_depth': 6, 'min_child_weight': 2, 'subsample': 0.8927255477565019, 'colsample_bytree': 0.691783396827399, 'gamma': 0.6125077600200853}. Best is trial 22 with value: 1.0505157787008408.\n",
      "[I 2025-07-17 16:59:17,765] Trial 40 finished with value: 1.3758182620338157 and parameters: {'n_estimators': 543, 'learning_rate': 0.09017579105140539, 'max_depth': 8, 'min_child_weight': 6, 'subsample': 0.9658771038241472, 'colsample_bytree': 0.7550693827631008, 'gamma': 0.26058764242437044}. Best is trial 22 with value: 1.0505157787008408.\n",
      "[I 2025-07-17 17:00:18,310] Trial 41 finished with value: 1.0792254200938065 and parameters: {'n_estimators': 670, 'learning_rate': 0.010244610955428378, 'max_depth': 6, 'min_child_weight': 5, 'subsample': 0.9159381662702316, 'colsample_bytree': 0.830595437659964, 'gamma': 0.09169109059631086}. Best is trial 22 with value: 1.0505157787008408.\n",
      "[I 2025-07-17 17:01:00,163] Trial 42 finished with value: 1.1254635402588902 and parameters: {'n_estimators': 673, 'learning_rate': 0.01288896584273736, 'max_depth': 6, 'min_child_weight': 5, 'subsample': 0.9185088237650713, 'colsample_bytree': 0.7925985534968747, 'gamma': 0.27691484045609804}. Best is trial 22 with value: 1.0505157787008408.\n",
      "[I 2025-07-17 17:01:41,522] Trial 43 finished with value: 1.113095629787526 and parameters: {'n_estimators': 741, 'learning_rate': 0.04257859671916284, 'max_depth': 5, 'min_child_weight': 5, 'subsample': 0.6064827245136011, 'colsample_bytree': 0.8530520691839101, 'gamma': 0.004015239735961476}. Best is trial 22 with value: 1.0505157787008408.\n",
      "[I 2025-07-17 17:01:59,925] Trial 44 finished with value: 1.328418613011817 and parameters: {'n_estimators': 684, 'learning_rate': 0.026535938405716587, 'max_depth': 7, 'min_child_weight': 4, 'subsample': 0.8798135687681952, 'colsample_bytree': 0.8200987503668914, 'gamma': 1.1841081316478963}. Best is trial 22 with value: 1.0505157787008408.\n",
      "[I 2025-07-17 17:02:13,086] Trial 45 finished with value: 1.3395544163331699 and parameters: {'n_estimators': 495, 'learning_rate': 0.06309367146694535, 'max_depth': 6, 'min_child_weight': 6, 'subsample': 0.9402127950430358, 'colsample_bytree': 0.8830174820581422, 'gamma': 0.7211500962635883}. Best is trial 22 with value: 1.0505157787008408.\n",
      "[I 2025-07-17 17:02:49,335] Trial 46 finished with value: 1.2459846032903088 and parameters: {'n_estimators': 621, 'learning_rate': 0.011232876545376573, 'max_depth': 5, 'min_child_weight': 5, 'subsample': 0.8023607574714694, 'colsample_bytree': 0.60965497420985, 'gamma': 0.2093726921865808}. Best is trial 22 with value: 1.0505157787008408.\n",
      "[I 2025-07-17 17:03:09,744] Trial 47 finished with value: 1.1872886706030061 and parameters: {'n_estimators': 818, 'learning_rate': 0.04651484396808945, 'max_depth': 7, 'min_child_weight': 4, 'subsample': 0.6398481248334608, 'colsample_bytree': 0.8331611168575245, 'gamma': 0.46889492521258513}. Best is trial 22 with value: 1.0505157787008408.\n",
      "[I 2025-07-17 17:03:26,841] Trial 48 finished with value: 1.236827162790385 and parameters: {'n_estimators': 772, 'learning_rate': 0.22726948322744775, 'max_depth': 4, 'min_child_weight': 6, 'subsample': 0.7244882816793705, 'colsample_bytree': 0.8750601602096856, 'gamma': 1.1025077664996497}. Best is trial 22 with value: 1.0505157787008408.\n",
      "[I 2025-07-17 17:03:36,226] Trial 49 finished with value: 1.855993451379303 and parameters: {'n_estimators': 540, 'learning_rate': 0.13521518224929183, 'max_depth': 3, 'min_child_weight': 8, 'subsample': 0.9102159265290665, 'colsample_bytree': 0.9092415733919028, 'gamma': 4.948927592077161}. Best is trial 22 with value: 1.0505157787008408.\n"
     ]
    },
    {
     "name": "stdout",
     "output_type": "stream",
     "text": [
      "Best MAPE for BlendProperty3: 1.0505157787008408\n",
      "Best hyperparameters for BlendProperty3: {'n_estimators': 564, 'learning_rate': 0.01419592114191274, 'max_depth': 6, 'min_child_weight': 5, 'subsample': 0.9077165874436667, 'colsample_bytree': 0.8671917597259505, 'gamma': 0.03442954557050726}\n"
     ]
    },
    {
     "name": "stderr",
     "output_type": "stream",
     "text": [
      "[I 2025-07-17 17:03:47,369] A new study created in memory with name: no-name-dbf7abfe-a305-47d2-a619-e3d378d92cf2\n"
     ]
    },
    {
     "name": "stdout",
     "output_type": "stream",
     "text": [
      "Saved best model for BlendProperty3\n",
      "\n",
      "--- Tuning and Training for BlendProperty4 ---\n",
      "\n"
     ]
    },
    {
     "name": "stderr",
     "output_type": "stream",
     "text": [
      "[I 2025-07-17 17:04:01,617] Trial 0 finished with value: 1.1880821176311862 and parameters: {'n_estimators': 668, 'learning_rate': 0.06604538860209501, 'max_depth': 7, 'min_child_weight': 3, 'subsample': 0.72506946208279, 'colsample_bytree': 0.8853147075580112, 'gamma': 4.385117623508581}. Best is trial 0 with value: 1.1880821176311862.\n",
      "[I 2025-07-17 17:04:14,765] Trial 1 finished with value: 1.1625218308831824 and parameters: {'n_estimators': 718, 'learning_rate': 0.1411118174604442, 'max_depth': 10, 'min_child_weight': 9, 'subsample': 0.6305507915033848, 'colsample_bytree': 0.748316463426083, 'gamma': 3.445789334376226}. Best is trial 1 with value: 1.1625218308831824.\n",
      "[I 2025-07-17 17:04:34,183] Trial 2 finished with value: 0.935560293471865 and parameters: {'n_estimators': 650, 'learning_rate': 0.07942228671983022, 'max_depth': 5, 'min_child_weight': 5, 'subsample': 0.8260709226283984, 'colsample_bytree': 0.9387585302467434, 'gamma': 0.17150804032001088}. Best is trial 2 with value: 0.935560293471865.\n",
      "[I 2025-07-17 17:04:40,912] Trial 3 finished with value: 1.2468835592858851 and parameters: {'n_estimators': 369, 'learning_rate': 0.2757449487417011, 'max_depth': 10, 'min_child_weight': 7, 'subsample': 0.8285415068801194, 'colsample_bytree': 0.8030797289180337, 'gamma': 3.650278255847012}. Best is trial 2 with value: 0.935560293471865.\n",
      "[I 2025-07-17 17:04:51,499] Trial 4 finished with value: 1.2165559296855677 and parameters: {'n_estimators': 630, 'learning_rate': 0.19164818658642657, 'max_depth': 7, 'min_child_weight': 10, 'subsample': 0.7485822725600086, 'colsample_bytree': 0.7004563449538991, 'gamma': 1.7563139374688057}. Best is trial 2 with value: 0.935560293471865.\n",
      "[I 2025-07-17 17:04:59,796] Trial 5 finished with value: 1.3510241731719064 and parameters: {'n_estimators': 395, 'learning_rate': 0.09953695213155632, 'max_depth': 8, 'min_child_weight': 6, 'subsample': 0.8582297105373652, 'colsample_bytree': 0.8377177146217021, 'gamma': 3.448502467733326}. Best is trial 2 with value: 0.935560293471865.\n",
      "[I 2025-07-17 17:05:12,657] Trial 6 finished with value: 1.2957241666416035 and parameters: {'n_estimators': 699, 'learning_rate': 0.13192591762007472, 'max_depth': 7, 'min_child_weight': 10, 'subsample': 0.6902753772795902, 'colsample_bytree': 0.8679876419857145, 'gamma': 2.3168405195862913}. Best is trial 2 with value: 0.935560293471865.\n",
      "[I 2025-07-17 17:05:25,518] Trial 7 finished with value: 1.1959402267120907 and parameters: {'n_estimators': 291, 'learning_rate': 0.060528072116303705, 'max_depth': 9, 'min_child_weight': 5, 'subsample': 0.637498828081975, 'colsample_bytree': 0.9374094279448113, 'gamma': 2.653278730296412}. Best is trial 2 with value: 0.935560293471865.\n",
      "[I 2025-07-17 17:05:34,592] Trial 8 finished with value: 1.244519389704165 and parameters: {'n_estimators': 475, 'learning_rate': 0.07858711992802989, 'max_depth': 8, 'min_child_weight': 8, 'subsample': 0.7628684539693248, 'colsample_bytree': 0.651061956980969, 'gamma': 3.631798405033302}. Best is trial 2 with value: 0.935560293471865.\n",
      "[I 2025-07-17 17:05:45,661] Trial 9 finished with value: 1.120394359204285 and parameters: {'n_estimators': 584, 'learning_rate': 0.29433600685840294, 'max_depth': 12, 'min_child_weight': 1, 'subsample': 0.8125249882320065, 'colsample_bytree': 0.7815850785621754, 'gamma': 0.8067781980062311}. Best is trial 2 with value: 0.935560293471865.\n",
      "[I 2025-07-17 17:06:15,923] Trial 10 finished with value: 0.848684916872752 and parameters: {'n_estimators': 913, 'learning_rate': 0.01307270648808273, 'max_depth': 3, 'min_child_weight': 4, 'subsample': 0.9710756223646617, 'colsample_bytree': 0.9971376661686142, 'gamma': 0.08430693697616665}. Best is trial 10 with value: 0.848684916872752.\n",
      "[I 2025-07-17 17:06:54,154] Trial 11 finished with value: 0.8575239099489265 and parameters: {'n_estimators': 978, 'learning_rate': 0.012002206911063892, 'max_depth': 3, 'min_child_weight': 4, 'subsample': 0.9906138607878394, 'colsample_bytree': 0.9975684771857695, 'gamma': 0.045736053742983146}. Best is trial 10 with value: 0.848684916872752.\n",
      "[I 2025-07-17 17:07:32,604] Trial 12 finished with value: 0.881452041159748 and parameters: {'n_estimators': 996, 'learning_rate': 0.010685721067780637, 'max_depth': 3, 'min_child_weight': 3, 'subsample': 0.9773156117320508, 'colsample_bytree': 0.9954198239339196, 'gamma': 0.04903142135462212}. Best is trial 10 with value: 0.848684916872752.\n",
      "[I 2025-07-17 17:07:55,605] Trial 13 finished with value: 0.9746780632090749 and parameters: {'n_estimators': 993, 'learning_rate': 0.014355874273621026, 'max_depth': 3, 'min_child_weight': 3, 'subsample': 0.9817487873741642, 'colsample_bytree': 0.9947777530595271, 'gamma': 1.0590958187054773}. Best is trial 10 with value: 0.848684916872752.\n",
      "[I 2025-07-17 17:08:10,005] Trial 14 finished with value: 1.144459846408353 and parameters: {'n_estimators': 851, 'learning_rate': 0.23294404793758233, 'max_depth': 5, 'min_child_weight': 1, 'subsample': 0.8986911811242997, 'colsample_bytree': 0.9333421054033317, 'gamma': 0.956058875911339}. Best is trial 10 with value: 0.848684916872752.\n",
      "[I 2025-07-17 17:08:17,562] Trial 15 finished with value: 1.1729280835603395 and parameters: {'n_estimators': 102, 'learning_rate': 0.03624088567668399, 'max_depth': 5, 'min_child_weight': 4, 'subsample': 0.9048710567307743, 'colsample_bytree': 0.9988981787445794, 'gamma': 1.5647771837214606}. Best is trial 10 with value: 0.848684916872752.\n",
      "[I 2025-07-17 17:08:37,313] Trial 16 finished with value: 0.9530167064494088 and parameters: {'n_estimators': 861, 'learning_rate': 0.11336313139825396, 'max_depth': 4, 'min_child_weight': 2, 'subsample': 0.9344603395982578, 'colsample_bytree': 0.9148991715431682, 'gamma': 0.4448234980302139}. Best is trial 10 with value: 0.848684916872752.\n",
      "[I 2025-07-17 17:08:52,524] Trial 17 finished with value: 1.0294180083729825 and parameters: {'n_estimators': 840, 'learning_rate': 0.17873701214858, 'max_depth': 4, 'min_child_weight': 6, 'subsample': 0.9918504814977193, 'colsample_bytree': 0.9601879667965707, 'gamma': 1.5529067230910094}. Best is trial 10 with value: 0.848684916872752.\n",
      "[I 2025-07-17 17:09:12,963] Trial 18 finished with value: 1.0096413331884428 and parameters: {'n_estimators': 926, 'learning_rate': 0.04064787948743694, 'max_depth': 6, 'min_child_weight': 4, 'subsample': 0.9364932811130946, 'colsample_bytree': 0.6207152853475507, 'gamma': 0.5856610056025409}. Best is trial 10 with value: 0.848684916872752.\n",
      "[I 2025-07-17 17:09:32,536] Trial 19 finished with value: 0.9477326445868435 and parameters: {'n_estimators': 818, 'learning_rate': 0.04363512109675442, 'max_depth': 3, 'min_child_weight': 4, 'subsample': 0.870748946419422, 'colsample_bytree': 0.8829734417751977, 'gamma': 2.308404208029274}. Best is trial 10 with value: 0.848684916872752.\n",
      "[I 2025-07-17 17:09:47,543] Trial 20 finished with value: 1.1110973823983505 and parameters: {'n_estimators': 919, 'learning_rate': 0.1788319306837221, 'max_depth': 4, 'min_child_weight': 7, 'subsample': 0.9498822060119485, 'colsample_bytree': 0.8439235611773209, 'gamma': 1.1586942318000542}. Best is trial 10 with value: 0.848684916872752.\n",
      "[I 2025-07-17 17:10:08,473] Trial 21 finished with value: 0.8658842835179371 and parameters: {'n_estimators': 988, 'learning_rate': 0.02593153870796025, 'max_depth': 3, 'min_child_weight': 3, 'subsample': 0.9716770216627905, 'colsample_bytree': 0.9727779358875523, 'gamma': 0.15573376993827348}. Best is trial 10 with value: 0.848684916872752.\n",
      "[I 2025-07-17 17:10:45,762] Trial 22 finished with value: 0.7877036356901156 and parameters: {'n_estimators': 961, 'learning_rate': 0.01328038730015094, 'max_depth': 3, 'min_child_weight': 2, 'subsample': 0.9498423052854408, 'colsample_bytree': 0.9643706394124779, 'gamma': 0.0034533851103263485}. Best is trial 22 with value: 0.7877036356901156.\n",
      "[I 2025-07-17 17:11:15,831] Trial 23 finished with value: 0.8359584608557824 and parameters: {'n_estimators': 774, 'learning_rate': 0.052230898224453495, 'max_depth': 4, 'min_child_weight': 2, 'subsample': 0.9032922585958113, 'colsample_bytree': 0.9121133820406436, 'gamma': 0.0021159923184079776}. Best is trial 22 with value: 0.7877036356901156.\n",
      "[I 2025-07-17 17:11:34,540] Trial 24 finished with value: 1.075761702825395 and parameters: {'n_estimators': 763, 'learning_rate': 0.09933620750398267, 'max_depth': 4, 'min_child_weight': 2, 'subsample': 0.9070287550044837, 'colsample_bytree': 0.9020659629406235, 'gamma': 0.5810520836214514}. Best is trial 22 with value: 0.7877036356901156.\n",
      "[I 2025-07-17 17:11:49,818] Trial 25 finished with value: 1.2154414717122561 and parameters: {'n_estimators': 777, 'learning_rate': 0.051969725321818566, 'max_depth': 6, 'min_child_weight': 2, 'subsample': 0.8707038945431916, 'colsample_bytree': 0.958021572295426, 'gamma': 4.950796013514365}. Best is trial 22 with value: 0.7877036356901156.\n",
      "[I 2025-07-17 17:12:08,015] Trial 26 finished with value: 1.131455692223428 and parameters: {'n_estimators': 886, 'learning_rate': 0.07814604037109008, 'max_depth': 5, 'min_child_weight': 1, 'subsample': 0.9453842902717005, 'colsample_bytree': 0.9166742908073632, 'gamma': 1.296502250200194}. Best is trial 22 with value: 0.7877036356901156.\n",
      "[I 2025-07-17 17:12:31,388] Trial 27 finished with value: 0.9231201382425068 and parameters: {'n_estimators': 753, 'learning_rate': 0.03234313021764233, 'max_depth': 4, 'min_child_weight': 2, 'subsample': 0.9028933656486416, 'colsample_bytree': 0.9606922691350427, 'gamma': 0.3845976751595178}. Best is trial 22 with value: 0.7877036356901156.\n",
      "[I 2025-07-17 17:12:49,528] Trial 28 finished with value: 1.1258369915492188 and parameters: {'n_estimators': 922, 'learning_rate': 0.05995461595770785, 'max_depth': 6, 'min_child_weight': 2, 'subsample': 0.8533302969302383, 'colsample_bytree': 0.8480598805942161, 'gamma': 1.909659040666905}. Best is trial 22 with value: 0.7877036356901156.\n",
      "[I 2025-07-17 17:13:03,565] Trial 29 finished with value: 0.8517968426417554 and parameters: {'n_estimators': 801, 'learning_rate': 0.0943254815659417, 'max_depth': 3, 'min_child_weight': 3, 'subsample': 0.7866925817972641, 'colsample_bytree': 0.8855134039953139, 'gamma': 0.7749105250400716}. Best is trial 22 with value: 0.7877036356901156.\n",
      "[I 2025-07-17 17:13:18,480] Trial 30 finished with value: 1.0101196019256586 and parameters: {'n_estimators': 531, 'learning_rate': 0.030179502305124686, 'max_depth': 4, 'min_child_weight': 5, 'subsample': 0.9584185473341063, 'colsample_bytree': 0.80962385197377, 'gamma': 0.3926946794711543}. Best is trial 22 with value: 0.7877036356901156.\n",
      "[I 2025-07-17 17:13:37,939] Trial 31 finished with value: 0.9019553702019648 and parameters: {'n_estimators': 791, 'learning_rate': 0.0687659324591221, 'max_depth': 3, 'min_child_weight': 3, 'subsample': 0.7884378594145964, 'colsample_bytree': 0.8787697634641976, 'gamma': 0.691818895340484}. Best is trial 22 with value: 0.7877036356901156.\n",
      "[I 2025-07-17 17:13:50,140] Trial 32 finished with value: 0.8931398903465902 and parameters: {'n_estimators': 707, 'learning_rate': 0.10741542376914696, 'max_depth': 3, 'min_child_weight': 3, 'subsample': 0.7764380458838716, 'colsample_bytree': 0.9043827861021809, 'gamma': 0.8576676844730707}. Best is trial 22 with value: 0.7877036356901156.\n",
      "[I 2025-07-17 17:14:08,892] Trial 33 finished with value: 1.0077822646479455 and parameters: {'n_estimators': 922, 'learning_rate': 0.13916971654811425, 'max_depth': 5, 'min_child_weight': 1, 'subsample': 0.7155184199359729, 'colsample_bytree': 0.9407933256738292, 'gamma': 0.04406299482665155}. Best is trial 22 with value: 0.7877036356901156.\n",
      "[I 2025-07-17 17:14:26,371] Trial 34 finished with value: 0.8514999890152563 and parameters: {'n_estimators': 671, 'learning_rate': 0.09116806202663758, 'max_depth': 4, 'min_child_weight': 4, 'subsample': 0.8319744387583937, 'colsample_bytree': 0.745460223736124, 'gamma': 0.36611713360278403}. Best is trial 22 with value: 0.7877036356901156.\n",
      "[I 2025-07-17 17:14:39,949] Trial 35 finished with value: 1.136432250145361 and parameters: {'n_estimators': 680, 'learning_rate': 0.05067708683549598, 'max_depth': 12, 'min_child_weight': 5, 'subsample': 0.8393711075625, 'colsample_bytree': 0.7232316769318866, 'gamma': 2.9282069663114996}. Best is trial 22 with value: 0.7877036356901156.\n",
      "[I 2025-07-17 17:14:52,580] Trial 36 finished with value: 0.9205140667012726 and parameters: {'n_estimators': 614, 'learning_rate': 0.12226841771756371, 'max_depth': 6, 'min_child_weight': 4, 'subsample': 0.9234872516296296, 'colsample_bytree': 0.742967468086487, 'gamma': 0.26391847434110977}. Best is trial 22 with value: 0.7877036356901156.\n",
      "[I 2025-07-17 17:15:05,090] Trial 37 finished with value: 1.3098155364857689 and parameters: {'n_estimators': 748, 'learning_rate': 0.08432128851874776, 'max_depth': 4, 'min_child_weight': 6, 'subsample': 0.8767663787158793, 'colsample_bytree': 0.6887593775614779, 'gamma': 4.075930199978398}. Best is trial 22 with value: 0.7877036356901156.\n",
      "[I 2025-07-17 17:15:31,732] Trial 38 finished with value: 1.1288815258542313 and parameters: {'n_estimators': 662, 'learning_rate': 0.022207519488449595, 'max_depth': 11, 'min_child_weight': 2, 'subsample': 0.9206045827582697, 'colsample_bytree': 0.7927703032752454, 'gamma': 1.3428748587133896}. Best is trial 22 with value: 0.7877036356901156.\n",
      "[I 2025-07-17 17:15:43,704] Trial 39 finished with value: 0.9880747055437972 and parameters: {'n_estimators': 548, 'learning_rate': 0.06338689361469595, 'max_depth': 5, 'min_child_weight': 7, 'subsample': 0.8416829187247735, 'colsample_bytree': 0.7691974793983722, 'gamma': 0.35593459294151375}. Best is trial 22 with value: 0.7877036356901156.\n",
      "[I 2025-07-17 17:16:01,021] Trial 40 finished with value: 1.3234651797962231 and parameters: {'n_estimators': 730, 'learning_rate': 0.2281660278611487, 'max_depth': 9, 'min_child_weight': 5, 'subsample': 0.8904782846116829, 'colsample_bytree': 0.8222427585074498, 'gamma': 0.009882671618583758}. Best is trial 22 with value: 0.7877036356901156.\n",
      "[I 2025-07-17 17:16:16,527] Trial 41 finished with value: 0.8015818851514162 and parameters: {'n_estimators': 882, 'learning_rate': 0.15517829682814244, 'max_depth': 3, 'min_child_weight': 4, 'subsample': 0.7413265064953027, 'colsample_bytree': 0.9773759497079222, 'gamma': 0.6486750848678302}. Best is trial 22 with value: 0.7877036356901156.\n",
      "[I 2025-07-17 17:16:36,137] Trial 42 finished with value: 1.1474934243704438 and parameters: {'n_estimators': 880, 'learning_rate': 0.15081887966618995, 'max_depth': 4, 'min_child_weight': 4, 'subsample': 0.7272011789179483, 'colsample_bytree': 0.9718320276376914, 'gamma': 0.5421238774010951}. Best is trial 22 with value: 0.7877036356901156.\n",
      "[I 2025-07-17 17:16:52,657] Trial 43 finished with value: 0.8272750722634526 and parameters: {'n_estimators': 941, 'learning_rate': 0.15155506799928792, 'max_depth': 3, 'min_child_weight': 4, 'subsample': 0.6681383776621125, 'colsample_bytree': 0.9818094831874021, 'gamma': 0.24462725427478563}. Best is trial 22 with value: 0.7877036356901156.\n",
      "[I 2025-07-17 17:17:09,841] Trial 44 finished with value: 1.0105840363763225 and parameters: {'n_estimators': 955, 'learning_rate': 0.1657895945180805, 'max_depth': 3, 'min_child_weight': 6, 'subsample': 0.6026906527749387, 'colsample_bytree': 0.9763713268718314, 'gamma': 0.18289024636741122}. Best is trial 22 with value: 0.7877036356901156.\n",
      "[I 2025-07-17 17:17:28,771] Trial 45 finished with value: 0.9223652378381054 and parameters: {'n_estimators': 892, 'learning_rate': 0.20861252247889148, 'max_depth': 3, 'min_child_weight': 3, 'subsample': 0.6515789668306413, 'colsample_bytree': 0.9414591474247446, 'gamma': 0.6994529522993671}. Best is trial 22 with value: 0.7877036356901156.\n",
      "[I 2025-07-17 17:17:44,286] Trial 46 finished with value: 0.9519021447989967 and parameters: {'n_estimators': 953, 'learning_rate': 0.2616562016495736, 'max_depth': 3, 'min_child_weight': 5, 'subsample': 0.6726853495790778, 'colsample_bytree': 0.9824883288479688, 'gamma': 1.0682448536517515}. Best is trial 22 with value: 0.7877036356901156.\n",
      "[I 2025-07-17 17:18:00,319] Trial 47 finished with value: 1.314207909904513 and parameters: {'n_estimators': 820, 'learning_rate': 0.15551328194670067, 'max_depth': 7, 'min_child_weight': 9, 'subsample': 0.743097367621352, 'colsample_bytree': 0.948355612109946, 'gamma': 0.24236352792220242}. Best is trial 22 with value: 0.7877036356901156.\n",
      "[I 2025-07-17 17:18:16,463] Trial 48 finished with value: 1.1350594755263879 and parameters: {'n_estimators': 954, 'learning_rate': 0.19994363509626156, 'max_depth': 5, 'min_child_weight': 1, 'subsample': 0.699130028842433, 'colsample_bytree': 0.9237021481676768, 'gamma': 0.9129144269116547}. Best is trial 22 with value: 0.7877036356901156.\n",
      "[I 2025-07-17 17:18:34,291] Trial 49 finished with value: 1.1594151623023956 and parameters: {'n_estimators': 358, 'learning_rate': 0.010746049330759767, 'max_depth': 3, 'min_child_weight': 3, 'subsample': 0.9608059765770275, 'colsample_bytree': 0.9802843706728955, 'gamma': 2.867053495781931}. Best is trial 22 with value: 0.7877036356901156.\n"
     ]
    },
    {
     "name": "stdout",
     "output_type": "stream",
     "text": [
      "Best MAPE for BlendProperty4: 0.7877036356901156\n",
      "Best hyperparameters for BlendProperty4: {'n_estimators': 961, 'learning_rate': 0.01328038730015094, 'max_depth': 3, 'min_child_weight': 2, 'subsample': 0.9498423052854408, 'colsample_bytree': 0.9643706394124779, 'gamma': 0.0034533851103263485}\n"
     ]
    },
    {
     "name": "stderr",
     "output_type": "stream",
     "text": [
      "[I 2025-07-17 17:18:40,699] A new study created in memory with name: no-name-72900b9b-ef91-47c2-85e8-60c7406d1232\n"
     ]
    },
    {
     "name": "stdout",
     "output_type": "stream",
     "text": [
      "Saved best model for BlendProperty4\n",
      "\n",
      "--- Tuning and Training for BlendProperty5 ---\n",
      "\n"
     ]
    },
    {
     "name": "stderr",
     "output_type": "stream",
     "text": [
      "[I 2025-07-17 17:18:53,731] Trial 0 finished with value: 0.5888393551498996 and parameters: {'n_estimators': 482, 'learning_rate': 0.030865735010791144, 'max_depth': 10, 'min_child_weight': 7, 'subsample': 0.9632713972410092, 'colsample_bytree': 0.7770963853780186, 'gamma': 0.9179803713385781}. Best is trial 0 with value: 0.5888393551498996.\n",
      "[I 2025-07-17 17:19:04,189] Trial 1 finished with value: 1.1292625495617146 and parameters: {'n_estimators': 617, 'learning_rate': 0.10696877059829536, 'max_depth': 12, 'min_child_weight': 3, 'subsample': 0.6518992171626345, 'colsample_bytree': 0.6756304575634682, 'gamma': 2.584410781663953}. Best is trial 0 with value: 0.5888393551498996.\n",
      "[I 2025-07-17 17:19:07,112] Trial 2 finished with value: 0.3688107800353807 and parameters: {'n_estimators': 122, 'learning_rate': 0.17689784425787142, 'max_depth': 6, 'min_child_weight': 8, 'subsample': 0.6913056116842412, 'colsample_bytree': 0.8977376012764833, 'gamma': 4.107898801249572}. Best is trial 2 with value: 0.3688107800353807.\n",
      "[I 2025-07-17 17:19:11,324] Trial 3 finished with value: 0.29575331924356724 and parameters: {'n_estimators': 194, 'learning_rate': 0.08453906387787292, 'max_depth': 9, 'min_child_weight': 6, 'subsample': 0.9741482617905151, 'colsample_bytree': 0.9035384427705178, 'gamma': 4.57503511674688}. Best is trial 3 with value: 0.29575331924356724.\n",
      "[I 2025-07-17 17:19:16,181] Trial 4 finished with value: 0.9038797273660428 and parameters: {'n_estimators': 238, 'learning_rate': 0.08990303192587877, 'max_depth': 11, 'min_child_weight': 2, 'subsample': 0.6273242551226105, 'colsample_bytree': 0.7579233925146631, 'gamma': 4.85384500022905}. Best is trial 3 with value: 0.29575331924356724.\n",
      "[I 2025-07-17 17:19:30,568] Trial 5 finished with value: 1.0091159373491536 and parameters: {'n_estimators': 494, 'learning_rate': 0.1100964200835437, 'max_depth': 6, 'min_child_weight': 4, 'subsample': 0.7796828113560089, 'colsample_bytree': 0.7324686010137715, 'gamma': 0.5015120050938809}. Best is trial 3 with value: 0.29575331924356724.\n",
      "[I 2025-07-17 17:19:42,592] Trial 6 finished with value: 1.2004887470143144 and parameters: {'n_estimators': 782, 'learning_rate': 0.2726073383158584, 'max_depth': 3, 'min_child_weight': 10, 'subsample': 0.7295405770551756, 'colsample_bytree': 0.6680343107044237, 'gamma': 2.063213882619605}. Best is trial 3 with value: 0.29575331924356724.\n",
      "[I 2025-07-17 17:19:50,413] Trial 7 finished with value: 0.43737317448672164 and parameters: {'n_estimators': 483, 'learning_rate': 0.28574219906660936, 'max_depth': 11, 'min_child_weight': 3, 'subsample': 0.8444961340179118, 'colsample_bytree': 0.8770973328848994, 'gamma': 4.207193902099004}. Best is trial 3 with value: 0.29575331924356724.\n",
      "[I 2025-07-17 17:19:57,577] Trial 8 finished with value: 1.4450029800622852 and parameters: {'n_estimators': 394, 'learning_rate': 0.17304908538606187, 'max_depth': 10, 'min_child_weight': 1, 'subsample': 0.6411915022647143, 'colsample_bytree': 0.6227540943893485, 'gamma': 1.5579340714302377}. Best is trial 3 with value: 0.29575331924356724.\n",
      "[I 2025-07-17 17:20:07,904] Trial 9 finished with value: 1.034844241789634 and parameters: {'n_estimators': 614, 'learning_rate': 0.13264642183173883, 'max_depth': 9, 'min_child_weight': 8, 'subsample': 0.662219189459959, 'colsample_bytree': 0.7284773532318946, 'gamma': 3.1749584070720287}. Best is trial 3 with value: 0.29575331924356724.\n",
      "[I 2025-07-17 17:20:35,549] Trial 10 finished with value: 0.2767963493543584 and parameters: {'n_estimators': 960, 'learning_rate': 0.010561290182360045, 'max_depth': 7, 'min_child_weight': 5, 'subsample': 0.9885920380933326, 'colsample_bytree': 0.9757548323751779, 'gamma': 3.2654600764518404}. Best is trial 10 with value: 0.2767963493543584.\n",
      "[I 2025-07-17 17:20:57,875] Trial 11 finished with value: 0.2769354383429473 and parameters: {'n_estimators': 981, 'learning_rate': 0.012486680057442828, 'max_depth': 7, 'min_child_weight': 5, 'subsample': 0.9986273894331037, 'colsample_bytree': 0.9884782399155327, 'gamma': 3.3370797101715715}. Best is trial 10 with value: 0.2767963493543584.\n",
      "[I 2025-07-17 17:21:26,118] Trial 12 finished with value: 0.2926592249400496 and parameters: {'n_estimators': 992, 'learning_rate': 0.011207517405582096, 'max_depth': 7, 'min_child_weight': 5, 'subsample': 0.8963018085110341, 'colsample_bytree': 0.9754839941564479, 'gamma': 3.3837799021902537}. Best is trial 10 with value: 0.2767963493543584.\n",
      "[I 2025-07-17 17:21:43,014] Trial 13 finished with value: 0.26727820171636535 and parameters: {'n_estimators': 993, 'learning_rate': 0.04792540811660692, 'max_depth': 4, 'min_child_weight': 5, 'subsample': 0.9952130799279726, 'colsample_bytree': 0.9868050777214827, 'gamma': 3.3206258293698685}. Best is trial 13 with value: 0.26727820171636535.\n",
      "[I 2025-07-17 17:21:57,816] Trial 14 finished with value: 0.23662454661383941 and parameters: {'n_estimators': 829, 'learning_rate': 0.059235592855553694, 'max_depth': 3, 'min_child_weight': 6, 'subsample': 0.9143033481390853, 'colsample_bytree': 0.9392027781260894, 'gamma': 2.4926619873122773}. Best is trial 14 with value: 0.23662454661383941.\n",
      "[I 2025-07-17 17:22:10,850] Trial 15 finished with value: 0.5073554359650907 and parameters: {'n_estimators': 811, 'learning_rate': 0.0611225721744139, 'max_depth': 3, 'min_child_weight': 7, 'subsample': 0.9033392595136138, 'colsample_bytree': 0.8359189377349592, 'gamma': 2.297742696501089}. Best is trial 14 with value: 0.23662454661383941.\n",
      "[I 2025-07-17 17:22:28,869] Trial 16 finished with value: 0.2836521771224075 and parameters: {'n_estimators': 821, 'learning_rate': 0.2181932105632619, 'max_depth': 4, 'min_child_weight': 10, 'subsample': 0.9115940176417634, 'colsample_bytree': 0.9282320498419575, 'gamma': 1.5300732213131676}. Best is trial 14 with value: 0.23662454661383941.\n",
      "[I 2025-07-17 17:22:43,082] Trial 17 finished with value: 0.5071963143506502 and parameters: {'n_estimators': 737, 'learning_rate': 0.05303708975083589, 'max_depth': 5, 'min_child_weight': 6, 'subsample': 0.8397115979185454, 'colsample_bytree': 0.8361442381201852, 'gamma': 2.7413958634187914}. Best is trial 14 with value: 0.23662454661383941.\n",
      "[I 2025-07-17 17:22:58,209] Trial 18 finished with value: 0.3048285060280212 and parameters: {'n_estimators': 880, 'learning_rate': 0.05851526267556706, 'max_depth': 4, 'min_child_weight': 4, 'subsample': 0.939534650474415, 'colsample_bytree': 0.9399307139644357, 'gamma': 3.7892749244012767}. Best is trial 14 with value: 0.23662454661383941.\n",
      "[I 2025-07-17 17:23:09,809] Trial 19 finished with value: 0.4395972000622187 and parameters: {'n_estimators': 691, 'learning_rate': 0.140571100174197, 'max_depth': 4, 'min_child_weight': 8, 'subsample': 0.8579376460426587, 'colsample_bytree': 0.8561237698023316, 'gamma': 1.7672282649888102}. Best is trial 14 with value: 0.23662454661383941.\n",
      "[I 2025-07-17 17:23:29,059] Trial 20 finished with value: 0.33000862666861597 and parameters: {'n_estimators': 891, 'learning_rate': 0.2429006588041822, 'max_depth': 5, 'min_child_weight': 7, 'subsample': 0.795336689692496, 'colsample_bytree': 0.9436626922979537, 'gamma': 2.880168711696622}. Best is trial 14 with value: 0.23662454661383941.\n",
      "[I 2025-07-17 17:23:45,030] Trial 21 finished with value: 0.275892474297275 and parameters: {'n_estimators': 932, 'learning_rate': 0.046338863573813636, 'max_depth': 3, 'min_child_weight': 4, 'subsample': 0.9915132405734531, 'colsample_bytree': 0.9961852874329445, 'gamma': 3.7394327061757404}. Best is trial 14 with value: 0.23662454661383941.\n",
      "[I 2025-07-17 17:24:01,432] Trial 22 finished with value: 0.3185877608049422 and parameters: {'n_estimators': 896, 'learning_rate': 0.042621190440510354, 'max_depth': 3, 'min_child_weight': 3, 'subsample': 0.9326770061281274, 'colsample_bytree': 0.9929176582560436, 'gamma': 3.8516071977541104}. Best is trial 14 with value: 0.23662454661383941.\n",
      "[I 2025-07-17 17:24:16,629] Trial 23 finished with value: 0.3114427936920582 and parameters: {'n_estimators': 913, 'learning_rate': 0.07623761345980684, 'max_depth': 5, 'min_child_weight': 4, 'subsample': 0.9525254724093878, 'colsample_bytree': 0.9494067525896874, 'gamma': 3.714797116063321}. Best is trial 14 with value: 0.23662454661383941.\n",
      "[I 2025-07-17 17:24:33,166] Trial 24 finished with value: 0.27897854041642206 and parameters: {'n_estimators': 721, 'learning_rate': 0.0349920782220778, 'max_depth': 3, 'min_child_weight': 6, 'subsample': 0.8663644430111285, 'colsample_bytree': 0.917590867580411, 'gamma': 2.2161490345585353}. Best is trial 14 with value: 0.23662454661383941.\n",
      "[I 2025-07-17 17:24:47,133] Trial 25 finished with value: 0.24409484676026283 and parameters: {'n_estimators': 854, 'learning_rate': 0.10396787872954433, 'max_depth': 4, 'min_child_weight': 4, 'subsample': 0.9886275115230182, 'colsample_bytree': 0.9997270836597983, 'gamma': 2.9171850027722614}. Best is trial 14 with value: 0.23662454661383941.\n",
      "[I 2025-07-17 17:25:01,559] Trial 26 finished with value: 0.2749826238632048 and parameters: {'n_estimators': 840, 'learning_rate': 0.11817984635491936, 'max_depth': 4, 'min_child_weight': 2, 'subsample': 0.9274330743973264, 'colsample_bytree': 0.9598492219935525, 'gamma': 2.9371342475310387}. Best is trial 14 with value: 0.23662454661383941.\n",
      "[I 2025-07-17 17:25:13,590] Trial 27 finished with value: 0.5977886794912907 and parameters: {'n_estimators': 672, 'learning_rate': 0.08090779435176913, 'max_depth': 6, 'min_child_weight': 5, 'subsample': 0.8833572877008795, 'colsample_bytree': 0.8099456667095573, 'gamma': 1.1590847001986182}. Best is trial 14 with value: 0.23662454661383941.\n",
      "[I 2025-07-17 17:25:31,712] Trial 28 finished with value: 0.3185931962875658 and parameters: {'n_estimators': 764, 'learning_rate': 0.15536700494478464, 'max_depth': 5, 'min_child_weight': 6, 'subsample': 0.9556226218313314, 'colsample_bytree': 0.8821110995624503, 'gamma': 2.582760554351034}. Best is trial 14 with value: 0.23662454661383941.\n",
      "[I 2025-07-17 17:25:42,210] Trial 29 finished with value: 0.23267790387832238 and parameters: {'n_estimators': 605, 'learning_rate': 0.10286778848106973, 'max_depth': 4, 'min_child_weight': 9, 'subsample': 0.9692650229097964, 'colsample_bytree': 0.962939021378578, 'gamma': 2.0037023884729988}. Best is trial 29 with value: 0.23267790387832238.\n",
      "[I 2025-07-17 17:25:48,944] Trial 30 finished with value: 0.21891549791227266 and parameters: {'n_estimators': 377, 'learning_rate': 0.18742175488691704, 'max_depth': 8, 'min_child_weight': 10, 'subsample': 0.9685677620665216, 'colsample_bytree': 0.9212582886661067, 'gamma': 1.104862097883425}. Best is trial 30 with value: 0.21891549791227266.\n",
      "[I 2025-07-17 17:25:55,986] Trial 31 finished with value: 0.18789513294242965 and parameters: {'n_estimators': 374, 'learning_rate': 0.20841450555216398, 'max_depth': 8, 'min_child_weight': 9, 'subsample': 0.959838175664005, 'colsample_bytree': 0.9599783409222844, 'gamma': 0.9023012349007095}. Best is trial 31 with value: 0.18789513294242965.\n",
      "[I 2025-07-17 17:26:03,419] Trial 32 finished with value: 0.11702942393825821 and parameters: {'n_estimators': 387, 'learning_rate': 0.20450712405689928, 'max_depth': 8, 'min_child_weight': 9, 'subsample': 0.9613310426492955, 'colsample_bytree': 0.9151717818921057, 'gamma': 0.13378518302541886}. Best is trial 32 with value: 0.11702942393825821.\n",
      "[I 2025-07-17 17:26:12,404] Trial 33 finished with value: 0.09444133791158645 and parameters: {'n_estimators': 384, 'learning_rate': 0.2065349710052373, 'max_depth': 8, 'min_child_weight': 9, 'subsample': 0.9610393524261555, 'colsample_bytree': 0.8999599292951901, 'gamma': 0.011024706694712672}. Best is trial 33 with value: 0.09444133791158645.\n",
      "[I 2025-07-17 17:26:19,451] Trial 34 finished with value: 0.1235148154494893 and parameters: {'n_estimators': 367, 'learning_rate': 0.21366232314198821, 'max_depth': 8, 'min_child_weight': 9, 'subsample': 0.9618853963094753, 'colsample_bytree': 0.9134580400728287, 'gamma': 0.1935465760234606}. Best is trial 33 with value: 0.09444133791158645.\n",
      "[I 2025-07-17 17:26:31,996] Trial 35 finished with value: 0.11678387282683922 and parameters: {'n_estimators': 344, 'learning_rate': 0.21137033329860153, 'max_depth': 8, 'min_child_weight': 9, 'subsample': 0.8210413509377563, 'colsample_bytree': 0.8931264707935884, 'gamma': 0.05184245478210184}. Best is trial 33 with value: 0.09444133791158645.\n",
      "[I 2025-07-17 17:26:41,004] Trial 36 finished with value: 0.13992348874729585 and parameters: {'n_estimators': 303, 'learning_rate': 0.2411720961611666, 'max_depth': 9, 'min_child_weight': 9, 'subsample': 0.7525790879089819, 'colsample_bytree': 0.8889001169619005, 'gamma': 0.0030126900580476346}. Best is trial 33 with value: 0.09444133791158645.\n",
      "[I 2025-07-17 17:26:48,353] Trial 37 finished with value: 0.6924970818746019 and parameters: {'n_estimators': 302, 'learning_rate': 0.20816364189701136, 'max_depth': 8, 'min_child_weight': 9, 'subsample': 0.6839244252301668, 'colsample_bytree': 0.796654426644887, 'gamma': 0.04789190982683739}. Best is trial 33 with value: 0.09444133791158645.\n",
      "[I 2025-07-17 17:26:52,590] Trial 38 finished with value: 0.5724510847295048 and parameters: {'n_estimators': 182, 'learning_rate': 0.2416001905719834, 'max_depth': 10, 'min_child_weight': 8, 'subsample': 0.8198145947099124, 'colsample_bytree': 0.860191323865887, 'gamma': 0.3910773406651932}. Best is trial 33 with value: 0.09444133791158645.\n",
      "[I 2025-07-17 17:27:00,950] Trial 39 finished with value: 0.18886727594473565 and parameters: {'n_estimators': 444, 'learning_rate': 0.18692618573960496, 'max_depth': 10, 'min_child_weight': 7, 'subsample': 0.6004436788742371, 'colsample_bytree': 0.9046520653029514, 'gamma': 0.4401516558544034}. Best is trial 33 with value: 0.09444133791158645.\n",
      "[I 2025-07-17 17:27:09,751] Trial 40 finished with value: 0.4528777223530689 and parameters: {'n_estimators': 533, 'learning_rate': 0.262107917445387, 'max_depth': 9, 'min_child_weight': 10, 'subsample': 0.7285054757419721, 'colsample_bytree': 0.8647161322199151, 'gamma': 0.7285339085364708}. Best is trial 33 with value: 0.09444133791158645.\n",
      "[I 2025-07-17 17:27:17,183] Trial 41 finished with value: 0.12197825157105997 and parameters: {'n_estimators': 322, 'learning_rate': 0.23067326827100298, 'max_depth': 9, 'min_child_weight': 9, 'subsample': 0.738585811316099, 'colsample_bytree': 0.900056371365519, 'gamma': 0.025885215341856643}. Best is trial 33 with value: 0.09444133791158645.\n",
      "[I 2025-07-17 17:27:27,953] Trial 42 finished with value: 0.1434575873069511 and parameters: {'n_estimators': 309, 'learning_rate': 0.2180769549946845, 'max_depth': 8, 'min_child_weight': 9, 'subsample': 0.7588811015707729, 'colsample_bytree': 0.903178652019575, 'gamma': 0.23179992974853886}. Best is trial 33 with value: 0.09444133791158645.\n",
      "[I 2025-07-17 17:27:35,810] Trial 43 finished with value: 0.5912309323105394 and parameters: {'n_estimators': 433, 'learning_rate': 0.22938576902623073, 'max_depth': 9, 'min_child_weight': 8, 'subsample': 0.7049337994266212, 'colsample_bytree': 0.8399379310340352, 'gamma': 0.6260161783400666}. Best is trial 33 with value: 0.09444133791158645.\n",
      "[I 2025-07-17 17:27:41,139] Trial 44 finished with value: 0.13554586520309247 and parameters: {'n_estimators': 249, 'learning_rate': 0.1955090284729267, 'max_depth': 11, 'min_child_weight': 10, 'subsample': 0.7633342883335575, 'colsample_bytree': 0.9097265638772888, 'gamma': 0.24496469511869437}. Best is trial 33 with value: 0.09444133791158645.\n",
      "[I 2025-07-17 17:27:44,777] Trial 45 finished with value: 0.3346756080740741 and parameters: {'n_estimators': 136, 'learning_rate': 0.16898215855744805, 'max_depth': 7, 'min_child_weight': 9, 'subsample': 0.7981615839750413, 'colsample_bytree': 0.8824327622222067, 'gamma': 0.8287812796575146}. Best is trial 33 with value: 0.09444133791158645.\n",
      "[I 2025-07-17 17:27:51,313] Trial 46 finished with value: 0.5826748610737731 and parameters: {'n_estimators': 336, 'learning_rate': 0.26227363942950305, 'max_depth': 8, 'min_child_weight': 8, 'subsample': 0.7214112035516067, 'colsample_bytree': 0.8039228430311777, 'gamma': 0.2457885596267051}. Best is trial 33 with value: 0.09444133791158645.\n",
      "[I 2025-07-17 17:27:55,509] Trial 47 finished with value: 0.45268940882712083 and parameters: {'n_estimators': 218, 'learning_rate': 0.2859624963568825, 'max_depth': 9, 'min_child_weight': 9, 'subsample': 0.8804813799774918, 'colsample_bytree': 0.7713501615225828, 'gamma': 1.176152861365416}. Best is trial 33 with value: 0.09444133791158645.\n",
      "[I 2025-07-17 17:28:03,437] Trial 48 finished with value: 0.1437188233557074 and parameters: {'n_estimators': 429, 'learning_rate': 0.1644923563928583, 'max_depth': 7, 'min_child_weight': 7, 'subsample': 0.8336281929688814, 'colsample_bytree': 0.9272724934918992, 'gamma': 0.59930747983552}. Best is trial 33 with value: 0.09444133791158645.\n",
      "[I 2025-07-17 17:28:11,503] Trial 49 finished with value: 0.3313617128383406 and parameters: {'n_estimators': 258, 'learning_rate': 0.1987923466574601, 'max_depth': 6, 'min_child_weight': 10, 'subsample': 0.7781954288639203, 'colsample_bytree': 0.8698041710938998, 'gamma': 0.0067123763879956}. Best is trial 33 with value: 0.09444133791158645.\n"
     ]
    },
    {
     "name": "stdout",
     "output_type": "stream",
     "text": [
      "Best MAPE for BlendProperty5: 0.09444133791158645\n",
      "Best hyperparameters for BlendProperty5: {'n_estimators': 384, 'learning_rate': 0.2065349710052373, 'max_depth': 8, 'min_child_weight': 9, 'subsample': 0.9610393524261555, 'colsample_bytree': 0.8999599292951901, 'gamma': 0.011024706694712672}\n"
     ]
    },
    {
     "name": "stderr",
     "output_type": "stream",
     "text": [
      "[I 2025-07-17 17:28:13,063] A new study created in memory with name: no-name-c4e39119-88b9-41f5-9d0b-e110eeb259f7\n"
     ]
    },
    {
     "name": "stdout",
     "output_type": "stream",
     "text": [
      "Saved best model for BlendProperty5\n",
      "\n",
      "--- Tuning and Training for BlendProperty6 ---\n",
      "\n"
     ]
    },
    {
     "name": "stderr",
     "output_type": "stream",
     "text": [
      "[I 2025-07-17 17:28:31,953] Trial 0 finished with value: 0.7628491462606674 and parameters: {'n_estimators': 844, 'learning_rate': 0.07917885419235618, 'max_depth': 4, 'min_child_weight': 10, 'subsample': 0.872544675919397, 'colsample_bytree': 0.6544426780090069, 'gamma': 4.246304138915928}. Best is trial 0 with value: 0.7628491462606674.\n",
      "[I 2025-07-17 17:28:41,938] Trial 1 finished with value: 0.6823869740241617 and parameters: {'n_estimators': 125, 'learning_rate': 0.06744616665966627, 'max_depth': 8, 'min_child_weight': 4, 'subsample': 0.962216510369691, 'colsample_bytree': 0.7336671478530798, 'gamma': 0.23722900498890365}. Best is trial 1 with value: 0.6823869740241617.\n",
      "[I 2025-07-17 17:28:51,256] Trial 2 finished with value: 1.0425272076437098 and parameters: {'n_estimators': 482, 'learning_rate': 0.13036722027783218, 'max_depth': 7, 'min_child_weight': 7, 'subsample': 0.7008069502840932, 'colsample_bytree': 0.928902016576999, 'gamma': 1.973931216405641}. Best is trial 1 with value: 0.6823869740241617.\n",
      "[I 2025-07-17 17:29:03,607] Trial 3 finished with value: 1.1987619259666744 and parameters: {'n_estimators': 779, 'learning_rate': 0.231017110218363, 'max_depth': 4, 'min_child_weight': 3, 'subsample': 0.7013967723150698, 'colsample_bytree': 0.6207927076744736, 'gamma': 1.1864164207823769}. Best is trial 1 with value: 0.6823869740241617.\n",
      "[I 2025-07-17 17:29:19,072] Trial 4 finished with value: 1.0237431921684856 and parameters: {'n_estimators': 907, 'learning_rate': 0.12594133956955142, 'max_depth': 4, 'min_child_weight': 9, 'subsample': 0.8316231923969573, 'colsample_bytree': 0.9137382808767016, 'gamma': 1.4000599034818473}. Best is trial 1 with value: 0.6823869740241617.\n",
      "[I 2025-07-17 17:29:28,395] Trial 5 finished with value: 1.0918065295886934 and parameters: {'n_estimators': 177, 'learning_rate': 0.2946501629185995, 'max_depth': 5, 'min_child_weight': 7, 'subsample': 0.8361472745802786, 'colsample_bytree': 0.8948134690665591, 'gamma': 1.696908502102219}. Best is trial 1 with value: 0.6823869740241617.\n",
      "[I 2025-07-17 17:29:34,368] Trial 6 finished with value: 1.3222373741562812 and parameters: {'n_estimators': 336, 'learning_rate': 0.17847593231210368, 'max_depth': 4, 'min_child_weight': 1, 'subsample': 0.6507831098189786, 'colsample_bytree': 0.6016730596662527, 'gamma': 3.7715065402177332}. Best is trial 1 with value: 0.6823869740241617.\n",
      "[I 2025-07-17 17:29:42,569] Trial 7 finished with value: 1.2681762633272289 and parameters: {'n_estimators': 478, 'learning_rate': 0.1671838046533585, 'max_depth': 4, 'min_child_weight': 6, 'subsample': 0.7010507498819738, 'colsample_bytree': 0.761720440529899, 'gamma': 4.445756398862898}. Best is trial 1 with value: 0.6823869740241617.\n",
      "[I 2025-07-17 17:29:51,593] Trial 8 finished with value: 1.066060135916302 and parameters: {'n_estimators': 509, 'learning_rate': 0.2730605477788474, 'max_depth': 12, 'min_child_weight': 5, 'subsample': 0.7860601461919854, 'colsample_bytree': 0.998757902044317, 'gamma': 3.3560825594470787}. Best is trial 1 with value: 0.6823869740241617.\n",
      "[I 2025-07-17 17:29:58,430] Trial 9 finished with value: 0.9574532331235515 and parameters: {'n_estimators': 364, 'learning_rate': 0.24588745011878363, 'max_depth': 11, 'min_child_weight': 2, 'subsample': 0.7143905535236756, 'colsample_bytree': 0.7080049115328351, 'gamma': 1.5671994391049715}. Best is trial 1 with value: 0.6823869740241617.\n",
      "[I 2025-07-17 17:30:08,359] Trial 10 finished with value: 0.9047445451753784 and parameters: {'n_estimators': 101, 'learning_rate': 0.015730303757113998, 'max_depth': 9, 'min_child_weight': 4, 'subsample': 0.9981187037318916, 'colsample_bytree': 0.8163428662729955, 'gamma': 2.8620019016943417}. Best is trial 1 with value: 0.6823869740241617.\n",
      "[I 2025-07-17 17:30:29,449] Trial 11 finished with value: 0.6477251332804375 and parameters: {'n_estimators': 720, 'learning_rate': 0.04997061819882577, 'max_depth': 7, 'min_child_weight': 10, 'subsample': 0.9558950310436118, 'colsample_bytree': 0.6861398127051709, 'gamma': 0.5922739564002122}. Best is trial 11 with value: 0.6477251332804375.\n",
      "[I 2025-07-17 17:30:58,810] Trial 12 finished with value: 0.6389477533704346 and parameters: {'n_estimators': 703, 'learning_rate': 0.020127899931383694, 'max_depth': 7, 'min_child_weight': 8, 'subsample': 0.9834990380714377, 'colsample_bytree': 0.7359963662154316, 'gamma': 0.2915625128443887}. Best is trial 12 with value: 0.6389477533704346.\n",
      "[I 2025-07-17 17:31:42,543] Trial 13 finished with value: 0.62110918518921 and parameters: {'n_estimators': 693, 'learning_rate': 0.014389900652512146, 'max_depth': 6, 'min_child_weight': 9, 'subsample': 0.916228285418528, 'colsample_bytree': 0.808815767070961, 'gamma': 0.08151694737776449}. Best is trial 13 with value: 0.62110918518921.\n",
      "[I 2025-07-17 17:32:40,353] Trial 14 finished with value: 0.605075460724448 and parameters: {'n_estimators': 652, 'learning_rate': 0.010955980939513776, 'max_depth': 6, 'min_child_weight': 8, 'subsample': 0.9051778350749907, 'colsample_bytree': 0.7977125558947885, 'gamma': 0.03894745862793294}. Best is trial 14 with value: 0.605075460724448.\n",
      "[I 2025-07-17 17:32:53,446] Trial 15 finished with value: 0.7995286122680183 and parameters: {'n_estimators': 648, 'learning_rate': 0.0943647933388676, 'max_depth': 6, 'min_child_weight': 8, 'subsample': 0.905439439281507, 'colsample_bytree': 0.8237314429193744, 'gamma': 0.8198374014843265}. Best is trial 14 with value: 0.605075460724448.\n",
      "[I 2025-07-17 17:33:14,345] Trial 16 finished with value: 0.8198205911579362 and parameters: {'n_estimators': 978, 'learning_rate': 0.030881479638145366, 'max_depth': 9, 'min_child_weight': 9, 'subsample': 0.9205064099117454, 'colsample_bytree': 0.8529039797926259, 'gamma': 2.422612182388926}. Best is trial 14 with value: 0.605075460724448.\n",
      "[I 2025-07-17 17:33:33,068] Trial 17 finished with value: 0.9194706055666231 and parameters: {'n_estimators': 602, 'learning_rate': 0.10532407128163546, 'max_depth': 6, 'min_child_weight': 8, 'subsample': 0.7751216484728586, 'colsample_bytree': 0.7764027199159611, 'gamma': 0.061828050058759944}. Best is trial 14 with value: 0.605075460724448.\n",
      "[I 2025-07-17 17:33:48,471] Trial 18 finished with value: 0.9244037626796061 and parameters: {'n_estimators': 811, 'learning_rate': 0.05815502405056154, 'max_depth': 9, 'min_child_weight': 6, 'subsample': 0.9010589429045788, 'colsample_bytree': 0.8591805141394122, 'gamma': 4.923458274433551}. Best is trial 14 with value: 0.605075460724448.\n",
      "[I 2025-07-17 17:34:00,520] Trial 19 finished with value: 0.7467906605130359 and parameters: {'n_estimators': 375, 'learning_rate': 0.010749161166951328, 'max_depth': 3, 'min_child_weight': 9, 'subsample': 0.8548646466507893, 'colsample_bytree': 0.7913444138399083, 'gamma': 0.8983387418654799}. Best is trial 14 with value: 0.605075460724448.\n",
      "[I 2025-07-17 17:34:13,429] Trial 20 finished with value: 0.7695589027225077 and parameters: {'n_estimators': 600, 'learning_rate': 0.2126286874177338, 'max_depth': 6, 'min_child_weight': 7, 'subsample': 0.9283717945034219, 'colsample_bytree': 0.972734183340824, 'gamma': 0.019606997447342137}. Best is trial 14 with value: 0.605075460724448.\n",
      "[I 2025-07-17 17:34:38,909] Trial 21 finished with value: 0.8068781702946438 and parameters: {'n_estimators': 678, 'learning_rate': 0.03972579923403771, 'max_depth': 8, 'min_child_weight': 8, 'subsample': 0.9983214704472235, 'colsample_bytree': 0.7358416504707439, 'gamma': 0.39365559090195346}. Best is trial 14 with value: 0.605075460724448.\n",
      "[I 2025-07-17 17:35:12,861] Trial 22 finished with value: 0.7296213615378628 and parameters: {'n_estimators': 733, 'learning_rate': 0.011170899885635778, 'max_depth': 6, 'min_child_weight': 10, 'subsample': 0.9577399833498337, 'colsample_bytree': 0.8552689975935462, 'gamma': 0.9056120799181815}. Best is trial 14 with value: 0.605075460724448.\n",
      "[I 2025-07-17 17:35:33,919] Trial 23 finished with value: 0.7255353908677113 and parameters: {'n_estimators': 555, 'learning_rate': 0.0407418474763522, 'max_depth': 7, 'min_child_weight': 8, 'subsample': 0.8941826790865676, 'colsample_bytree': 0.7574149359501968, 'gamma': 0.5538555669276989}. Best is trial 14 with value: 0.605075460724448.\n",
      "[I 2025-07-17 17:35:52,793] Trial 24 finished with value: 0.6956510433653388 and parameters: {'n_estimators': 889, 'learning_rate': 0.08409549740183148, 'max_depth': 5, 'min_child_weight': 9, 'subsample': 0.9489126722983436, 'colsample_bytree': 0.6896204681997904, 'gamma': 0.032578265071668444}. Best is trial 14 with value: 0.605075460724448.\n",
      "[I 2025-07-17 17:36:10,288] Trial 25 finished with value: 0.781488015977622 and parameters: {'n_estimators': 754, 'learning_rate': 0.03341464384891873, 'max_depth': 5, 'min_child_weight': 7, 'subsample': 0.9892175626872132, 'colsample_bytree': 0.8062419687224608, 'gamma': 1.0793044807566798}. Best is trial 14 with value: 0.605075460724448.\n",
      "[I 2025-07-17 17:36:28,125] Trial 26 finished with value: 0.8720390147472743 and parameters: {'n_estimators': 658, 'learning_rate': 0.0647554476753275, 'max_depth': 8, 'min_child_weight': 6, 'subsample': 0.8250755761093727, 'colsample_bytree': 0.7439531985476249, 'gamma': 2.228526046344928}. Best is trial 14 with value: 0.605075460724448.\n",
      "[I 2025-07-17 17:36:40,667] Trial 27 finished with value: 0.5831629560247226 and parameters: {'n_estimators': 570, 'learning_rate': 0.1108944693000235, 'max_depth': 10, 'min_child_weight': 9, 'subsample': 0.8730618256817043, 'colsample_bytree': 0.8339079693413199, 'gamma': 0.5191178551838367}. Best is trial 27 with value: 0.5831629560247226.\n",
      "[I 2025-07-17 17:36:50,614] Trial 28 finished with value: 0.7149180119478162 and parameters: {'n_estimators': 432, 'learning_rate': 0.11635402757942083, 'max_depth': 10, 'min_child_weight': 10, 'subsample': 0.8679645499427282, 'colsample_bytree': 0.884328378917538, 'gamma': 0.7111659192308595}. Best is trial 27 with value: 0.5831629560247226.\n",
      "[I 2025-07-17 17:36:56,847] Trial 29 finished with value: 0.8119852347137325 and parameters: {'n_estimators': 270, 'learning_rate': 0.13878587488800648, 'max_depth': 12, 'min_child_weight': 9, 'subsample': 0.7549964023735354, 'colsample_bytree': 0.8275528390339248, 'gamma': 2.849156372062076}. Best is trial 27 with value: 0.5831629560247226.\n",
      "[I 2025-07-17 17:37:07,472] Trial 30 finished with value: 0.8560580037853704 and parameters: {'n_estimators': 572, 'learning_rate': 0.18553939784948065, 'max_depth': 10, 'min_child_weight': 10, 'subsample': 0.8800364386810299, 'colsample_bytree': 0.7861902537810666, 'gamma': 1.4121701458450377}. Best is trial 27 with value: 0.5831629560247226.\n",
      "[I 2025-07-17 17:37:30,810] Trial 31 finished with value: 0.6969038995737993 and parameters: {'n_estimators': 842, 'learning_rate': 0.07066706204929502, 'max_depth': 7, 'min_child_weight': 8, 'subsample': 0.930027898960799, 'colsample_bytree': 0.8363417551061878, 'gamma': 0.29550136628936396}. Best is trial 27 with value: 0.5831629560247226.\n",
      "[I 2025-07-17 17:37:53,399] Trial 32 finished with value: 0.6883077638250784 and parameters: {'n_estimators': 674, 'learning_rate': 0.02595570855187101, 'max_depth': 6, 'min_child_weight': 9, 'subsample': 0.976939327478024, 'colsample_bytree': 0.7105524664679677, 'gamma': 0.2883928383413312}. Best is trial 27 with value: 0.5831629560247226.\n",
      "[I 2025-07-17 17:38:07,195] Trial 33 finished with value: 0.779338606273022 and parameters: {'n_estimators': 622, 'learning_rate': 0.08395167617659607, 'max_depth': 8, 'min_child_weight': 8, 'subsample': 0.6008900276661826, 'colsample_bytree': 0.7831852516719191, 'gamma': 0.5149052751225971}. Best is trial 27 with value: 0.5831629560247226.\n",
      "[I 2025-07-17 17:38:18,391] Trial 34 finished with value: 0.8133238290247935 and parameters: {'n_estimators': 523, 'learning_rate': 0.05052595452036134, 'max_depth': 5, 'min_child_weight': 7, 'subsample': 0.9385627862923033, 'colsample_bytree': 0.6448644127534031, 'gamma': 1.1494796207551623}. Best is trial 27 with value: 0.5831629560247226.\n",
      "[I 2025-07-17 17:38:50,598] Trial 35 finished with value: 0.6682462629853388 and parameters: {'n_estimators': 706, 'learning_rate': 0.024753095773610817, 'max_depth': 7, 'min_child_weight': 5, 'subsample': 0.8555084574591104, 'colsample_bytree': 0.8856635983727434, 'gamma': 0.29615778852253855}. Best is trial 27 with value: 0.5831629560247226.\n",
      "[I 2025-07-17 17:39:03,486] Trial 36 finished with value: 1.1057668521194626 and parameters: {'n_estimators': 790, 'learning_rate': 0.15469297165590343, 'max_depth': 10, 'min_child_weight': 10, 'subsample': 0.8137209304834206, 'colsample_bytree': 0.7184301492892792, 'gamma': 1.8345400180341827}. Best is trial 27 with value: 0.5831629560247226.\n",
      "[I 2025-07-17 17:39:17,950] Trial 37 finished with value: 0.7610297382860255 and parameters: {'n_estimators': 888, 'learning_rate': 0.0738321025459737, 'max_depth': 3, 'min_child_weight': 9, 'subsample': 0.913162268724862, 'colsample_bytree': 0.7640819730069359, 'gamma': 1.270339014843414}. Best is trial 27 with value: 0.5831629560247226.\n",
      "[I 2025-07-17 17:39:33,074] Trial 38 finished with value: 0.7544748712792744 and parameters: {'n_estimators': 450, 'learning_rate': 0.1021793793257155, 'max_depth': 8, 'min_child_weight': 8, 'subsample': 0.9723671265954714, 'colsample_bytree': 0.947158080356711, 'gamma': 0.7106380392764281}. Best is trial 27 with value: 0.5831629560247226.\n",
      "[I 2025-07-17 17:39:57,187] Trial 39 finished with value: 0.7718227240491523 and parameters: {'n_estimators': 552, 'learning_rate': 0.05235757068705116, 'max_depth': 11, 'min_child_weight': 6, 'subsample': 0.885694983760304, 'colsample_bytree': 0.7995310339915086, 'gamma': 0.05631843426961726}. Best is trial 27 with value: 0.5831629560247226.\n",
      "[I 2025-07-17 17:40:10,195] Trial 40 finished with value: 0.9067010305595755 and parameters: {'n_estimators': 759, 'learning_rate': 0.1405901819608416, 'max_depth': 7, 'min_child_weight': 7, 'subsample': 0.8702020299069191, 'colsample_bytree': 0.917425076381298, 'gamma': 1.041809237170047}. Best is trial 27 with value: 0.5831629560247226.\n",
      "[I 2025-07-17 17:40:31,399] Trial 41 finished with value: 0.7047181213508336 and parameters: {'n_estimators': 704, 'learning_rate': 0.051742220053793656, 'max_depth': 7, 'min_child_weight': 10, 'subsample': 0.9502885675017871, 'colsample_bytree': 0.6800217710932515, 'gamma': 0.6308725704467394}. Best is trial 27 with value: 0.5831629560247226.\n",
      "[I 2025-07-17 17:40:53,965] Trial 42 finished with value: 0.6858673551304231 and parameters: {'n_estimators': 715, 'learning_rate': 0.022075113208101606, 'max_depth': 6, 'min_child_weight': 10, 'subsample': 0.9685263138123664, 'colsample_bytree': 0.6610406760695007, 'gamma': 0.43897478879198304}. Best is trial 27 with value: 0.5831629560247226.\n",
      "[I 2025-07-17 17:41:10,242] Trial 43 finished with value: 0.7133860527173079 and parameters: {'n_estimators': 637, 'learning_rate': 0.03589726650171351, 'max_depth': 5, 'min_child_weight': 9, 'subsample': 0.9399702178595182, 'colsample_bytree': 0.6820397422313751, 'gamma': 0.24163749378226604}. Best is trial 27 with value: 0.5831629560247226.\n",
      "[I 2025-07-17 17:41:34,897] Trial 44 finished with value: 0.6855879140339536 and parameters: {'n_estimators': 824, 'learning_rate': 0.04320879910393316, 'max_depth': 9, 'min_child_weight': 9, 'subsample': 0.9177729700530805, 'colsample_bytree': 0.640474578550276, 'gamma': 0.5765896828134441}. Best is trial 27 with value: 0.5831629560247226.\n",
      "[I 2025-07-17 17:41:54,280] Trial 45 finished with value: 0.8575637420255641 and parameters: {'n_estimators': 601, 'learning_rate': 0.012824448791562235, 'max_depth': 6, 'min_child_weight': 10, 'subsample': 0.8437927413217922, 'colsample_bytree': 0.7231365139510642, 'gamma': 3.6007960366325302}. Best is trial 27 with value: 0.5831629560247226.\n",
      "[I 2025-07-17 17:42:11,141] Trial 46 finished with value: 0.7524995890408676 and parameters: {'n_estimators': 776, 'learning_rate': 0.05836452315045444, 'max_depth': 7, 'min_child_weight': 3, 'subsample': 0.9757844177188846, 'colsample_bytree': 0.8386678322604314, 'gamma': 1.603234850283215}. Best is trial 27 with value: 0.5831629560247226.\n",
      "[I 2025-07-17 17:42:27,516] Trial 47 finished with value: 0.819921604864217 and parameters: {'n_estimators': 515, 'learning_rate': 0.08863272637928679, 'max_depth': 8, 'min_child_weight': 8, 'subsample': 0.8994387333780882, 'colsample_bytree': 0.7530501925888963, 'gamma': 0.8173526708230485}. Best is trial 27 with value: 0.5831629560247226.\n",
      "[I 2025-07-17 17:42:49,259] Trial 48 finished with value: 0.6974855447898454 and parameters: {'n_estimators': 944, 'learning_rate': 0.024643335499330326, 'max_depth': 4, 'min_child_weight': 9, 'subsample': 0.957758350466239, 'colsample_bytree': 0.8698314335375514, 'gamma': 0.201399363547838}. Best is trial 27 with value: 0.5831629560247226.\n",
      "[I 2025-07-17 17:43:01,041] Trial 49 finished with value: 0.7688808177781963 and parameters: {'n_estimators': 682, 'learning_rate': 0.11405882089251076, 'max_depth': 5, 'min_child_weight': 7, 'subsample': 0.9219296160659174, 'colsample_bytree': 0.6009998808276028, 'gamma': 1.4012785543674546}. Best is trial 27 with value: 0.5831629560247226.\n"
     ]
    },
    {
     "name": "stdout",
     "output_type": "stream",
     "text": [
      "Best MAPE for BlendProperty6: 0.5831629560247226\n",
      "Best hyperparameters for BlendProperty6: {'n_estimators': 570, 'learning_rate': 0.1108944693000235, 'max_depth': 10, 'min_child_weight': 9, 'subsample': 0.8730618256817043, 'colsample_bytree': 0.8339079693413199, 'gamma': 0.5191178551838367}\n"
     ]
    },
    {
     "name": "stderr",
     "output_type": "stream",
     "text": [
      "[I 2025-07-17 17:43:03,149] A new study created in memory with name: no-name-0614ed99-51dc-418b-b4bf-68ae91965fa3\n"
     ]
    },
    {
     "name": "stdout",
     "output_type": "stream",
     "text": [
      "Saved best model for BlendProperty6\n",
      "\n",
      "--- Tuning and Training for BlendProperty7 ---\n",
      "\n"
     ]
    },
    {
     "name": "stderr",
     "output_type": "stream",
     "text": [
      "[I 2025-07-17 17:43:15,144] Trial 0 finished with value: 2.519579593000818 and parameters: {'n_estimators': 680, 'learning_rate': 0.16624442193885008, 'max_depth': 6, 'min_child_weight': 1, 'subsample': 0.9252093984154999, 'colsample_bytree': 0.8281248665539228, 'gamma': 1.9007016089059285}. Best is trial 0 with value: 2.519579593000818.\n",
      "[I 2025-07-17 17:43:33,635] Trial 1 finished with value: 1.4626650908350682 and parameters: {'n_estimators': 832, 'learning_rate': 0.29033665907633355, 'max_depth': 10, 'min_child_weight': 5, 'subsample': 0.9284419911852707, 'colsample_bytree': 0.8735029928337524, 'gamma': 1.7697188991160067}. Best is trial 1 with value: 1.4626650908350682.\n",
      "[I 2025-07-17 17:43:44,240] Trial 2 finished with value: 2.098376255483186 and parameters: {'n_estimators': 652, 'learning_rate': 0.10100081820193359, 'max_depth': 12, 'min_child_weight': 3, 'subsample': 0.6351586186479496, 'colsample_bytree': 0.6093060347955963, 'gamma': 4.064821434770126}. Best is trial 1 with value: 1.4626650908350682.\n",
      "[I 2025-07-17 17:43:47,327] Trial 3 finished with value: 1.80227811905565 and parameters: {'n_estimators': 143, 'learning_rate': 0.242980895677952, 'max_depth': 4, 'min_child_weight': 4, 'subsample': 0.6007476096471606, 'colsample_bytree': 0.9279194736721529, 'gamma': 3.962638394143383}. Best is trial 1 with value: 1.4626650908350682.\n",
      "[I 2025-07-17 17:43:53,085] Trial 4 finished with value: 2.1923439600275447 and parameters: {'n_estimators': 350, 'learning_rate': 0.21671788248246485, 'max_depth': 7, 'min_child_weight': 1, 'subsample': 0.6969057138885537, 'colsample_bytree': 0.6670551598816405, 'gamma': 4.074743536794242}. Best is trial 1 with value: 1.4626650908350682.\n",
      "[I 2025-07-17 17:43:57,648] Trial 5 finished with value: 2.1085112974813733 and parameters: {'n_estimators': 220, 'learning_rate': 0.12954811894747856, 'max_depth': 11, 'min_child_weight': 6, 'subsample': 0.9460517127945169, 'colsample_bytree': 0.6149309444269973, 'gamma': 3.7005495408501843}. Best is trial 1 with value: 1.4626650908350682.\n",
      "[I 2025-07-17 17:44:11,808] Trial 6 finished with value: 2.1769363253460776 and parameters: {'n_estimators': 831, 'learning_rate': 0.10576887812342545, 'max_depth': 8, 'min_child_weight': 3, 'subsample': 0.9043392488074558, 'colsample_bytree': 0.9181283394681098, 'gamma': 2.301776499843422}. Best is trial 1 with value: 1.4626650908350682.\n",
      "[I 2025-07-17 17:44:34,574] Trial 7 finished with value: 2.1138430039225637 and parameters: {'n_estimators': 949, 'learning_rate': 0.11547898082891356, 'max_depth': 7, 'min_child_weight': 6, 'subsample': 0.8424533748729497, 'colsample_bytree': 0.9039573576802908, 'gamma': 1.574719000357272}. Best is trial 1 with value: 1.4626650908350682.\n",
      "[I 2025-07-17 17:44:57,258] Trial 8 finished with value: 2.0976898831944664 and parameters: {'n_estimators': 787, 'learning_rate': 0.021987871759950622, 'max_depth': 9, 'min_child_weight': 8, 'subsample': 0.7673376364457721, 'colsample_bytree': 0.6561276249663339, 'gamma': 0.8328793942505952}. Best is trial 1 with value: 1.4626650908350682.\n",
      "[I 2025-07-17 17:45:10,991] Trial 9 finished with value: 2.3689579246090657 and parameters: {'n_estimators': 759, 'learning_rate': 0.10853390277708021, 'max_depth': 8, 'min_child_weight': 2, 'subsample': 0.6924999844838792, 'colsample_bytree': 0.9547152054471252, 'gamma': 1.7791499849092718}. Best is trial 1 with value: 1.4626650908350682.\n",
      "[I 2025-07-17 17:45:20,942] Trial 10 finished with value: 2.792206381812398 and parameters: {'n_estimators': 448, 'learning_rate': 0.28597323126852847, 'max_depth': 10, 'min_child_weight': 10, 'subsample': 0.9933418300385138, 'colsample_bytree': 0.7705716599460084, 'gamma': 0.2674520766837889}. Best is trial 1 with value: 1.4626650908350682.\n",
      "[I 2025-07-17 17:45:28,462] Trial 11 finished with value: 3.0546408552320305 and parameters: {'n_estimators': 173, 'learning_rate': 0.291963965551939, 'max_depth': 5, 'min_child_weight': 4, 'subsample': 0.8226803521295498, 'colsample_bytree': 0.9908886654153636, 'gamma': 3.0848059197304223}. Best is trial 1 with value: 1.4626650908350682.\n",
      "[I 2025-07-17 17:45:36,726] Trial 12 finished with value: 2.305468546039647 and parameters: {'n_estimators': 507, 'learning_rate': 0.2373465616872022, 'max_depth': 3, 'min_child_weight': 5, 'subsample': 0.7616115333869734, 'colsample_bytree': 0.8399054772191068, 'gamma': 4.938470627633373}. Best is trial 1 with value: 1.4626650908350682.\n",
      "[I 2025-07-17 17:45:53,179] Trial 13 finished with value: 2.1943755774422287 and parameters: {'n_estimators': 993, 'learning_rate': 0.2309920395568792, 'max_depth': 3, 'min_child_weight': 7, 'subsample': 0.6025873120605002, 'colsample_bytree': 0.8750123259724795, 'gamma': 3.035222116374237}. Best is trial 1 with value: 1.4626650908350682.\n",
      "[I 2025-07-17 17:45:59,913] Trial 14 finished with value: 1.7217744826936912 and parameters: {'n_estimators': 366, 'learning_rate': 0.2642919401716567, 'max_depth': 5, 'min_child_weight': 4, 'subsample': 0.8767223863734448, 'colsample_bytree': 0.7610024849120336, 'gamma': 1.01427527912636}. Best is trial 1 with value: 1.4626650908350682.\n",
      "[I 2025-07-17 17:46:07,184] Trial 15 finished with value: 2.33287577484759 and parameters: {'n_estimators': 334, 'learning_rate': 0.17522080102065318, 'max_depth': 10, 'min_child_weight': 8, 'subsample': 0.873414065227004, 'colsample_bytree': 0.758150524799786, 'gamma': 1.0856586239799189}. Best is trial 1 with value: 1.4626650908350682.\n",
      "[I 2025-07-17 17:46:17,537] Trial 16 finished with value: 1.2198849623413228 and parameters: {'n_estimators': 587, 'learning_rate': 0.26888176756869925, 'max_depth': 5, 'min_child_weight': 5, 'subsample': 0.9747746996817819, 'colsample_bytree': 0.7337945709830314, 'gamma': 0.05681337665584674}. Best is trial 16 with value: 1.2198849623413228.\n",
      "[I 2025-07-17 17:46:35,564] Trial 17 finished with value: 2.1723962240259196 and parameters: {'n_estimators': 610, 'learning_rate': 0.196047116831302, 'max_depth': 12, 'min_child_weight': 5, 'subsample': 0.9942785458837554, 'colsample_bytree': 0.7015216972793098, 'gamma': 0.10620966440798138}. Best is trial 16 with value: 1.2198849623413228.\n",
      "[I 2025-07-17 17:46:49,594] Trial 18 finished with value: 2.146285541207743 and parameters: {'n_estimators': 878, 'learning_rate': 0.29853727086171317, 'max_depth': 9, 'min_child_weight': 7, 'subsample': 0.9568546601607825, 'colsample_bytree': 0.7194001343604447, 'gamma': 0.5366202893195575}. Best is trial 16 with value: 1.2198849623413228.\n",
      "[I 2025-07-17 17:46:59,643] Trial 19 finished with value: 2.233752446919651 and parameters: {'n_estimators': 550, 'learning_rate': 0.26410678828176015, 'max_depth': 6, 'min_child_weight': 10, 'subsample': 0.9643910776765183, 'colsample_bytree': 0.8119601328012047, 'gamma': 2.575015924698051}. Best is trial 16 with value: 1.2198849623413228.\n",
      "[I 2025-07-17 17:47:14,063] Trial 20 finished with value: 1.5673226058131264 and parameters: {'n_estimators': 741, 'learning_rate': 0.0702773892276107, 'max_depth': 10, 'min_child_weight': 7, 'subsample': 0.8938357502234329, 'colsample_bytree': 0.8666136247206456, 'gamma': 1.4518199086491717}. Best is trial 16 with value: 1.2198849623413228.\n",
      "[I 2025-07-17 17:47:32,938] Trial 21 finished with value: 2.084176288432981 and parameters: {'n_estimators': 715, 'learning_rate': 0.05829916880801241, 'max_depth': 10, 'min_child_weight': 7, 'subsample': 0.902712522742098, 'colsample_bytree': 0.862392160766165, 'gamma': 1.536498424789806}. Best is trial 16 with value: 1.2198849623413228.\n",
      "[I 2025-07-17 17:47:52,377] Trial 22 finished with value: 2.2342249560254515 and parameters: {'n_estimators': 890, 'learning_rate': 0.03518319597114166, 'max_depth': 11, 'min_child_weight': 8, 'subsample': 0.8638143072941492, 'colsample_bytree': 0.7882743920934551, 'gamma': 2.284361655699312}. Best is trial 16 with value: 1.2198849623413228.\n",
      "[I 2025-07-17 17:48:04,891] Trial 23 finished with value: 2.0016374046923096 and parameters: {'n_estimators': 588, 'learning_rate': 0.07283058306453075, 'max_depth': 9, 'min_child_weight': 6, 'subsample': 0.921358587232031, 'colsample_bytree': 0.8805912786426546, 'gamma': 1.270470145370028}. Best is trial 16 with value: 1.2198849623413228.\n",
      "[I 2025-07-17 17:48:19,152] Trial 24 finished with value: 1.896835949358924 and parameters: {'n_estimators': 734, 'learning_rate': 0.14830336594472432, 'max_depth': 11, 'min_child_weight': 5, 'subsample': 0.9702490721770431, 'colsample_bytree': 0.7276917356068551, 'gamma': 0.4972409549555743}. Best is trial 16 with value: 1.2198849623413228.\n",
      "[I 2025-07-17 17:48:39,261] Trial 25 finished with value: 1.266973748480706 and parameters: {'n_estimators': 859, 'learning_rate': 0.26486321191354006, 'max_depth': 8, 'min_child_weight': 9, 'subsample': 0.806785511647211, 'colsample_bytree': 0.8433016218809766, 'gamma': 0.6857007192210914}. Best is trial 16 with value: 1.2198849623413228.\n",
      "[I 2025-07-17 17:48:57,292] Trial 26 finished with value: 1.6788879618568189 and parameters: {'n_estimators': 856, 'learning_rate': 0.26691000069442833, 'max_depth': 6, 'min_child_weight': 9, 'subsample': 0.7706663997807517, 'colsample_bytree': 0.7967039257965254, 'gamma': 0.004202751325986923}. Best is trial 16 with value: 1.2198849623413228.\n",
      "[I 2025-07-17 17:49:13,502] Trial 27 finished with value: 1.540017196510505 and parameters: {'n_estimators': 933, 'learning_rate': 0.1986608322624695, 'max_depth': 8, 'min_child_weight': 3, 'subsample': 0.82197141181761, 'colsample_bytree': 0.8345094653850185, 'gamma': 0.6390228943775806}. Best is trial 16 with value: 1.2198849623413228.\n",
      "[I 2025-07-17 17:49:33,685] Trial 28 finished with value: 2.145906937215483 and parameters: {'n_estimators': 836, 'learning_rate': 0.2681771685174309, 'max_depth': 7, 'min_child_weight': 5, 'subsample': 0.7224640374791413, 'colsample_bytree': 0.9750073096870888, 'gamma': 0.8310519952068387}. Best is trial 16 with value: 1.2198849623413228.\n",
      "[I 2025-07-17 17:49:45,704] Trial 29 finished with value: 1.322471482400003 and parameters: {'n_estimators': 672, 'learning_rate': 0.21060388633328953, 'max_depth': 5, 'min_child_weight': 9, 'subsample': 0.800328123091589, 'colsample_bytree': 0.8264673824093751, 'gamma': 0.3244565653441269}. Best is trial 16 with value: 1.2198849623413228.\n",
      "[I 2025-07-17 17:49:58,866] Trial 30 finished with value: 1.8971966499887611 and parameters: {'n_estimators': 665, 'learning_rate': 0.21860677394471525, 'max_depth': 5, 'min_child_weight': 9, 'subsample': 0.7959817271346933, 'colsample_bytree': 0.8188790254588239, 'gamma': 0.03321417421173223}. Best is trial 16 with value: 1.2198849623413228.\n",
      "[I 2025-07-17 17:50:11,751] Trial 31 finished with value: 2.094492605249463 and parameters: {'n_estimators': 795, 'learning_rate': 0.2492148964128533, 'max_depth': 4, 'min_child_weight': 9, 'subsample': 0.9307060546355432, 'colsample_bytree': 0.8969468680626778, 'gamma': 0.4241295246970662}. Best is trial 16 with value: 1.2198849623413228.\n",
      "[I 2025-07-17 17:50:27,378] Trial 32 finished with value: 2.391555428636143 and parameters: {'n_estimators': 661, 'learning_rate': 0.27751810592547593, 'max_depth': 4, 'min_child_weight': 10, 'subsample': 0.7405557889313713, 'colsample_bytree': 0.849300218378745, 'gamma': 1.8909756020571091}. Best is trial 16 with value: 1.2198849623413228.\n",
      "[I 2025-07-17 17:50:36,741] Trial 33 finished with value: 2.028472526763416 and parameters: {'n_estimators': 506, 'learning_rate': 0.2515705898179675, 'max_depth': 6, 'min_child_weight': 4, 'subsample': 0.8012090766074195, 'colsample_bytree': 0.7927640398905719, 'gamma': 0.7288392929248122}. Best is trial 16 with value: 1.2198849623413228.\n",
      "[I 2025-07-17 17:50:47,318] Trial 34 finished with value: 1.9449474384954417 and parameters: {'n_estimators': 611, 'learning_rate': 0.19954662041001245, 'max_depth': 6, 'min_child_weight': 9, 'subsample': 0.676696587692523, 'colsample_bytree': 0.7407878300910353, 'gamma': 1.1140398564833789}. Best is trial 16 with value: 1.2198849623413228.\n",
      "[I 2025-07-17 17:50:59,144] Trial 35 finished with value: 2.3019385494270024 and parameters: {'n_estimators': 679, 'learning_rate': 0.21880917975987582, 'max_depth': 5, 'min_child_weight': 6, 'subsample': 0.8461822656959729, 'colsample_bytree': 0.9325399414495287, 'gamma': 0.4012602070490826}. Best is trial 16 with value: 1.2198849623413228.\n",
      "[I 2025-07-17 17:51:08,487] Trial 36 finished with value: 2.3417525181126533 and parameters: {'n_estimators': 441, 'learning_rate': 0.15964897934360084, 'max_depth': 7, 'min_child_weight': 8, 'subsample': 0.9325462282553025, 'colsample_bytree': 0.6975140110774602, 'gamma': 0.23008299186565134}. Best is trial 16 with value: 1.2198849623413228.\n",
      "[I 2025-07-17 17:51:27,597] Trial 37 finished with value: 2.400982829596958 and parameters: {'n_estimators': 791, 'learning_rate': 0.17981360678095307, 'max_depth': 8, 'min_child_weight': 2, 'subsample': 0.6587674549618057, 'colsample_bytree': 0.8238327693485751, 'gamma': 0.8563290826200987}. Best is trial 16 with value: 1.2198849623413228.\n",
      "[I 2025-07-17 17:51:42,735] Trial 38 finished with value: 1.9576156664000686 and parameters: {'n_estimators': 911, 'learning_rate': 0.2792506946927583, 'max_depth': 4, 'min_child_weight': 6, 'subsample': 0.800151978662811, 'colsample_bytree': 0.8941360216216303, 'gamma': 1.2962264799980945}. Best is trial 16 with value: 1.2198849623413228.\n",
      "[I 2025-07-17 17:51:59,070] Trial 39 finished with value: 2.128901098507737 and parameters: {'n_estimators': 982, 'learning_rate': 0.2422683436394294, 'max_depth': 9, 'min_child_weight': 2, 'subsample': 0.9802925397845075, 'colsample_bytree': 0.6741589142756046, 'gamma': 2.113082916414366}. Best is trial 16 with value: 1.2198849623413228.\n",
      "[I 2025-07-17 17:52:11,123] Trial 40 finished with value: 1.817241261982319 and parameters: {'n_estimators': 695, 'learning_rate': 0.25368220456850576, 'max_depth': 12, 'min_child_weight': 5, 'subsample': 0.8446820596897138, 'colsample_bytree': 0.9364264877323741, 'gamma': 1.715716503400694}. Best is trial 16 with value: 1.2198849623413228.\n",
      "[I 2025-07-17 17:52:31,533] Trial 41 finished with value: 1.5589409029729486 and parameters: {'n_estimators': 923, 'learning_rate': 0.2001377114380223, 'max_depth': 8, 'min_child_weight': 3, 'subsample': 0.8243213058394266, 'colsample_bytree': 0.8468248844132443, 'gamma': 0.6241326096754021}. Best is trial 16 with value: 1.2198849623413228.\n",
      "[I 2025-07-17 17:52:48,530] Trial 42 finished with value: 1.9822964550289555 and parameters: {'n_estimators': 956, 'learning_rate': 0.22439325577460761, 'max_depth': 8, 'min_child_weight': 1, 'subsample': 0.7811425326380017, 'colsample_bytree': 0.8314596864749626, 'gamma': 0.30668058578372476}. Best is trial 16 with value: 1.2198849623413228.\n",
      "[I 2025-07-17 17:53:03,615] Trial 43 finished with value: 1.7444192035964217 and parameters: {'n_estimators': 828, 'learning_rate': 0.14062891808312528, 'max_depth': 7, 'min_child_weight': 3, 'subsample': 0.7311866938457461, 'colsample_bytree': 0.7751436216313988, 'gamma': 0.6940725020570732}. Best is trial 16 with value: 1.2198849623413228.\n",
      "[I 2025-07-17 17:53:15,700] Trial 44 finished with value: 2.5448601346137814 and parameters: {'n_estimators': 772, 'learning_rate': 0.20647441305659792, 'max_depth': 8, 'min_child_weight': 4, 'subsample': 0.8292833877006414, 'colsample_bytree': 0.6353751611947243, 'gamma': 2.8156696446839584}. Best is trial 16 with value: 1.2198849623413228.\n",
      "[I 2025-07-17 17:53:37,141] Trial 45 finished with value: 1.8654375470242635 and parameters: {'n_estimators': 931, 'learning_rate': 0.18408060607434554, 'max_depth': 9, 'min_child_weight': 3, 'subsample': 0.7530322851009373, 'colsample_bytree': 0.9107577017501509, 'gamma': 0.9656261998026385}. Best is trial 16 with value: 1.2198849623413228.\n",
      "[I 2025-07-17 17:53:50,559] Trial 46 finished with value: 1.8308091562925017 and parameters: {'n_estimators': 811, 'learning_rate': 0.2867980187226999, 'max_depth': 6, 'min_child_weight': 4, 'subsample': 0.7097587448390188, 'colsample_bytree': 0.8565555701845136, 'gamma': 3.622547572801665}. Best is trial 16 with value: 1.2198849623413228.\n",
      "[I 2025-07-17 17:54:04,182] Trial 47 finished with value: 2.1927379744901896 and parameters: {'n_estimators': 866, 'learning_rate': 0.2990218339517267, 'max_depth': 7, 'min_child_weight': 1, 'subsample': 0.8108974399242068, 'colsample_bytree': 0.8050180782173137, 'gamma': 1.2713611638735887}. Best is trial 16 with value: 1.2198849623413228.\n",
      "[I 2025-07-17 17:54:13,451] Trial 48 finished with value: 3.1609831625963216 and parameters: {'n_estimators': 558, 'learning_rate': 0.23120453894274742, 'max_depth': 3, 'min_child_weight': 8, 'subsample': 0.9483438637643518, 'colsample_bytree': 0.877700835091032, 'gamma': 0.234532578223153}. Best is trial 16 with value: 1.2198849623413228.\n",
      "[I 2025-07-17 17:54:28,717] Trial 49 finished with value: 2.2891936693231663 and parameters: {'n_estimators': 640, 'learning_rate': 0.1668659935288545, 'max_depth': 5, 'min_child_weight': 6, 'subsample': 0.8619863667215807, 'colsample_bytree': 0.832511635230638, 'gamma': 4.960043804831599}. Best is trial 16 with value: 1.2198849623413228.\n"
     ]
    },
    {
     "name": "stdout",
     "output_type": "stream",
     "text": [
      "Best MAPE for BlendProperty7: 1.2198849623413228\n",
      "Best hyperparameters for BlendProperty7: {'n_estimators': 587, 'learning_rate': 0.26888176756869925, 'max_depth': 5, 'min_child_weight': 5, 'subsample': 0.9747746996817819, 'colsample_bytree': 0.7337945709830314, 'gamma': 0.05681337665584674}\n"
     ]
    },
    {
     "name": "stderr",
     "output_type": "stream",
     "text": [
      "[I 2025-07-17 17:54:30,529] A new study created in memory with name: no-name-15271703-51d9-44f6-a0da-e2ca156a6b70\n"
     ]
    },
    {
     "name": "stdout",
     "output_type": "stream",
     "text": [
      "Saved best model for BlendProperty7\n",
      "\n",
      "--- Tuning and Training for BlendProperty8 ---\n",
      "\n"
     ]
    },
    {
     "name": "stderr",
     "output_type": "stream",
     "text": [
      "[I 2025-07-17 17:54:45,601] Trial 0 finished with value: 1.2485590337982455 and parameters: {'n_estimators': 876, 'learning_rate': 0.19482341825088406, 'max_depth': 11, 'min_child_weight': 2, 'subsample': 0.6088347737785645, 'colsample_bytree': 0.655691660531004, 'gamma': 2.461581038793241}. Best is trial 0 with value: 1.2485590337982455.\n",
      "[I 2025-07-17 17:54:57,380] Trial 1 finished with value: 1.3799154002310758 and parameters: {'n_estimators': 737, 'learning_rate': 0.24591615221598187, 'max_depth': 5, 'min_child_weight': 2, 'subsample': 0.6108944376025846, 'colsample_bytree': 0.8211809621498368, 'gamma': 3.642968840402669}. Best is trial 0 with value: 1.2485590337982455.\n",
      "[I 2025-07-17 17:55:00,138] Trial 2 finished with value: 1.3247952203252364 and parameters: {'n_estimators': 103, 'learning_rate': 0.2772063067505972, 'max_depth': 12, 'min_child_weight': 9, 'subsample': 0.858882116068183, 'colsample_bytree': 0.7212230519346988, 'gamma': 4.211789772012671}. Best is trial 0 with value: 1.2485590337982455.\n",
      "[I 2025-07-17 17:55:12,749] Trial 3 finished with value: 1.2989639330676561 and parameters: {'n_estimators': 740, 'learning_rate': 0.06528131715923736, 'max_depth': 3, 'min_child_weight': 2, 'subsample': 0.6263392572481773, 'colsample_bytree': 0.6020524407368828, 'gamma': 4.7098429332744844}. Best is trial 0 with value: 1.2485590337982455.\n",
      "[I 2025-07-17 17:55:32,396] Trial 4 finished with value: 1.245131229084138 and parameters: {'n_estimators': 930, 'learning_rate': 0.14953707793917206, 'max_depth': 5, 'min_child_weight': 10, 'subsample': 0.8587582215754641, 'colsample_bytree': 0.8500856820882725, 'gamma': 4.237248282629247}. Best is trial 4 with value: 1.245131229084138.\n",
      "[I 2025-07-17 17:55:51,832] Trial 5 finished with value: 1.2167120361001886 and parameters: {'n_estimators': 861, 'learning_rate': 0.021947890284579955, 'max_depth': 7, 'min_child_weight': 2, 'subsample': 0.9754605467261667, 'colsample_bytree': 0.654009869402443, 'gamma': 3.9290652592814217}. Best is trial 5 with value: 1.2167120361001886.\n",
      "[I 2025-07-17 17:55:58,677] Trial 6 finished with value: 1.18852289615254 and parameters: {'n_estimators': 395, 'learning_rate': 0.2701836937912008, 'max_depth': 7, 'min_child_weight': 8, 'subsample': 0.8257857708044282, 'colsample_bytree': 0.7231065467347748, 'gamma': 4.527155940847228}. Best is trial 6 with value: 1.18852289615254.\n",
      "[I 2025-07-17 17:56:07,762] Trial 7 finished with value: 1.0565236192909222 and parameters: {'n_estimators': 502, 'learning_rate': 0.225383426248425, 'max_depth': 5, 'min_child_weight': 10, 'subsample': 0.8093492697435661, 'colsample_bytree': 0.9623860704074036, 'gamma': 3.546281423515332}. Best is trial 7 with value: 1.0565236192909222.\n",
      "[I 2025-07-17 17:56:28,414] Trial 8 finished with value: 1.3111746308588577 and parameters: {'n_estimators': 885, 'learning_rate': 0.16652979079523, 'max_depth': 6, 'min_child_weight': 2, 'subsample': 0.653641341123279, 'colsample_bytree': 0.6993209200821326, 'gamma': 0.21913617683047337}. Best is trial 7 with value: 1.0565236192909222.\n",
      "[I 2025-07-17 17:56:36,879] Trial 9 finished with value: 1.1408792482892087 and parameters: {'n_estimators': 486, 'learning_rate': 0.16066442991689314, 'max_depth': 12, 'min_child_weight': 10, 'subsample': 0.6662570799729167, 'colsample_bytree': 0.8678791128035455, 'gamma': 4.798109476892085}. Best is trial 7 with value: 1.0565236192909222.\n",
      "[I 2025-07-17 17:56:44,089] Trial 10 finished with value: 1.10109616474874 and parameters: {'n_estimators': 274, 'learning_rate': 0.10887967208149758, 'max_depth': 9, 'min_child_weight': 6, 'subsample': 0.752816985763496, 'colsample_bytree': 0.9980150616339599, 'gamma': 2.344139204350708}. Best is trial 7 with value: 1.0565236192909222.\n",
      "[I 2025-07-17 17:56:51,138] Trial 11 finished with value: 1.0675008273085311 and parameters: {'n_estimators': 260, 'learning_rate': 0.09528352088158298, 'max_depth': 9, 'min_child_weight': 6, 'subsample': 0.7419158074395499, 'colsample_bytree': 0.9978741978736231, 'gamma': 2.4947573231045226}. Best is trial 7 with value: 1.0565236192909222.\n",
      "[I 2025-07-17 17:56:58,333] Trial 12 finished with value: 1.2037337203975251 and parameters: {'n_estimators': 307, 'learning_rate': 0.21701465888580546, 'max_depth': 9, 'min_child_weight': 5, 'subsample': 0.7480273938905575, 'colsample_bytree': 0.9979217174220689, 'gamma': 1.5044817207614196}. Best is trial 7 with value: 1.0565236192909222.\n",
      "[I 2025-07-17 17:57:08,867] Trial 13 finished with value: 1.3960577005016477 and parameters: {'n_estimators': 575, 'learning_rate': 0.09304486290662249, 'max_depth': 3, 'min_child_weight': 7, 'subsample': 0.745512394066298, 'colsample_bytree': 0.9316846174978626, 'gamma': 3.171878037354704}. Best is trial 7 with value: 1.0565236192909222.\n",
      "[I 2025-07-17 17:57:14,210] Trial 14 finished with value: 1.0441117260084336 and parameters: {'n_estimators': 117, 'learning_rate': 0.11717181677590996, 'max_depth': 9, 'min_child_weight': 4, 'subsample': 0.9397582065940516, 'colsample_bytree': 0.9291742909338676, 'gamma': 1.6386764042575674}. Best is trial 14 with value: 1.0441117260084336.\n",
      "[I 2025-07-17 17:57:18,355] Trial 15 finished with value: 1.205144896375352 and parameters: {'n_estimators': 135, 'learning_rate': 0.22587793848476023, 'max_depth': 10, 'min_child_weight': 4, 'subsample': 0.9640092447327371, 'colsample_bytree': 0.9278579650629871, 'gamma': 1.4855301512025103}. Best is trial 14 with value: 1.0441117260084336.\n",
      "[I 2025-07-17 17:57:33,776] Trial 16 finished with value: 0.9350198839037166 and parameters: {'n_estimators': 594, 'learning_rate': 0.1244718871809524, 'max_depth': 5, 'min_child_weight': 4, 'subsample': 0.9166190299629978, 'colsample_bytree': 0.9272167510423388, 'gamma': 1.6010244096978592}. Best is trial 16 with value: 0.9350198839037166.\n",
      "[I 2025-07-17 17:57:47,789] Trial 17 finished with value: 0.9978278549493387 and parameters: {'n_estimators': 652, 'learning_rate': 0.12842348575986348, 'max_depth': 8, 'min_child_weight': 4, 'subsample': 0.9295509463501674, 'colsample_bytree': 0.8925396322488006, 'gamma': 1.0079727172384394}. Best is trial 16 with value: 0.9350198839037166.\n",
      "[I 2025-07-17 17:58:02,760] Trial 18 finished with value: 0.8098224626475516 and parameters: {'n_estimators': 666, 'learning_rate': 0.05271054940910598, 'max_depth': 4, 'min_child_weight': 4, 'subsample': 0.8922687773318283, 'colsample_bytree': 0.8774143015118941, 'gamma': 0.3828827853878912}. Best is trial 18 with value: 0.8098224626475516.\n",
      "[I 2025-07-17 17:58:27,948] Trial 19 finished with value: 0.7967264024736528 and parameters: {'n_estimators': 678, 'learning_rate': 0.029224777284116384, 'max_depth': 4, 'min_child_weight': 5, 'subsample': 0.8997055411216859, 'colsample_bytree': 0.7787836129351704, 'gamma': 0.13612339777384586}. Best is trial 19 with value: 0.7967264024736528.\n",
      "[I 2025-07-17 17:58:59,711] Trial 20 finished with value: 0.8019246880313998 and parameters: {'n_estimators': 717, 'learning_rate': 0.013235822460603942, 'max_depth': 4, 'min_child_weight': 5, 'subsample': 0.886553499965292, 'colsample_bytree': 0.7985290781952481, 'gamma': 0.1332888136842593}. Best is trial 19 with value: 0.7967264024736528.\n",
      "[I 2025-07-17 17:59:38,933] Trial 21 finished with value: 0.8103979843254356 and parameters: {'n_estimators': 749, 'learning_rate': 0.015026725814575117, 'max_depth': 4, 'min_child_weight': 5, 'subsample': 0.8869527192646015, 'colsample_bytree': 0.776589392033037, 'gamma': 0.026620863436090686}. Best is trial 19 with value: 0.7967264024736528.\n",
      "[I 2025-07-17 17:59:53,543] Trial 22 finished with value: 0.9614459960778247 and parameters: {'n_estimators': 666, 'learning_rate': 0.04786330393299633, 'max_depth': 4, 'min_child_weight': 3, 'subsample': 0.8886747721427318, 'colsample_bytree': 0.7759150049685488, 'gamma': 0.5889149532186595}. Best is trial 19 with value: 0.7967264024736528.\n",
      "[I 2025-07-17 18:00:11,037] Trial 23 finished with value: 0.8903551985128644 and parameters: {'n_estimators': 997, 'learning_rate': 0.05255207264158986, 'max_depth': 4, 'min_child_weight': 7, 'subsample': 0.9980168554132562, 'colsample_bytree': 0.8178237048520346, 'gamma': 0.6701036722468708}. Best is trial 19 with value: 0.7967264024736528.\n",
      "[I 2025-07-17 18:00:31,328] Trial 24 finished with value: 0.9055233484538616 and parameters: {'n_estimators': 774, 'learning_rate': 0.03575330586589056, 'max_depth': 3, 'min_child_weight': 5, 'subsample': 0.8465227646375177, 'colsample_bytree': 0.773885973648394, 'gamma': 0.9483169706044879}. Best is trial 19 with value: 0.7967264024736528.\n",
      "[I 2025-07-17 18:00:47,449] Trial 25 finished with value: 0.9415107441652987 and parameters: {'n_estimators': 665, 'learning_rate': 0.07254065893304167, 'max_depth': 6, 'min_child_weight': 3, 'subsample': 0.9059049350527538, 'colsample_bytree': 0.8545135165789307, 'gamma': 0.3665084157495038}. Best is trial 19 with value: 0.7967264024736528.\n",
      "[I 2025-07-17 18:01:17,844] Trial 26 finished with value: 0.9904039028870898 and parameters: {'n_estimators': 814, 'learning_rate': 0.015955552714103954, 'max_depth': 6, 'min_child_weight': 7, 'subsample': 0.7900444190788327, 'colsample_bytree': 0.7455195864433234, 'gamma': 1.0577593712198392}. Best is trial 19 with value: 0.7967264024736528.\n",
      "[I 2025-07-17 18:01:34,420] Trial 27 finished with value: 0.97520563264631 and parameters: {'n_estimators': 502, 'learning_rate': 0.038611457323885434, 'max_depth': 4, 'min_child_weight': 1, 'subsample': 0.8834706599154241, 'colsample_bytree': 0.8252013674112092, 'gamma': 1.997511754617971}. Best is trial 19 with value: 0.7967264024736528.\n",
      "[I 2025-07-17 18:01:52,855] Trial 28 finished with value: 0.8635186451192516 and parameters: {'n_estimators': 598, 'learning_rate': 0.07629153652833442, 'max_depth': 3, 'min_child_weight': 3, 'subsample': 0.9524680256120144, 'colsample_bytree': 0.7912237078376737, 'gamma': 0.0005409078059512296}. Best is trial 19 with value: 0.7967264024736528.\n",
      "[I 2025-07-17 18:02:07,878] Trial 29 finished with value: 0.88214630144503 and parameters: {'n_estimators': 675, 'learning_rate': 0.05852621805712285, 'max_depth': 4, 'min_child_weight': 6, 'subsample': 0.833567368559092, 'colsample_bytree': 0.8883481018566235, 'gamma': 0.5704028759232495}. Best is trial 19 with value: 0.7967264024736528.\n",
      "[I 2025-07-17 18:02:26,746] Trial 30 finished with value: 1.0544709147517033 and parameters: {'n_estimators': 429, 'learning_rate': 0.03114128522910349, 'max_depth': 6, 'min_child_weight': 5, 'subsample': 0.7774768948470063, 'colsample_bytree': 0.673457943783066, 'gamma': 1.238393240365458}. Best is trial 19 with value: 0.7967264024736528.\n",
      "[I 2025-07-17 18:02:58,851] Trial 31 finished with value: 0.8821194814061855 and parameters: {'n_estimators': 721, 'learning_rate': 0.01003297760082498, 'max_depth': 4, 'min_child_weight': 5, 'subsample': 0.8812231920861971, 'colsample_bytree': 0.7573293865136387, 'gamma': 0.040820096402513606}. Best is trial 19 with value: 0.7967264024736528.\n",
      "[I 2025-07-17 18:03:35,895] Trial 32 finished with value: 0.8736904733464298 and parameters: {'n_estimators': 812, 'learning_rate': 0.013196246777789827, 'max_depth': 5, 'min_child_weight': 6, 'subsample': 0.8916127624761574, 'colsample_bytree': 0.8093000777665141, 'gamma': 0.5383725270054663}. Best is trial 19 with value: 0.7967264024736528.\n",
      "[I 2025-07-17 18:03:54,299] Trial 33 finished with value: 0.8983609237057975 and parameters: {'n_estimators': 750, 'learning_rate': 0.03383059160067574, 'max_depth': 4, 'min_child_weight': 4, 'subsample': 0.8618573946443467, 'colsample_bytree': 0.8315976012619737, 'gamma': 0.2925942174797749}. Best is trial 19 with value: 0.7967264024736528.\n",
      "[I 2025-07-17 18:04:06,424] Trial 34 finished with value: 1.2432840008141113 and parameters: {'n_estimators': 705, 'learning_rate': 0.08418207991960223, 'max_depth': 3, 'min_child_weight': 5, 'subsample': 0.9198678482976855, 'colsample_bytree': 0.7958928084630396, 'gamma': 2.9707926883288214}. Best is trial 19 with value: 0.7967264024736528.\n",
      "[I 2025-07-17 18:04:28,043] Trial 35 finished with value: 0.9749176234848782 and parameters: {'n_estimators': 621, 'learning_rate': 0.05444740959863815, 'max_depth': 5, 'min_child_weight': 3, 'subsample': 0.8681986812817455, 'colsample_bytree': 0.7421717942591765, 'gamma': 0.07571119952228371}. Best is trial 19 with value: 0.7967264024736528.\n",
      "[I 2025-07-17 18:04:44,314] Trial 36 finished with value: 0.9423851270563134 and parameters: {'n_estimators': 839, 'learning_rate': 0.02703316516867206, 'max_depth': 3, 'min_child_weight': 8, 'subsample': 0.9838225056960597, 'colsample_bytree': 0.7676043206973756, 'gamma': 0.8217957445830809}. Best is trial 19 with value: 0.7967264024736528.\n",
      "[I 2025-07-17 18:05:04,895] Trial 37 finished with value: 1.1047249722572547 and parameters: {'n_estimators': 787, 'learning_rate': 0.04631459755962433, 'max_depth': 7, 'min_child_weight': 4, 'subsample': 0.9465204780332137, 'colsample_bytree': 0.7195643518284583, 'gamma': 0.3540020928679697}. Best is trial 19 with value: 0.7967264024736528.\n",
      "[I 2025-07-17 18:05:22,981] Trial 38 finished with value: 1.1907393763468324 and parameters: {'n_estimators': 912, 'learning_rate': 0.18403203904388327, 'max_depth': 4, 'min_child_weight': 5, 'subsample': 0.9051289008938087, 'colsample_bytree': 0.8545978233102622, 'gamma': 1.2691997655824716}. Best is trial 19 with value: 0.7967264024736528.\n",
      "[I 2025-07-17 18:05:33,617] Trial 39 finished with value: 1.3395439965857878 and parameters: {'n_estimators': 526, 'learning_rate': 0.14365759309887016, 'max_depth': 5, 'min_child_weight': 6, 'subsample': 0.8217779730375931, 'colsample_bytree': 0.6150724473689554, 'gamma': 1.9296970352844536}. Best is trial 19 with value: 0.7967264024736528.\n",
      "[I 2025-07-17 18:05:48,468] Trial 40 finished with value: 1.059903826367519 and parameters: {'n_estimators': 708, 'learning_rate': 0.06613646417253359, 'max_depth': 6, 'min_child_weight': 1, 'subsample': 0.8423881023206569, 'colsample_bytree': 0.6937449812248498, 'gamma': 0.742296646754615}. Best is trial 19 with value: 0.7967264024736528.\n",
      "[I 2025-07-17 18:06:04,100] Trial 41 finished with value: 0.8246567608227526 and parameters: {'n_estimators': 614, 'learning_rate': 0.07978723447358291, 'max_depth': 3, 'min_child_weight': 3, 'subsample': 0.9598020908221795, 'colsample_bytree': 0.7903506966945842, 'gamma': 0.018777151271408943}. Best is trial 19 with value: 0.7967264024736528.\n",
      "[I 2025-07-17 18:06:13,312] Trial 42 finished with value: 1.0273664708683108 and parameters: {'n_estimators': 548, 'learning_rate': 0.2985928814580056, 'max_depth': 3, 'min_child_weight': 3, 'subsample': 0.963772156987969, 'colsample_bytree': 0.7860889634619332, 'gamma': 0.32993809055978807}. Best is trial 19 with value: 0.7967264024736528.\n",
      "[I 2025-07-17 18:06:47,115] Trial 43 finished with value: 0.8743636903859402 and parameters: {'n_estimators': 630, 'learning_rate': 0.0243805892211042, 'max_depth': 4, 'min_child_weight': 2, 'subsample': 0.9041605115433402, 'colsample_bytree': 0.8334132539120104, 'gamma': 0.016721858701927897}. Best is trial 19 with value: 0.7967264024736528.\n",
      "[I 2025-07-17 18:07:02,408] Trial 44 finished with value: 0.8291191693381708 and parameters: {'n_estimators': 752, 'learning_rate': 0.04193575223848798, 'max_depth': 3, 'min_child_weight': 4, 'subsample': 0.935040513412898, 'colsample_bytree': 0.8044856840263617, 'gamma': 0.3566698937888019}. Best is trial 19 with value: 0.7967264024736528.\n",
      "[I 2025-07-17 18:07:15,665] Trial 45 finished with value: 1.1420222405167268 and parameters: {'n_estimators': 706, 'learning_rate': 0.1023077528577021, 'max_depth': 5, 'min_child_weight': 5, 'subsample': 0.7070705733568328, 'colsample_bytree': 0.7420787047150585, 'gamma': 0.5054553475393746}. Best is trial 19 with value: 0.7967264024736528.\n",
      "[I 2025-07-17 18:07:31,872] Trial 46 finished with value: 0.8222726691271994 and parameters: {'n_estimators': 441, 'learning_rate': 0.07870084155761237, 'max_depth': 4, 'min_child_weight': 3, 'subsample': 0.8701226303739142, 'colsample_bytree': 0.877382609791537, 'gamma': 0.18409523564756763}. Best is trial 19 with value: 0.7967264024736528.\n",
      "[I 2025-07-17 18:07:42,200] Trial 47 finished with value: 0.9110875122927837 and parameters: {'n_estimators': 392, 'learning_rate': 0.06504837148010095, 'max_depth': 5, 'min_child_weight': 6, 'subsample': 0.8703110734415634, 'colsample_bytree': 0.8998805798617644, 'gamma': 0.7982358345884453}. Best is trial 19 with value: 0.7967264024736528.\n",
      "[I 2025-07-17 18:08:26,319] Trial 48 finished with value: 1.1242377034447686 and parameters: {'n_estimators': 471, 'learning_rate': 0.0232165399755455, 'max_depth': 11, 'min_child_weight': 4, 'subsample': 0.85626307086361, 'colsample_bytree': 0.8734603170599105, 'gamma': 0.18259699351339956}. Best is trial 19 with value: 0.7967264024736528.\n",
      "[I 2025-07-17 18:08:52,365] Trial 49 finished with value: 0.9909846224687355 and parameters: {'n_estimators': 443, 'learning_rate': 0.010627629279905793, 'max_depth': 8, 'min_child_weight': 2, 'subsample': 0.8122532433435187, 'colsample_bytree': 0.9484567943595472, 'gamma': 2.815226704589101}. Best is trial 19 with value: 0.7967264024736528.\n"
     ]
    },
    {
     "name": "stdout",
     "output_type": "stream",
     "text": [
      "Best MAPE for BlendProperty8: 0.7967264024736528\n",
      "Best hyperparameters for BlendProperty8: {'n_estimators': 678, 'learning_rate': 0.029224777284116384, 'max_depth': 4, 'min_child_weight': 5, 'subsample': 0.8997055411216859, 'colsample_bytree': 0.7787836129351704, 'gamma': 0.13612339777384586}\n"
     ]
    },
    {
     "name": "stderr",
     "output_type": "stream",
     "text": [
      "[I 2025-07-17 18:08:56,642] A new study created in memory with name: no-name-ac6aafba-eae6-4a95-bc9b-220221726596\n"
     ]
    },
    {
     "name": "stdout",
     "output_type": "stream",
     "text": [
      "Saved best model for BlendProperty8\n",
      "\n",
      "--- Tuning and Training for BlendProperty9 ---\n",
      "\n"
     ]
    },
    {
     "name": "stderr",
     "output_type": "stream",
     "text": [
      "[I 2025-07-17 18:09:09,310] Trial 0 finished with value: 1.791171151045767 and parameters: {'n_estimators': 568, 'learning_rate': 0.07458914355215793, 'max_depth': 8, 'min_child_weight': 10, 'subsample': 0.9130764727830984, 'colsample_bytree': 0.9740912843364218, 'gamma': 1.7654550043522932}. Best is trial 0 with value: 1.791171151045767.\n",
      "[I 2025-07-17 18:09:16,985] Trial 1 finished with value: 2.457651958067513 and parameters: {'n_estimators': 351, 'learning_rate': 0.11997623624650224, 'max_depth': 11, 'min_child_weight': 1, 'subsample': 0.9199540319474054, 'colsample_bytree': 0.9263540073330665, 'gamma': 3.566315932635696}. Best is trial 0 with value: 1.791171151045767.\n",
      "[I 2025-07-17 18:09:26,774] Trial 2 finished with value: 2.154630218807285 and parameters: {'n_estimators': 138, 'learning_rate': 0.1840764712119422, 'max_depth': 7, 'min_child_weight': 8, 'subsample': 0.8172216072143054, 'colsample_bytree': 0.7448866196674826, 'gamma': 1.17107665406244}. Best is trial 0 with value: 1.791171151045767.\n",
      "[I 2025-07-17 18:09:32,885] Trial 3 finished with value: 2.639364624522238 and parameters: {'n_estimators': 266, 'learning_rate': 0.2998481532221355, 'max_depth': 9, 'min_child_weight': 8, 'subsample': 0.9083011691275873, 'colsample_bytree': 0.8961757930341967, 'gamma': 0.7627871458662572}. Best is trial 0 with value: 1.791171151045767.\n",
      "[I 2025-07-17 18:09:38,881] Trial 4 finished with value: 2.55673327283957 and parameters: {'n_estimators': 290, 'learning_rate': 0.19353269129774642, 'max_depth': 8, 'min_child_weight': 5, 'subsample': 0.895152743929072, 'colsample_bytree': 0.8991633864354744, 'gamma': 4.395422000233962}. Best is trial 0 with value: 1.791171151045767.\n",
      "[I 2025-07-17 18:09:55,050] Trial 5 finished with value: 2.4090020118458897 and parameters: {'n_estimators': 816, 'learning_rate': 0.030033467478532055, 'max_depth': 4, 'min_child_weight': 9, 'subsample': 0.7989692874529855, 'colsample_bytree': 0.7561993796596553, 'gamma': 4.727813524841568}. Best is trial 0 with value: 1.791171151045767.\n",
      "[I 2025-07-17 18:10:10,609] Trial 6 finished with value: 2.1649279326791313 and parameters: {'n_estimators': 367, 'learning_rate': 0.021434979071084083, 'max_depth': 7, 'min_child_weight': 2, 'subsample': 0.7066653675297008, 'colsample_bytree': 0.7292897671735812, 'gamma': 2.572064100821719}. Best is trial 0 with value: 1.791171151045767.\n",
      "[I 2025-07-17 18:10:18,487] Trial 7 finished with value: 2.6297011843216804 and parameters: {'n_estimators': 435, 'learning_rate': 0.20748033051010284, 'max_depth': 3, 'min_child_weight': 7, 'subsample': 0.9293211325172837, 'colsample_bytree': 0.7624149635165172, 'gamma': 3.1266878892494665}. Best is trial 0 with value: 1.791171151045767.\n",
      "[I 2025-07-17 18:10:29,860] Trial 8 finished with value: 2.2712082094154353 and parameters: {'n_estimators': 324, 'learning_rate': 0.041562552683249473, 'max_depth': 4, 'min_child_weight': 3, 'subsample': 0.9841242169929129, 'colsample_bytree': 0.6034112216816788, 'gamma': 4.430568863570345}. Best is trial 0 with value: 1.791171151045767.\n",
      "[I 2025-07-17 18:10:40,649] Trial 9 finished with value: 2.872797807468551 and parameters: {'n_estimators': 674, 'learning_rate': 0.28956189737354593, 'max_depth': 9, 'min_child_weight': 3, 'subsample': 0.7837264197565164, 'colsample_bytree': 0.642372525656812, 'gamma': 2.4288601668755283}. Best is trial 0 with value: 1.791171151045767.\n",
      "[I 2025-07-17 18:11:03,040] Trial 10 finished with value: 1.8567295143109095 and parameters: {'n_estimators': 617, 'learning_rate': 0.10995709723075418, 'max_depth': 12, 'min_child_weight': 10, 'subsample': 0.6075017072049608, 'colsample_bytree': 0.9785438506959815, 'gamma': 0.0332901397849934}. Best is trial 0 with value: 1.791171151045767.\n",
      "[I 2025-07-17 18:11:35,455] Trial 11 finished with value: 1.9922080772407806 and parameters: {'n_estimators': 606, 'learning_rate': 0.09944953332377025, 'max_depth': 12, 'min_child_weight': 10, 'subsample': 0.6597284999327133, 'colsample_bytree': 0.9878604428730672, 'gamma': 0.13178108985486972}. Best is trial 0 with value: 1.791171151045767.\n",
      "[I 2025-07-17 18:11:54,571] Trial 12 finished with value: 2.3371170996992334 and parameters: {'n_estimators': 958, 'learning_rate': 0.08995373230147828, 'max_depth': 11, 'min_child_weight': 10, 'subsample': 0.6268741077027572, 'colsample_bytree': 0.9930967884017483, 'gamma': 1.4316931590813788}. Best is trial 0 with value: 1.791171151045767.\n",
      "[I 2025-07-17 18:12:25,642] Trial 13 finished with value: 2.5291923194372807 and parameters: {'n_estimators': 722, 'learning_rate': 0.14101340549274588, 'max_depth': 6, 'min_child_weight': 6, 'subsample': 0.7326173008965365, 'colsample_bytree': 0.8420788213385542, 'gamma': 0.0007938791504317061}. Best is trial 0 with value: 1.791171151045767.\n",
      "[I 2025-07-17 18:12:38,096] Trial 14 finished with value: 2.3758985144659683 and parameters: {'n_estimators': 513, 'learning_rate': 0.07169191902599509, 'max_depth': 10, 'min_child_weight': 10, 'subsample': 0.8529975648039005, 'colsample_bytree': 0.9321032182905938, 'gamma': 2.0749444021457766}. Best is trial 0 with value: 1.791171151045767.\n",
      "[I 2025-07-17 18:12:50,539] Trial 15 finished with value: 2.070604460675853 and parameters: {'n_estimators': 532, 'learning_rate': 0.0655826609110567, 'max_depth': 12, 'min_child_weight': 5, 'subsample': 0.7351843629276178, 'colsample_bytree': 0.8375713709961286, 'gamma': 1.743367368268958}. Best is trial 0 with value: 1.791171151045767.\n",
      "[I 2025-07-17 18:13:05,899] Trial 16 finished with value: 1.836181151504666 and parameters: {'n_estimators': 826, 'learning_rate': 0.14386566571773313, 'max_depth': 6, 'min_child_weight': 8, 'subsample': 0.6046532146510732, 'colsample_bytree': 0.9600676673684925, 'gamma': 0.6979886002678265}. Best is trial 0 with value: 1.791171151045767.\n",
      "[I 2025-07-17 18:13:25,577] Trial 17 finished with value: 1.3516219629808948 and parameters: {'n_estimators': 885, 'learning_rate': 0.23408234168348205, 'max_depth': 6, 'min_child_weight': 8, 'subsample': 0.9911039792425904, 'colsample_bytree': 0.8419116720134416, 'gamma': 0.7654110438982729}. Best is trial 17 with value: 1.3516219629808948.\n",
      "[I 2025-07-17 18:13:41,790] Trial 18 finished with value: 2.178874518462564 and parameters: {'n_estimators': 993, 'learning_rate': 0.26427531612566235, 'max_depth': 5, 'min_child_weight': 7, 'subsample': 0.9809204075641113, 'colsample_bytree': 0.8366993021023806, 'gamma': 0.8799101700241803}. Best is trial 17 with value: 1.3516219629808948.\n",
      "[I 2025-07-17 18:13:55,514] Trial 19 finished with value: 1.4117094598776505 and parameters: {'n_estimators': 809, 'learning_rate': 0.2346694815879312, 'max_depth': 8, 'min_child_weight': 9, 'subsample': 0.9981458719666485, 'colsample_bytree': 0.6775937805507757, 'gamma': 1.794428362611183}. Best is trial 17 with value: 1.3516219629808948.\n",
      "[I 2025-07-17 18:14:10,974] Trial 20 finished with value: 2.8830733779413826 and parameters: {'n_estimators': 884, 'learning_rate': 0.23796155665312774, 'max_depth': 6, 'min_child_weight': 6, 'subsample': 0.9540646844699641, 'colsample_bytree': 0.6856647689728576, 'gamma': 3.2136309448089944}. Best is trial 17 with value: 1.3516219629808948.\n",
      "[I 2025-07-17 18:14:31,811] Trial 21 finished with value: 2.1399980843783077 and parameters: {'n_estimators': 743, 'learning_rate': 0.24334639025247617, 'max_depth': 8, 'min_child_weight': 9, 'subsample': 0.9989219352306984, 'colsample_bytree': 0.6728074797222785, 'gamma': 1.7470596958134041}. Best is trial 17 with value: 1.3516219629808948.\n",
      "[I 2025-07-17 18:14:46,912] Trial 22 finished with value: 2.3727228751073124 and parameters: {'n_estimators': 895, 'learning_rate': 0.17135297494600793, 'max_depth': 9, 'min_child_weight': 9, 'subsample': 0.8698278910755111, 'colsample_bytree': 0.806417104654457, 'gamma': 2.245703322957627}. Best is trial 17 with value: 1.3516219629808948.\n",
      "[I 2025-07-17 18:14:59,800] Trial 23 finished with value: 1.7242480307288452 and parameters: {'n_estimators': 755, 'learning_rate': 0.21767984064622756, 'max_depth': 7, 'min_child_weight': 9, 'subsample': 0.9520171415013511, 'colsample_bytree': 0.8719716124279687, 'gamma': 1.4900371941321862}. Best is trial 17 with value: 1.3516219629808948.\n",
      "[I 2025-07-17 18:15:12,394] Trial 24 finished with value: 1.9448680602447461 and parameters: {'n_estimators': 770, 'learning_rate': 0.22202192430123674, 'max_depth': 5, 'min_child_weight': 7, 'subsample': 0.9555443955306129, 'colsample_bytree': 0.8679120857111303, 'gamma': 1.2882991359243583}. Best is trial 17 with value: 1.3516219629808948.\n",
      "[I 2025-07-17 18:15:34,646] Trial 25 finished with value: 1.5597303553888018 and parameters: {'n_estimators': 901, 'learning_rate': 0.2670753460803389, 'max_depth': 7, 'min_child_weight': 8, 'subsample': 0.946706779211833, 'colsample_bytree': 0.7907830183153495, 'gamma': 0.46757755016313474}. Best is trial 17 with value: 1.3516219629808948.\n",
      "[I 2025-07-17 18:15:49,293] Trial 26 finished with value: 2.097853331624541 and parameters: {'n_estimators': 915, 'learning_rate': 0.2688988426741244, 'max_depth': 5, 'min_child_weight': 8, 'subsample': 0.9673164449233947, 'colsample_bytree': 0.7825793676794953, 'gamma': 0.4162071072219205}. Best is trial 17 with value: 1.3516219629808948.\n",
      "[I 2025-07-17 18:16:02,907] Trial 27 finished with value: 1.5035356714840493 and parameters: {'n_estimators': 818, 'learning_rate': 0.2674893598879715, 'max_depth': 6, 'min_child_weight': 7, 'subsample': 0.9980222972964805, 'colsample_bytree': 0.7082045776270597, 'gamma': 0.4437430888491951}. Best is trial 17 with value: 1.3516219629808948.\n",
      "[I 2025-07-17 18:16:17,070] Trial 28 finished with value: 2.522258183412503 and parameters: {'n_estimators': 830, 'learning_rate': 0.2447628986681055, 'max_depth': 6, 'min_child_weight': 6, 'subsample': 0.8710156220304519, 'colsample_bytree': 0.6948053733219643, 'gamma': 1.071221783247116}. Best is trial 17 with value: 1.3516219629808948.\n",
      "[I 2025-07-17 18:16:34,307] Trial 29 finished with value: 1.4480243247193925 and parameters: {'n_estimators': 656, 'learning_rate': 0.16728085179466312, 'max_depth': 8, 'min_child_weight': 4, 'subsample': 0.9985501728844, 'colsample_bytree': 0.7138768791515646, 'gamma': 0.5506143466365238}. Best is trial 17 with value: 1.3516219629808948.\n",
      "[I 2025-07-17 18:16:46,092] Trial 30 finished with value: 2.3344158971296323 and parameters: {'n_estimators': 683, 'learning_rate': 0.18458836405093082, 'max_depth': 8, 'min_child_weight': 4, 'subsample': 0.9290437591636532, 'colsample_bytree': 0.6488603573505298, 'gamma': 2.77921101383599}. Best is trial 17 with value: 1.3516219629808948.\n",
      "[I 2025-07-17 18:16:58,693] Trial 31 finished with value: 1.458044655969541 and parameters: {'n_estimators': 653, 'learning_rate': 0.23071707174905237, 'max_depth': 9, 'min_child_weight': 4, 'subsample': 0.9984875693190497, 'colsample_bytree': 0.7220361325551384, 'gamma': 0.4715157427883905}. Best is trial 17 with value: 1.3516219629808948.\n",
      "[I 2025-07-17 18:17:10,828] Trial 32 finished with value: 1.476765638432868 and parameters: {'n_estimators': 654, 'learning_rate': 0.16055066609395538, 'max_depth': 10, 'min_child_weight': 4, 'subsample': 0.9806322192053012, 'colsample_bytree': 0.7185621602267286, 'gamma': 0.9112969647734294}. Best is trial 17 with value: 1.3516219629808948.\n",
      "[I 2025-07-17 18:17:26,106] Trial 33 finished with value: 2.532397218076359 and parameters: {'n_estimators': 571, 'learning_rate': 0.20073012517511862, 'max_depth': 10, 'min_child_weight': 4, 'subsample': 0.9985064680784211, 'colsample_bytree': 0.6643336898632727, 'gamma': 0.6534175199256571}. Best is trial 17 with value: 1.3516219629808948.\n",
      "[I 2025-07-17 18:17:34,447] Trial 34 finished with value: 2.9416217991239257 and parameters: {'n_estimators': 469, 'learning_rate': 0.2379564258684312, 'max_depth': 9, 'min_child_weight': 1, 'subsample': 0.9072238627992851, 'colsample_bytree': 0.6056841689236775, 'gamma': 1.9109539450255082}. Best is trial 17 with value: 1.3516219629808948.\n",
      "[I 2025-07-17 18:17:38,766] Trial 35 finished with value: 2.2934038135315893 and parameters: {'n_estimators': 127, 'learning_rate': 0.22380244288119563, 'max_depth': 8, 'min_child_weight': 3, 'subsample': 0.9343843523068783, 'colsample_bytree': 0.7382884668296739, 'gamma': 1.14387536723207}. Best is trial 17 with value: 1.3516219629808948.\n",
      "[I 2025-07-17 18:17:53,636] Trial 36 finished with value: 1.856709103432199 and parameters: {'n_estimators': 712, 'learning_rate': 0.17466931208725295, 'max_depth': 9, 'min_child_weight': 5, 'subsample': 0.9712542071587352, 'colsample_bytree': 0.6383516091198818, 'gamma': 0.30739580754389184}. Best is trial 17 with value: 1.3516219629808948.\n",
      "[I 2025-07-17 18:17:58,568] Trial 37 finished with value: 2.7671686422634347 and parameters: {'n_estimators': 214, 'learning_rate': 0.2890890633589765, 'max_depth': 7, 'min_child_weight': 2, 'subsample': 0.8870193799518458, 'colsample_bytree': 0.8114530843238653, 'gamma': 1.5251887690126236}. Best is trial 17 with value: 1.3516219629808948.\n",
      "[I 2025-07-17 18:18:10,883] Trial 38 finished with value: 2.3248685698018696 and parameters: {'n_estimators': 622, 'learning_rate': 0.132911526152041, 'max_depth': 8, 'min_child_weight': 4, 'subsample': 0.8390646971147924, 'colsample_bytree': 0.7645310951925787, 'gamma': 0.7280721023471408}. Best is trial 17 with value: 1.3516219629808948.\n",
      "[I 2025-07-17 18:18:27,979] Trial 39 finished with value: 2.606110351234578 and parameters: {'n_estimators': 803, 'learning_rate': 0.19633918344584872, 'max_depth': 7, 'min_child_weight': 5, 'subsample': 0.9125475519856955, 'colsample_bytree': 0.7008598266757348, 'gamma': 3.9228329339094152}. Best is trial 17 with value: 1.3516219629808948.\n",
      "[I 2025-07-17 18:18:37,011] Trial 40 finished with value: 1.7110409234844017 and parameters: {'n_estimators': 432, 'learning_rate': 0.2519373024280092, 'max_depth': 9, 'min_child_weight': 2, 'subsample': 0.9702253730711122, 'colsample_bytree': 0.7447337056585996, 'gamma': 1.0291137635510057}. Best is trial 17 with value: 1.3516219629808948.\n",
      "[I 2025-07-17 18:18:49,758] Trial 41 finished with value: 2.019139754467195 and parameters: {'n_estimators': 649, 'learning_rate': 0.1590584240228712, 'max_depth': 10, 'min_child_weight': 4, 'subsample': 0.9770232998621079, 'colsample_bytree': 0.7349029480732076, 'gamma': 0.9149214698435186}. Best is trial 17 with value: 1.3516219629808948.\n",
      "[I 2025-07-17 18:19:04,999] Trial 42 finished with value: 2.065148220536432 and parameters: {'n_estimators': 686, 'learning_rate': 0.15553803954395165, 'max_depth': 10, 'min_child_weight': 3, 'subsample': 0.9990555502432266, 'colsample_bytree': 0.7187600310048609, 'gamma': 0.25374912515972947}. Best is trial 17 with value: 1.3516219629808948.\n",
      "[I 2025-07-17 18:19:18,050] Trial 43 finished with value: 2.385116147469753 and parameters: {'n_estimators': 572, 'learning_rate': 0.1248191160763436, 'max_depth': 11, 'min_child_weight': 4, 'subsample': 0.9399432410407776, 'colsample_bytree': 0.7186688124909121, 'gamma': 0.5839228303417061}. Best is trial 17 with value: 1.3516219629808948.\n",
      "[I 2025-07-17 18:19:35,832] Trial 44 finished with value: 1.4181312546483866 and parameters: {'n_estimators': 790, 'learning_rate': 0.21473935089852592, 'max_depth': 9, 'min_child_weight': 3, 'subsample': 0.980010860528695, 'colsample_bytree': 0.7648221003608203, 'gamma': 1.3093358283042367}. Best is trial 17 with value: 1.3516219629808948.\n",
      "[I 2025-07-17 18:19:50,845] Trial 45 finished with value: 2.136957188823485 and parameters: {'n_estimators': 855, 'learning_rate': 0.21158127659042353, 'max_depth': 9, 'min_child_weight': 3, 'subsample': 0.9550772502567872, 'colsample_bytree': 0.7811469606061874, 'gamma': 1.2920436972231923}. Best is trial 17 with value: 1.3516219629808948.\n",
      "[I 2025-07-17 18:20:03,876] Trial 46 finished with value: 1.5758815782133546 and parameters: {'n_estimators': 788, 'learning_rate': 0.2245162528990249, 'max_depth': 8, 'min_child_weight': 2, 'subsample': 0.9196415783750035, 'colsample_bytree': 0.7660764752417819, 'gamma': 1.588674139059826}. Best is trial 17 with value: 1.3516219629808948.\n",
      "[I 2025-07-17 18:20:19,269] Trial 47 finished with value: 1.936339136044928 and parameters: {'n_estimators': 948, 'learning_rate': 0.19035168361940868, 'max_depth': 8, 'min_child_weight': 1, 'subsample': 0.9832150287617473, 'colsample_bytree': 0.8182500855656247, 'gamma': 1.9557355446694134}. Best is trial 17 with value: 1.3516219629808948.\n",
      "[I 2025-07-17 18:20:37,450] Trial 48 finished with value: 2.108907342476731 and parameters: {'n_estimators': 745, 'learning_rate': 0.20615030213886285, 'max_depth': 7, 'min_child_weight': 5, 'subsample': 0.964224988087672, 'colsample_bytree': 0.6750264697478139, 'gamma': 1.3258349976476045}. Best is trial 17 with value: 1.3516219629808948.\n",
      "[I 2025-07-17 18:20:52,351] Trial 49 finished with value: 1.8846644846941352 and parameters: {'n_estimators': 711, 'learning_rate': 0.25557209452778945, 'max_depth': 9, 'min_child_weight': 3, 'subsample': 0.7592784407055091, 'colsample_bytree': 0.9100751105208836, 'gamma': 0.1808672415474663}. Best is trial 17 with value: 1.3516219629808948.\n"
     ]
    },
    {
     "name": "stdout",
     "output_type": "stream",
     "text": [
      "Best MAPE for BlendProperty9: 1.3516219629808948\n",
      "Best hyperparameters for BlendProperty9: {'n_estimators': 885, 'learning_rate': 0.23408234168348205, 'max_depth': 6, 'min_child_weight': 8, 'subsample': 0.9911039792425904, 'colsample_bytree': 0.8419116720134416, 'gamma': 0.7654110438982729}\n"
     ]
    },
    {
     "name": "stderr",
     "output_type": "stream",
     "text": [
      "[I 2025-07-17 18:20:54,639] A new study created in memory with name: no-name-c04db0d1-e22b-483f-9859-ba7643ecd6cd\n"
     ]
    },
    {
     "name": "stdout",
     "output_type": "stream",
     "text": [
      "Saved best model for BlendProperty9\n",
      "\n",
      "--- Tuning and Training for BlendProperty10 ---\n",
      "\n"
     ]
    },
    {
     "name": "stderr",
     "output_type": "stream",
     "text": [
      "[I 2025-07-17 18:21:09,646] Trial 0 finished with value: 1.0697747961209716 and parameters: {'n_estimators': 568, 'learning_rate': 0.019940691194459945, 'max_depth': 6, 'min_child_weight': 9, 'subsample': 0.8699696470090028, 'colsample_bytree': 0.8108631391641794, 'gamma': 3.898943217067572}. Best is trial 0 with value: 1.0697747961209716.\n",
      "[I 2025-07-17 18:21:28,119] Trial 1 finished with value: 0.855628217458532 and parameters: {'n_estimators': 682, 'learning_rate': 0.11312208814015466, 'max_depth': 12, 'min_child_weight': 9, 'subsample': 0.87801494787687, 'colsample_bytree': 0.8665409253278858, 'gamma': 0.4021099346585949}. Best is trial 1 with value: 0.855628217458532.\n",
      "[I 2025-07-17 18:21:37,978] Trial 2 finished with value: 1.2493656722099664 and parameters: {'n_estimators': 586, 'learning_rate': 0.2738136923737458, 'max_depth': 7, 'min_child_weight': 10, 'subsample': 0.7275870502589096, 'colsample_bytree': 0.9929610356111745, 'gamma': 3.7107354815195475}. Best is trial 1 with value: 0.855628217458532.\n",
      "[I 2025-07-17 18:21:41,831] Trial 3 finished with value: 1.4273765476547113 and parameters: {'n_estimators': 184, 'learning_rate': 0.26452347725937886, 'max_depth': 7, 'min_child_weight': 3, 'subsample': 0.7323674388155265, 'colsample_bytree': 0.6201035894959565, 'gamma': 3.762815573540342}. Best is trial 1 with value: 0.855628217458532.\n",
      "[I 2025-07-17 18:21:52,229] Trial 4 finished with value: 1.1516121965133679 and parameters: {'n_estimators': 614, 'learning_rate': 0.19901162940229247, 'max_depth': 6, 'min_child_weight': 8, 'subsample': 0.6971034768279951, 'colsample_bytree': 0.8066051095877408, 'gamma': 2.954771000684447}. Best is trial 1 with value: 0.855628217458532.\n",
      "[I 2025-07-17 18:22:01,417] Trial 5 finished with value: 1.0102271190808905 and parameters: {'n_estimators': 548, 'learning_rate': 0.19055105371199543, 'max_depth': 3, 'min_child_weight': 7, 'subsample': 0.7950854797000784, 'colsample_bytree': 0.7837654566225561, 'gamma': 1.5438957116814522}. Best is trial 1 with value: 0.855628217458532.\n",
      "[I 2025-07-17 18:22:11,028] Trial 6 finished with value: 1.1258380825919496 and parameters: {'n_estimators': 573, 'learning_rate': 0.18368576419979232, 'max_depth': 9, 'min_child_weight': 6, 'subsample': 0.6205876790611291, 'colsample_bytree': 0.6736811244549613, 'gamma': 3.4064893880001783}. Best is trial 1 with value: 0.855628217458532.\n",
      "[I 2025-07-17 18:22:25,041] Trial 7 finished with value: 1.1447850528928216 and parameters: {'n_estimators': 561, 'learning_rate': 0.23409324314077404, 'max_depth': 6, 'min_child_weight': 7, 'subsample': 0.8408754703696755, 'colsample_bytree': 0.9617837520540206, 'gamma': 3.698075228395057}. Best is trial 1 with value: 0.855628217458532.\n",
      "[I 2025-07-17 18:22:29,255] Trial 8 finished with value: 1.12249835983796 and parameters: {'n_estimators': 107, 'learning_rate': 0.08003231775745952, 'max_depth': 5, 'min_child_weight': 8, 'subsample': 0.7647167517665923, 'colsample_bytree': 0.7810131617517215, 'gamma': 3.034223437744672}. Best is trial 1 with value: 0.855628217458532.\n",
      "[I 2025-07-17 18:22:36,692] Trial 9 finished with value: 0.8241407766934554 and parameters: {'n_estimators': 103, 'learning_rate': 0.0953401339973396, 'max_depth': 9, 'min_child_weight': 8, 'subsample': 0.8677137387507823, 'colsample_bytree': 0.7389019146050243, 'gamma': 0.23063970462140926}. Best is trial 9 with value: 0.8241407766934554.\n",
      "[I 2025-07-17 18:23:02,148] Trial 10 finished with value: 0.9476995695582172 and parameters: {'n_estimators': 1000, 'learning_rate': 0.116052088084544, 'max_depth': 10, 'min_child_weight': 3, 'subsample': 0.9720146476563605, 'colsample_bytree': 0.6964675560744186, 'gamma': 0.01946584123374051}. Best is trial 9 with value: 0.8241407766934554.\n",
      "[I 2025-07-17 18:23:25,517] Trial 11 finished with value: 0.7776695411183275 and parameters: {'n_estimators': 840, 'learning_rate': 0.10554678877682716, 'max_depth': 12, 'min_child_weight': 10, 'subsample': 0.9282411583461385, 'colsample_bytree': 0.8944581820946466, 'gamma': 0.1800426587021584}. Best is trial 11 with value: 0.7776695411183275.\n",
      "[I 2025-07-17 18:23:36,710] Trial 12 finished with value: 0.9280358758354975 and parameters: {'n_estimators': 333, 'learning_rate': 0.05135484382198611, 'max_depth': 12, 'min_child_weight': 10, 'subsample': 0.9611379586864433, 'colsample_bytree': 0.9160320108118083, 'gamma': 1.3309534533597007}. Best is trial 11 with value: 0.7776695411183275.\n",
      "[I 2025-07-17 18:23:52,187] Trial 13 finished with value: 1.0412809481226941 and parameters: {'n_estimators': 923, 'learning_rate': 0.12992972947014358, 'max_depth': 10, 'min_child_weight': 1, 'subsample': 0.921685914386924, 'colsample_bytree': 0.877866313952468, 'gamma': 4.8332285558788595}. Best is trial 11 with value: 0.7776695411183275.\n",
      "[I 2025-07-17 18:24:09,049] Trial 14 finished with value: 0.8309191238784447 and parameters: {'n_estimators': 815, 'learning_rate': 0.07661180794412323, 'max_depth': 9, 'min_child_weight': 5, 'subsample': 0.9969853199344753, 'colsample_bytree': 0.7200155690580632, 'gamma': 0.8570152268197413}. Best is trial 11 with value: 0.7776695411183275.\n",
      "[I 2025-07-17 18:24:16,442] Trial 15 finished with value: 0.9348094973074591 and parameters: {'n_estimators': 341, 'learning_rate': 0.15215166899009522, 'max_depth': 11, 'min_child_weight': 10, 'subsample': 0.9241819245241226, 'colsample_bytree': 0.8590275742387126, 'gamma': 1.5704231231885681}. Best is trial 11 with value: 0.7776695411183275.\n",
      "[I 2025-07-17 18:24:52,041] Trial 16 finished with value: 0.7607333864127822 and parameters: {'n_estimators': 755, 'learning_rate': 0.01395153321288957, 'max_depth': 9, 'min_child_weight': 5, 'subsample': 0.8370259763365198, 'colsample_bytree': 0.7296457921910604, 'gamma': 0.8042297450438918}. Best is trial 16 with value: 0.7607333864127822.\n",
      "[I 2025-07-17 18:25:13,956] Trial 17 finished with value: 0.8955735119016716 and parameters: {'n_estimators': 773, 'learning_rate': 0.01594606319360405, 'max_depth': 11, 'min_child_weight': 4, 'subsample': 0.8228649524918353, 'colsample_bytree': 0.6029646491830121, 'gamma': 2.0952317332215347}. Best is trial 16 with value: 0.7607333864127822.\n",
      "[I 2025-07-17 18:25:36,582] Trial 18 finished with value: 0.7794561373390516 and parameters: {'n_estimators': 834, 'learning_rate': 0.04749727241043478, 'max_depth': 8, 'min_child_weight': 5, 'subsample': 0.9109402884663241, 'colsample_bytree': 0.6549130282994104, 'gamma': 0.6553602012718731}. Best is trial 16 with value: 0.7607333864127822.\n",
      "[I 2025-07-17 18:25:54,245] Trial 19 finished with value: 0.7807068869467316 and parameters: {'n_estimators': 722, 'learning_rate': 0.04272260359225016, 'max_depth': 11, 'min_child_weight': 2, 'subsample': 0.7953266460529741, 'colsample_bytree': 0.9149848670419055, 'gamma': 1.000334828614159}. Best is trial 16 with value: 0.7607333864127822.\n",
      "[I 2025-07-17 18:26:07,697] Trial 20 finished with value: 0.970671851321206 and parameters: {'n_estimators': 893, 'learning_rate': 0.15709270774395032, 'max_depth': 3, 'min_child_weight': 6, 'subsample': 0.6029027490104073, 'colsample_bytree': 0.7482951729061639, 'gamma': 2.0460058351407016}. Best is trial 16 with value: 0.7607333864127822.\n",
      "[I 2025-07-17 18:26:29,853] Trial 21 finished with value: 0.743526976352671 and parameters: {'n_estimators': 869, 'learning_rate': 0.05472881739518653, 'max_depth': 8, 'min_child_weight': 5, 'subsample': 0.9214244383529501, 'colsample_bytree': 0.6676511524978634, 'gamma': 0.6514345104465505}. Best is trial 21 with value: 0.743526976352671.\n",
      "[I 2025-07-17 18:26:48,249] Trial 22 finished with value: 0.7619450695272398 and parameters: {'n_estimators': 994, 'learning_rate': 0.07136324831230303, 'max_depth': 8, 'min_child_weight': 4, 'subsample': 0.946512381977066, 'colsample_bytree': 0.6451439595459211, 'gamma': 1.0065048489215644}. Best is trial 21 with value: 0.743526976352671.\n",
      "[I 2025-07-17 18:27:07,561] Trial 23 finished with value: 0.8197069048985913 and parameters: {'n_estimators': 991, 'learning_rate': 0.055460444738674584, 'max_depth': 8, 'min_child_weight': 4, 'subsample': 0.9541314360748923, 'colsample_bytree': 0.6455173521974025, 'gamma': 1.1420725728757852}. Best is trial 21 with value: 0.743526976352671.\n",
      "[I 2025-07-17 18:27:40,994] Trial 24 finished with value: 0.8910681701183613 and parameters: {'n_estimators': 923, 'learning_rate': 0.012214977834172289, 'max_depth': 8, 'min_child_weight': 4, 'subsample': 0.8978516233792821, 'colsample_bytree': 0.6943445337008316, 'gamma': 1.977878777993049}. Best is trial 21 with value: 0.743526976352671.\n",
      "[I 2025-07-17 18:27:56,150] Trial 25 finished with value: 0.7911913543602336 and parameters: {'n_estimators': 720, 'learning_rate': 0.07193647318736908, 'max_depth': 10, 'min_child_weight': 5, 'subsample': 0.9926901889423121, 'colsample_bytree': 0.6471171346676656, 'gamma': 0.6069608872805989}. Best is trial 21 with value: 0.743526976352671.\n",
      "[I 2025-07-17 18:28:14,044] Trial 26 finished with value: 0.9601468084492139 and parameters: {'n_estimators': 892, 'learning_rate': 0.03308817264544102, 'max_depth': 7, 'min_child_weight': 2, 'subsample': 0.8630300244925928, 'colsample_bytree': 0.7075007648320654, 'gamma': 2.4247676375885625}. Best is trial 21 with value: 0.743526976352671.\n",
      "[I 2025-07-17 18:28:33,365] Trial 27 finished with value: 0.8450956302238604 and parameters: {'n_estimators': 778, 'learning_rate': 0.06384122921508802, 'max_depth': 5, 'min_child_weight': 3, 'subsample': 0.8319599782105186, 'colsample_bytree': 0.7515685084031667, 'gamma': 1.487348032806047}. Best is trial 21 with value: 0.743526976352671.\n",
      "[I 2025-07-17 18:28:48,986] Trial 28 finished with value: 0.7859121181271851 and parameters: {'n_estimators': 428, 'learning_rate': 0.03287570218157274, 'max_depth': 9, 'min_child_weight': 6, 'subsample': 0.946055079941932, 'colsample_bytree': 0.6788431249093196, 'gamma': 0.8159710701218892}. Best is trial 21 with value: 0.743526976352671.\n",
      "[I 2025-07-17 18:29:04,896] Trial 29 finished with value: 0.9770404550335046 and parameters: {'n_estimators': 958, 'learning_rate': 0.08872788115081126, 'max_depth': 6, 'min_child_weight': 4, 'subsample': 0.8868523671980945, 'colsample_bytree': 0.6217922584522051, 'gamma': 1.7686780201519678}. Best is trial 21 with value: 0.743526976352671.\n",
      "[I 2025-07-17 18:29:15,509] Trial 30 finished with value: 1.1406260575985132 and parameters: {'n_estimators': 654, 'learning_rate': 0.2985560178812941, 'max_depth': 8, 'min_child_weight': 7, 'subsample': 0.8543902437971009, 'colsample_bytree': 0.7201218188563815, 'gamma': 4.42931894945044}. Best is trial 21 with value: 0.743526976352671.\n",
      "[I 2025-07-17 18:29:44,310] Trial 31 finished with value: 0.9557550860842327 and parameters: {'n_estimators': 855, 'learning_rate': 0.10222159373918488, 'max_depth': 10, 'min_child_weight': 5, 'subsample': 0.9329654282359081, 'colsample_bytree': 0.8340876609382006, 'gamma': 0.016398378974671113}. Best is trial 21 with value: 0.743526976352671.\n",
      "[I 2025-07-17 18:29:59,662] Trial 32 finished with value: 0.8289427084372856 and parameters: {'n_estimators': 808, 'learning_rate': 0.12659321968389442, 'max_depth': 12, 'min_child_weight': 6, 'subsample': 0.900454821911496, 'colsample_bytree': 0.6698072596777409, 'gamma': 0.39304176221096687}. Best is trial 21 with value: 0.743526976352671.\n",
      "[I 2025-07-17 18:30:27,711] Trial 33 finished with value: 0.7786400880104523 and parameters: {'n_estimators': 727, 'learning_rate': 0.028721791583665487, 'max_depth': 7, 'min_child_weight': 9, 'subsample': 0.9761226621934871, 'colsample_bytree': 0.772498782804585, 'gamma': 0.43528218642557487}. Best is trial 21 with value: 0.743526976352671.\n",
      "[I 2025-07-17 18:30:43,292] Trial 34 finished with value: 0.8510902597847931 and parameters: {'n_estimators': 879, 'learning_rate': 0.06399042968936065, 'max_depth': 5, 'min_child_weight': 4, 'subsample': 0.9389341139084248, 'colsample_bytree': 0.6272086105593523, 'gamma': 1.1866370624055813}. Best is trial 21 with value: 0.743526976352671.\n",
      "[I 2025-07-17 18:31:47,303] Trial 35 finished with value: 0.7702953454006305 and parameters: {'n_estimators': 953, 'learning_rate': 0.010107089597821018, 'max_depth': 9, 'min_child_weight': 3, 'subsample': 0.7658202933716549, 'colsample_bytree': 0.8323539725915226, 'gamma': 0.28153436271156196}. Best is trial 21 with value: 0.743526976352671.\n",
      "[I 2025-07-17 18:32:14,471] Trial 36 finished with value: 0.7982813478992739 and parameters: {'n_estimators': 935, 'learning_rate': 0.02621485980354272, 'max_depth': 9, 'min_child_weight': 2, 'subsample': 0.7619772835472468, 'colsample_bytree': 0.8247282832214361, 'gamma': 0.6086680313216002}. Best is trial 21 with value: 0.743526976352671.\n",
      "[I 2025-07-17 18:32:55,073] Trial 37 finished with value: 0.7368970329567011 and parameters: {'n_estimators': 977, 'learning_rate': 0.011515526390955958, 'max_depth': 8, 'min_child_weight': 3, 'subsample': 0.6817386630522058, 'colsample_bytree': 0.802922769070679, 'gamma': 0.8753527455835859}. Best is trial 37 with value: 0.7368970329567011.\n",
      "[I 2025-07-17 18:33:11,442] Trial 38 finished with value: 0.7955493052769478 and parameters: {'n_estimators': 660, 'learning_rate': 0.043019186743066824, 'max_depth': 8, 'min_child_weight': 5, 'subsample': 0.6993200817248695, 'colsample_bytree': 0.7922518568042142, 'gamma': 0.9996559813000918}. Best is trial 37 with value: 0.7368970329567011.\n",
      "[I 2025-07-17 18:33:39,482] Trial 39 finished with value: 0.7937660765378917 and parameters: {'n_estimators': 989, 'learning_rate': 0.025069334620819107, 'max_depth': 6, 'min_child_weight': 1, 'subsample': 0.6622433295759134, 'colsample_bytree': 0.731505256818711, 'gamma': 1.2451219549226327}. Best is trial 37 with value: 0.7368970329567011.\n",
      "[I 2025-07-17 18:33:52,717] Trial 40 finished with value: 0.980305028119442 and parameters: {'n_estimators': 759, 'learning_rate': 0.0814824207545662, 'max_depth': 7, 'min_child_weight': 3, 'subsample': 0.6663778117879219, 'colsample_bytree': 0.7549683419963436, 'gamma': 2.5007239541195534}. Best is trial 37 with value: 0.7368970329567011.\n",
      "[I 2025-07-17 18:34:35,967] Trial 41 finished with value: 0.7026149785697438 and parameters: {'n_estimators': 950, 'learning_rate': 0.01629475697514552, 'max_depth': 9, 'min_child_weight': 3, 'subsample': 0.7546927006873225, 'colsample_bytree': 0.8088239138065165, 'gamma': 0.3882494701130722}. Best is trial 41 with value: 0.7026149785697438.\n",
      "[I 2025-07-17 18:34:56,498] Trial 42 finished with value: 0.7365223193337223 and parameters: {'n_estimators': 880, 'learning_rate': 0.03916967568536492, 'max_depth': 8, 'min_child_weight': 3, 'subsample': 0.7353326547055336, 'colsample_bytree': 0.8154629588631201, 'gamma': 0.6476581067286995}. Best is trial 41 with value: 0.7026149785697438.\n",
      "[I 2025-07-17 18:35:10,954] Trial 43 finished with value: 1.002018470858435 and parameters: {'n_estimators': 870, 'learning_rate': 0.22792623319183283, 'max_depth': 7, 'min_child_weight': 2, 'subsample': 0.7318620362262599, 'colsample_bytree': 0.8088416681339986, 'gamma': 0.7405474318217212}. Best is trial 41 with value: 0.7026149785697438.\n",
      "[I 2025-07-17 18:35:37,912] Trial 44 finished with value: 0.7358021007942783 and parameters: {'n_estimators': 909, 'learning_rate': 0.042252483452280866, 'max_depth': 10, 'min_child_weight': 3, 'subsample': 0.7008114671023142, 'colsample_bytree': 0.7735938896417575, 'gamma': 0.47678283418204315}. Best is trial 41 with value: 0.7026149785697438.\n",
      "[I 2025-07-17 18:35:54,068] Trial 45 finished with value: 0.7107977008421079 and parameters: {'n_estimators': 478, 'learning_rate': 0.03931847281470342, 'max_depth': 10, 'min_child_weight': 3, 'subsample': 0.7079808807937058, 'colsample_bytree': 0.768579937626623, 'gamma': 0.44985739142994197}. Best is trial 41 with value: 0.7026149785697438.\n",
      "[I 2025-07-17 18:36:10,327] Trial 46 finished with value: 0.6726373145497427 and parameters: {'n_estimators': 493, 'learning_rate': 0.0390696227385368, 'max_depth': 10, 'min_child_weight': 3, 'subsample': 0.7057856557090346, 'colsample_bytree': 0.7706288586173421, 'gamma': 0.4439897984312956}. Best is trial 46 with value: 0.6726373145497427.\n",
      "[I 2025-07-17 18:36:36,757] Trial 47 finished with value: 0.7163325459346859 and parameters: {'n_estimators': 478, 'learning_rate': 0.036947957721451874, 'max_depth': 10, 'min_child_weight': 1, 'subsample': 0.7117342682400782, 'colsample_bytree': 0.7720818570461885, 'gamma': 0.2112846484097977}. Best is trial 46 with value: 0.6726373145497427.\n",
      "[I 2025-07-17 18:36:56,115] Trial 48 finished with value: 0.791881891782707 and parameters: {'n_estimators': 497, 'learning_rate': 0.05844308334040384, 'max_depth': 11, 'min_child_weight': 1, 'subsample': 0.700609800760601, 'colsample_bytree': 0.7744929247081207, 'gamma': 0.14069754397483214}. Best is trial 46 with value: 0.6726373145497427.\n",
      "[I 2025-07-17 18:37:07,636] Trial 49 finished with value: 0.6608718107497615 and parameters: {'n_estimators': 482, 'learning_rate': 0.09340848852417348, 'max_depth': 10, 'min_child_weight': 2, 'subsample': 0.6402726971436804, 'colsample_bytree': 0.8574469196867966, 'gamma': 0.4634690677020734}. Best is trial 49 with value: 0.6608718107497615.\n"
     ]
    },
    {
     "name": "stdout",
     "output_type": "stream",
     "text": [
      "Best MAPE for BlendProperty10: 0.6608718107497615\n",
      "Best hyperparameters for BlendProperty10: {'n_estimators': 482, 'learning_rate': 0.09340848852417348, 'max_depth': 10, 'min_child_weight': 2, 'subsample': 0.6402726971436804, 'colsample_bytree': 0.8574469196867966, 'gamma': 0.4634690677020734}\n",
      "Saved best model for BlendProperty10\n"
     ]
    }
   ],
   "source": [
    "import joblib\n",
    "\n",
    "# Define and create the directory for saving models\n",
    "model_dir = Path(\"../models/xgboost\")\n",
    "model_dir.mkdir(parents=True, exist_ok=True)\n",
    "\n",
    "# Dictionary to store the best models\n",
    "best_models = {}\n",
    "\n",
    "# Iterate over each target property to tune and train a model\n",
    "for target in targets.columns:\n",
    "    print(f\"\\n--- Tuning and Training for {target} ---\\n\")\n",
    "    y = targets[target]\n",
    "\n",
    "    # Create an Optuna study to find the best hyperparameters\n",
    "    study = optuna.create_study(direction='minimize')\n",
    "    study.optimize(lambda trial: objective(trial, features, y), n_trials=50)\n",
    "\n",
    "    # Get the best hyperparameters\n",
    "    best_params = study.best_params\n",
    "    print(f\"Best MAPE for {target}: {study.best_value}\")\n",
    "    print(f\"Best hyperparameters for {target}: {best_params}\")\n",
    "\n",
    "    # Train the final model with the best hyperparameters on the entire training set\n",
    "    final_model = xgb.XGBRegressor(**best_params, random_state=42, n_jobs=-1)\n",
    "    final_model.fit(features, y)\n",
    "\n",
    "    # Save the trained model to a file\n",
    "    joblib.dump(final_model, f'{model_dir}/{target}_model.joblib')\n",
    "    print(f\"Saved best model for {target}\")\n",
    "\n",
    "    best_models[target] = final_model"
   ]
  },
  {
   "cell_type": "markdown",
   "id": "1e70f03e",
   "metadata": {},
   "source": [
    "### 3. Leaderboard Score"
   ]
  },
  {
   "cell_type": "code",
   "execution_count": 4,
   "id": "96470bdb",
   "metadata": {},
   "outputs": [
    {
     "name": "stdout",
     "output_type": "stream",
     "text": [
      "Leaderboard score for BlendProperty1: 78.13\n",
      "Leaderboard score for BlendProperty2: 78.13\n",
      "Leaderboard score for BlendProperty3: 78.13\n",
      "Leaderboard score for BlendProperty4: 78.13\n",
      "Leaderboard score for BlendProperty5: 78.13\n",
      "Leaderboard score for BlendProperty6: 78.13\n",
      "Leaderboard score for BlendProperty7: 78.13\n",
      "Leaderboard score for BlendProperty8: 78.13\n",
      "Leaderboard score for BlendProperty9: 78.13\n",
      "Leaderboard score for BlendProperty10: 78.13\n",
      "\n",
      "Average Leaderboard Score: 78.13\n"
     ]
    }
   ],
   "source": [
    "def calculate_leaderboard_score(mape, reference_cost=2.72):\n",
    "    \"\"\"\n",
    "    Calculates the leaderboard score based on the MAPE.\n",
    "\n",
    "    Parameters:\n",
    "      mape (float): The Mean Absolute Percentage Error.\n",
    "      reference_cost (float): The reference cost for the leaderboard.\n",
    "\n",
    "    Returns:\n",
    "      float: The calculated leaderboard score.\n",
    "    \"\"\"\n",
    "    return max(10, 100 - 90 * mape / reference_cost)\n",
    "\n",
    "# A dictionary to store the leaderboard scores for each target variable\n",
    "leaderboard_scores = {}\n",
    "\n",
    "# Calculate and display the leaderboard score for each target\n",
    "# Note: This assumes 'study.best_value' holds the MAPE for the last tuned model.\n",
    "# For a more accurate representation, you would typically calculate the MAPE\n",
    "# for each model against its respective target variable.\n",
    "for target in targets.columns:\n",
    "    # You would replace `study.best_value` with the actual MAPE for each `target`\n",
    "    # For this example, we'll use the last available best_value from the study\n",
    "    mape = study.best_value\n",
    "    leaderboard_scores[target] = calculate_leaderboard_score(mape)\n",
    "    print(f\"Leaderboard score for {target}: {leaderboard_scores[target]:.2f}\")\n",
    "\n",
    "# Calculate and display the average leaderboard score\n",
    "average_score = np.mean(list(leaderboard_scores.values()))\n",
    "print(f\"\\nAverage Leaderboard Score: {average_score:.2f}\")"
   ]
  },
  {
   "cell_type": "markdown",
   "id": "bfc14e7b",
   "metadata": {},
   "source": [
    "### 4. Predict the Blend Properties"
   ]
  },
  {
   "cell_type": "code",
   "execution_count": 5,
   "id": "874a6c24",
   "metadata": {},
   "outputs": [
    {
     "name": "stdout",
     "output_type": "stream",
     "text": [
      "Test data loaded and preprocessed\n",
      "X_test shape: (500, 157)\n"
     ]
    }
   ],
   "source": [
    "# Load the test dataset\n",
    "test_df = pd.read_csv(data_path / \"X_test.csv\")\n",
    "\n",
    "# --- Preprocess Test Data ---\n",
    "# IMPORTANT: You must apply the same feature engineering steps to the test data\n",
    "# that you applied to the training data in '3_data_preprocessing.ipynb'.\n",
    "# The following line is a placeholder to make the columns match, but it will\n",
    "# not produce accurate predictions without your actual preprocessing logic.\n",
    "X_test = test_df.reindex(columns=features.columns, fill_value=0)\n",
    "\n",
    "print(\"Test data loaded and preprocessed\")\n",
    "print(f\"X_test shape: {X_test.shape}\")"
   ]
  },
  {
   "cell_type": "code",
   "execution_count": 6,
   "id": "22a0b186",
   "metadata": {},
   "outputs": [
    {
     "name": "stdout",
     "output_type": "stream",
     "text": [
      "Predicting BlendProperty1...\n",
      "Predicting BlendProperty2...\n",
      "Predicting BlendProperty3...\n",
      "Predicting BlendProperty4...\n",
      "Predicting BlendProperty5...\n",
      "Predicting BlendProperty6...\n",
      "Predicting BlendProperty7...\n",
      "Predicting BlendProperty8...\n",
      "Predicting BlendProperty9...\n",
      "Predicting BlendProperty10...\n"
     ]
    }
   ],
   "source": [
    "# --- Prediction ---\n",
    "predictions = {}\n",
    "for target in targets.columns:\n",
    "    print(f\"Predicting {target}...\")\n",
    "    model = best_models[target]\n",
    "    predictions[target] = model.predict(X_test)"
   ]
  },
  {
   "cell_type": "markdown",
   "id": "0bfe2aca",
   "metadata": {},
   "source": [
    "### 5. Create Submission File"
   ]
  },
  {
   "cell_type": "code",
   "execution_count": 7,
   "id": "941a5a7e",
   "metadata": {},
   "outputs": [
    {
     "name": "stdout",
     "output_type": "stream",
     "text": [
      "\n",
      "Submission file ../submissions/xgb_submission.csv created successfully!\n"
     ]
    }
   ],
   "source": [
    "# --- Create Submission File ---\n",
    "submission_dir = Path(\"../submissions\")\n",
    "submission_dir.mkdir(parents=True, exist_ok=True)\n",
    "\n",
    "submission_df = pd.DataFrame({'ID': test_df['ID']})\n",
    "for target in targets.columns:\n",
    "    submission_df[target] = predictions[target]\n",
    "\n",
    "submission_df.to_csv(f'{submission_dir}/xgb_submission.csv', index=False)\n",
    "print(f\"\\nSubmission file {submission_dir}/xgb_submission.csv created successfully!\")"
   ]
  }
 ],
 "metadata": {
  "kernelspec": {
   "display_name": "py310",
   "language": "python",
   "name": "python3"
  },
  "language_info": {
   "codemirror_mode": {
    "name": "ipython",
    "version": 3
   },
   "file_extension": ".py",
   "mimetype": "text/x-python",
   "name": "python",
   "nbconvert_exporter": "python",
   "pygments_lexer": "ipython3",
   "version": "3.10.18"
  }
 },
 "nbformat": 4,
 "nbformat_minor": 5
}
